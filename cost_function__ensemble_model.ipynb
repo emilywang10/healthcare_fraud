{
 "cells": [
  {
   "cell_type": "code",
   "execution_count": 40,
   "metadata": {},
   "outputs": [],
   "source": [
    "import pandas as pd\n",
    "import numpy as np\n",
    "import seaborn as sns\n",
    "from matplotlib import pyplot as plt\n",
    "%matplotlib inline\n",
    "pd.set_option('display.max_columns', None)"
   ]
  },
  {
   "cell_type": "code",
   "execution_count": 41,
   "metadata": {},
   "outputs": [],
   "source": [
    "from sklearn.metrics import recall_score, precision_score,confusion_matrix,\\\n",
    "        roc_auc_score, f1_score, plot_roc_curve, roc_curve, RocCurveDisplay, auc, precision_recall_curve,\\\n",
    "        fbeta_score, accuracy_score\n",
    "from sklearn.model_selection import cross_validate, StratifiedKFold, train_test_split, cross_val_predict, GridSearchCV\n",
    "from sklearn.pipeline import Pipeline\n",
    "from sklearn.svm import LinearSVC\n",
    "from sklearn.neighbors import KNeighborsClassifier\n",
    "from sklearn.preprocessing import StandardScaler\n",
    "from sklearn.linear_model import LogisticRegressionCV, LogisticRegression, SGDClassifier\n",
    "from sklearn.ensemble import BaggingClassifier, ExtraTreesClassifier, RandomForestClassifier,GradientBoostingClassifier\n",
    "from sklearn.discriminant_analysis import LinearDiscriminantAnalysis\n",
    "from sklearn.naive_bayes import GaussianNB\n",
    "from xgboost import XGBClassifier\n",
    "from sklearn import model_selection\n",
    "from sklearn.metrics import classification_report\n",
    "from imblearn.over_sampling import SMOTE #Synthetic Minority Oversampling Technique"
   ]
  },
  {
   "cell_type": "code",
   "execution_count": 132,
   "metadata": {},
   "outputs": [
    {
     "data": {
      "text/html": [
       "<div>\n",
       "<style scoped>\n",
       "    .dataframe tbody tr th:only-of-type {\n",
       "        vertical-align: middle;\n",
       "    }\n",
       "\n",
       "    .dataframe tbody tr th {\n",
       "        vertical-align: top;\n",
       "    }\n",
       "\n",
       "    .dataframe thead th {\n",
       "        text-align: right;\n",
       "    }\n",
       "</style>\n",
       "<table border=\"1\" class=\"dataframe\">\n",
       "  <thead>\n",
       "    <tr style=\"text-align: right;\">\n",
       "      <th></th>\n",
       "      <th>Unnamed: 0</th>\n",
       "      <th>Provider</th>\n",
       "      <th>PotentialFraud</th>\n",
       "      <th>patient_count</th>\n",
       "      <th>Race1</th>\n",
       "      <th>Race2</th>\n",
       "      <th>Race3</th>\n",
       "      <th>Race5</th>\n",
       "      <th>Male</th>\n",
       "      <th>Female</th>\n",
       "      <th>mean_age</th>\n",
       "      <th>state_count</th>\n",
       "      <th>phy_count</th>\n",
       "      <th>no_phy</th>\n",
       "      <th>chronic_mean</th>\n",
       "      <th>claim_count</th>\n",
       "      <th>days_admitted</th>\n",
       "      <th>coverage</th>\n",
       "      <th>totalamount_charged</th>\n",
       "      <th>revenue_day</th>\n",
       "      <th>annual_amount</th>\n",
       "      <th>claimdiag</th>\n",
       "      <th>diag_grp</th>\n",
       "      <th>duplicate_claims</th>\n",
       "      <th>patient_duplicate_count</th>\n",
       "      <th>inpatient</th>\n",
       "      <th>outpatient</th>\n",
       "    </tr>\n",
       "  </thead>\n",
       "  <tbody>\n",
       "    <tr>\n",
       "      <th>1244</th>\n",
       "      <td>1244</td>\n",
       "      <td>PRV52549</td>\n",
       "      <td>0</td>\n",
       "      <td>54</td>\n",
       "      <td>46.0</td>\n",
       "      <td>5.0</td>\n",
       "      <td>2.0</td>\n",
       "      <td>1.0</td>\n",
       "      <td>27.0</td>\n",
       "      <td>27.0</td>\n",
       "      <td>76.0</td>\n",
       "      <td>1</td>\n",
       "      <td>12</td>\n",
       "      <td>0.0</td>\n",
       "      <td>5.0</td>\n",
       "      <td>156</td>\n",
       "      <td>5.0</td>\n",
       "      <td>0.961190</td>\n",
       "      <td>668.448718</td>\n",
       "      <td>273.758858</td>\n",
       "      <td>14049.602564</td>\n",
       "      <td>32.0</td>\n",
       "      <td>6.0</td>\n",
       "      <td>52.0</td>\n",
       "      <td>0.0</td>\n",
       "      <td>0</td>\n",
       "      <td>0</td>\n",
       "    </tr>\n",
       "    <tr>\n",
       "      <th>1748</th>\n",
       "      <td>1748</td>\n",
       "      <td>PRV53179</td>\n",
       "      <td>0</td>\n",
       "      <td>27</td>\n",
       "      <td>23.0</td>\n",
       "      <td>2.0</td>\n",
       "      <td>2.0</td>\n",
       "      <td>0.0</td>\n",
       "      <td>10.0</td>\n",
       "      <td>17.0</td>\n",
       "      <td>70.0</td>\n",
       "      <td>1</td>\n",
       "      <td>3</td>\n",
       "      <td>0.0</td>\n",
       "      <td>4.0</td>\n",
       "      <td>28</td>\n",
       "      <td>2.0</td>\n",
       "      <td>0.946832</td>\n",
       "      <td>801.285714</td>\n",
       "      <td>351.375850</td>\n",
       "      <td>4021.714286</td>\n",
       "      <td>10.0</td>\n",
       "      <td>2.0</td>\n",
       "      <td>12.0</td>\n",
       "      <td>0.0</td>\n",
       "      <td>0</td>\n",
       "      <td>0</td>\n",
       "    </tr>\n",
       "    <tr>\n",
       "      <th>4920</th>\n",
       "      <td>4920</td>\n",
       "      <td>PRV57170</td>\n",
       "      <td>1</td>\n",
       "      <td>232</td>\n",
       "      <td>184.0</td>\n",
       "      <td>36.0</td>\n",
       "      <td>9.0</td>\n",
       "      <td>3.0</td>\n",
       "      <td>83.0</td>\n",
       "      <td>149.0</td>\n",
       "      <td>74.0</td>\n",
       "      <td>5</td>\n",
       "      <td>18</td>\n",
       "      <td>0.0</td>\n",
       "      <td>5.0</td>\n",
       "      <td>579</td>\n",
       "      <td>2.0</td>\n",
       "      <td>0.977434</td>\n",
       "      <td>294.145078</td>\n",
       "      <td>222.858228</td>\n",
       "      <td>7388.987910</td>\n",
       "      <td>97.0</td>\n",
       "      <td>0.0</td>\n",
       "      <td>256.0</td>\n",
       "      <td>2.0</td>\n",
       "      <td>0</td>\n",
       "      <td>1</td>\n",
       "    </tr>\n",
       "    <tr>\n",
       "      <th>1792</th>\n",
       "      <td>1792</td>\n",
       "      <td>PRV53235</td>\n",
       "      <td>0</td>\n",
       "      <td>2</td>\n",
       "      <td>2.0</td>\n",
       "      <td>0.0</td>\n",
       "      <td>0.0</td>\n",
       "      <td>0.0</td>\n",
       "      <td>1.0</td>\n",
       "      <td>1.0</td>\n",
       "      <td>87.0</td>\n",
       "      <td>1</td>\n",
       "      <td>1</td>\n",
       "      <td>0.0</td>\n",
       "      <td>6.0</td>\n",
       "      <td>2</td>\n",
       "      <td>1.0</td>\n",
       "      <td>1.000000</td>\n",
       "      <td>85.000000</td>\n",
       "      <td>85.000000</td>\n",
       "      <td>4509.000000</td>\n",
       "      <td>1.0</td>\n",
       "      <td>0.0</td>\n",
       "      <td>0.0</td>\n",
       "      <td>0.0</td>\n",
       "      <td>0</td>\n",
       "      <td>1</td>\n",
       "    </tr>\n",
       "    <tr>\n",
       "      <th>4737</th>\n",
       "      <td>4737</td>\n",
       "      <td>PRV56934</td>\n",
       "      <td>0</td>\n",
       "      <td>6</td>\n",
       "      <td>4.0</td>\n",
       "      <td>2.0</td>\n",
       "      <td>0.0</td>\n",
       "      <td>0.0</td>\n",
       "      <td>3.0</td>\n",
       "      <td>3.0</td>\n",
       "      <td>76.0</td>\n",
       "      <td>1</td>\n",
       "      <td>3</td>\n",
       "      <td>0.0</td>\n",
       "      <td>2.0</td>\n",
       "      <td>6</td>\n",
       "      <td>1.0</td>\n",
       "      <td>1.000000</td>\n",
       "      <td>75.000000</td>\n",
       "      <td>75.000000</td>\n",
       "      <td>2125.000000</td>\n",
       "      <td>1.0</td>\n",
       "      <td>0.0</td>\n",
       "      <td>3.0</td>\n",
       "      <td>0.0</td>\n",
       "      <td>0</td>\n",
       "      <td>1</td>\n",
       "    </tr>\n",
       "  </tbody>\n",
       "</table>\n",
       "</div>"
      ],
      "text/plain": [
       "      Unnamed: 0  Provider  PotentialFraud  patient_count  Race1  Race2  \\\n",
       "1244        1244  PRV52549               0             54   46.0    5.0   \n",
       "1748        1748  PRV53179               0             27   23.0    2.0   \n",
       "4920        4920  PRV57170               1            232  184.0   36.0   \n",
       "1792        1792  PRV53235               0              2    2.0    0.0   \n",
       "4737        4737  PRV56934               0              6    4.0    2.0   \n",
       "\n",
       "      Race3  Race5  Male  Female  mean_age  state_count  phy_count  no_phy  \\\n",
       "1244    2.0    1.0  27.0    27.0      76.0            1         12     0.0   \n",
       "1748    2.0    0.0  10.0    17.0      70.0            1          3     0.0   \n",
       "4920    9.0    3.0  83.0   149.0      74.0            5         18     0.0   \n",
       "1792    0.0    0.0   1.0     1.0      87.0            1          1     0.0   \n",
       "4737    0.0    0.0   3.0     3.0      76.0            1          3     0.0   \n",
       "\n",
       "      chronic_mean  claim_count  days_admitted  coverage  totalamount_charged  \\\n",
       "1244           5.0          156            5.0  0.961190           668.448718   \n",
       "1748           4.0           28            2.0  0.946832           801.285714   \n",
       "4920           5.0          579            2.0  0.977434           294.145078   \n",
       "1792           6.0            2            1.0  1.000000            85.000000   \n",
       "4737           2.0            6            1.0  1.000000            75.000000   \n",
       "\n",
       "      revenue_day  annual_amount  claimdiag  diag_grp  duplicate_claims  \\\n",
       "1244   273.758858   14049.602564       32.0       6.0              52.0   \n",
       "1748   351.375850    4021.714286       10.0       2.0              12.0   \n",
       "4920   222.858228    7388.987910       97.0       0.0             256.0   \n",
       "1792    85.000000    4509.000000        1.0       0.0               0.0   \n",
       "4737    75.000000    2125.000000        1.0       0.0               3.0   \n",
       "\n",
       "      patient_duplicate_count  inpatient  outpatient  \n",
       "1244                      0.0          0           0  \n",
       "1748                      0.0          0           0  \n",
       "4920                      2.0          0           1  \n",
       "1792                      0.0          0           1  \n",
       "4737                      0.0          0           1  "
      ]
     },
     "execution_count": 132,
     "metadata": {},
     "output_type": "execute_result"
    }
   ],
   "source": [
    "provider4 = pd.read_csv('provider4.csv')\n",
    "provider4.sample(5)"
   ]
  },
  {
   "cell_type": "code",
   "execution_count": 133,
   "metadata": {},
   "outputs": [
    {
     "data": {
      "text/plain": [
       "((5410, 24), (5410,))"
      ]
     },
     "execution_count": 133,
     "metadata": {},
     "output_type": "execute_result"
    }
   ],
   "source": [
    "x = provider4.drop(['Unnamed: 0','Provider','PotentialFraud'],axis=1)\n",
    "y = provider4['PotentialFraud']\n",
    "# train-test split\n",
    "X_train, X_test, y_train, y_test = train_test_split(StandardScaler().fit_transform(x), y, test_size=0.3, random_state=100)\n",
    "x.shape, y.shape"
   ]
  },
  {
   "cell_type": "code",
   "execution_count": 134,
   "metadata": {},
   "outputs": [],
   "source": [
    "#Confusion Matrix Plotting Function\n",
    "def conf_mat(y_test, y_pred):\n",
    "    cm = confusion_matrix(y_test, y_pred)\n",
    "    group_names = ['True Negative','False Positive','False Negative','True Positive']\n",
    "    group_counts = ['{0:0.0f}'.format(value) for value in\n",
    "                cm.flatten()]\n",
    "    group_percentages = ['{0:.4%}'.format(value) for value in\n",
    "                     cm.flatten()/np.sum(cm)]\n",
    "    labels = [f'{v1}\\n{v2}\\n{v3}' for v1, v2, v3 in\n",
    "          zip(group_names,group_counts,group_percentages)]\n",
    "    labels = np.asarray(labels).reshape(2,2)\n",
    "    ax= plt.subplot()\n",
    "    sns.heatmap(cm/np.sum(cm), annot=labels, ax = ax, fmt='', cmap='coolwarm');\n",
    "    # labels, title and ticks\n",
    "    ax.set_xlabel('Predicted labels');ax.set_ylabel('True labels')\n",
    "    ax.set_title('Confusion Matrix')\n",
    "    ax.xaxis.set_ticklabels(['No Fraud', 'Potential Fraud']); ax.yaxis.set_ticklabels(['No Fraud', 'Potential Fraud'])\n",
    "    return"
   ]
  },
  {
   "cell_type": "markdown",
   "metadata": {},
   "source": [
    "## SMOTE "
   ]
  },
  {
   "cell_type": "code",
   "execution_count": 135,
   "metadata": {},
   "outputs": [],
   "source": [
    "#SMOTE\n",
    "smote = SMOTE()\n",
    "x_smote, y_smote = smote.fit_resample(x, y)"
   ]
  },
  {
   "cell_type": "code",
   "execution_count": 136,
   "metadata": {},
   "outputs": [],
   "source": [
    "X_train_sm, X_test_sm, y_train_sm, y_test_sm = train_test_split(StandardScaler().fit_transform(x_smote), y_smote, \n",
    "                                                                test_size=0.3, random_state=100)"
   ]
  },
  {
   "cell_type": "code",
   "execution_count": 137,
   "metadata": {},
   "outputs": [],
   "source": [
    "def evaluate_model_stratified(X_train, X_test, y_train, y_test):\n",
    "    classifiers = [LogisticRegression(penalty='l1', solver='liblinear'),\n",
    "                   LinearSVC(),GaussianNB(),LinearDiscriminantAnalysis(),RandomForestClassifier(),\n",
    "                   GradientBoostingClassifier(),XGBClassifier()]\n",
    "    \n",
    "    for classifier in classifiers:\n",
    "        kfold = StratifiedKFold(n_splits = 5, shuffle = True, random_state= 100)\n",
    "        model = Pipeline(steps = [('classifier', classifier)])\n",
    "        str_cv= GridSearchCV(estimator= model, scoring='roc_auc', cv=kfold, param_grid = {})\n",
    "        str_cv.fit(X_train, y_train)\n",
    "    \n",
    "        \n",
    "        \n",
    "        predicted_train = str_cv.predict(X_train)\n",
    "        predicted_test = str_cv.predict(X_test)\n",
    "    \n",
    "    \n",
    "        print(type(classifier).__name__)\n",
    "        print('Accuracy Score for test data: {:.3f}'.format(accuracy_score(y_test, predicted_test)))\n",
    "        print('Precision Score for test data {:.3f}'.format(precision_score(y_test, predicted_test)))\n",
    "        print('Recall Score for test data {:.3f}'.format(recall_score(y_test, predicted_test)))\n",
    "        print('f1 score for test data{:.3f}'.format(f1_score(y_test, predicted_test)))\n",
    "        print('fbeta0.2_score for test data{:.3f}'.format(fbeta_score(y_test, predicted_test, beta = 0.5)))\n",
    "        print('fbeta2_score for test data{:.3f}'.format(fbeta_score(y_test, predicted_test, beta = 2)))\n",
    "        print('ROC-AUC Score for test data: {:.3f}'.format(roc_auc_score(y_test, predicted_test)))\n",
    "        print('Confusion matrix for train data')\n",
    "        print(confusion_matrix(y_train, predicted_train))\n",
    "        print('Confusion matrix for test data')\n",
    "        print(confusion_matrix(y_test, predicted_test))\n",
    "        print('-' *50)"
   ]
  },
  {
   "cell_type": "code",
   "execution_count": 10,
   "metadata": {},
   "outputs": [
    {
     "name": "stdout",
     "output_type": "stream",
     "text": [
      "LogisticRegression\n",
      "Accuracy Score for train data: 0.891\n",
      "Accuracy Score for test data: 0.893\n",
      "Precision Score for train data 0.883\n",
      "Precision Score for test data 0.890\n",
      "Recall Score for train data 0.902\n",
      "Recall Score for test data 0.898\n",
      "f1 score for train data0.892\n",
      "f1 score for test data0.894\n",
      "fbeta0.2_score for train data0.886\n",
      "fbeta0.2_score for test data0.892\n",
      "fbeta2_score for train data0.898\n",
      "fbeta2_score for test data0.897\n",
      "ROC-AUC Score for train data: 0.891\n",
      "ROC-AUC Score for test data: 0.893\n",
      "Confusion matrix for train data\n",
      "[[3036  410]\n",
      " [ 336 3083]]\n",
      "Confusion matrix for test data\n",
      "[[1293  165]\n",
      " [ 151 1334]]\n",
      "--------------------------------------------------\n"
     ]
    },
    {
     "name": "stderr",
     "output_type": "stream",
     "text": [
      "/Applications/anaconda3/lib/python3.7/site-packages/sklearn/svm/_base.py:947: ConvergenceWarning: Liblinear failed to converge, increase the number of iterations.\n",
      "  \"the number of iterations.\", ConvergenceWarning)\n",
      "/Applications/anaconda3/lib/python3.7/site-packages/sklearn/svm/_base.py:947: ConvergenceWarning: Liblinear failed to converge, increase the number of iterations.\n",
      "  \"the number of iterations.\", ConvergenceWarning)\n",
      "/Applications/anaconda3/lib/python3.7/site-packages/sklearn/svm/_base.py:947: ConvergenceWarning: Liblinear failed to converge, increase the number of iterations.\n",
      "  \"the number of iterations.\", ConvergenceWarning)\n",
      "/Applications/anaconda3/lib/python3.7/site-packages/sklearn/svm/_base.py:947: ConvergenceWarning: Liblinear failed to converge, increase the number of iterations.\n",
      "  \"the number of iterations.\", ConvergenceWarning)\n",
      "/Applications/anaconda3/lib/python3.7/site-packages/sklearn/svm/_base.py:947: ConvergenceWarning: Liblinear failed to converge, increase the number of iterations.\n",
      "  \"the number of iterations.\", ConvergenceWarning)\n",
      "/Applications/anaconda3/lib/python3.7/site-packages/sklearn/svm/_base.py:947: ConvergenceWarning: Liblinear failed to converge, increase the number of iterations.\n",
      "  \"the number of iterations.\", ConvergenceWarning)\n"
     ]
    },
    {
     "name": "stdout",
     "output_type": "stream",
     "text": [
      "LinearSVC\n",
      "Accuracy Score for train data: 0.893\n",
      "Accuracy Score for test data: 0.894\n",
      "Precision Score for train data 0.878\n",
      "Precision Score for test data 0.886\n",
      "Recall Score for train data 0.911\n",
      "Recall Score for test data 0.906\n",
      "f1 score for train data0.894\n",
      "f1 score for test data0.896\n",
      "fbeta0.2_score for train data0.885\n",
      "fbeta0.2_score for test data0.890\n",
      "fbeta2_score for train data0.904\n",
      "fbeta2_score for test data0.902\n",
      "ROC-AUC Score for train data: 0.893\n",
      "ROC-AUC Score for test data: 0.894\n",
      "Confusion matrix for train data\n",
      "[[3015  431]\n",
      " [ 306 3113]]\n",
      "Confusion matrix for test data\n",
      "[[1285  173]\n",
      " [ 140 1345]]\n",
      "--------------------------------------------------\n",
      "GaussianNB\n",
      "Accuracy Score for train data: 0.730\n",
      "Accuracy Score for test data: 0.742\n",
      "Precision Score for train data 0.889\n",
      "Precision Score for test data 0.902\n",
      "Recall Score for train data 0.523\n",
      "Recall Score for test data 0.547\n",
      "f1 score for train data0.658\n",
      "f1 score for test data0.681\n",
      "fbeta0.2_score for train data0.779\n",
      "fbeta0.2_score for test data0.799\n",
      "fbeta2_score for train data0.570\n",
      "fbeta2_score for test data0.594\n",
      "ROC-AUC Score for train data: 0.729\n",
      "ROC-AUC Score for test data: 0.744\n",
      "Confusion matrix for train data\n",
      "[[3222  224]\n",
      " [1632 1787]]\n",
      "Confusion matrix for test data\n",
      "[[1370   88]\n",
      " [ 672  813]]\n",
      "--------------------------------------------------\n",
      "LinearDiscriminantAnalysis\n",
      "Accuracy Score for train data: 0.926\n",
      "Accuracy Score for test data: 0.933\n",
      "Precision Score for train data 0.952\n",
      "Precision Score for test data 0.959\n",
      "Recall Score for train data 0.896\n",
      "Recall Score for test data 0.906\n",
      "f1 score for train data0.923\n",
      "f1 score for test data0.932\n",
      "fbeta0.2_score for train data0.940\n",
      "fbeta0.2_score for test data0.948\n",
      "fbeta2_score for train data0.907\n",
      "fbeta2_score for test data0.917\n",
      "ROC-AUC Score for train data: 0.926\n",
      "ROC-AUC Score for test data: 0.934\n",
      "Confusion matrix for train data\n",
      "[[3292  154]\n",
      " [ 354 3065]]\n",
      "Confusion matrix for test data\n",
      "[[1401   57]\n",
      " [ 139 1346]]\n",
      "--------------------------------------------------\n",
      "RandomForestClassifier\n",
      "Accuracy Score for train data: 1.000\n",
      "Accuracy Score for test data: 0.946\n",
      "Precision Score for train data 1.000\n",
      "Precision Score for test data 0.929\n",
      "Recall Score for train data 1.000\n",
      "Recall Score for test data 0.966\n",
      "f1 score for train data1.000\n",
      "f1 score for test data0.947\n",
      "fbeta0.2_score for train data1.000\n",
      "fbeta0.2_score for test data0.936\n",
      "fbeta2_score for train data1.000\n",
      "fbeta2_score for test data0.958\n",
      "ROC-AUC Score for train data: 1.000\n",
      "ROC-AUC Score for test data: 0.945\n",
      "Confusion matrix for train data\n",
      "[[3446    0]\n",
      " [   0 3419]]\n",
      "Confusion matrix for test data\n",
      "[[1349  109]\n",
      " [  51 1434]]\n",
      "--------------------------------------------------\n",
      "GradientBoostingClassifier\n",
      "Accuracy Score for train data: 0.958\n",
      "Accuracy Score for test data: 0.943\n",
      "Precision Score for train data 0.953\n",
      "Precision Score for test data 0.930\n",
      "Recall Score for train data 0.963\n",
      "Recall Score for test data 0.958\n",
      "f1 score for train data0.958\n",
      "f1 score for test data0.944\n",
      "fbeta0.2_score for train data0.955\n",
      "fbeta0.2_score for test data0.936\n",
      "fbeta2_score for train data0.961\n",
      "fbeta2_score for test data0.952\n",
      "ROC-AUC Score for train data: 0.958\n",
      "ROC-AUC Score for test data: 0.942\n",
      "Confusion matrix for train data\n",
      "[[3285  161]\n",
      " [ 126 3293]]\n",
      "Confusion matrix for test data\n",
      "[[1351  107]\n",
      " [  62 1423]]\n",
      "--------------------------------------------------\n",
      "[15:15:55] WARNING: /Users/travis/build/dmlc/xgboost/src/learner.cc:1095: Starting in XGBoost 1.3.0, the default evaluation metric used with the objective 'binary:logistic' was changed from 'error' to 'logloss'. Explicitly set eval_metric if you'd like to restore the old behavior.\n"
     ]
    },
    {
     "name": "stderr",
     "output_type": "stream",
     "text": [
      "/Applications/anaconda3/lib/python3.7/site-packages/xgboost/sklearn.py:1146: UserWarning: The use of label encoder in XGBClassifier is deprecated and will be removed in a future release. To remove this warning, do the following: 1) Pass option use_label_encoder=False when constructing XGBClassifier object; and 2) Encode your labels (y) as integers starting with 0, i.e. 0, 1, 2, ..., [num_class - 1].\n",
      "  warnings.warn(label_encoder_deprecation_msg, UserWarning)\n",
      "/Applications/anaconda3/lib/python3.7/site-packages/xgboost/sklearn.py:1146: UserWarning: The use of label encoder in XGBClassifier is deprecated and will be removed in a future release. To remove this warning, do the following: 1) Pass option use_label_encoder=False when constructing XGBClassifier object; and 2) Encode your labels (y) as integers starting with 0, i.e. 0, 1, 2, ..., [num_class - 1].\n",
      "  warnings.warn(label_encoder_deprecation_msg, UserWarning)\n"
     ]
    },
    {
     "name": "stdout",
     "output_type": "stream",
     "text": [
      "[15:15:56] WARNING: /Users/travis/build/dmlc/xgboost/src/learner.cc:1095: Starting in XGBoost 1.3.0, the default evaluation metric used with the objective 'binary:logistic' was changed from 'error' to 'logloss'. Explicitly set eval_metric if you'd like to restore the old behavior.\n"
     ]
    },
    {
     "name": "stderr",
     "output_type": "stream",
     "text": [
      "/Applications/anaconda3/lib/python3.7/site-packages/xgboost/sklearn.py:1146: UserWarning: The use of label encoder in XGBClassifier is deprecated and will be removed in a future release. To remove this warning, do the following: 1) Pass option use_label_encoder=False when constructing XGBClassifier object; and 2) Encode your labels (y) as integers starting with 0, i.e. 0, 1, 2, ..., [num_class - 1].\n",
      "  warnings.warn(label_encoder_deprecation_msg, UserWarning)\n"
     ]
    },
    {
     "name": "stdout",
     "output_type": "stream",
     "text": [
      "[15:15:57] WARNING: /Users/travis/build/dmlc/xgboost/src/learner.cc:1095: Starting in XGBoost 1.3.0, the default evaluation metric used with the objective 'binary:logistic' was changed from 'error' to 'logloss'. Explicitly set eval_metric if you'd like to restore the old behavior.\n"
     ]
    },
    {
     "name": "stderr",
     "output_type": "stream",
     "text": [
      "/Applications/anaconda3/lib/python3.7/site-packages/xgboost/sklearn.py:1146: UserWarning: The use of label encoder in XGBClassifier is deprecated and will be removed in a future release. To remove this warning, do the following: 1) Pass option use_label_encoder=False when constructing XGBClassifier object; and 2) Encode your labels (y) as integers starting with 0, i.e. 0, 1, 2, ..., [num_class - 1].\n",
      "  warnings.warn(label_encoder_deprecation_msg, UserWarning)\n"
     ]
    },
    {
     "name": "stdout",
     "output_type": "stream",
     "text": [
      "[15:15:58] WARNING: /Users/travis/build/dmlc/xgboost/src/learner.cc:1095: Starting in XGBoost 1.3.0, the default evaluation metric used with the objective 'binary:logistic' was changed from 'error' to 'logloss'. Explicitly set eval_metric if you'd like to restore the old behavior.\n"
     ]
    },
    {
     "name": "stderr",
     "output_type": "stream",
     "text": [
      "/Applications/anaconda3/lib/python3.7/site-packages/xgboost/sklearn.py:1146: UserWarning: The use of label encoder in XGBClassifier is deprecated and will be removed in a future release. To remove this warning, do the following: 1) Pass option use_label_encoder=False when constructing XGBClassifier object; and 2) Encode your labels (y) as integers starting with 0, i.e. 0, 1, 2, ..., [num_class - 1].\n",
      "  warnings.warn(label_encoder_deprecation_msg, UserWarning)\n"
     ]
    },
    {
     "name": "stdout",
     "output_type": "stream",
     "text": [
      "[15:15:59] WARNING: /Users/travis/build/dmlc/xgboost/src/learner.cc:1095: Starting in XGBoost 1.3.0, the default evaluation metric used with the objective 'binary:logistic' was changed from 'error' to 'logloss'. Explicitly set eval_metric if you'd like to restore the old behavior.\n"
     ]
    },
    {
     "name": "stderr",
     "output_type": "stream",
     "text": [
      "/Applications/anaconda3/lib/python3.7/site-packages/xgboost/sklearn.py:1146: UserWarning: The use of label encoder in XGBClassifier is deprecated and will be removed in a future release. To remove this warning, do the following: 1) Pass option use_label_encoder=False when constructing XGBClassifier object; and 2) Encode your labels (y) as integers starting with 0, i.e. 0, 1, 2, ..., [num_class - 1].\n",
      "  warnings.warn(label_encoder_deprecation_msg, UserWarning)\n"
     ]
    },
    {
     "name": "stdout",
     "output_type": "stream",
     "text": [
      "[15:16:00] WARNING: /Users/travis/build/dmlc/xgboost/src/learner.cc:1095: Starting in XGBoost 1.3.0, the default evaluation metric used with the objective 'binary:logistic' was changed from 'error' to 'logloss'. Explicitly set eval_metric if you'd like to restore the old behavior.\n",
      "XGBClassifier\n",
      "Accuracy Score for train data: 1.000\n",
      "Accuracy Score for test data: 0.961\n",
      "Precision Score for train data 1.000\n",
      "Precision Score for test data 0.957\n",
      "Recall Score for train data 1.000\n",
      "Recall Score for test data 0.965\n",
      "f1 score for train data1.000\n",
      "f1 score for test data0.961\n",
      "fbeta0.2_score for train data1.000\n",
      "fbeta0.2_score for test data0.959\n",
      "fbeta2_score for train data1.000\n",
      "fbeta2_score for test data0.963\n",
      "ROC-AUC Score for train data: 1.000\n",
      "ROC-AUC Score for test data: 0.961\n",
      "Confusion matrix for train data\n",
      "[[3446    0]\n",
      " [   0 3419]]\n",
      "Confusion matrix for test data\n",
      "[[1394   64]\n",
      " [  52 1433]]\n",
      "--------------------------------------------------\n"
     ]
    }
   ],
   "source": [
    "evaluate_model_stratified(X_train_sm, X_test_sm, y_train_sm, y_test_sm)"
   ]
  },
  {
   "cell_type": "markdown",
   "metadata": {},
   "source": [
    "## Hyperparameter tuning and Grid search for gradient classifier"
   ]
  },
  {
   "cell_type": "code",
   "execution_count": 31,
   "metadata": {},
   "outputs": [
    {
     "data": {
      "text/plain": [
       "GridSearchCV(cv=5, error_score=nan,\n",
       "             estimator=GradientBoostingClassifier(ccp_alpha=0.0,\n",
       "                                                  criterion='friedman_mse',\n",
       "                                                  init=None, learning_rate=0.1,\n",
       "                                                  loss='deviance', max_depth=3,\n",
       "                                                  max_features=None,\n",
       "                                                  max_leaf_nodes=None,\n",
       "                                                  min_impurity_decrease=0.0,\n",
       "                                                  min_impurity_split=None,\n",
       "                                                  min_samples_leaf=1,\n",
       "                                                  min_samples_split=2,\n",
       "                                                  min_weight_fraction_leaf=0.0,\n",
       "                                                  n_estimators=100,\n",
       "                                                  n_iter_no_c...=None,\n",
       "                                                  presort='deprecated',\n",
       "                                                  random_state=None,\n",
       "                                                  subsample=1.0, tol=0.0001,\n",
       "                                                  validation_fraction=0.1,\n",
       "                                                  verbose=0, warm_start=False),\n",
       "             iid='deprecated', n_jobs=None,\n",
       "             param_grid={'learning_rate': [0.01, 0.1, 1],\n",
       "                         'max_depth': [1, 3, 5], 'n_estimators': [50, 100, 200],\n",
       "                         'subsample': [0.3, 0.9, 1.0]},\n",
       "             pre_dispatch='2*n_jobs', refit=True, return_train_score=False,\n",
       "             scoring=None, verbose=0)"
      ]
     },
     "execution_count": 31,
     "metadata": {},
     "output_type": "execute_result"
    }
   ],
   "source": [
    "#parameters for gradient classifier\n",
    "gbc = GradientBoostingClassifier()\n",
    "parameters = {\n",
    "    \"n_estimators\":[50,100,200],\n",
    "    \"max_depth\":[1,3,5],\n",
    "    \"learning_rate\":[0.01,0.1,1],\n",
    "    \"subsample\": [0.3, 0.9, 1.0]\n",
    "}\n",
    "\n",
    "clf= GridSearchCV(gbc,parameters,cv=5)\n",
    "clf.fit(X_train_sm, y_train_sm)"
   ]
  },
  {
   "cell_type": "code",
   "execution_count": 94,
   "metadata": {},
   "outputs": [],
   "source": [
    "#GBC model\n",
    "gbc2 = GradientBoostingClassifier(learning_rate= 0.1, max_depth= 5, n_estimators= 200, subsample= 0.9)"
   ]
  },
  {
   "cell_type": "code",
   "execution_count": 32,
   "metadata": {},
   "outputs": [
    {
     "data": {
      "text/plain": [
       "{'learning_rate': 0.1, 'max_depth': 5, 'n_estimators': 200, 'subsample': 0.9}"
      ]
     },
     "execution_count": 32,
     "metadata": {},
     "output_type": "execute_result"
    }
   ],
   "source": [
    "clf.best_params_"
   ]
  },
  {
   "cell_type": "code",
   "execution_count": 138,
   "metadata": {},
   "outputs": [],
   "source": [
    "clf_best = gbc.fit(X_train_sm, y_train_sm)"
   ]
  },
  {
   "cell_type": "code",
   "execution_count": 139,
   "metadata": {},
   "outputs": [
    {
     "data": {
      "text/html": [
       "<div>\n",
       "<style scoped>\n",
       "    .dataframe tbody tr th:only-of-type {\n",
       "        vertical-align: middle;\n",
       "    }\n",
       "\n",
       "    .dataframe tbody tr th {\n",
       "        vertical-align: top;\n",
       "    }\n",
       "\n",
       "    .dataframe thead th {\n",
       "        text-align: right;\n",
       "    }\n",
       "</style>\n",
       "<table border=\"1\" class=\"dataframe\">\n",
       "  <thead>\n",
       "    <tr style=\"text-align: right;\">\n",
       "      <th></th>\n",
       "      <th>feature</th>\n",
       "      <th>coef</th>\n",
       "    </tr>\n",
       "  </thead>\n",
       "  <tbody>\n",
       "    <tr>\n",
       "      <th>19</th>\n",
       "      <td>diag_grp</td>\n",
       "      <td>0.458816</td>\n",
       "    </tr>\n",
       "    <tr>\n",
       "      <th>18</th>\n",
       "      <td>claimdiag</td>\n",
       "      <td>0.137067</td>\n",
       "    </tr>\n",
       "    <tr>\n",
       "      <th>21</th>\n",
       "      <td>patient_duplicate_count</td>\n",
       "      <td>0.122667</td>\n",
       "    </tr>\n",
       "    <tr>\n",
       "      <th>4</th>\n",
       "      <td>Race5</td>\n",
       "      <td>0.040197</td>\n",
       "    </tr>\n",
       "    <tr>\n",
       "      <th>3</th>\n",
       "      <td>Race3</td>\n",
       "      <td>0.029909</td>\n",
       "    </tr>\n",
       "    <tr>\n",
       "      <th>13</th>\n",
       "      <td>days_admitted</td>\n",
       "      <td>0.022671</td>\n",
       "    </tr>\n",
       "    <tr>\n",
       "      <th>11</th>\n",
       "      <td>chronic_mean</td>\n",
       "      <td>0.021325</td>\n",
       "    </tr>\n",
       "    <tr>\n",
       "      <th>15</th>\n",
       "      <td>totalamount_charged</td>\n",
       "      <td>0.018803</td>\n",
       "    </tr>\n",
       "    <tr>\n",
       "      <th>7</th>\n",
       "      <td>mean_age</td>\n",
       "      <td>0.017952</td>\n",
       "    </tr>\n",
       "    <tr>\n",
       "      <th>17</th>\n",
       "      <td>annual_amount</td>\n",
       "      <td>0.017907</td>\n",
       "    </tr>\n",
       "    <tr>\n",
       "      <th>10</th>\n",
       "      <td>no_phy</td>\n",
       "      <td>0.017726</td>\n",
       "    </tr>\n",
       "    <tr>\n",
       "      <th>16</th>\n",
       "      <td>revenue_day</td>\n",
       "      <td>0.014600</td>\n",
       "    </tr>\n",
       "    <tr>\n",
       "      <th>12</th>\n",
       "      <td>claim_count</td>\n",
       "      <td>0.013790</td>\n",
       "    </tr>\n",
       "    <tr>\n",
       "      <th>14</th>\n",
       "      <td>coverage</td>\n",
       "      <td>0.012637</td>\n",
       "    </tr>\n",
       "    <tr>\n",
       "      <th>20</th>\n",
       "      <td>duplicate_claims</td>\n",
       "      <td>0.010291</td>\n",
       "    </tr>\n",
       "  </tbody>\n",
       "</table>\n",
       "</div>"
      ],
      "text/plain": [
       "                    feature      coef\n",
       "19                 diag_grp  0.458816\n",
       "18                claimdiag  0.137067\n",
       "21  patient_duplicate_count  0.122667\n",
       "4                     Race5  0.040197\n",
       "3                     Race3  0.029909\n",
       "13            days_admitted  0.022671\n",
       "11             chronic_mean  0.021325\n",
       "15      totalamount_charged  0.018803\n",
       "7                  mean_age  0.017952\n",
       "17            annual_amount  0.017907\n",
       "10                   no_phy  0.017726\n",
       "16              revenue_day  0.014600\n",
       "12              claim_count  0.013790\n",
       "14                 coverage  0.012637\n",
       "20         duplicate_claims  0.010291"
      ]
     },
     "execution_count": 139,
     "metadata": {},
     "output_type": "execute_result"
    }
   ],
   "source": [
    "GradBoo_top15_features = pd.DataFrame(zip(x.columns, list(clf_best.feature_importances_)), columns=['feature', 'coef'])\\\n",
    "            .sort_values('coef', ascending=False).head(15)\n",
    "GradBoo_top15_features"
   ]
  },
  {
   "cell_type": "code",
   "execution_count": 140,
   "metadata": {},
   "outputs": [
    {
     "data": {
      "text/plain": [
       "Text(0, 0.5, '')"
      ]
     },
     "execution_count": 140,
     "metadata": {},
     "output_type": "execute_result"
    },
    {
     "data": {
      "image/png": "[encoded data removed]",
      "text/plain": [
       "<Figure size 432x288 with 1 Axes>"
      ]
     },
     "metadata": {
      "needs_background": "light"
     },
     "output_type": "display_data"
    }
   ],
   "source": [
    "ax = sns.barplot(x=\"coef\", y=\"feature\", data=GradBoo_top15_features ,palette=\"crest\")\n",
    "ax.set_title('Important feature by Gradient Boost Model')\n",
    "ax.set_xlabel('Features Importance')\n",
    "ax.set_ylabel('')"
   ]
  },
  {
   "cell_type": "code",
   "execution_count": 41,
   "metadata": {},
   "outputs": [],
   "source": [
    "def conf_mat(y_test, y_pred):\n",
    "    cm = confusion_matrix(y_test, y_pred)\n",
    "    group_names = ['True Negative','False Positive','False Negative','True Positive']\n",
    "    group_counts = ['{0:0.0f}'.format(value) for value in\n",
    "                cm.flatten()]\n",
    "    group_percentages = ['{0:.4%}'.format(value) for value in\n",
    "                     cm.flatten()/np.sum(cm)]\n",
    "    labels = [f'{v1}\\n{v2}\\n{v3}' for v1, v2, v3 in\n",
    "          zip(group_names,group_counts,group_percentages)]\n",
    "    labels = np.asarray(labels).reshape(2,2)\n",
    "    ax= plt.subplot()\n",
    "    sns.heatmap(cm/np.sum(cm), annot=labels, ax = ax, fmt='', cmap='coolwarm');\n",
    "    # labels, title and ticks\n",
    "    ax.set_xlabel('Predicted labels');ax.set_ylabel('True labels')\n",
    "    ax.set_title('Confusion Matrix')\n",
    "    ax.xaxis.set_ticklabels(['No Fraud', 'Potential Fraud']); ax.yaxis.set_ticklabels(['No Fraud', 'Potential Fraud'])\n",
    "    return"
   ]
  },
  {
   "cell_type": "code",
   "execution_count": 142,
   "metadata": {},
   "outputs": [],
   "source": [
    "predicted_test = clf_best.predict(X_test_sm)"
   ]
  },
  {
   "cell_type": "code",
   "execution_count": 143,
   "metadata": {},
   "outputs": [
    {
     "name": "stdout",
     "output_type": "stream",
     "text": [
      "Accuracy Score: 0.9592252803261978\n",
      "F1 Score: 0.9597855227882038\n"
     ]
    },
    {
     "data": {
      "image/png": "[encoded data removed]",
      "text/plain": [
       "<Figure size 432x288 with 2 Axes>"
      ]
     },
     "metadata": {
      "needs_background": "light"
     },
     "output_type": "display_data"
    }
   ],
   "source": [
    "print(f'Accuracy Score: {accuracy_score(y_test_sm,predicted_test)}')\n",
    "print('F1 Score: {}'.format(f1_score(y_test_sm, predicted_test)))\n",
    "conf_mat(y_test_sm, predicted_test)"
   ]
  },
  {
   "cell_type": "code",
   "execution_count": 174,
   "metadata": {},
   "outputs": [],
   "source": [
    "#Claims per provider\n",
    "n = provider4['claim_count'].mean()\n",
    "\n",
    "#cost based on non-oversampled train-test split of 1527 Negatives and 96 Positives\n",
    "Neg = 1527\n",
    "Pos = 96\n",
    "#Average cost per fraudulent claim is the mean of InscClaimAmtReimbursed when PotentialFraud = \"Yes\", $1389.51\n",
    "c = 998\n",
    "\n",
    "# 29.17 = average hourly pay for a claims adjuster via https://www.indeed.com/career/claims-adjuster/salaries\n",
    "i = 2 * 29.17 #cost to investigate a claim, assuming it takes 1 claims adjuster ~2 hours\n",
    "\n",
    "#Total dollars saved\n",
    "# ((number of true positive * c) - (false positive + true positive)* i  - (c * number false negatives))/ 0.7*n"
   ]
  },
  {
   "cell_type": "code",
   "execution_count": 144,
   "metadata": {},
   "outputs": [
    {
     "name": "stdout",
     "output_type": "stream",
     "text": [
      "Gradient Boosting Model will save: $3110616.89\n"
     ]
    }
   ],
   "source": [
    "#Gradient Boost costs saved\n",
    "GB_cost = Pos * .4865 * c - Pos * i - c * Neg*.018\n",
    "print(f'Gradient Boosting Model will save: ${round(GB_cost / .7 * n, 2)}')"
   ]
  },
  {
   "cell_type": "code",
   "execution_count": 146,
   "metadata": {},
   "outputs": [],
   "source": [
    "xgb = XGBClassifier(use_label_encoder=False, eval_metric='logloss')\n",
    "parameters = {\n",
    "    \"n_estimators\":[100,250, 500],\n",
    "    \"max_depth\":[1,3,5],\n",
    "    \"learning_rate\":[0.01,0.1,1],\n",
    "    \"gamma\": [0.1, 0.2, 0.3]\n",
    "}\n",
    "xb= GridSearchCV(xgb,parameters,cv=5)\n",
    "xb.fit(X_train_sm, y_train_sm)"
   ]
  },
  {
   "cell_type": "code",
   "execution_count": 50,
   "metadata": {},
   "outputs": [
    {
     "data": {
      "text/plain": [
       "{'learning_rate': 0.1, 'max_depth': 5, 'n_estimators': 200, 'subsample': 0.9}"
      ]
     },
     "execution_count": 50,
     "metadata": {},
     "output_type": "execute_result"
    }
   ],
   "source": [
    "xg.best_params_"
   ]
  },
  {
   "cell_type": "code",
   "execution_count": 165,
   "metadata": {},
   "outputs": [],
   "source": [
    "xgb2 = XGBClassifier(use_label_encoder=False, eval_metric='logloss', gamma = 0.2, learning_rate=0.1, max_depth=5, n_estimators=500, subsample=0.9)"
   ]
  },
  {
   "cell_type": "code",
   "execution_count": 166,
   "metadata": {},
   "outputs": [],
   "source": [
    "xb_best = xgb2.fit(X_train_sm, y_train_sm)"
   ]
  },
  {
   "cell_type": "code",
   "execution_count": 167,
   "metadata": {},
   "outputs": [],
   "source": [
    "predicted_test = xb_best.predict(X_test_sm)"
   ]
  },
  {
   "cell_type": "code",
   "execution_count": 168,
   "metadata": {},
   "outputs": [
    {
     "name": "stdout",
     "output_type": "stream",
     "text": [
      "Accuracy Score: 0.963642541624193\n",
      "F1 Score: 0.9640577762848506\n"
     ]
    },
    {
     "data": {
      "image/png": "[encoded data removed]",
      "text/plain": [
       "<Figure size 864x576 with 2 Axes>"
      ]
     },
     "metadata": {
      "needs_background": "light"
     },
     "output_type": "display_data"
    }
   ],
   "source": [
    "print(f'Accuracy Score: {accuracy_score(y_test_sm,predicted_test)}')\n",
    "print('F1 Score: {}'.format(f1_score(y_test_sm, predicted_test)))\n",
    "conf_mat(y_test_sm, predicted_test)"
   ]
  },
  {
   "cell_type": "code",
   "execution_count": 169,
   "metadata": {},
   "outputs": [
    {
     "name": "stdout",
     "output_type": "stream",
     "text": [
      "XG Boost Model will save: $3445000.17\n"
     ]
    }
   ],
   "source": [
    "#XGBoost costs saved\n",
    "print(f'XG Boost Model will save: ${round((Pos * .4876 * c - Pos * i - c * Neg*.0170)/.7*n, 2)}')\n",
    "#Ensemble Model will save: $3445000.17"
   ]
  },
  {
   "cell_type": "code",
   "execution_count": 154,
   "metadata": {},
   "outputs": [
    {
     "data": {
      "text/html": [
       "<div>\n",
       "<style scoped>\n",
       "    .dataframe tbody tr th:only-of-type {\n",
       "        vertical-align: middle;\n",
       "    }\n",
       "\n",
       "    .dataframe tbody tr th {\n",
       "        vertical-align: top;\n",
       "    }\n",
       "\n",
       "    .dataframe thead th {\n",
       "        text-align: right;\n",
       "    }\n",
       "</style>\n",
       "<table border=\"1\" class=\"dataframe\">\n",
       "  <thead>\n",
       "    <tr style=\"text-align: right;\">\n",
       "      <th></th>\n",
       "      <th>feature</th>\n",
       "      <th>coef</th>\n",
       "    </tr>\n",
       "  </thead>\n",
       "  <tbody>\n",
       "    <tr>\n",
       "      <th>19</th>\n",
       "      <td>diag_grp</td>\n",
       "      <td>0.330388</td>\n",
       "    </tr>\n",
       "    <tr>\n",
       "      <th>21</th>\n",
       "      <td>patient_duplicate_count</td>\n",
       "      <td>0.161774</td>\n",
       "    </tr>\n",
       "    <tr>\n",
       "      <th>18</th>\n",
       "      <td>claimdiag</td>\n",
       "      <td>0.123091</td>\n",
       "    </tr>\n",
       "    <tr>\n",
       "      <th>4</th>\n",
       "      <td>Race5</td>\n",
       "      <td>0.043313</td>\n",
       "    </tr>\n",
       "    <tr>\n",
       "      <th>10</th>\n",
       "      <td>no_phy</td>\n",
       "      <td>0.042824</td>\n",
       "    </tr>\n",
       "    <tr>\n",
       "      <th>11</th>\n",
       "      <td>chronic_mean</td>\n",
       "      <td>0.038915</td>\n",
       "    </tr>\n",
       "    <tr>\n",
       "      <th>3</th>\n",
       "      <td>Race3</td>\n",
       "      <td>0.036570</td>\n",
       "    </tr>\n",
       "    <tr>\n",
       "      <th>12</th>\n",
       "      <td>claim_count</td>\n",
       "      <td>0.036203</td>\n",
       "    </tr>\n",
       "    <tr>\n",
       "      <th>13</th>\n",
       "      <td>days_admitted</td>\n",
       "      <td>0.031040</td>\n",
       "    </tr>\n",
       "    <tr>\n",
       "      <th>7</th>\n",
       "      <td>mean_age</td>\n",
       "      <td>0.019749</td>\n",
       "    </tr>\n",
       "    <tr>\n",
       "      <th>20</th>\n",
       "      <td>duplicate_claims</td>\n",
       "      <td>0.017233</td>\n",
       "    </tr>\n",
       "    <tr>\n",
       "      <th>17</th>\n",
       "      <td>annual_amount</td>\n",
       "      <td>0.013512</td>\n",
       "    </tr>\n",
       "    <tr>\n",
       "      <th>15</th>\n",
       "      <td>totalamount_charged</td>\n",
       "      <td>0.012103</td>\n",
       "    </tr>\n",
       "    <tr>\n",
       "      <th>16</th>\n",
       "      <td>revenue_day</td>\n",
       "      <td>0.011954</td>\n",
       "    </tr>\n",
       "    <tr>\n",
       "      <th>14</th>\n",
       "      <td>coverage</td>\n",
       "      <td>0.011627</td>\n",
       "    </tr>\n",
       "  </tbody>\n",
       "</table>\n",
       "</div>"
      ],
      "text/plain": [
       "                    feature      coef\n",
       "19                 diag_grp  0.330388\n",
       "21  patient_duplicate_count  0.161774\n",
       "18                claimdiag  0.123091\n",
       "4                     Race5  0.043313\n",
       "10                   no_phy  0.042824\n",
       "11             chronic_mean  0.038915\n",
       "3                     Race3  0.036570\n",
       "12              claim_count  0.036203\n",
       "13            days_admitted  0.031040\n",
       "7                  mean_age  0.019749\n",
       "20         duplicate_claims  0.017233\n",
       "17            annual_amount  0.013512\n",
       "15      totalamount_charged  0.012103\n",
       "16              revenue_day  0.011954\n",
       "14                 coverage  0.011627"
      ]
     },
     "execution_count": 154,
     "metadata": {},
     "output_type": "execute_result"
    }
   ],
   "source": [
    "XGB_top15_features = pd.DataFrame(zip(x.columns, list(xgb2.feature_importances_)), columns=['feature', 'coef'])\\\n",
    "            .sort_values('coef', ascending=False).head(15)\n",
    "XGB_top15_features"
   ]
  },
  {
   "cell_type": "code",
   "execution_count": 155,
   "metadata": {},
   "outputs": [
    {
     "data": {
      "text/plain": [
       "Text(0, 0.5, '')"
      ]
     },
     "execution_count": 155,
     "metadata": {},
     "output_type": "execute_result"
    },
    {
     "data": {
      "image/png": "[encoded data removed]",
      "text/plain": [
       "<Figure size 864x576 with 1 Axes>"
      ]
     },
     "metadata": {
      "needs_background": "light"
     },
     "output_type": "display_data"
    }
   ],
   "source": [
    "plt.rcParams['figure.figsize'] = (12,8)\n",
    "ax = sns.barplot(x=\"coef\", y=\"feature\", data=XGB_top15_features,palette=\"flare\" )\n",
    "ax.set_title('Important feature by XGBoost Model')\n",
    "ax.set_xlabel('Features Importance')\n",
    "ax.set_ylabel('')"
   ]
  },
  {
   "cell_type": "code",
   "execution_count": 60,
   "metadata": {},
   "outputs": [],
   "source": [
    "param_grid = {\n",
    "    'max_depth': [50,80, 90, 100],\n",
    "    'max_features': [2, 3],\n",
    "    'min_samples_leaf': [3, 4, 5],\n",
    "    'min_samples_split': [8, 10, 12],\n",
    "    'n_estimators': [100, 200, 300, 500]\n",
    "}\n",
    "# Create a based model\n",
    "rf = RandomForestClassifier()\n",
    "# Instantiate the grid search model\n",
    "grid_search = GridSearchCV(estimator = rf, param_grid = param_grid, \n",
    "                          cv = 5, n_jobs = -1, verbose = 2)\n"
   ]
  },
  {
   "cell_type": "code",
   "execution_count": 61,
   "metadata": {},
   "outputs": [
    {
     "name": "stdout",
     "output_type": "stream",
     "text": [
      "Fitting 5 folds for each of 288 candidates, totalling 1440 fits\n"
     ]
    },
    {
     "name": "stderr",
     "output_type": "stream",
     "text": [
      "[Parallel(n_jobs=-1)]: Using backend LokyBackend with 4 concurrent workers.\n",
      "[Parallel(n_jobs=-1)]: Done  33 tasks      | elapsed:   30.9s\n",
      "[Parallel(n_jobs=-1)]: Done 154 tasks      | elapsed:  2.2min\n",
      "[Parallel(n_jobs=-1)]: Done 357 tasks      | elapsed:  5.8min\n",
      "[Parallel(n_jobs=-1)]: Done 640 tasks      | elapsed:  9.8min\n",
      "[Parallel(n_jobs=-1)]: Done 1005 tasks      | elapsed: 17.2min\n",
      "[Parallel(n_jobs=-1)]: Done 1440 out of 1440 | elapsed: 25.3min finished\n"
     ]
    },
    {
     "data": {
      "text/plain": [
       "{'max_depth': 80,\n",
       " 'max_features': 3,\n",
       " 'min_samples_leaf': 3,\n",
       " 'min_samples_split': 8,\n",
       " 'n_estimators': 500}"
      ]
     },
     "execution_count": 61,
     "metadata": {},
     "output_type": "execute_result"
    }
   ],
   "source": [
    "grid_search.fit(X_train_sm, y_train_sm)\n",
    "grid_search.best_params_\n"
   ]
  },
  {
   "cell_type": "code",
   "execution_count": 161,
   "metadata": {},
   "outputs": [],
   "source": [
    "bestRF = RandomForestClassifier(max_depth= 50, max_features= 3, min_samples_leaf=3, min_samples_split=8,\n",
    "                                n_estimators= 300)"
   ]
  },
  {
   "cell_type": "code",
   "execution_count": 162,
   "metadata": {},
   "outputs": [
    {
     "data": {
      "text/plain": [
       "RandomForestClassifier(max_depth=50, max_features=3, min_samples_leaf=3,\n",
       "                       min_samples_split=8, n_estimators=300)"
      ]
     },
     "execution_count": 162,
     "metadata": {},
     "output_type": "execute_result"
    }
   ],
   "source": [
    "bestRF.fit(X_train_sm, y_train_sm)"
   ]
  },
  {
   "cell_type": "code",
   "execution_count": 163,
   "metadata": {},
   "outputs": [],
   "source": [
    "predicted_test = bestRF.predict(X_test_sm)"
   ]
  },
  {
   "cell_type": "code",
   "execution_count": 164,
   "metadata": {},
   "outputs": [
    {
     "name": "stdout",
     "output_type": "stream",
     "text": [
      "Accuracy Score: 0.9384981311586816\n",
      "F1 Score: 0.9401652892561984\n"
     ]
    },
    {
     "data": {
      "image/png": "[encoded data removed]",
      "text/plain": [
       "<Figure size 864x576 with 2 Axes>"
      ]
     },
     "metadata": {
      "needs_background": "light"
     },
     "output_type": "display_data"
    }
   ],
   "source": [
    "print(f'Accuracy Score: {accuracy_score(y_test_sm,predicted_test)}')\n",
    "print('F1 Score: {}'.format(f1_score(y_test_sm, predicted_test)))\n",
    "conf_mat(y_test_sm, predicted_test)"
   ]
  },
  {
   "cell_type": "code",
   "execution_count": 160,
   "metadata": {},
   "outputs": [
    {
     "name": "stdout",
     "output_type": "stream",
     "text": [
      "Random Forest Model will save: $1417256.21\n"
     ]
    }
   ],
   "source": [
    "#Random Forest costs saved\n",
    "# (number of true positive * c) - (false positive + true positive)* i  - (c * number false negatives)\n",
    "print(f'Random Forest Model will save: ${round((Pos * .4815 * c - Pos * i - c * Neg*.0231)/.7*n, 2)}')"
   ]
  },
  {
   "cell_type": "code",
   "execution_count": 104,
   "metadata": {},
   "outputs": [
    {
     "data": {
      "text/html": [
       "<div>\n",
       "<style scoped>\n",
       "    .dataframe tbody tr th:only-of-type {\n",
       "        vertical-align: middle;\n",
       "    }\n",
       "\n",
       "    .dataframe tbody tr th {\n",
       "        vertical-align: top;\n",
       "    }\n",
       "\n",
       "    .dataframe thead th {\n",
       "        text-align: right;\n",
       "    }\n",
       "</style>\n",
       "<table border=\"1\" class=\"dataframe\">\n",
       "  <thead>\n",
       "    <tr style=\"text-align: right;\">\n",
       "      <th></th>\n",
       "      <th>feature</th>\n",
       "      <th>coef</th>\n",
       "    </tr>\n",
       "  </thead>\n",
       "  <tbody>\n",
       "    <tr>\n",
       "      <th>14</th>\n",
       "      <td>diag_grp</td>\n",
       "      <td>0.134182</td>\n",
       "    </tr>\n",
       "    <tr>\n",
       "      <th>13</th>\n",
       "      <td>claimdiag</td>\n",
       "      <td>0.121755</td>\n",
       "    </tr>\n",
       "    <tr>\n",
       "      <th>22</th>\n",
       "      <td>outpatient</td>\n",
       "      <td>0.071844</td>\n",
       "    </tr>\n",
       "    <tr>\n",
       "      <th>1</th>\n",
       "      <td>Race1</td>\n",
       "      <td>0.059067</td>\n",
       "    </tr>\n",
       "    <tr>\n",
       "      <th>17</th>\n",
       "      <td>totalamount_charged</td>\n",
       "      <td>0.054182</td>\n",
       "    </tr>\n",
       "    <tr>\n",
       "      <th>12</th>\n",
       "      <td>claim_count</td>\n",
       "      <td>0.051395</td>\n",
       "    </tr>\n",
       "    <tr>\n",
       "      <th>18</th>\n",
       "      <td>revenue_day</td>\n",
       "      <td>0.051227</td>\n",
       "    </tr>\n",
       "    <tr>\n",
       "      <th>5</th>\n",
       "      <td>Male</td>\n",
       "      <td>0.050030</td>\n",
       "    </tr>\n",
       "    <tr>\n",
       "      <th>6</th>\n",
       "      <td>Female</td>\n",
       "      <td>0.049204</td>\n",
       "    </tr>\n",
       "    <tr>\n",
       "      <th>0</th>\n",
       "      <td>patient_count</td>\n",
       "      <td>0.043530</td>\n",
       "    </tr>\n",
       "    <tr>\n",
       "      <th>4</th>\n",
       "      <td>Race5</td>\n",
       "      <td>0.040341</td>\n",
       "    </tr>\n",
       "    <tr>\n",
       "      <th>3</th>\n",
       "      <td>Race3</td>\n",
       "      <td>0.038905</td>\n",
       "    </tr>\n",
       "    <tr>\n",
       "      <th>19</th>\n",
       "      <td>annual_amount</td>\n",
       "      <td>0.035374</td>\n",
       "    </tr>\n",
       "    <tr>\n",
       "      <th>20</th>\n",
       "      <td>coverage</td>\n",
       "      <td>0.034153</td>\n",
       "    </tr>\n",
       "    <tr>\n",
       "      <th>11</th>\n",
       "      <td>chronic_mean</td>\n",
       "      <td>0.028374</td>\n",
       "    </tr>\n",
       "  </tbody>\n",
       "</table>\n",
       "</div>"
      ],
      "text/plain": [
       "                feature      coef\n",
       "14             diag_grp  0.134182\n",
       "13            claimdiag  0.121755\n",
       "22           outpatient  0.071844\n",
       "1                 Race1  0.059067\n",
       "17  totalamount_charged  0.054182\n",
       "12          claim_count  0.051395\n",
       "18          revenue_day  0.051227\n",
       "5                  Male  0.050030\n",
       "6                Female  0.049204\n",
       "0         patient_count  0.043530\n",
       "4                 Race5  0.040341\n",
       "3                 Race3  0.038905\n",
       "19        annual_amount  0.035374\n",
       "20             coverage  0.034153\n",
       "11         chronic_mean  0.028374"
      ]
     },
     "execution_count": 104,
     "metadata": {},
     "output_type": "execute_result"
    }
   ],
   "source": [
    "RF_top15_features = pd.DataFrame(zip(x.columns, list(bestRF.feature_importances_)), columns=['feature', 'coef'])\\\n",
    "            .sort_values('coef', ascending=False).head(15)\n",
    "RF_top15_features"
   ]
  },
  {
   "cell_type": "code",
   "execution_count": 68,
   "metadata": {},
   "outputs": [
    {
     "data": {
      "text/plain": [
       "Text(0, 0.5, '')"
      ]
     },
     "execution_count": 68,
     "metadata": {},
     "output_type": "execute_result"
    },
    {
     "data": {
      "image/png": "[encoded data removed]",
      "text/plain": [
       "<Figure size 864x576 with 1 Axes>"
      ]
     },
     "metadata": {
      "needs_background": "light"
     },
     "output_type": "display_data"
    }
   ],
   "source": [
    "plt.rcParams['figure.figsize'] = (12,8)\n",
    "ax = sns.barplot(x=\"coef\", y=\"feature\", data=RF_top15_features,palette=\"flare\" )\n",
    "ax.set_title('Important feature by Random Forest Model')\n",
    "ax.set_xlabel('Features Importance')\n",
    "ax.set_ylabel('')"
   ]
  },
  {
   "cell_type": "markdown",
   "metadata": {},
   "source": [
    "# Ensemble"
   ]
  },
  {
   "cell_type": "code",
   "execution_count": 170,
   "metadata": {},
   "outputs": [
    {
     "name": "stdout",
     "output_type": "stream",
     "text": [
      "Accuracy Score: 0.9595650696568128\n",
      "F1 Score: 0.9601873536299765\n"
     ]
    },
    {
     "data": {
      "image/png": "[encoded data removed]",
      "text/plain": [
       "<Figure size 864x576 with 2 Axes>"
      ]
     },
     "metadata": {
      "needs_background": "light"
     },
     "output_type": "display_data"
    }
   ],
   "source": [
    "from sklearn.ensemble import VotingClassifier\n",
    "\n",
    "ensemble = VotingClassifier(estimators=[('GBC', gbc2), ('XGB', xgb2),('RF',bestRF)], voting='hard')\n",
    "ensemble.fit(X_train_sm, y_train_sm)\n",
    "y_pred = ensemble.predict(X_test_sm)\n",
    "\n",
    "print(f'Accuracy Score: {accuracy_score(y_test_sm, y_pred)}')\n",
    "print('F1 Score: {}'.format(f1_score(y_test_sm, y_pred)))\n",
    "conf_mat(y_test_sm, y_pred)"
   ]
  },
  {
   "cell_type": "code",
   "execution_count": 177,
   "metadata": {},
   "outputs": [
    {
     "name": "stdout",
     "output_type": "stream",
     "text": [
      "Ensemble Model will save: $5230694.61\n"
     ]
    }
   ],
   "source": [
    "#Ensemble cost saved\n",
    "Ensemble_cost = Pos * .4876 * c - Pos * i - c * Neg*.0170\n",
    "print(f'Ensemble Model will save: ${round(Ensemble_cost / .3 * n, 2)}')"
   ]
  },
  {
   "cell_type": "code",
   "execution_count": 178,
   "metadata": {},
   "outputs": [
    {
     "data": {
      "text/plain": [
       "435891.2175"
      ]
     },
     "execution_count": 178,
     "metadata": {},
     "output_type": "execute_result"
    }
   ],
   "source": [
    "5230694.61/12"
   ]
  }
 ],
 "metadata": {
  "kernelspec": {
   "display_name": "Python 3",
   "language": "python",
   "name": "python3"
  },
  "language_info": {
   "codemirror_mode": {
    "name": "ipython",
    "version": 3
   },
   "file_extension": ".py",
   "mimetype": "text/x-python",
   "name": "python",
   "nbconvert_exporter": "python",
   "pygments_lexer": "ipython3",
   "version": "3.8.5"
  }
 },
 "nbformat": 4,
 "nbformat_minor": 4
}
