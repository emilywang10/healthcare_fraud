{
 "cells": [
  {
   "cell_type": "code",
   "execution_count": 40,
   "metadata": {},
   "outputs": [],
   "source": [
    "import pandas as pd\n",
    "import numpy as np\n",
    "import seaborn as sns\n",
    "from matplotlib import pyplot as plt\n",
    "%matplotlib inline\n",
    "pd.set_option('display.max_columns', None)"
   ]
  },
  {
   "cell_type": "code",
   "execution_count": 41,
   "metadata": {},
   "outputs": [],
   "source": [
    "from sklearn.metrics import recall_score, precision_score,confusion_matrix,\\\n",
    "        roc_auc_score, f1_score, plot_roc_curve, roc_curve, RocCurveDisplay, auc, precision_recall_curve,\\\n",
    "        fbeta_score, accuracy_score\n",
    "from sklearn.model_selection import cross_validate, StratifiedKFold, train_test_split, cross_val_predict, GridSearchCV\n",
    "from sklearn.pipeline import Pipeline\n",
    "from sklearn.svm import LinearSVC\n",
    "from sklearn.neighbors import KNeighborsClassifier\n",
    "from sklearn.preprocessing import StandardScaler\n",
    "from sklearn.linear_model import LogisticRegressionCV, LogisticRegression, SGDClassifier\n",
    "from sklearn.ensemble import BaggingClassifier, ExtraTreesClassifier, RandomForestClassifier,GradientBoostingClassifier\n",
    "from sklearn.discriminant_analysis import LinearDiscriminantAnalysis\n",
    "from sklearn.naive_bayes import GaussianNB\n",
    "from xgboost import XGBClassifier\n",
    "from sklearn import model_selection\n",
    "from sklearn.metrics import classification_report\n",
    "from imblearn.over_sampling import SMOTE #Synthetic Minority Oversampling Technique"
   ]
  },
  {
   "cell_type": "code",
   "execution_count": 50,
   "metadata": {},
   "outputs": [
    {
     "data": {
      "text/html": [
       "<div>\n",
       "<style scoped>\n",
       "    .dataframe tbody tr th:only-of-type {\n",
       "        vertical-align: middle;\n",
       "    }\n",
       "\n",
       "    .dataframe tbody tr th {\n",
       "        vertical-align: top;\n",
       "    }\n",
       "\n",
       "    .dataframe thead th {\n",
       "        text-align: right;\n",
       "    }\n",
       "</style>\n",
       "<table border=\"1\" class=\"dataframe\">\n",
       "  <thead>\n",
       "    <tr style=\"text-align: right;\">\n",
       "      <th></th>\n",
       "      <th>Unnamed: 0</th>\n",
       "      <th>Provider</th>\n",
       "      <th>PotentialFraud</th>\n",
       "      <th>patient_count</th>\n",
       "      <th>Race1</th>\n",
       "      <th>Race2</th>\n",
       "      <th>Race3</th>\n",
       "      <th>Race5</th>\n",
       "      <th>Male</th>\n",
       "      <th>Female</th>\n",
       "      <th>mean_age</th>\n",
       "      <th>state_count</th>\n",
       "      <th>phy_count</th>\n",
       "      <th>no_phy</th>\n",
       "      <th>chronic_mean</th>\n",
       "      <th>claim_count</th>\n",
       "      <th>claimdiag</th>\n",
       "      <th>diag_grp</th>\n",
       "      <th>patient_duplicate_count</th>\n",
       "      <th>duplicate_claims</th>\n",
       "      <th>totalamount_charged</th>\n",
       "      <th>revenue_day</th>\n",
       "      <th>annual_amount</th>\n",
       "      <th>coverage</th>\n",
       "      <th>inpatient</th>\n",
       "      <th>outpatient</th>\n",
       "    </tr>\n",
       "  </thead>\n",
       "  <tbody>\n",
       "    <tr>\n",
       "      <th>5172</th>\n",
       "      <td>5172</td>\n",
       "      <td>PRV57470</td>\n",
       "      <td>0</td>\n",
       "      <td>11</td>\n",
       "      <td>11.0</td>\n",
       "      <td>0.0</td>\n",
       "      <td>0.0</td>\n",
       "      <td>0.0</td>\n",
       "      <td>5.0</td>\n",
       "      <td>6.0</td>\n",
       "      <td>74.0</td>\n",
       "      <td>1</td>\n",
       "      <td>4</td>\n",
       "      <td>0.0</td>\n",
       "      <td>3.0</td>\n",
       "      <td>12</td>\n",
       "      <td>5.0</td>\n",
       "      <td>0.0</td>\n",
       "      <td>0.0</td>\n",
       "      <td>5.0</td>\n",
       "      <td>134.166667</td>\n",
       "      <td>38.556763</td>\n",
       "      <td>5222.000000</td>\n",
       "      <td>1.000000</td>\n",
       "      <td>0</td>\n",
       "      <td>1</td>\n",
       "    </tr>\n",
       "    <tr>\n",
       "      <th>2777</th>\n",
       "      <td>2777</td>\n",
       "      <td>PRV54457</td>\n",
       "      <td>0</td>\n",
       "      <td>8</td>\n",
       "      <td>8.0</td>\n",
       "      <td>0.0</td>\n",
       "      <td>0.0</td>\n",
       "      <td>0.0</td>\n",
       "      <td>4.0</td>\n",
       "      <td>4.0</td>\n",
       "      <td>68.0</td>\n",
       "      <td>1</td>\n",
       "      <td>1</td>\n",
       "      <td>0.0</td>\n",
       "      <td>4.0</td>\n",
       "      <td>16</td>\n",
       "      <td>3.0</td>\n",
       "      <td>0.0</td>\n",
       "      <td>0.0</td>\n",
       "      <td>7.0</td>\n",
       "      <td>138.750000</td>\n",
       "      <td>44.981884</td>\n",
       "      <td>2428.750000</td>\n",
       "      <td>1.000000</td>\n",
       "      <td>0</td>\n",
       "      <td>1</td>\n",
       "    </tr>\n",
       "    <tr>\n",
       "      <th>1586</th>\n",
       "      <td>1586</td>\n",
       "      <td>PRV52966</td>\n",
       "      <td>0</td>\n",
       "      <td>3</td>\n",
       "      <td>3.0</td>\n",
       "      <td>0.0</td>\n",
       "      <td>0.0</td>\n",
       "      <td>0.0</td>\n",
       "      <td>0.0</td>\n",
       "      <td>3.0</td>\n",
       "      <td>74.0</td>\n",
       "      <td>1</td>\n",
       "      <td>1</td>\n",
       "      <td>0.0</td>\n",
       "      <td>5.0</td>\n",
       "      <td>3</td>\n",
       "      <td>1.0</td>\n",
       "      <td>0.0</td>\n",
       "      <td>0.0</td>\n",
       "      <td>1.0</td>\n",
       "      <td>236.666667</td>\n",
       "      <td>52.222222</td>\n",
       "      <td>14508.666667</td>\n",
       "      <td>1.000000</td>\n",
       "      <td>0</td>\n",
       "      <td>1</td>\n",
       "    </tr>\n",
       "    <tr>\n",
       "      <th>3777</th>\n",
       "      <td>3777</td>\n",
       "      <td>PRV55731</td>\n",
       "      <td>0</td>\n",
       "      <td>52</td>\n",
       "      <td>45.0</td>\n",
       "      <td>0.0</td>\n",
       "      <td>6.0</td>\n",
       "      <td>1.0</td>\n",
       "      <td>25.0</td>\n",
       "      <td>27.0</td>\n",
       "      <td>76.0</td>\n",
       "      <td>3</td>\n",
       "      <td>15</td>\n",
       "      <td>0.0</td>\n",
       "      <td>5.0</td>\n",
       "      <td>135</td>\n",
       "      <td>29.0</td>\n",
       "      <td>0.0</td>\n",
       "      <td>0.0</td>\n",
       "      <td>51.0</td>\n",
       "      <td>241.703704</td>\n",
       "      <td>63.104382</td>\n",
       "      <td>4830.459259</td>\n",
       "      <td>0.987172</td>\n",
       "      <td>0</td>\n",
       "      <td>1</td>\n",
       "    </tr>\n",
       "    <tr>\n",
       "      <th>81</th>\n",
       "      <td>81</td>\n",
       "      <td>PRV51109</td>\n",
       "      <td>0</td>\n",
       "      <td>3</td>\n",
       "      <td>2.0</td>\n",
       "      <td>1.0</td>\n",
       "      <td>0.0</td>\n",
       "      <td>0.0</td>\n",
       "      <td>3.0</td>\n",
       "      <td>0.0</td>\n",
       "      <td>56.0</td>\n",
       "      <td>1</td>\n",
       "      <td>1</td>\n",
       "      <td>0.0</td>\n",
       "      <td>8.0</td>\n",
       "      <td>3</td>\n",
       "      <td>3.0</td>\n",
       "      <td>3.0</td>\n",
       "      <td>0.0</td>\n",
       "      <td>0.0</td>\n",
       "      <td>7068.000000</td>\n",
       "      <td>752.377778</td>\n",
       "      <td>11360.000000</td>\n",
       "      <td>0.829104</td>\n",
       "      <td>1</td>\n",
       "      <td>0</td>\n",
       "    </tr>\n",
       "  </tbody>\n",
       "</table>\n",
       "</div>"
      ],
      "text/plain": [
       "      Unnamed: 0  Provider  PotentialFraud  patient_count  Race1  Race2  \\\n",
       "5172        5172  PRV57470               0             11   11.0    0.0   \n",
       "2777        2777  PRV54457               0              8    8.0    0.0   \n",
       "1586        1586  PRV52966               0              3    3.0    0.0   \n",
       "3777        3777  PRV55731               0             52   45.0    0.0   \n",
       "81            81  PRV51109               0              3    2.0    1.0   \n",
       "\n",
       "      Race3  Race5  Male  Female  mean_age  state_count  phy_count  no_phy  \\\n",
       "5172    0.0    0.0   5.0     6.0      74.0            1          4     0.0   \n",
       "2777    0.0    0.0   4.0     4.0      68.0            1          1     0.0   \n",
       "1586    0.0    0.0   0.0     3.0      74.0            1          1     0.0   \n",
       "3777    6.0    1.0  25.0    27.0      76.0            3         15     0.0   \n",
       "81      0.0    0.0   3.0     0.0      56.0            1          1     0.0   \n",
       "\n",
       "      chronic_mean  claim_count  claimdiag  diag_grp  patient_duplicate_count  \\\n",
       "5172           3.0           12        5.0       0.0                      0.0   \n",
       "2777           4.0           16        3.0       0.0                      0.0   \n",
       "1586           5.0            3        1.0       0.0                      0.0   \n",
       "3777           5.0          135       29.0       0.0                      0.0   \n",
       "81             8.0            3        3.0       3.0                      0.0   \n",
       "\n",
       "      duplicate_claims  totalamount_charged  revenue_day  annual_amount  \\\n",
       "5172               5.0           134.166667    38.556763    5222.000000   \n",
       "2777               7.0           138.750000    44.981884    2428.750000   \n",
       "1586               1.0           236.666667    52.222222   14508.666667   \n",
       "3777              51.0           241.703704    63.104382    4830.459259   \n",
       "81                 0.0          7068.000000   752.377778   11360.000000   \n",
       "\n",
       "      coverage  inpatient  outpatient  \n",
       "5172  1.000000          0           1  \n",
       "2777  1.000000          0           1  \n",
       "1586  1.000000          0           1  \n",
       "3777  0.987172          0           1  \n",
       "81    0.829104          1           0  "
      ]
     },
     "execution_count": 50,
     "metadata": {},
     "output_type": "execute_result"
    }
   ],
   "source": [
    "provider4 = pd.read_csv('provider4.csv')\n",
    "provider4.sample(5)"
   ]
  },
  {
   "cell_type": "code",
   "execution_count": 52,
   "metadata": {},
   "outputs": [],
   "source": [
    "x = provider4.drop(['Unnamed: 0','Provider','PotentialFraud'],axis=1)\n",
    "y = provider4['PotentialFraud']\n",
    "# train-test split\n",
    "X_train, X_test, y_train, y_test = train_test_split(StandardScaler().fit_transform(x), y, test_size=0.3, random_state=100)\n"
   ]
  },
  {
   "cell_type": "markdown",
   "metadata": {},
   "source": [
    "## SMOTE "
   ]
  },
  {
   "cell_type": "code",
   "execution_count": 53,
   "metadata": {},
   "outputs": [],
   "source": [
    "#SMOTE\n",
    "smote = SMOTE()\n",
    "x_smote, y_smote = smote.fit_resample(x, y)"
   ]
  },
  {
   "cell_type": "code",
   "execution_count": 54,
   "metadata": {},
   "outputs": [],
   "source": [
    "X_train_sm, X_test_sm, y_train_sm, y_test_sm = train_test_split(StandardScaler().fit_transform(x_smote), y_smote, \n",
    "                                                                test_size=0.3, random_state=100)"
   ]
  },
  {
   "cell_type": "code",
   "execution_count": 99,
   "metadata": {},
   "outputs": [],
   "source": [
    "def evaluate_model_stratified(X_train, X_test, y_train, y_test):\n",
    "    classifiers = [LogisticRegression(penalty='l1', solver='liblinear'),\n",
    "                   LinearSVC(),GaussianNB(),LinearDiscriminantAnalysis(),RandomForestClassifier(),\n",
    "                   GradientBoostingClassifier(),XGBClassifier()]\n",
    "    \n",
    "    for classifier in classifiers:\n",
    "        kfold = StratifiedKFold(n_splits = 5, shuffle = True, random_state= 100)\n",
    "        model = Pipeline(steps = [('classifier', classifier)])\n",
    "        str_cv= GridSearchCV(estimator= model, scoring='roc_auc', cv=kfold, param_grid = {})\n",
    "        str_cv.fit(X_train, y_train)\n",
    "    \n",
    "        \n",
    "        \n",
    "        predicted_train = str_cv.predict(X_train)\n",
    "        predicted_test = str_cv.predict(X_test)\n",
    "    \n",
    "    \n",
    "        print(type(classifier).__name__)\n",
    "        print('Accuracy Score for test data: {:.3f}'.format(accuracy_score(y_test, predicted_test)))\n",
    "        print('Precision Score for test data {:.3f}'.format(precision_score(y_test, predicted_test)))\n",
    "        print('Recall Score for test data {:.3f}'.format(recall_score(y_test, predicted_test)))\n",
    "        print('f1 score for test data{:.3f}'.format(f1_score(y_test, predicted_test)))\n",
    "        print('fbeta0.2_score for test data{:.3f}'.format(fbeta_score(y_test, predicted_test, beta = 0.5)))\n",
    "        print('fbeta2_score for test data{:.3f}'.format(fbeta_score(y_test, predicted_test, beta = 2)))\n",
    "        print('ROC-AUC Score for test data: {:.3f}'.format(roc_auc_score(y_test, predicted_test)))\n",
    "        print('Confusion matrix for train data')\n",
    "        print(confusion_matrix(y_train, predicted_train))\n",
    "        print('Confusion matrix for test data')\n",
    "        print(confusion_matrix(y_test, predicted_test))\n",
    "        print('-' *50)"
   ]
  },
  {
   "cell_type": "code",
   "execution_count": 10,
   "metadata": {},
   "outputs": [
    {
     "name": "stdout",
     "output_type": "stream",
     "text": [
      "LogisticRegression\n",
      "Accuracy Score for train data: 0.891\n",
      "Accuracy Score for test data: 0.893\n",
      "Precision Score for train data 0.883\n",
      "Precision Score for test data 0.890\n",
      "Recall Score for train data 0.902\n",
      "Recall Score for test data 0.898\n",
      "f1 score for train data0.892\n",
      "f1 score for test data0.894\n",
      "fbeta0.2_score for train data0.886\n",
      "fbeta0.2_score for test data0.892\n",
      "fbeta2_score for train data0.898\n",
      "fbeta2_score for test data0.897\n",
      "ROC-AUC Score for train data: 0.891\n",
      "ROC-AUC Score for test data: 0.893\n",
      "Confusion matrix for train data\n",
      "[[3036  410]\n",
      " [ 336 3083]]\n",
      "Confusion matrix for test data\n",
      "[[1293  165]\n",
      " [ 151 1334]]\n",
      "--------------------------------------------------\n"
     ]
    },
    {
     "name": "stderr",
     "output_type": "stream",
     "text": [
      "/Applications/anaconda3/lib/python3.7/site-packages/sklearn/svm/_base.py:947: ConvergenceWarning: Liblinear failed to converge, increase the number of iterations.\n",
      "  \"the number of iterations.\", ConvergenceWarning)\n",
      "/Applications/anaconda3/lib/python3.7/site-packages/sklearn/svm/_base.py:947: ConvergenceWarning: Liblinear failed to converge, increase the number of iterations.\n",
      "  \"the number of iterations.\", ConvergenceWarning)\n",
      "/Applications/anaconda3/lib/python3.7/site-packages/sklearn/svm/_base.py:947: ConvergenceWarning: Liblinear failed to converge, increase the number of iterations.\n",
      "  \"the number of iterations.\", ConvergenceWarning)\n",
      "/Applications/anaconda3/lib/python3.7/site-packages/sklearn/svm/_base.py:947: ConvergenceWarning: Liblinear failed to converge, increase the number of iterations.\n",
      "  \"the number of iterations.\", ConvergenceWarning)\n",
      "/Applications/anaconda3/lib/python3.7/site-packages/sklearn/svm/_base.py:947: ConvergenceWarning: Liblinear failed to converge, increase the number of iterations.\n",
      "  \"the number of iterations.\", ConvergenceWarning)\n",
      "/Applications/anaconda3/lib/python3.7/site-packages/sklearn/svm/_base.py:947: ConvergenceWarning: Liblinear failed to converge, increase the number of iterations.\n",
      "  \"the number of iterations.\", ConvergenceWarning)\n"
     ]
    },
    {
     "name": "stdout",
     "output_type": "stream",
     "text": [
      "LinearSVC\n",
      "Accuracy Score for train data: 0.893\n",
      "Accuracy Score for test data: 0.894\n",
      "Precision Score for train data 0.878\n",
      "Precision Score for test data 0.886\n",
      "Recall Score for train data 0.911\n",
      "Recall Score for test data 0.906\n",
      "f1 score for train data0.894\n",
      "f1 score for test data0.896\n",
      "fbeta0.2_score for train data0.885\n",
      "fbeta0.2_score for test data0.890\n",
      "fbeta2_score for train data0.904\n",
      "fbeta2_score for test data0.902\n",
      "ROC-AUC Score for train data: 0.893\n",
      "ROC-AUC Score for test data: 0.894\n",
      "Confusion matrix for train data\n",
      "[[3015  431]\n",
      " [ 306 3113]]\n",
      "Confusion matrix for test data\n",
      "[[1285  173]\n",
      " [ 140 1345]]\n",
      "--------------------------------------------------\n",
      "GaussianNB\n",
      "Accuracy Score for train data: 0.730\n",
      "Accuracy Score for test data: 0.742\n",
      "Precision Score for train data 0.889\n",
      "Precision Score for test data 0.902\n",
      "Recall Score for train data 0.523\n",
      "Recall Score for test data 0.547\n",
      "f1 score for train data0.658\n",
      "f1 score for test data0.681\n",
      "fbeta0.2_score for train data0.779\n",
      "fbeta0.2_score for test data0.799\n",
      "fbeta2_score for train data0.570\n",
      "fbeta2_score for test data0.594\n",
      "ROC-AUC Score for train data: 0.729\n",
      "ROC-AUC Score for test data: 0.744\n",
      "Confusion matrix for train data\n",
      "[[3222  224]\n",
      " [1632 1787]]\n",
      "Confusion matrix for test data\n",
      "[[1370   88]\n",
      " [ 672  813]]\n",
      "--------------------------------------------------\n",
      "LinearDiscriminantAnalysis\n",
      "Accuracy Score for train data: 0.926\n",
      "Accuracy Score for test data: 0.933\n",
      "Precision Score for train data 0.952\n",
      "Precision Score for test data 0.959\n",
      "Recall Score for train data 0.896\n",
      "Recall Score for test data 0.906\n",
      "f1 score for train data0.923\n",
      "f1 score for test data0.932\n",
      "fbeta0.2_score for train data0.940\n",
      "fbeta0.2_score for test data0.948\n",
      "fbeta2_score for train data0.907\n",
      "fbeta2_score for test data0.917\n",
      "ROC-AUC Score for train data: 0.926\n",
      "ROC-AUC Score for test data: 0.934\n",
      "Confusion matrix for train data\n",
      "[[3292  154]\n",
      " [ 354 3065]]\n",
      "Confusion matrix for test data\n",
      "[[1401   57]\n",
      " [ 139 1346]]\n",
      "--------------------------------------------------\n",
      "RandomForestClassifier\n",
      "Accuracy Score for train data: 1.000\n",
      "Accuracy Score for test data: 0.946\n",
      "Precision Score for train data 1.000\n",
      "Precision Score for test data 0.929\n",
      "Recall Score for train data 1.000\n",
      "Recall Score for test data 0.966\n",
      "f1 score for train data1.000\n",
      "f1 score for test data0.947\n",
      "fbeta0.2_score for train data1.000\n",
      "fbeta0.2_score for test data0.936\n",
      "fbeta2_score for train data1.000\n",
      "fbeta2_score for test data0.958\n",
      "ROC-AUC Score for train data: 1.000\n",
      "ROC-AUC Score for test data: 0.945\n",
      "Confusion matrix for train data\n",
      "[[3446    0]\n",
      " [   0 3419]]\n",
      "Confusion matrix for test data\n",
      "[[1349  109]\n",
      " [  51 1434]]\n",
      "--------------------------------------------------\n",
      "GradientBoostingClassifier\n",
      "Accuracy Score for train data: 0.958\n",
      "Accuracy Score for test data: 0.943\n",
      "Precision Score for train data 0.953\n",
      "Precision Score for test data 0.930\n",
      "Recall Score for train data 0.963\n",
      "Recall Score for test data 0.958\n",
      "f1 score for train data0.958\n",
      "f1 score for test data0.944\n",
      "fbeta0.2_score for train data0.955\n",
      "fbeta0.2_score for test data0.936\n",
      "fbeta2_score for train data0.961\n",
      "fbeta2_score for test data0.952\n",
      "ROC-AUC Score for train data: 0.958\n",
      "ROC-AUC Score for test data: 0.942\n",
      "Confusion matrix for train data\n",
      "[[3285  161]\n",
      " [ 126 3293]]\n",
      "Confusion matrix for test data\n",
      "[[1351  107]\n",
      " [  62 1423]]\n",
      "--------------------------------------------------\n",
      "[15:15:55] WARNING: /Users/travis/build/dmlc/xgboost/src/learner.cc:1095: Starting in XGBoost 1.3.0, the default evaluation metric used with the objective 'binary:logistic' was changed from 'error' to 'logloss'. Explicitly set eval_metric if you'd like to restore the old behavior.\n"
     ]
    },
    {
     "name": "stderr",
     "output_type": "stream",
     "text": [
      "/Applications/anaconda3/lib/python3.7/site-packages/xgboost/sklearn.py:1146: UserWarning: The use of label encoder in XGBClassifier is deprecated and will be removed in a future release. To remove this warning, do the following: 1) Pass option use_label_encoder=False when constructing XGBClassifier object; and 2) Encode your labels (y) as integers starting with 0, i.e. 0, 1, 2, ..., [num_class - 1].\n",
      "  warnings.warn(label_encoder_deprecation_msg, UserWarning)\n",
      "/Applications/anaconda3/lib/python3.7/site-packages/xgboost/sklearn.py:1146: UserWarning: The use of label encoder in XGBClassifier is deprecated and will be removed in a future release. To remove this warning, do the following: 1) Pass option use_label_encoder=False when constructing XGBClassifier object; and 2) Encode your labels (y) as integers starting with 0, i.e. 0, 1, 2, ..., [num_class - 1].\n",
      "  warnings.warn(label_encoder_deprecation_msg, UserWarning)\n"
     ]
    },
    {
     "name": "stdout",
     "output_type": "stream",
     "text": [
      "[15:15:56] WARNING: /Users/travis/build/dmlc/xgboost/src/learner.cc:1095: Starting in XGBoost 1.3.0, the default evaluation metric used with the objective 'binary:logistic' was changed from 'error' to 'logloss'. Explicitly set eval_metric if you'd like to restore the old behavior.\n"
     ]
    },
    {
     "name": "stderr",
     "output_type": "stream",
     "text": [
      "/Applications/anaconda3/lib/python3.7/site-packages/xgboost/sklearn.py:1146: UserWarning: The use of label encoder in XGBClassifier is deprecated and will be removed in a future release. To remove this warning, do the following: 1) Pass option use_label_encoder=False when constructing XGBClassifier object; and 2) Encode your labels (y) as integers starting with 0, i.e. 0, 1, 2, ..., [num_class - 1].\n",
      "  warnings.warn(label_encoder_deprecation_msg, UserWarning)\n"
     ]
    },
    {
     "name": "stdout",
     "output_type": "stream",
     "text": [
      "[15:15:57] WARNING: /Users/travis/build/dmlc/xgboost/src/learner.cc:1095: Starting in XGBoost 1.3.0, the default evaluation metric used with the objective 'binary:logistic' was changed from 'error' to 'logloss'. Explicitly set eval_metric if you'd like to restore the old behavior.\n"
     ]
    },
    {
     "name": "stderr",
     "output_type": "stream",
     "text": [
      "/Applications/anaconda3/lib/python3.7/site-packages/xgboost/sklearn.py:1146: UserWarning: The use of label encoder in XGBClassifier is deprecated and will be removed in a future release. To remove this warning, do the following: 1) Pass option use_label_encoder=False when constructing XGBClassifier object; and 2) Encode your labels (y) as integers starting with 0, i.e. 0, 1, 2, ..., [num_class - 1].\n",
      "  warnings.warn(label_encoder_deprecation_msg, UserWarning)\n"
     ]
    },
    {
     "name": "stdout",
     "output_type": "stream",
     "text": [
      "[15:15:58] WARNING: /Users/travis/build/dmlc/xgboost/src/learner.cc:1095: Starting in XGBoost 1.3.0, the default evaluation metric used with the objective 'binary:logistic' was changed from 'error' to 'logloss'. Explicitly set eval_metric if you'd like to restore the old behavior.\n"
     ]
    },
    {
     "name": "stderr",
     "output_type": "stream",
     "text": [
      "/Applications/anaconda3/lib/python3.7/site-packages/xgboost/sklearn.py:1146: UserWarning: The use of label encoder in XGBClassifier is deprecated and will be removed in a future release. To remove this warning, do the following: 1) Pass option use_label_encoder=False when constructing XGBClassifier object; and 2) Encode your labels (y) as integers starting with 0, i.e. 0, 1, 2, ..., [num_class - 1].\n",
      "  warnings.warn(label_encoder_deprecation_msg, UserWarning)\n"
     ]
    },
    {
     "name": "stdout",
     "output_type": "stream",
     "text": [
      "[15:15:59] WARNING: /Users/travis/build/dmlc/xgboost/src/learner.cc:1095: Starting in XGBoost 1.3.0, the default evaluation metric used with the objective 'binary:logistic' was changed from 'error' to 'logloss'. Explicitly set eval_metric if you'd like to restore the old behavior.\n"
     ]
    },
    {
     "name": "stderr",
     "output_type": "stream",
     "text": [
      "/Applications/anaconda3/lib/python3.7/site-packages/xgboost/sklearn.py:1146: UserWarning: The use of label encoder in XGBClassifier is deprecated and will be removed in a future release. To remove this warning, do the following: 1) Pass option use_label_encoder=False when constructing XGBClassifier object; and 2) Encode your labels (y) as integers starting with 0, i.e. 0, 1, 2, ..., [num_class - 1].\n",
      "  warnings.warn(label_encoder_deprecation_msg, UserWarning)\n"
     ]
    },
    {
     "name": "stdout",
     "output_type": "stream",
     "text": [
      "[15:16:00] WARNING: /Users/travis/build/dmlc/xgboost/src/learner.cc:1095: Starting in XGBoost 1.3.0, the default evaluation metric used with the objective 'binary:logistic' was changed from 'error' to 'logloss'. Explicitly set eval_metric if you'd like to restore the old behavior.\n",
      "XGBClassifier\n",
      "Accuracy Score for train data: 1.000\n",
      "Accuracy Score for test data: 0.961\n",
      "Precision Score for train data 1.000\n",
      "Precision Score for test data 0.957\n",
      "Recall Score for train data 1.000\n",
      "Recall Score for test data 0.965\n",
      "f1 score for train data1.000\n",
      "f1 score for test data0.961\n",
      "fbeta0.2_score for train data1.000\n",
      "fbeta0.2_score for test data0.959\n",
      "fbeta2_score for train data1.000\n",
      "fbeta2_score for test data0.963\n",
      "ROC-AUC Score for train data: 1.000\n",
      "ROC-AUC Score for test data: 0.961\n",
      "Confusion matrix for train data\n",
      "[[3446    0]\n",
      " [   0 3419]]\n",
      "Confusion matrix for test data\n",
      "[[1394   64]\n",
      " [  52 1433]]\n",
      "--------------------------------------------------\n"
     ]
    }
   ],
   "source": [
    "evaluate_model_stratified(X_train_sm, X_test_sm, y_train_sm, y_test_sm)"
   ]
  },
  {
   "cell_type": "code",
   "execution_count": 11,
   "metadata": {},
   "outputs": [],
   "source": [
    "classifiers = [LogisticRegression(penalty='l1', solver='liblinear'),\n",
    "                   GaussianNB(),LinearDiscriminantAnalysis(),RandomForestClassifier(),\n",
    "                   GradientBoostingClassifier(),XGBClassifier()]"
   ]
  },
  {
   "cell_type": "code",
   "execution_count": 12,
   "metadata": {},
   "outputs": [
    {
     "name": "stderr",
     "output_type": "stream",
     "text": [
      "/Applications/anaconda3/lib/python3.7/site-packages/xgboost/sklearn.py:1146: UserWarning: The use of label encoder in XGBClassifier is deprecated and will be removed in a future release. To remove this warning, do the following: 1) Pass option use_label_encoder=False when constructing XGBClassifier object; and 2) Encode your labels (y) as integers starting with 0, i.e. 0, 1, 2, ..., [num_class - 1].\n",
      "  warnings.warn(label_encoder_deprecation_msg, UserWarning)\n"
     ]
    },
    {
     "name": "stdout",
     "output_type": "stream",
     "text": [
      "[15:16:06] WARNING: /Users/travis/build/dmlc/xgboost/src/learner.cc:1095: Starting in XGBoost 1.3.0, the default evaluation metric used with the objective 'binary:logistic' was changed from 'error' to 'logloss'. Explicitly set eval_metric if you'd like to restore the old behavior.\n"
     ]
    }
   ],
   "source": [
    "# Define a result table as a DataFrame\n",
    "result_table = pd.DataFrame(columns=['classifiers', 'fpr','tpr','auc'])\n",
    "\n",
    "# Train the models and record the results\n",
    "for cls in classifiers:\n",
    "    model = cls.fit(X_train_sm, y_train_sm)\n",
    "    yproba = model.predict_proba(X_test_sm)[::,1]\n",
    "    \n",
    "    fpr, tpr, _ = roc_curve(y_test_sm,  yproba)\n",
    "    auc = roc_auc_score(y_test_sm, yproba)\n",
    "    \n",
    "    result_table = result_table.append({'classifiers':cls.__class__.__name__,\n",
    "                                        'fpr':fpr, \n",
    "                                        'tpr':tpr, \n",
    "                                        'auc':auc}, ignore_index=True)\n",
    "\n",
    "# Set name of the classifiers as index labels\n",
    "result_table.set_index('classifiers', inplace=True)"
   ]
  },
  {
   "cell_type": "code",
   "execution_count": 18,
   "metadata": {},
   "outputs": [
    {
     "data": {
      "image/png": "[encoded data removed]",
      "text/plain": [
       "<Figure size 1440x864 with 1 Axes>"
      ]
     },
     "metadata": {
      "needs_background": "light"
     },
     "output_type": "display_data"
    }
   ],
   "source": [
    "import matplotlib.pyplot as plt\n",
    "import seaborn as sns\n",
    "plt.figure(figsize=(20, 12))\n",
    "#sns.set(font_scale=2.5)\n",
    "g = sns.boxplot(x=\"model\", y=\"values\", hue=\"metrics\", data=results_long_nofit, palette=\"magma\")\n",
    "plt.legend(bbox_to_anchor=(1.05, 1), loc=2, borderaxespad=0.)\n",
    "plt.title('Comparison of Model by Classification Metric')\n",
    "plt.savefig('./benchmark_models_performance.png',dpi=300)"
   ]
  },
  {
   "cell_type": "code",
   "execution_count": 25,
   "metadata": {},
   "outputs": [],
   "source": [
    "bootstraps = []\n",
    "for model in list(set(final.model.values)):\n",
    "    model_df = final.loc[final.model == model]\n",
    "    bootstrap = model_df.sample(n=30, replace=True)\n",
    "    bootstraps.append(bootstrap)\n",
    "        \n",
    "bootstrap_df = pd.concat(bootstraps, ignore_index=True)\n",
    "results_long = pd.melt(bootstrap_df,id_vars=['model'],var_name='metrics', value_name='values')\n",
    "time_metrics = ['fit_time','score_time'] # fit time metrics\n",
    "## PERFORMANCE METRICS\n",
    "results_long_nofit = results_long.loc[~results_long['metrics'].isin(time_metrics)] # get df without fit data\n",
    "results_long_nofit = results_long_nofit.sort_values(by='values')\n",
    "## TIME METRICS\n",
    "results_long_fit = results_long.loc[results_long['metrics'].isin(time_metrics)] # df with fit data\n",
    "results_long_fit = results_long_fit.sort_values(by='values')"
   ]
  },
  {
   "cell_type": "markdown",
   "metadata": {},
   "source": [
    "## Hyperparameter tuning and Grid search for gradient classifier"
   ]
  },
  {
   "cell_type": "code",
   "execution_count": 31,
   "metadata": {},
   "outputs": [
    {
     "data": {
      "text/plain": [
       "GridSearchCV(cv=5, error_score=nan,\n",
       "             estimator=GradientBoostingClassifier(ccp_alpha=0.0,\n",
       "                                                  criterion='friedman_mse',\n",
       "                                                  init=None, learning_rate=0.1,\n",
       "                                                  loss='deviance', max_depth=3,\n",
       "                                                  max_features=None,\n",
       "                                                  max_leaf_nodes=None,\n",
       "                                                  min_impurity_decrease=0.0,\n",
       "                                                  min_impurity_split=None,\n",
       "                                                  min_samples_leaf=1,\n",
       "                                                  min_samples_split=2,\n",
       "                                                  min_weight_fraction_leaf=0.0,\n",
       "                                                  n_estimators=100,\n",
       "                                                  n_iter_no_c...=None,\n",
       "                                                  presort='deprecated',\n",
       "                                                  random_state=None,\n",
       "                                                  subsample=1.0, tol=0.0001,\n",
       "                                                  validation_fraction=0.1,\n",
       "                                                  verbose=0, warm_start=False),\n",
       "             iid='deprecated', n_jobs=None,\n",
       "             param_grid={'learning_rate': [0.01, 0.1, 1],\n",
       "                         'max_depth': [1, 3, 5], 'n_estimators': [50, 100, 200],\n",
       "                         'subsample': [0.3, 0.9, 1.0]},\n",
       "             pre_dispatch='2*n_jobs', refit=True, return_train_score=False,\n",
       "             scoring=None, verbose=0)"
      ]
     },
     "execution_count": 31,
     "metadata": {},
     "output_type": "execute_result"
    }
   ],
   "source": [
    "#parameters for gradient classifier\n",
    "gbc = GradientBoostingClassifier()\n",
    "parameters = {\n",
    "    \"n_estimators\":[50,100,200],\n",
    "    \"max_depth\":[1,3,5],\n",
    "    \"learning_rate\":[0.01,0.1,1],\n",
    "    \"subsample\": [0.3, 0.9, 1.0]\n",
    "}\n",
    "\n",
    "clf= GridSearchCV(gbc,parameters,cv=5)\n",
    "clf.fit(X_train_sm, y_train_sm)"
   ]
  },
  {
   "cell_type": "code",
   "execution_count": 94,
   "metadata": {},
   "outputs": [],
   "source": [
    "gbc2 = GradientBoostingClassifier(learning_rate= 0.1, max_depth= 5, n_estimators= 200, subsample= 0.9)"
   ]
  },
  {
   "cell_type": "code",
   "execution_count": 32,
   "metadata": {},
   "outputs": [
    {
     "data": {
      "text/plain": [
       "{'learning_rate': 0.1, 'max_depth': 5, 'n_estimators': 200, 'subsample': 0.9}"
      ]
     },
     "execution_count": 32,
     "metadata": {},
     "output_type": "execute_result"
    }
   ],
   "source": [
    "clf.best_params_"
   ]
  },
  {
   "cell_type": "code",
   "execution_count": 95,
   "metadata": {},
   "outputs": [],
   "source": [
    "clf_best = gbc.fit(X_train_sm, y_train_sm)"
   ]
  },
  {
   "cell_type": "code",
   "execution_count": 96,
   "metadata": {},
   "outputs": [
    {
     "data": {
      "text/html": [
       "<div>\n",
       "<style scoped>\n",
       "    .dataframe tbody tr th:only-of-type {\n",
       "        vertical-align: middle;\n",
       "    }\n",
       "\n",
       "    .dataframe tbody tr th {\n",
       "        vertical-align: top;\n",
       "    }\n",
       "\n",
       "    .dataframe thead th {\n",
       "        text-align: right;\n",
       "    }\n",
       "</style>\n",
       "<table border=\"1\" class=\"dataframe\">\n",
       "  <thead>\n",
       "    <tr style=\"text-align: right;\">\n",
       "      <th></th>\n",
       "      <th>feature</th>\n",
       "      <th>coef</th>\n",
       "    </tr>\n",
       "  </thead>\n",
       "  <tbody>\n",
       "    <tr>\n",
       "      <th>14</th>\n",
       "      <td>diag_grp</td>\n",
       "      <td>0.488833</td>\n",
       "    </tr>\n",
       "    <tr>\n",
       "      <th>15</th>\n",
       "      <td>patient_duplicate_count</td>\n",
       "      <td>0.114918</td>\n",
       "    </tr>\n",
       "    <tr>\n",
       "      <th>13</th>\n",
       "      <td>claimdiag</td>\n",
       "      <td>0.098391</td>\n",
       "    </tr>\n",
       "    <tr>\n",
       "      <th>4</th>\n",
       "      <td>Race5</td>\n",
       "      <td>0.042393</td>\n",
       "    </tr>\n",
       "    <tr>\n",
       "      <th>3</th>\n",
       "      <td>Race3</td>\n",
       "      <td>0.030818</td>\n",
       "    </tr>\n",
       "    <tr>\n",
       "      <th>11</th>\n",
       "      <td>chronic_mean</td>\n",
       "      <td>0.027921</td>\n",
       "    </tr>\n",
       "    <tr>\n",
       "      <th>7</th>\n",
       "      <td>mean_age</td>\n",
       "      <td>0.022470</td>\n",
       "    </tr>\n",
       "    <tr>\n",
       "      <th>16</th>\n",
       "      <td>duplicate_claims</td>\n",
       "      <td>0.021662</td>\n",
       "    </tr>\n",
       "    <tr>\n",
       "      <th>17</th>\n",
       "      <td>totalamount_charged</td>\n",
       "      <td>0.021522</td>\n",
       "    </tr>\n",
       "    <tr>\n",
       "      <th>19</th>\n",
       "      <td>annual_amount</td>\n",
       "      <td>0.019550</td>\n",
       "    </tr>\n",
       "    <tr>\n",
       "      <th>10</th>\n",
       "      <td>no_phy</td>\n",
       "      <td>0.019369</td>\n",
       "    </tr>\n",
       "    <tr>\n",
       "      <th>18</th>\n",
       "      <td>revenue_day</td>\n",
       "      <td>0.018115</td>\n",
       "    </tr>\n",
       "    <tr>\n",
       "      <th>20</th>\n",
       "      <td>coverage</td>\n",
       "      <td>0.014422</td>\n",
       "    </tr>\n",
       "    <tr>\n",
       "      <th>12</th>\n",
       "      <td>claim_count</td>\n",
       "      <td>0.012327</td>\n",
       "    </tr>\n",
       "    <tr>\n",
       "      <th>5</th>\n",
       "      <td>Male</td>\n",
       "      <td>0.009693</td>\n",
       "    </tr>\n",
       "  </tbody>\n",
       "</table>\n",
       "</div>"
      ],
      "text/plain": [
       "                    feature      coef\n",
       "14                 diag_grp  0.488833\n",
       "15  patient_duplicate_count  0.114918\n",
       "13                claimdiag  0.098391\n",
       "4                     Race5  0.042393\n",
       "3                     Race3  0.030818\n",
       "11             chronic_mean  0.027921\n",
       "7                  mean_age  0.022470\n",
       "16         duplicate_claims  0.021662\n",
       "17      totalamount_charged  0.021522\n",
       "19            annual_amount  0.019550\n",
       "10                   no_phy  0.019369\n",
       "18              revenue_day  0.018115\n",
       "20                 coverage  0.014422\n",
       "12              claim_count  0.012327\n",
       "5                      Male  0.009693"
      ]
     },
     "execution_count": 96,
     "metadata": {},
     "output_type": "execute_result"
    }
   ],
   "source": [
    "GradBoo_top15_features = pd.DataFrame(zip(x.columns, list(clf_best.feature_importances_)), columns=['feature', 'coef'])\\\n",
    "            .sort_values('coef', ascending=False).head(15)\n",
    "GradBoo_top15_features"
   ]
  },
  {
   "cell_type": "code",
   "execution_count": 69,
   "metadata": {},
   "outputs": [
    {
     "data": {
      "text/plain": [
       "Text(0, 0.5, '')"
      ]
     },
     "execution_count": 69,
     "metadata": {},
     "output_type": "execute_result"
    },
    {
     "data": {
      "image/png": "[encoded data removed]",
      "text/plain": [
       "<Figure size 864x576 with 1 Axes>"
      ]
     },
     "metadata": {
      "needs_background": "light"
     },
     "output_type": "display_data"
    }
   ],
   "source": [
    "ax = sns.barplot(x=\"coef\", y=\"feature\", data=GradBoo_top15_features ,palette=\"crest\")\n",
    "ax.set_title('Important feature by Gradient Boost Model')\n",
    "ax.set_xlabel('Features Importance')\n",
    "ax.set_ylabel('')"
   ]
  },
  {
   "cell_type": "code",
   "execution_count": 41,
   "metadata": {},
   "outputs": [],
   "source": [
    "def conf_mat(y_test, y_pred):\n",
    "    cm = confusion_matrix(y_test, y_pred)\n",
    "    group_names = ['True Negative','False Positive','False Negative','True Positive']\n",
    "    group_counts = ['{0:0.0f}'.format(value) for value in\n",
    "                cm.flatten()]\n",
    "    group_percentages = ['{0:.4%}'.format(value) for value in\n",
    "                     cm.flatten()/np.sum(cm)]\n",
    "    labels = [f'{v1}\\n{v2}\\n{v3}' for v1, v2, v3 in\n",
    "          zip(group_names,group_counts,group_percentages)]\n",
    "    labels = np.asarray(labels).reshape(2,2)\n",
    "    ax= plt.subplot()\n",
    "    sns.heatmap(cm/np.sum(cm), annot=labels, ax = ax, fmt='', cmap='coolwarm');\n",
    "    # labels, title and ticks\n",
    "    ax.set_xlabel('Predicted labels');ax.set_ylabel('True labels')\n",
    "    ax.set_title('Confusion Matrix')\n",
    "    ax.xaxis.set_ticklabels(['No Fraud', 'Potential Fraud']); ax.yaxis.set_ticklabels(['No Fraud', 'Potential Fraud'])\n",
    "    return"
   ]
  },
  {
   "cell_type": "code",
   "execution_count": 35,
   "metadata": {},
   "outputs": [],
   "source": [
    "predicted_test = clf_best.predict(X_test_sm)"
   ]
  },
  {
   "cell_type": "code",
   "execution_count": 42,
   "metadata": {},
   "outputs": [
    {
     "name": "stdout",
     "output_type": "stream",
     "text": [
      "Accuracy Score: 0.9588854909955827\n",
      "F1 Score: 0.9593823430681437\n"
     ]
    },
    {
     "data": {
      "image/png": "[encoded data removed]",
      "text/plain": [
       "<Figure size 432x288 with 2 Axes>"
      ]
     },
     "metadata": {
      "needs_background": "light"
     },
     "output_type": "display_data"
    }
   ],
   "source": [
    "print(f'Accuracy Score: {accuracy_score(y_test_sm,predicted_test)}')\n",
    "print('F1 Score: {}'.format(f1_score(y_test_sm, predicted_test)))\n",
    "conf_mat(y_test_sm, predicted_test)"
   ]
  },
  {
   "cell_type": "code",
   "execution_count": 78,
   "metadata": {},
   "outputs": [],
   "source": [
    "#Claims per provider\n",
    "n = provider4['claim_count'].mean()\n",
    "\n",
    "#cost based on non-oversampled train-test split of 1527 Negatives and 96 Positives\n",
    "Neg = 1527\n",
    "Pos = 96\n",
    "#Average cost per fraudulent claim is the mean of InscClaimAmtReimbursed when PotentialFraud = \"Yes\", $1389.51\n",
    "c = 1389.51\n",
    "\n",
    "# 29.17 = average hourly pay for a claims adjuster via https://www.indeed.com/career/claims-adjuster/salaries\n",
    "i = 2 * 29.17 #cost to investigate a claim, assuming it takes 1 claims adjuster ~2 hours\n",
    "\n",
    "#Total dollars saved\n",
    "# ((number of true positive * c) - (false positive + true positive)* i  - (c * number false negatives))/ 0.7*n"
   ]
  },
  {
   "cell_type": "code",
   "execution_count": 79,
   "metadata": {},
   "outputs": [
    {
     "name": "stdout",
     "output_type": "stream",
     "text": [
      "Gradient Boosting Model will save: $2780166.09\n"
     ]
    }
   ],
   "source": [
    "#Gradient Boost costs saved\n",
    "GB_cost = Pos * .4856 * c - Pos * i - c * Neg*.0190\n",
    "print(f'Gradient Boosting Model will save: ${round(GB_cost / .7 * n, 2)}')"
   ]
  },
  {
   "cell_type": "code",
   "execution_count": 46,
   "metadata": {},
   "outputs": [
    {
     "data": {
      "text/plain": [
       "GridSearchCV(cv=5, error_score=nan,\n",
       "             estimator=XGBClassifier(base_score=None, booster=None,\n",
       "                                     colsample_bylevel=None,\n",
       "                                     colsample_bynode=None,\n",
       "                                     colsample_bytree=None,\n",
       "                                     eval_metric='logloss', gamma=None,\n",
       "                                     gpu_id=None, importance_type='gain',\n",
       "                                     interaction_constraints=None,\n",
       "                                     learning_rate=None, max_delta_step=None,\n",
       "                                     max_depth=None, min_child_weight=None,\n",
       "                                     missing=nan, monotone_co...\n",
       "                                     reg_lambda=None, scale_pos_weight=None,\n",
       "                                     subsample=None, tree_method=None,\n",
       "                                     use_label_encoder=False,\n",
       "                                     validate_parameters=None, verbosity=None),\n",
       "             iid='deprecated', n_jobs=None,\n",
       "             param_grid={'gamma': [0.1, 0.2, 0.3],\n",
       "                         'learning_rate': [0.01, 0.1, 1],\n",
       "                         'max_depth': [1, 3, 5],\n",
       "                         'n_estimators': [100, 250, 500]},\n",
       "             pre_dispatch='2*n_jobs', refit=True, return_train_score=False,\n",
       "             scoring=None, verbose=0)"
      ]
     },
     "execution_count": 46,
     "metadata": {},
     "output_type": "execute_result"
    }
   ],
   "source": [
    "xgb = XGBClassifier(use_label_encoder=False, eval_metric='logloss')\n",
    "parameters = {\n",
    "    \"n_estimators\":[100,250, 500],\n",
    "    \"max_depth\":[1,3,5],\n",
    "    \"learning_rate\":[0.01,0.1,1],\n",
    "    \"gamma\": [0.1, 0.2, 0.3]\n",
    "}\n",
    "xb= GridSearchCV(xgb,parameters,cv=5)\n",
    "xb.fit(X_train_sm, y_train_sm)"
   ]
  },
  {
   "cell_type": "code",
   "execution_count": 50,
   "metadata": {},
   "outputs": [
    {
     "data": {
      "text/plain": [
       "{'learning_rate': 0.1, 'max_depth': 5, 'n_estimators': 200, 'subsample': 0.9}"
      ]
     },
     "execution_count": 50,
     "metadata": {},
     "output_type": "execute_result"
    }
   ],
   "source": [
    "clf.best_params_"
   ]
  },
  {
   "cell_type": "code",
   "execution_count": 83,
   "metadata": {},
   "outputs": [],
   "source": [
    "xgb2 = XGBClassifier(use_label_encoder=False, eval_metric='logloss', learning_rate=0.1, max_depth=5, n_estimators=200, subsample=0.9)"
   ]
  },
  {
   "cell_type": "code",
   "execution_count": 84,
   "metadata": {},
   "outputs": [],
   "source": [
    "xb_best = xgb2.fit(X_train_sm, y_train_sm)"
   ]
  },
  {
   "cell_type": "code",
   "execution_count": 54,
   "metadata": {},
   "outputs": [],
   "source": [
    "predicted_test = xb_best.predict(X_test_sm)"
   ]
  },
  {
   "cell_type": "code",
   "execution_count": 55,
   "metadata": {},
   "outputs": [
    {
     "name": "stdout",
     "output_type": "stream",
     "text": [
      "Accuracy Score: 0.9582059123343527\n",
      "F1 Score: 0.9586276488395559\n"
     ]
    },
    {
     "data": {
      "image/png": "[encoded data removed]",
      "text/plain": [
       "<Figure size 432x288 with 2 Axes>"
      ]
     },
     "metadata": {
      "needs_background": "light"
     },
     "output_type": "display_data"
    }
   ],
   "source": [
    "print(f'Accuracy Score: {accuracy_score(y_test_sm,predicted_test)}')\n",
    "print('F1 Score: {}'.format(f1_score(y_test_sm, predicted_test)))\n",
    "conf_mat(y_test_sm, predicted_test)"
   ]
  },
  {
   "cell_type": "code",
   "execution_count": 85,
   "metadata": {},
   "outputs": [
    {
     "name": "stdout",
     "output_type": "stream",
     "text": [
      "XG Boost Model will save: $2314782.23\n"
     ]
    }
   ],
   "source": [
    "#XGBoost costs saved\n",
    "print(f'XG Boost Model will save: ${round((Pos * .4842 * c - Pos * i - c * Neg*.0204)/.7*n, 2)}')"
   ]
  },
  {
   "cell_type": "code",
   "execution_count": 87,
   "metadata": {},
   "outputs": [
    {
     "data": {
      "text/html": [
       "<div>\n",
       "<style scoped>\n",
       "    .dataframe tbody tr th:only-of-type {\n",
       "        vertical-align: middle;\n",
       "    }\n",
       "\n",
       "    .dataframe tbody tr th {\n",
       "        vertical-align: top;\n",
       "    }\n",
       "\n",
       "    .dataframe thead th {\n",
       "        text-align: right;\n",
       "    }\n",
       "</style>\n",
       "<table border=\"1\" class=\"dataframe\">\n",
       "  <thead>\n",
       "    <tr style=\"text-align: right;\">\n",
       "      <th></th>\n",
       "      <th>feature</th>\n",
       "      <th>coef</th>\n",
       "    </tr>\n",
       "  </thead>\n",
       "  <tbody>\n",
       "    <tr>\n",
       "      <th>14</th>\n",
       "      <td>diag_grp</td>\n",
       "      <td>0.315954</td>\n",
       "    </tr>\n",
       "    <tr>\n",
       "      <th>15</th>\n",
       "      <td>patient_duplicate_count</td>\n",
       "      <td>0.167915</td>\n",
       "    </tr>\n",
       "    <tr>\n",
       "      <th>13</th>\n",
       "      <td>claimdiag</td>\n",
       "      <td>0.113602</td>\n",
       "    </tr>\n",
       "    <tr>\n",
       "      <th>11</th>\n",
       "      <td>chronic_mean</td>\n",
       "      <td>0.048864</td>\n",
       "    </tr>\n",
       "    <tr>\n",
       "      <th>4</th>\n",
       "      <td>Race5</td>\n",
       "      <td>0.044536</td>\n",
       "    </tr>\n",
       "    <tr>\n",
       "      <th>3</th>\n",
       "      <td>Race3</td>\n",
       "      <td>0.037551</td>\n",
       "    </tr>\n",
       "    <tr>\n",
       "      <th>10</th>\n",
       "      <td>no_phy</td>\n",
       "      <td>0.037482</td>\n",
       "    </tr>\n",
       "    <tr>\n",
       "      <th>16</th>\n",
       "      <td>duplicate_claims</td>\n",
       "      <td>0.036956</td>\n",
       "    </tr>\n",
       "    <tr>\n",
       "      <th>21</th>\n",
       "      <td>inpatient</td>\n",
       "      <td>0.028103</td>\n",
       "    </tr>\n",
       "    <tr>\n",
       "      <th>7</th>\n",
       "      <td>mean_age</td>\n",
       "      <td>0.022949</td>\n",
       "    </tr>\n",
       "    <tr>\n",
       "      <th>12</th>\n",
       "      <td>claim_count</td>\n",
       "      <td>0.017964</td>\n",
       "    </tr>\n",
       "    <tr>\n",
       "      <th>17</th>\n",
       "      <td>totalamount_charged</td>\n",
       "      <td>0.014697</td>\n",
       "    </tr>\n",
       "    <tr>\n",
       "      <th>19</th>\n",
       "      <td>annual_amount</td>\n",
       "      <td>0.014370</td>\n",
       "    </tr>\n",
       "    <tr>\n",
       "      <th>18</th>\n",
       "      <td>revenue_day</td>\n",
       "      <td>0.014025</td>\n",
       "    </tr>\n",
       "    <tr>\n",
       "      <th>8</th>\n",
       "      <td>state_count</td>\n",
       "      <td>0.012339</td>\n",
       "    </tr>\n",
       "  </tbody>\n",
       "</table>\n",
       "</div>"
      ],
      "text/plain": [
       "                    feature      coef\n",
       "14                 diag_grp  0.315954\n",
       "15  patient_duplicate_count  0.167915\n",
       "13                claimdiag  0.113602\n",
       "11             chronic_mean  0.048864\n",
       "4                     Race5  0.044536\n",
       "3                     Race3  0.037551\n",
       "10                   no_phy  0.037482\n",
       "16         duplicate_claims  0.036956\n",
       "21                inpatient  0.028103\n",
       "7                  mean_age  0.022949\n",
       "12              claim_count  0.017964\n",
       "17      totalamount_charged  0.014697\n",
       "19            annual_amount  0.014370\n",
       "18              revenue_day  0.014025\n",
       "8               state_count  0.012339"
      ]
     },
     "execution_count": 87,
     "metadata": {},
     "output_type": "execute_result"
    }
   ],
   "source": [
    "XGB_top15_features = pd.DataFrame(zip(x.columns, list(xgb2.feature_importances_)), columns=['feature', 'coef'])\\\n",
    "            .sort_values('coef', ascending=False).head(15)\n",
    "XGB_top15_features"
   ]
  },
  {
   "cell_type": "code",
   "execution_count": 57,
   "metadata": {},
   "outputs": [
    {
     "data": {
      "text/plain": [
       "Text(0, 0.5, '')"
      ]
     },
     "execution_count": 57,
     "metadata": {},
     "output_type": "execute_result"
    },
    {
     "data": {
      "image/png": "[encoded data removed]",
      "text/plain": [
       "<Figure size 864x576 with 1 Axes>"
      ]
     },
     "metadata": {
      "needs_background": "light"
     },
     "output_type": "display_data"
    }
   ],
   "source": [
    "plt.rcParams['figure.figsize'] = (12,8)\n",
    "ax = sns.barplot(x=\"coef\", y=\"feature\", data=XGB_top15_features,palette=\"flare\" )\n",
    "ax.set_title('Important feature by XGBoost Model')\n",
    "ax.set_xlabel('Features Importance')\n",
    "ax.set_ylabel('')"
   ]
  },
  {
   "cell_type": "code",
   "execution_count": 60,
   "metadata": {},
   "outputs": [],
   "source": [
    "param_grid = {\n",
    "    'max_depth': [50,80, 90, 100],\n",
    "    'max_features': [2, 3],\n",
    "    'min_samples_leaf': [3, 4, 5],\n",
    "    'min_samples_split': [8, 10, 12],\n",
    "    'n_estimators': [100, 200, 300, 500]\n",
    "}\n",
    "# Create a based model\n",
    "rf = RandomForestClassifier()\n",
    "# Instantiate the grid search model\n",
    "grid_search = GridSearchCV(estimator = rf, param_grid = param_grid, \n",
    "                          cv = 5, n_jobs = -1, verbose = 2)\n"
   ]
  },
  {
   "cell_type": "code",
   "execution_count": 61,
   "metadata": {},
   "outputs": [
    {
     "name": "stdout",
     "output_type": "stream",
     "text": [
      "Fitting 5 folds for each of 288 candidates, totalling 1440 fits\n"
     ]
    },
    {
     "name": "stderr",
     "output_type": "stream",
     "text": [
      "[Parallel(n_jobs=-1)]: Using backend LokyBackend with 4 concurrent workers.\n",
      "[Parallel(n_jobs=-1)]: Done  33 tasks      | elapsed:   30.9s\n",
      "[Parallel(n_jobs=-1)]: Done 154 tasks      | elapsed:  2.2min\n",
      "[Parallel(n_jobs=-1)]: Done 357 tasks      | elapsed:  5.8min\n",
      "[Parallel(n_jobs=-1)]: Done 640 tasks      | elapsed:  9.8min\n",
      "[Parallel(n_jobs=-1)]: Done 1005 tasks      | elapsed: 17.2min\n",
      "[Parallel(n_jobs=-1)]: Done 1440 out of 1440 | elapsed: 25.3min finished\n"
     ]
    },
    {
     "data": {
      "text/plain": [
       "{'max_depth': 80,\n",
       " 'max_features': 3,\n",
       " 'min_samples_leaf': 3,\n",
       " 'min_samples_split': 8,\n",
       " 'n_estimators': 500}"
      ]
     },
     "execution_count": 61,
     "metadata": {},
     "output_type": "execute_result"
    }
   ],
   "source": [
    "grid_search.fit(X_train_sm, y_train_sm)\n",
    "grid_search.best_params_\n"
   ]
  },
  {
   "cell_type": "code",
   "execution_count": 88,
   "metadata": {},
   "outputs": [],
   "source": [
    "bestRF = RandomForestClassifier(max_depth= 15, max_features= 3, min_samples_leaf=2, min_samples_split=8,\n",
    "                                n_estimators= 500)"
   ]
  },
  {
   "cell_type": "code",
   "execution_count": 89,
   "metadata": {},
   "outputs": [
    {
     "data": {
      "text/plain": [
       "RandomForestClassifier(max_depth=15, max_features=3, min_samples_leaf=2,\n",
       "                       min_samples_split=8, n_estimators=500)"
      ]
     },
     "execution_count": 89,
     "metadata": {},
     "output_type": "execute_result"
    }
   ],
   "source": [
    "bestRF.fit(X_train_sm, y_train_sm)"
   ]
  },
  {
   "cell_type": "code",
   "execution_count": 65,
   "metadata": {},
   "outputs": [],
   "source": [
    "predicted_test = bestRF.predict(X_test_sm)"
   ]
  },
  {
   "cell_type": "code",
   "execution_count": 66,
   "metadata": {},
   "outputs": [
    {
     "name": "stdout",
     "output_type": "stream",
     "text": [
      "Accuracy Score: 0.9405368671423717\n",
      "F1 Score: 0.9422251568174316\n"
     ]
    },
    {
     "data": {
      "image/png": "[encoded data removed]",
      "text/plain": [
       "<Figure size 864x576 with 2 Axes>"
      ]
     },
     "metadata": {
      "needs_background": "light"
     },
     "output_type": "display_data"
    }
   ],
   "source": [
    "print(f'Accuracy Score: {accuracy_score(y_test_sm,predicted_test)}')\n",
    "print('F1 Score: {}'.format(f1_score(y_test_sm, predicted_test)))\n",
    "conf_mat(y_test_sm, predicted_test)"
   ]
  },
  {
   "cell_type": "code",
   "execution_count": 39,
   "metadata": {},
   "outputs": [
    {
     "name": "stdout",
     "output_type": "stream",
     "text": [
      "Random Forest Model will save: $24689.29\n"
     ]
    }
   ],
   "source": [
    "#Random Forest costs saved\n",
    "# (number of true positive * c) - (false positive + true positive)* i  - (c * number false negatives)\n",
    "print(f'Random Forest Model will save: ${round((Pos * .4849 * c - Pos * i - c * Neg*.0197)/.7, 2)}')"
   ]
  },
  {
   "cell_type": "code",
   "execution_count": 90,
   "metadata": {},
   "outputs": [
    {
     "data": {
      "text/html": [
       "<div>\n",
       "<style scoped>\n",
       "    .dataframe tbody tr th:only-of-type {\n",
       "        vertical-align: middle;\n",
       "    }\n",
       "\n",
       "    .dataframe tbody tr th {\n",
       "        vertical-align: top;\n",
       "    }\n",
       "\n",
       "    .dataframe thead th {\n",
       "        text-align: right;\n",
       "    }\n",
       "</style>\n",
       "<table border=\"1\" class=\"dataframe\">\n",
       "  <thead>\n",
       "    <tr style=\"text-align: right;\">\n",
       "      <th></th>\n",
       "      <th>feature</th>\n",
       "      <th>coef</th>\n",
       "    </tr>\n",
       "  </thead>\n",
       "  <tbody>\n",
       "    <tr>\n",
       "      <th>14</th>\n",
       "      <td>diag_grp</td>\n",
       "      <td>0.138060</td>\n",
       "    </tr>\n",
       "    <tr>\n",
       "      <th>13</th>\n",
       "      <td>claimdiag</td>\n",
       "      <td>0.116379</td>\n",
       "    </tr>\n",
       "    <tr>\n",
       "      <th>22</th>\n",
       "      <td>outpatient</td>\n",
       "      <td>0.077329</td>\n",
       "    </tr>\n",
       "    <tr>\n",
       "      <th>5</th>\n",
       "      <td>Male</td>\n",
       "      <td>0.058433</td>\n",
       "    </tr>\n",
       "    <tr>\n",
       "      <th>17</th>\n",
       "      <td>totalamount_charged</td>\n",
       "      <td>0.052799</td>\n",
       "    </tr>\n",
       "    <tr>\n",
       "      <th>1</th>\n",
       "      <td>Race1</td>\n",
       "      <td>0.051010</td>\n",
       "    </tr>\n",
       "    <tr>\n",
       "      <th>0</th>\n",
       "      <td>patient_count</td>\n",
       "      <td>0.045962</td>\n",
       "    </tr>\n",
       "    <tr>\n",
       "      <th>18</th>\n",
       "      <td>revenue_day</td>\n",
       "      <td>0.045835</td>\n",
       "    </tr>\n",
       "    <tr>\n",
       "      <th>6</th>\n",
       "      <td>Female</td>\n",
       "      <td>0.044747</td>\n",
       "    </tr>\n",
       "    <tr>\n",
       "      <th>12</th>\n",
       "      <td>claim_count</td>\n",
       "      <td>0.044004</td>\n",
       "    </tr>\n",
       "    <tr>\n",
       "      <th>4</th>\n",
       "      <td>Race5</td>\n",
       "      <td>0.041929</td>\n",
       "    </tr>\n",
       "    <tr>\n",
       "      <th>3</th>\n",
       "      <td>Race3</td>\n",
       "      <td>0.041063</td>\n",
       "    </tr>\n",
       "    <tr>\n",
       "      <th>19</th>\n",
       "      <td>annual_amount</td>\n",
       "      <td>0.033301</td>\n",
       "    </tr>\n",
       "    <tr>\n",
       "      <th>20</th>\n",
       "      <td>coverage</td>\n",
       "      <td>0.032411</td>\n",
       "    </tr>\n",
       "    <tr>\n",
       "      <th>16</th>\n",
       "      <td>duplicate_claims</td>\n",
       "      <td>0.031501</td>\n",
       "    </tr>\n",
       "  </tbody>\n",
       "</table>\n",
       "</div>"
      ],
      "text/plain": [
       "                feature      coef\n",
       "14             diag_grp  0.138060\n",
       "13            claimdiag  0.116379\n",
       "22           outpatient  0.077329\n",
       "5                  Male  0.058433\n",
       "17  totalamount_charged  0.052799\n",
       "1                 Race1  0.051010\n",
       "0         patient_count  0.045962\n",
       "18          revenue_day  0.045835\n",
       "6                Female  0.044747\n",
       "12          claim_count  0.044004\n",
       "4                 Race5  0.041929\n",
       "3                 Race3  0.041063\n",
       "19        annual_amount  0.033301\n",
       "20             coverage  0.032411\n",
       "16     duplicate_claims  0.031501"
      ]
     },
     "execution_count": 90,
     "metadata": {},
     "output_type": "execute_result"
    }
   ],
   "source": [
    "RF_top15_features = pd.DataFrame(zip(x.columns, list(bestRF.feature_importances_)), columns=['feature', 'coef'])\\\n",
    "            .sort_values('coef', ascending=False).head(15)\n",
    "RF_top15_features"
   ]
  },
  {
   "cell_type": "code",
   "execution_count": 68,
   "metadata": {},
   "outputs": [
    {
     "data": {
      "text/plain": [
       "Text(0, 0.5, '')"
      ]
     },
     "execution_count": 68,
     "metadata": {},
     "output_type": "execute_result"
    },
    {
     "data": {
      "image/png": "[encoded data removed]",
      "text/plain": [
       "<Figure size 864x576 with 1 Axes>"
      ]
     },
     "metadata": {
      "needs_background": "light"
     },
     "output_type": "display_data"
    }
   ],
   "source": [
    "plt.rcParams['figure.figsize'] = (12,8)\n",
    "ax = sns.barplot(x=\"coef\", y=\"feature\", data=RF_top15_features,palette=\"flare\" )\n",
    "ax.set_title('Important feature by Random Forest Model')\n",
    "ax.set_xlabel('Features Importance')\n",
    "ax.set_ylabel('')"
   ]
  },
  {
   "cell_type": "markdown",
   "metadata": {},
   "source": [
    "# Ensemble"
   ]
  },
  {
   "cell_type": "code",
   "execution_count": 101,
   "metadata": {},
   "outputs": [
    {
     "data": {
      "text/plain": [
       "0.9568467550118926"
      ]
     },
     "execution_count": 101,
     "metadata": {},
     "output_type": "execute_result"
    }
   ],
   "source": [
    "from sklearn.ensemble import VotingClassifier\n",
    "\n",
    "ensemble = VotingClassifier(estimators=[('GBC', gbc2), ('XGB', xgb2),('RF',bestRF)], voting='hard')\n",
    "ensemble.fit(X_train_sm, y_train_sm)\n",
    "ensemble.score(X_test_sm, y_test_sm)\n",
    "\n",
    "# print(f'Accuracy Score: {accuracy_score(y_test_sm,predicted_test)}')\n",
    "# print('F1 Score: {}'.format(f1_score(y_test_sm, predicted_test)))\n",
    "# conf_mat(y_test_sm, predicted_test)"
   ]
  },
  {
   "cell_type": "code",
   "execution_count": null,
   "metadata": {},
   "outputs": [],
   "source": []
  }
 ],
 "metadata": {
  "kernelspec": {
   "display_name": "Python 3",
   "language": "python",
   "name": "python3"
  },
  "language_info": {
   "codemirror_mode": {
    "name": "ipython",
    "version": 3
   },
   "file_extension": ".py",
   "mimetype": "text/x-python",
   "name": "python",
   "nbconvert_exporter": "python",
   "pygments_lexer": "ipython3",
   "version": "3.8.5"
  }
 },
 "nbformat": 4,
 "nbformat_minor": 4
}
