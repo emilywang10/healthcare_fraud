{
 "cells": [
  {
   "cell_type": "code",
   "execution_count": 4,
   "metadata": {},
   "outputs": [],
   "source": [
    "import pandas as pd\n",
    "import numpy as np\n",
    "import seaborn as sns\n",
    "from matplotlib import pyplot as plt\n",
    "%matplotlib inline\n",
    "pd.set_option('display.max_columns', None)"
   ]
  },
  {
   "cell_type": "code",
   "execution_count": 5,
   "metadata": {},
   "outputs": [],
   "source": [
    "from sklearn.metrics import recall_score, precision_score,confusion_matrix,\\\n",
    "        roc_auc_score, f1_score, plot_roc_curve, roc_curve, RocCurveDisplay, auc, precision_recall_curve,\\\n",
    "        fbeta_score, accuracy_score\n",
    "from sklearn.model_selection import cross_validate, StratifiedKFold, train_test_split, cross_val_predict, GridSearchCV\n",
    "from sklearn.pipeline import Pipeline\n",
    "from sklearn.svm import LinearSVC\n",
    "from sklearn.neighbors import KNeighborsClassifier\n",
    "from sklearn.preprocessing import StandardScaler\n",
    "from sklearn.linear_model import LogisticRegressionCV, LogisticRegression, SGDClassifier\n",
    "from sklearn.ensemble import BaggingClassifier, ExtraTreesClassifier, RandomForestClassifier,GradientBoostingClassifier\n",
    "from sklearn.discriminant_analysis import LinearDiscriminantAnalysis\n",
    "from sklearn.naive_bayes import GaussianNB\n",
    "from xgboost import XGBClassifier\n",
    "from sklearn import model_selection\n",
    "from sklearn.metrics import classification_report\n",
    "from imblearn.over_sampling import SMOTE #Synthetic Minority Oversampling Technique"
   ]
  },
  {
   "cell_type": "code",
   "execution_count": 8,
   "metadata": {},
   "outputs": [
    {
     "data": {
      "text/html": [
       "<div>\n",
       "<style scoped>\n",
       "    .dataframe tbody tr th:only-of-type {\n",
       "        vertical-align: middle;\n",
       "    }\n",
       "\n",
       "    .dataframe tbody tr th {\n",
       "        vertical-align: top;\n",
       "    }\n",
       "\n",
       "    .dataframe thead th {\n",
       "        text-align: right;\n",
       "    }\n",
       "</style>\n",
       "<table border=\"1\" class=\"dataframe\">\n",
       "  <thead>\n",
       "    <tr style=\"text-align: right;\">\n",
       "      <th></th>\n",
       "      <th>Unnamed: 0</th>\n",
       "      <th>Provider</th>\n",
       "      <th>PotentialFraud</th>\n",
       "      <th>patient_count</th>\n",
       "      <th>Race1</th>\n",
       "      <th>Race2</th>\n",
       "      <th>Race3</th>\n",
       "      <th>Race5</th>\n",
       "      <th>Male</th>\n",
       "      <th>Female</th>\n",
       "      <th>mean_age</th>\n",
       "      <th>state_count</th>\n",
       "      <th>phy_count</th>\n",
       "      <th>no_phy</th>\n",
       "      <th>chronic_mean</th>\n",
       "      <th>claim_count</th>\n",
       "      <th>days_admitted</th>\n",
       "      <th>coverage</th>\n",
       "      <th>totalamount_charged</th>\n",
       "      <th>revenue_day</th>\n",
       "      <th>annual_amount</th>\n",
       "      <th>claimdiag</th>\n",
       "      <th>diag_grp</th>\n",
       "      <th>duplicate_claims</th>\n",
       "      <th>patient_duplicate_count</th>\n",
       "      <th>inpatient</th>\n",
       "      <th>outpatient</th>\n",
       "    </tr>\n",
       "  </thead>\n",
       "  <tbody>\n",
       "    <tr>\n",
       "      <th>1572</th>\n",
       "      <td>1572</td>\n",
       "      <td>PRV52949</td>\n",
       "      <td>0</td>\n",
       "      <td>51</td>\n",
       "      <td>46.0</td>\n",
       "      <td>4.0</td>\n",
       "      <td>1.0</td>\n",
       "      <td>0.0</td>\n",
       "      <td>27.0</td>\n",
       "      <td>24.0</td>\n",
       "      <td>71.0</td>\n",
       "      <td>1</td>\n",
       "      <td>1</td>\n",
       "      <td>0.0</td>\n",
       "      <td>5.0</td>\n",
       "      <td>79</td>\n",
       "      <td>2.0</td>\n",
       "      <td>0.972785</td>\n",
       "      <td>347.468354</td>\n",
       "      <td>263.786920</td>\n",
       "      <td>9380.151899</td>\n",
       "      <td>19.0</td>\n",
       "      <td>0.0</td>\n",
       "      <td>36.0</td>\n",
       "      <td>0.0</td>\n",
       "      <td>0</td>\n",
       "      <td>1</td>\n",
       "    </tr>\n",
       "    <tr>\n",
       "      <th>2012</th>\n",
       "      <td>2012</td>\n",
       "      <td>PRV53510</td>\n",
       "      <td>0</td>\n",
       "      <td>12</td>\n",
       "      <td>7.0</td>\n",
       "      <td>5.0</td>\n",
       "      <td>0.0</td>\n",
       "      <td>0.0</td>\n",
       "      <td>5.0</td>\n",
       "      <td>7.0</td>\n",
       "      <td>67.0</td>\n",
       "      <td>1</td>\n",
       "      <td>3</td>\n",
       "      <td>0.0</td>\n",
       "      <td>5.0</td>\n",
       "      <td>16</td>\n",
       "      <td>6.0</td>\n",
       "      <td>0.974646</td>\n",
       "      <td>1001.000000</td>\n",
       "      <td>206.874042</td>\n",
       "      <td>5365.750000</td>\n",
       "      <td>4.0</td>\n",
       "      <td>2.0</td>\n",
       "      <td>6.0</td>\n",
       "      <td>0.0</td>\n",
       "      <td>0</td>\n",
       "      <td>0</td>\n",
       "    </tr>\n",
       "    <tr>\n",
       "      <th>2291</th>\n",
       "      <td>2291</td>\n",
       "      <td>PRV53857</td>\n",
       "      <td>0</td>\n",
       "      <td>10</td>\n",
       "      <td>10.0</td>\n",
       "      <td>0.0</td>\n",
       "      <td>0.0</td>\n",
       "      <td>0.0</td>\n",
       "      <td>4.0</td>\n",
       "      <td>6.0</td>\n",
       "      <td>76.0</td>\n",
       "      <td>1</td>\n",
       "      <td>2</td>\n",
       "      <td>0.0</td>\n",
       "      <td>6.0</td>\n",
       "      <td>10</td>\n",
       "      <td>8.0</td>\n",
       "      <td>0.882914</td>\n",
       "      <td>15068.000000</td>\n",
       "      <td>2321.755065</td>\n",
       "      <td>32554.200000</td>\n",
       "      <td>9.0</td>\n",
       "      <td>10.0</td>\n",
       "      <td>0.0</td>\n",
       "      <td>0.0</td>\n",
       "      <td>1</td>\n",
       "      <td>0</td>\n",
       "    </tr>\n",
       "    <tr>\n",
       "      <th>1020</th>\n",
       "      <td>1020</td>\n",
       "      <td>PRV52275</td>\n",
       "      <td>0</td>\n",
       "      <td>57</td>\n",
       "      <td>52.0</td>\n",
       "      <td>3.0</td>\n",
       "      <td>1.0</td>\n",
       "      <td>1.0</td>\n",
       "      <td>22.0</td>\n",
       "      <td>35.0</td>\n",
       "      <td>74.0</td>\n",
       "      <td>1</td>\n",
       "      <td>1</td>\n",
       "      <td>0.0</td>\n",
       "      <td>5.0</td>\n",
       "      <td>101</td>\n",
       "      <td>2.0</td>\n",
       "      <td>0.983824</td>\n",
       "      <td>272.178218</td>\n",
       "      <td>236.576778</td>\n",
       "      <td>6113.663366</td>\n",
       "      <td>16.0</td>\n",
       "      <td>0.0</td>\n",
       "      <td>37.0</td>\n",
       "      <td>0.0</td>\n",
       "      <td>0</td>\n",
       "      <td>1</td>\n",
       "    </tr>\n",
       "    <tr>\n",
       "      <th>4505</th>\n",
       "      <td>4505</td>\n",
       "      <td>PRV56637</td>\n",
       "      <td>0</td>\n",
       "      <td>137</td>\n",
       "      <td>103.0</td>\n",
       "      <td>10.0</td>\n",
       "      <td>7.0</td>\n",
       "      <td>17.0</td>\n",
       "      <td>49.0</td>\n",
       "      <td>88.0</td>\n",
       "      <td>73.0</td>\n",
       "      <td>3</td>\n",
       "      <td>65</td>\n",
       "      <td>1.0</td>\n",
       "      <td>5.0</td>\n",
       "      <td>161</td>\n",
       "      <td>3.0</td>\n",
       "      <td>0.982989</td>\n",
       "      <td>252.670807</td>\n",
       "      <td>151.116657</td>\n",
       "      <td>7364.236025</td>\n",
       "      <td>29.0</td>\n",
       "      <td>0.0</td>\n",
       "      <td>76.0</td>\n",
       "      <td>0.0</td>\n",
       "      <td>0</td>\n",
       "      <td>1</td>\n",
       "    </tr>\n",
       "  </tbody>\n",
       "</table>\n",
       "</div>"
      ],
      "text/plain": [
       "      Unnamed: 0  Provider  PotentialFraud  patient_count  Race1  Race2  \\\n",
       "1572        1572  PRV52949               0             51   46.0    4.0   \n",
       "2012        2012  PRV53510               0             12    7.0    5.0   \n",
       "2291        2291  PRV53857               0             10   10.0    0.0   \n",
       "1020        1020  PRV52275               0             57   52.0    3.0   \n",
       "4505        4505  PRV56637               0            137  103.0   10.0   \n",
       "\n",
       "      Race3  Race5  Male  Female  mean_age  state_count  phy_count  no_phy  \\\n",
       "1572    1.0    0.0  27.0    24.0      71.0            1          1     0.0   \n",
       "2012    0.0    0.0   5.0     7.0      67.0            1          3     0.0   \n",
       "2291    0.0    0.0   4.0     6.0      76.0            1          2     0.0   \n",
       "1020    1.0    1.0  22.0    35.0      74.0            1          1     0.0   \n",
       "4505    7.0   17.0  49.0    88.0      73.0            3         65     1.0   \n",
       "\n",
       "      chronic_mean  claim_count  days_admitted  coverage  totalamount_charged  \\\n",
       "1572           5.0           79            2.0  0.972785           347.468354   \n",
       "2012           5.0           16            6.0  0.974646          1001.000000   \n",
       "2291           6.0           10            8.0  0.882914         15068.000000   \n",
       "1020           5.0          101            2.0  0.983824           272.178218   \n",
       "4505           5.0          161            3.0  0.982989           252.670807   \n",
       "\n",
       "      revenue_day  annual_amount  claimdiag  diag_grp  duplicate_claims  \\\n",
       "1572   263.786920    9380.151899       19.0       0.0              36.0   \n",
       "2012   206.874042    5365.750000        4.0       2.0               6.0   \n",
       "2291  2321.755065   32554.200000        9.0      10.0               0.0   \n",
       "1020   236.576778    6113.663366       16.0       0.0              37.0   \n",
       "4505   151.116657    7364.236025       29.0       0.0              76.0   \n",
       "\n",
       "      patient_duplicate_count  inpatient  outpatient  \n",
       "1572                      0.0          0           1  \n",
       "2012                      0.0          0           0  \n",
       "2291                      0.0          1           0  \n",
       "1020                      0.0          0           1  \n",
       "4505                      0.0          0           1  "
      ]
     },
     "execution_count": 8,
     "metadata": {},
     "output_type": "execute_result"
    }
   ],
   "source": [
    "provider4 = pd.read_csv('provider4.csv')\n",
    "provider4.sample(5)"
   ]
  },
  {
   "cell_type": "code",
   "execution_count": 9,
   "metadata": {},
   "outputs": [
    {
     "data": {
      "text/plain": [
       "((5410, 24), (5410,))"
      ]
     },
     "execution_count": 9,
     "metadata": {},
     "output_type": "execute_result"
    }
   ],
   "source": [
    "x = provider4.drop(['Unnamed: 0','Provider','PotentialFraud'],axis=1)\n",
    "y = provider4['PotentialFraud']\n",
    "# train-test split\n",
    "X_train, X_test, y_train, y_test = train_test_split(StandardScaler().fit_transform(x), y, test_size=0.3, random_state=100)\n",
    "x.shape, y.shape"
   ]
  },
  {
   "cell_type": "code",
   "execution_count": 134,
   "metadata": {},
   "outputs": [],
   "source": [
    "#Confusion Matrix Plotting Function\n",
    "def conf_mat(y_test, y_pred):\n",
    "    cm = confusion_matrix(y_test, y_pred)\n",
    "    group_names = ['True Negative','False Positive','False Negative','True Positive']\n",
    "    group_counts = ['{0:0.0f}'.format(value) for value in\n",
    "                cm.flatten()]\n",
    "    group_percentages = ['{0:.4%}'.format(value) for value in\n",
    "                     cm.flatten()/np.sum(cm)]\n",
    "    labels = [f'{v1}\\n{v2}\\n{v3}' for v1, v2, v3 in\n",
    "          zip(group_names,group_counts,group_percentages)]\n",
    "    labels = np.asarray(labels).reshape(2,2)\n",
    "    ax= plt.subplot()\n",
    "    sns.heatmap(cm/np.sum(cm), annot=labels, ax = ax, fmt='', cmap='coolwarm');\n",
    "    # labels, title and ticks\n",
    "    ax.set_xlabel('Predicted labels');ax.set_ylabel('True labels')\n",
    "    ax.set_title('Confusion Matrix')\n",
    "    ax.xaxis.set_ticklabels(['No Fraud', 'Potential Fraud']); ax.yaxis.set_ticklabels(['No Fraud', 'Potential Fraud'])\n",
    "    return"
   ]
  },
  {
   "cell_type": "markdown",
   "metadata": {},
   "source": [
    "## SMOTE "
   ]
  },
  {
   "cell_type": "code",
   "execution_count": 10,
   "metadata": {},
   "outputs": [],
   "source": [
    "#SMOTE\n",
    "smote = SMOTE()\n",
    "x_smote, y_smote = smote.fit_resample(x, y)"
   ]
  },
  {
   "cell_type": "code",
   "execution_count": 11,
   "metadata": {},
   "outputs": [],
   "source": [
    "X_train_sm, X_test_sm, y_train_sm, y_test_sm = train_test_split(StandardScaler().fit_transform(x_smote), y_smote, \n",
    "                                                                test_size=0.3, random_state=100)"
   ]
  },
  {
   "cell_type": "code",
   "execution_count": 137,
   "metadata": {},
   "outputs": [],
   "source": [
    "def evaluate_model_stratified(X_train, X_test, y_train, y_test):\n",
    "    classifiers = [LogisticRegression(penalty='l1', solver='liblinear'),\n",
    "                   LinearSVC(),GaussianNB(),LinearDiscriminantAnalysis(),RandomForestClassifier(),\n",
    "                   GradientBoostingClassifier(),XGBClassifier()]\n",
    "    \n",
    "    for classifier in classifiers:\n",
    "        kfold = StratifiedKFold(n_splits = 5, shuffle = True, random_state= 100)\n",
    "        model = Pipeline(steps = [('classifier', classifier)])\n",
    "        str_cv= GridSearchCV(estimator= model, scoring='roc_auc', cv=kfold, param_grid = {})\n",
    "        str_cv.fit(X_train, y_train)\n",
    "    \n",
    "        \n",
    "        \n",
    "        predicted_train = str_cv.predict(X_train)\n",
    "        predicted_test = str_cv.predict(X_test)\n",
    "    \n",
    "    \n",
    "        print(type(classifier).__name__)\n",
    "        print('Accuracy Score for test data: {:.3f}'.format(accuracy_score(y_test, predicted_test)))\n",
    "        print('Precision Score for test data {:.3f}'.format(precision_score(y_test, predicted_test)))\n",
    "        print('Recall Score for test data {:.3f}'.format(recall_score(y_test, predicted_test)))\n",
    "        print('f1 score for test data{:.3f}'.format(f1_score(y_test, predicted_test)))\n",
    "        print('fbeta0.2_score for test data{:.3f}'.format(fbeta_score(y_test, predicted_test, beta = 0.5)))\n",
    "        print('fbeta2_score for test data{:.3f}'.format(fbeta_score(y_test, predicted_test, beta = 2)))\n",
    "        print('ROC-AUC Score for test data: {:.3f}'.format(roc_auc_score(y_test, predicted_test)))\n",
    "        print('Confusion matrix for train data')\n",
    "        print(confusion_matrix(y_train, predicted_train))\n",
    "        print('Confusion matrix for test data')\n",
    "        print(confusion_matrix(y_test, predicted_test))\n",
    "        print('-' *50)"
   ]
  },
  {
   "cell_type": "code",
   "execution_count": 10,
   "metadata": {},
   "outputs": [
    {
     "name": "stdout",
     "output_type": "stream",
     "text": [
      "LogisticRegression\n",
      "Accuracy Score for train data: 0.891\n",
      "Accuracy Score for test data: 0.893\n",
      "Precision Score for train data 0.883\n",
      "Precision Score for test data 0.890\n",
      "Recall Score for train data 0.902\n",
      "Recall Score for test data 0.898\n",
      "f1 score for train data0.892\n",
      "f1 score for test data0.894\n",
      "fbeta0.2_score for train data0.886\n",
      "fbeta0.2_score for test data0.892\n",
      "fbeta2_score for train data0.898\n",
      "fbeta2_score for test data0.897\n",
      "ROC-AUC Score for train data: 0.891\n",
      "ROC-AUC Score for test data: 0.893\n",
      "Confusion matrix for train data\n",
      "[[3036  410]\n",
      " [ 336 3083]]\n",
      "Confusion matrix for test data\n",
      "[[1293  165]\n",
      " [ 151 1334]]\n",
      "--------------------------------------------------\n"
     ]
    },
    {
     "name": "stderr",
     "output_type": "stream",
     "text": [
      "/Applications/anaconda3/lib/python3.7/site-packages/sklearn/svm/_base.py:947: ConvergenceWarning: Liblinear failed to converge, increase the number of iterations.\n",
      "  \"the number of iterations.\", ConvergenceWarning)\n",
      "/Applications/anaconda3/lib/python3.7/site-packages/sklearn/svm/_base.py:947: ConvergenceWarning: Liblinear failed to converge, increase the number of iterations.\n",
      "  \"the number of iterations.\", ConvergenceWarning)\n",
      "/Applications/anaconda3/lib/python3.7/site-packages/sklearn/svm/_base.py:947: ConvergenceWarning: Liblinear failed to converge, increase the number of iterations.\n",
      "  \"the number of iterations.\", ConvergenceWarning)\n",
      "/Applications/anaconda3/lib/python3.7/site-packages/sklearn/svm/_base.py:947: ConvergenceWarning: Liblinear failed to converge, increase the number of iterations.\n",
      "  \"the number of iterations.\", ConvergenceWarning)\n",
      "/Applications/anaconda3/lib/python3.7/site-packages/sklearn/svm/_base.py:947: ConvergenceWarning: Liblinear failed to converge, increase the number of iterations.\n",
      "  \"the number of iterations.\", ConvergenceWarning)\n",
      "/Applications/anaconda3/lib/python3.7/site-packages/sklearn/svm/_base.py:947: ConvergenceWarning: Liblinear failed to converge, increase the number of iterations.\n",
      "  \"the number of iterations.\", ConvergenceWarning)\n"
     ]
    },
    {
     "name": "stdout",
     "output_type": "stream",
     "text": [
      "LinearSVC\n",
      "Accuracy Score for train data: 0.893\n",
      "Accuracy Score for test data: 0.894\n",
      "Precision Score for train data 0.878\n",
      "Precision Score for test data 0.886\n",
      "Recall Score for train data 0.911\n",
      "Recall Score for test data 0.906\n",
      "f1 score for train data0.894\n",
      "f1 score for test data0.896\n",
      "fbeta0.2_score for train data0.885\n",
      "fbeta0.2_score for test data0.890\n",
      "fbeta2_score for train data0.904\n",
      "fbeta2_score for test data0.902\n",
      "ROC-AUC Score for train data: 0.893\n",
      "ROC-AUC Score for test data: 0.894\n",
      "Confusion matrix for train data\n",
      "[[3015  431]\n",
      " [ 306 3113]]\n",
      "Confusion matrix for test data\n",
      "[[1285  173]\n",
      " [ 140 1345]]\n",
      "--------------------------------------------------\n",
      "GaussianNB\n",
      "Accuracy Score for train data: 0.730\n",
      "Accuracy Score for test data: 0.742\n",
      "Precision Score for train data 0.889\n",
      "Precision Score for test data 0.902\n",
      "Recall Score for train data 0.523\n",
      "Recall Score for test data 0.547\n",
      "f1 score for train data0.658\n",
      "f1 score for test data0.681\n",
      "fbeta0.2_score for train data0.779\n",
      "fbeta0.2_score for test data0.799\n",
      "fbeta2_score for train data0.570\n",
      "fbeta2_score for test data0.594\n",
      "ROC-AUC Score for train data: 0.729\n",
      "ROC-AUC Score for test data: 0.744\n",
      "Confusion matrix for train data\n",
      "[[3222  224]\n",
      " [1632 1787]]\n",
      "Confusion matrix for test data\n",
      "[[1370   88]\n",
      " [ 672  813]]\n",
      "--------------------------------------------------\n",
      "LinearDiscriminantAnalysis\n",
      "Accuracy Score for train data: 0.926\n",
      "Accuracy Score for test data: 0.933\n",
      "Precision Score for train data 0.952\n",
      "Precision Score for test data 0.959\n",
      "Recall Score for train data 0.896\n",
      "Recall Score for test data 0.906\n",
      "f1 score for train data0.923\n",
      "f1 score for test data0.932\n",
      "fbeta0.2_score for train data0.940\n",
      "fbeta0.2_score for test data0.948\n",
      "fbeta2_score for train data0.907\n",
      "fbeta2_score for test data0.917\n",
      "ROC-AUC Score for train data: 0.926\n",
      "ROC-AUC Score for test data: 0.934\n",
      "Confusion matrix for train data\n",
      "[[3292  154]\n",
      " [ 354 3065]]\n",
      "Confusion matrix for test data\n",
      "[[1401   57]\n",
      " [ 139 1346]]\n",
      "--------------------------------------------------\n",
      "RandomForestClassifier\n",
      "Accuracy Score for train data: 1.000\n",
      "Accuracy Score for test data: 0.946\n",
      "Precision Score for train data 1.000\n",
      "Precision Score for test data 0.929\n",
      "Recall Score for train data 1.000\n",
      "Recall Score for test data 0.966\n",
      "f1 score for train data1.000\n",
      "f1 score for test data0.947\n",
      "fbeta0.2_score for train data1.000\n",
      "fbeta0.2_score for test data0.936\n",
      "fbeta2_score for train data1.000\n",
      "fbeta2_score for test data0.958\n",
      "ROC-AUC Score for train data: 1.000\n",
      "ROC-AUC Score for test data: 0.945\n",
      "Confusion matrix for train data\n",
      "[[3446    0]\n",
      " [   0 3419]]\n",
      "Confusion matrix for test data\n",
      "[[1349  109]\n",
      " [  51 1434]]\n",
      "--------------------------------------------------\n",
      "GradientBoostingClassifier\n",
      "Accuracy Score for train data: 0.958\n",
      "Accuracy Score for test data: 0.943\n",
      "Precision Score for train data 0.953\n",
      "Precision Score for test data 0.930\n",
      "Recall Score for train data 0.963\n",
      "Recall Score for test data 0.958\n",
      "f1 score for train data0.958\n",
      "f1 score for test data0.944\n",
      "fbeta0.2_score for train data0.955\n",
      "fbeta0.2_score for test data0.936\n",
      "fbeta2_score for train data0.961\n",
      "fbeta2_score for test data0.952\n",
      "ROC-AUC Score for train data: 0.958\n",
      "ROC-AUC Score for test data: 0.942\n",
      "Confusion matrix for train data\n",
      "[[3285  161]\n",
      " [ 126 3293]]\n",
      "Confusion matrix for test data\n",
      "[[1351  107]\n",
      " [  62 1423]]\n",
      "--------------------------------------------------\n",
      "[15:15:55] WARNING: /Users/travis/build/dmlc/xgboost/src/learner.cc:1095: Starting in XGBoost 1.3.0, the default evaluation metric used with the objective 'binary:logistic' was changed from 'error' to 'logloss'. Explicitly set eval_metric if you'd like to restore the old behavior.\n"
     ]
    },
    {
     "name": "stderr",
     "output_type": "stream",
     "text": [
      "/Applications/anaconda3/lib/python3.7/site-packages/xgboost/sklearn.py:1146: UserWarning: The use of label encoder in XGBClassifier is deprecated and will be removed in a future release. To remove this warning, do the following: 1) Pass option use_label_encoder=False when constructing XGBClassifier object; and 2) Encode your labels (y) as integers starting with 0, i.e. 0, 1, 2, ..., [num_class - 1].\n",
      "  warnings.warn(label_encoder_deprecation_msg, UserWarning)\n",
      "/Applications/anaconda3/lib/python3.7/site-packages/xgboost/sklearn.py:1146: UserWarning: The use of label encoder in XGBClassifier is deprecated and will be removed in a future release. To remove this warning, do the following: 1) Pass option use_label_encoder=False when constructing XGBClassifier object; and 2) Encode your labels (y) as integers starting with 0, i.e. 0, 1, 2, ..., [num_class - 1].\n",
      "  warnings.warn(label_encoder_deprecation_msg, UserWarning)\n"
     ]
    },
    {
     "name": "stdout",
     "output_type": "stream",
     "text": [
      "[15:15:56] WARNING: /Users/travis/build/dmlc/xgboost/src/learner.cc:1095: Starting in XGBoost 1.3.0, the default evaluation metric used with the objective 'binary:logistic' was changed from 'error' to 'logloss'. Explicitly set eval_metric if you'd like to restore the old behavior.\n"
     ]
    },
    {
     "name": "stderr",
     "output_type": "stream",
     "text": [
      "/Applications/anaconda3/lib/python3.7/site-packages/xgboost/sklearn.py:1146: UserWarning: The use of label encoder in XGBClassifier is deprecated and will be removed in a future release. To remove this warning, do the following: 1) Pass option use_label_encoder=False when constructing XGBClassifier object; and 2) Encode your labels (y) as integers starting with 0, i.e. 0, 1, 2, ..., [num_class - 1].\n",
      "  warnings.warn(label_encoder_deprecation_msg, UserWarning)\n"
     ]
    },
    {
     "name": "stdout",
     "output_type": "stream",
     "text": [
      "[15:15:57] WARNING: /Users/travis/build/dmlc/xgboost/src/learner.cc:1095: Starting in XGBoost 1.3.0, the default evaluation metric used with the objective 'binary:logistic' was changed from 'error' to 'logloss'. Explicitly set eval_metric if you'd like to restore the old behavior.\n"
     ]
    },
    {
     "name": "stderr",
     "output_type": "stream",
     "text": [
      "/Applications/anaconda3/lib/python3.7/site-packages/xgboost/sklearn.py:1146: UserWarning: The use of label encoder in XGBClassifier is deprecated and will be removed in a future release. To remove this warning, do the following: 1) Pass option use_label_encoder=False when constructing XGBClassifier object; and 2) Encode your labels (y) as integers starting with 0, i.e. 0, 1, 2, ..., [num_class - 1].\n",
      "  warnings.warn(label_encoder_deprecation_msg, UserWarning)\n"
     ]
    },
    {
     "name": "stdout",
     "output_type": "stream",
     "text": [
      "[15:15:58] WARNING: /Users/travis/build/dmlc/xgboost/src/learner.cc:1095: Starting in XGBoost 1.3.0, the default evaluation metric used with the objective 'binary:logistic' was changed from 'error' to 'logloss'. Explicitly set eval_metric if you'd like to restore the old behavior.\n"
     ]
    },
    {
     "name": "stderr",
     "output_type": "stream",
     "text": [
      "/Applications/anaconda3/lib/python3.7/site-packages/xgboost/sklearn.py:1146: UserWarning: The use of label encoder in XGBClassifier is deprecated and will be removed in a future release. To remove this warning, do the following: 1) Pass option use_label_encoder=False when constructing XGBClassifier object; and 2) Encode your labels (y) as integers starting with 0, i.e. 0, 1, 2, ..., [num_class - 1].\n",
      "  warnings.warn(label_encoder_deprecation_msg, UserWarning)\n"
     ]
    },
    {
     "name": "stdout",
     "output_type": "stream",
     "text": [
      "[15:15:59] WARNING: /Users/travis/build/dmlc/xgboost/src/learner.cc:1095: Starting in XGBoost 1.3.0, the default evaluation metric used with the objective 'binary:logistic' was changed from 'error' to 'logloss'. Explicitly set eval_metric if you'd like to restore the old behavior.\n"
     ]
    },
    {
     "name": "stderr",
     "output_type": "stream",
     "text": [
      "/Applications/anaconda3/lib/python3.7/site-packages/xgboost/sklearn.py:1146: UserWarning: The use of label encoder in XGBClassifier is deprecated and will be removed in a future release. To remove this warning, do the following: 1) Pass option use_label_encoder=False when constructing XGBClassifier object; and 2) Encode your labels (y) as integers starting with 0, i.e. 0, 1, 2, ..., [num_class - 1].\n",
      "  warnings.warn(label_encoder_deprecation_msg, UserWarning)\n"
     ]
    },
    {
     "name": "stdout",
     "output_type": "stream",
     "text": [
      "[15:16:00] WARNING: /Users/travis/build/dmlc/xgboost/src/learner.cc:1095: Starting in XGBoost 1.3.0, the default evaluation metric used with the objective 'binary:logistic' was changed from 'error' to 'logloss'. Explicitly set eval_metric if you'd like to restore the old behavior.\n",
      "XGBClassifier\n",
      "Accuracy Score for train data: 1.000\n",
      "Accuracy Score for test data: 0.961\n",
      "Precision Score for train data 1.000\n",
      "Precision Score for test data 0.957\n",
      "Recall Score for train data 1.000\n",
      "Recall Score for test data 0.965\n",
      "f1 score for train data1.000\n",
      "f1 score for test data0.961\n",
      "fbeta0.2_score for train data1.000\n",
      "fbeta0.2_score for test data0.959\n",
      "fbeta2_score for train data1.000\n",
      "fbeta2_score for test data0.963\n",
      "ROC-AUC Score for train data: 1.000\n",
      "ROC-AUC Score for test data: 0.961\n",
      "Confusion matrix for train data\n",
      "[[3446    0]\n",
      " [   0 3419]]\n",
      "Confusion matrix for test data\n",
      "[[1394   64]\n",
      " [  52 1433]]\n",
      "--------------------------------------------------\n"
     ]
    }
   ],
   "source": [
    "evaluate_model_stratified(X_train_sm, X_test_sm, y_train_sm, y_test_sm)"
   ]
  },
  {
   "cell_type": "markdown",
   "metadata": {},
   "source": [
    "## Hyperparameter tuning and Grid search for gradient classifier"
   ]
  },
  {
   "cell_type": "code",
   "execution_count": 31,
   "metadata": {},
   "outputs": [
    {
     "data": {
      "text/plain": [
       "GridSearchCV(cv=5, error_score=nan,\n",
       "             estimator=GradientBoostingClassifier(ccp_alpha=0.0,\n",
       "                                                  criterion='friedman_mse',\n",
       "                                                  init=None, learning_rate=0.1,\n",
       "                                                  loss='deviance', max_depth=3,\n",
       "                                                  max_features=None,\n",
       "                                                  max_leaf_nodes=None,\n",
       "                                                  min_impurity_decrease=0.0,\n",
       "                                                  min_impurity_split=None,\n",
       "                                                  min_samples_leaf=1,\n",
       "                                                  min_samples_split=2,\n",
       "                                                  min_weight_fraction_leaf=0.0,\n",
       "                                                  n_estimators=100,\n",
       "                                                  n_iter_no_c...=None,\n",
       "                                                  presort='deprecated',\n",
       "                                                  random_state=None,\n",
       "                                                  subsample=1.0, tol=0.0001,\n",
       "                                                  validation_fraction=0.1,\n",
       "                                                  verbose=0, warm_start=False),\n",
       "             iid='deprecated', n_jobs=None,\n",
       "             param_grid={'learning_rate': [0.01, 0.1, 1],\n",
       "                         'max_depth': [1, 3, 5], 'n_estimators': [50, 100, 200],\n",
       "                         'subsample': [0.3, 0.9, 1.0]},\n",
       "             pre_dispatch='2*n_jobs', refit=True, return_train_score=False,\n",
       "             scoring=None, verbose=0)"
      ]
     },
     "execution_count": 31,
     "metadata": {},
     "output_type": "execute_result"
    }
   ],
   "source": [
    "#parameters for gradient classifier\n",
    "gbc = GradientBoostingClassifier()\n",
    "parameters = {\n",
    "    \"n_estimators\":[50,100,200],\n",
    "    \"max_depth\":[1,3,5],\n",
    "    \"learning_rate\":[0.01,0.1,1],\n",
    "    \"subsample\": [0.3, 0.9, 1.0]\n",
    "}\n",
    "\n",
    "clf= GridSearchCV(gbc,parameters,cv=5)\n",
    "clf.fit(X_train_sm, y_train_sm)"
   ]
  },
  {
   "cell_type": "code",
   "execution_count": 18,
   "metadata": {},
   "outputs": [],
   "source": [
    "#GBC model\n",
    "gbc2 = GradientBoostingClassifier(learning_rate= 0.1, max_depth= 5, n_estimators= 200, subsample= 0.9)"
   ]
  },
  {
   "cell_type": "code",
   "execution_count": 20,
   "metadata": {},
   "outputs": [],
   "source": [
    "# clf.best_params_\n",
    "# {'learning_rate': 0.1, 'max_depth': 5, 'n_estimators': 200, 'subsample': 0.9}\n",
    "clf_best = gbc2.fit(X_train_sm, y_train_sm)"
   ]
  },
  {
   "cell_type": "code",
   "execution_count": 21,
   "metadata": {},
   "outputs": [
    {
     "data": {
      "text/html": [
       "<div>\n",
       "<style scoped>\n",
       "    .dataframe tbody tr th:only-of-type {\n",
       "        vertical-align: middle;\n",
       "    }\n",
       "\n",
       "    .dataframe tbody tr th {\n",
       "        vertical-align: top;\n",
       "    }\n",
       "\n",
       "    .dataframe thead th {\n",
       "        text-align: right;\n",
       "    }\n",
       "</style>\n",
       "<table border=\"1\" class=\"dataframe\">\n",
       "  <thead>\n",
       "    <tr style=\"text-align: right;\">\n",
       "      <th></th>\n",
       "      <th>feature</th>\n",
       "      <th>coef</th>\n",
       "    </tr>\n",
       "  </thead>\n",
       "  <tbody>\n",
       "    <tr>\n",
       "      <th>19</th>\n",
       "      <td>diag_grp</td>\n",
       "      <td>0.511205</td>\n",
       "    </tr>\n",
       "    <tr>\n",
       "      <th>21</th>\n",
       "      <td>patient_duplicate_count</td>\n",
       "      <td>0.110478</td>\n",
       "    </tr>\n",
       "    <tr>\n",
       "      <th>18</th>\n",
       "      <td>claimdiag</td>\n",
       "      <td>0.075376</td>\n",
       "    </tr>\n",
       "    <tr>\n",
       "      <th>4</th>\n",
       "      <td>Race5</td>\n",
       "      <td>0.036073</td>\n",
       "    </tr>\n",
       "    <tr>\n",
       "      <th>11</th>\n",
       "      <td>chronic_mean</td>\n",
       "      <td>0.028409</td>\n",
       "    </tr>\n",
       "    <tr>\n",
       "      <th>3</th>\n",
       "      <td>Race3</td>\n",
       "      <td>0.027062</td>\n",
       "    </tr>\n",
       "    <tr>\n",
       "      <th>12</th>\n",
       "      <td>claim_count</td>\n",
       "      <td>0.026506</td>\n",
       "    </tr>\n",
       "    <tr>\n",
       "      <th>13</th>\n",
       "      <td>days_admitted</td>\n",
       "      <td>0.023471</td>\n",
       "    </tr>\n",
       "    <tr>\n",
       "      <th>10</th>\n",
       "      <td>no_phy</td>\n",
       "      <td>0.021110</td>\n",
       "    </tr>\n",
       "    <tr>\n",
       "      <th>15</th>\n",
       "      <td>totalamount_charged</td>\n",
       "      <td>0.019880</td>\n",
       "    </tr>\n",
       "    <tr>\n",
       "      <th>7</th>\n",
       "      <td>mean_age</td>\n",
       "      <td>0.019500</td>\n",
       "    </tr>\n",
       "    <tr>\n",
       "      <th>17</th>\n",
       "      <td>annual_amount</td>\n",
       "      <td>0.015240</td>\n",
       "    </tr>\n",
       "    <tr>\n",
       "      <th>16</th>\n",
       "      <td>revenue_day</td>\n",
       "      <td>0.014993</td>\n",
       "    </tr>\n",
       "    <tr>\n",
       "      <th>20</th>\n",
       "      <td>duplicate_claims</td>\n",
       "      <td>0.013428</td>\n",
       "    </tr>\n",
       "    <tr>\n",
       "      <th>14</th>\n",
       "      <td>coverage</td>\n",
       "      <td>0.012106</td>\n",
       "    </tr>\n",
       "  </tbody>\n",
       "</table>\n",
       "</div>"
      ],
      "text/plain": [
       "                    feature      coef\n",
       "19                 diag_grp  0.511205\n",
       "21  patient_duplicate_count  0.110478\n",
       "18                claimdiag  0.075376\n",
       "4                     Race5  0.036073\n",
       "11             chronic_mean  0.028409\n",
       "3                     Race3  0.027062\n",
       "12              claim_count  0.026506\n",
       "13            days_admitted  0.023471\n",
       "10                   no_phy  0.021110\n",
       "15      totalamount_charged  0.019880\n",
       "7                  mean_age  0.019500\n",
       "17            annual_amount  0.015240\n",
       "16              revenue_day  0.014993\n",
       "20         duplicate_claims  0.013428\n",
       "14                 coverage  0.012106"
      ]
     },
     "execution_count": 21,
     "metadata": {},
     "output_type": "execute_result"
    }
   ],
   "source": [
    "GradBoo_top15_features = pd.DataFrame(zip(x.columns, list(clf_best.feature_importances_)), columns=['feature', 'coef'])\\\n",
    "            .sort_values('coef', ascending=False).head(15)\n",
    "GradBoo_top15_features"
   ]
  },
  {
   "cell_type": "code",
   "execution_count": 22,
   "metadata": {},
   "outputs": [
    {
     "data": {
      "text/plain": [
       "Text(0, 0.5, '')"
      ]
     },
     "execution_count": 22,
     "metadata": {},
     "output_type": "execute_result"
    },
    {
     "data": {
      "image/png": "[encoded data removed]",
      "text/plain": [
       "<Figure size 432x288 with 1 Axes>"
      ]
     },
     "metadata": {
      "needs_background": "light"
     },
     "output_type": "display_data"
    }
   ],
   "source": [
    "ax = sns.barplot(x=\"coef\", y=\"feature\", data=GradBoo_top15_features ,palette=\"crest\")\n",
    "ax.set_title('Important feature by Gradient Boost Model')\n",
    "ax.set_xlabel('Features Importance')\n",
    "ax.set_ylabel('')"
   ]
  },
  {
   "cell_type": "code",
   "execution_count": 25,
   "metadata": {},
   "outputs": [],
   "source": [
    "def conf_mat(y_test, y_pred):\n",
    "    cm = confusion_matrix(y_test, y_pred)\n",
    "    group_names = ['True Negative','False Positive','False Negative','True Positive']\n",
    "    group_counts = ['{0:0.0f}'.format(value) for value in\n",
    "                cm.flatten()]\n",
    "    group_percentages = ['{0:.4%}'.format(value) for value in\n",
    "                     cm.flatten()/np.sum(cm)]\n",
    "    labels = [f'{v1}\\n{v2}\\n{v3}' for v1, v2, v3 in\n",
    "          zip(group_names,group_counts,group_percentages)]\n",
    "    labels = np.asarray(labels).reshape(2,2)\n",
    "    ax= plt.subplot()\n",
    "    sns.heatmap(cm/np.sum(cm), annot=labels, ax = ax, fmt='', cmap='coolwarm');\n",
    "    # labels, title and ticks\n",
    "    ax.set_xlabel('Predicted labels');ax.set_ylabel('True labels')\n",
    "    ax.set_title('Confusion Matrix')\n",
    "    ax.xaxis.set_ticklabels(['No Fraud', 'Potential Fraud']); ax.yaxis.set_ticklabels(['No Fraud', 'Potential Fraud'])\n",
    "    return"
   ]
  },
  {
   "cell_type": "code",
   "execution_count": 23,
   "metadata": {},
   "outputs": [],
   "source": [
    "predicted_test = clf_best.predict(X_test_sm)"
   ]
  },
  {
   "cell_type": "code",
   "execution_count": 26,
   "metadata": {},
   "outputs": [
    {
     "name": "stdout",
     "output_type": "stream",
     "text": [
      "Accuracy Score: 0.9602446483180428\n",
      "F1 Score: 0.9606193200942443\n"
     ]
    },
    {
     "data": {
      "image/png": "[encoded data removed]",
      "text/plain": [
       "<Figure size 432x288 with 2 Axes>"
      ]
     },
     "metadata": {
      "needs_background": "light"
     },
     "output_type": "display_data"
    }
   ],
   "source": [
    "print(f'Accuracy Score: {accuracy_score(y_test_sm,predicted_test)}')\n",
    "print('F1 Score: {}'.format(f1_score(y_test_sm, predicted_test)))\n",
    "conf_mat(y_test_sm, predicted_test)"
   ]
  },
  {
   "cell_type": "code",
   "execution_count": 174,
   "metadata": {},
   "outputs": [],
   "source": [
    "#Claims per provider\n",
    "n = provider4['claim_count'].mean()\n",
    "\n",
    "#cost based on non-oversampled train-test split of 1527 Negatives and 96 Positives\n",
    "Neg = 1527\n",
    "Pos = 96\n",
    "#Average cost per fraudulent claim is the mean of InscClaimAmtReimbursed when PotentialFraud = \"Yes\", $1389.51\n",
    "c = 998\n",
    "\n",
    "# 29.17 = average hourly pay for a claims adjuster via https://www.indeed.com/career/claims-adjuster/salaries\n",
    "i = 2 * 29.17 #cost to investigate a claim, assuming it takes 1 claims adjuster ~2 hours\n",
    "\n",
    "#Total dollars saved\n",
    "# ((number of true positive * c) - (false positive + true positive)* i  - (c * number false negatives))/ 0.7*n"
   ]
  },
  {
   "cell_type": "code",
   "execution_count": 144,
   "metadata": {},
   "outputs": [
    {
     "name": "stdout",
     "output_type": "stream",
     "text": [
      "Gradient Boosting Model will save: $3110616.89\n"
     ]
    }
   ],
   "source": [
    "#Gradient Boost costs saved\n",
    "GB_cost = Pos * .4865 * c - Pos * i - c * Neg*.018\n",
    "print(f'Gradient Boosting Model will save: ${round(GB_cost / .7 * n, 2)}')"
   ]
  },
  {
   "cell_type": "code",
   "execution_count": null,
   "metadata": {},
   "outputs": [],
   "source": [
    "# xg.best_params_\n",
    "# {'learning_rate': 0.1, 'max_depth': 5, 'n_estimators': 200, 'subsample': 0.9}"
   ]
  },
  {
   "cell_type": "code",
   "execution_count": 39,
   "metadata": {},
   "outputs": [],
   "source": [
    "xgb2 = XGBClassifier(use_label_encoder=False, eval_metric='logloss', gamma = 0.2, learning_rate=0.1, max_depth=5, n_estimators=500, subsample=0.9)"
   ]
  },
  {
   "cell_type": "code",
   "execution_count": 40,
   "metadata": {},
   "outputs": [],
   "source": [
    "xb_best = xgb2.fit(X_train_sm, y_train_sm)"
   ]
  },
  {
   "cell_type": "code",
   "execution_count": 41,
   "metadata": {},
   "outputs": [],
   "source": [
    "predicted_test = xb_best.predict(X_test_sm)"
   ]
  },
  {
   "cell_type": "code",
   "execution_count": 42,
   "metadata": {},
   "outputs": [
    {
     "name": "stdout",
     "output_type": "stream",
     "text": [
      "Accuracy Score: 0.963642541624193\n",
      "F1 Score: 0.9639609296059279\n"
     ]
    },
    {
     "data": {
      "image/png": "[encoded data removed]",
      "text/plain": [
       "<Figure size 864x576 with 2 Axes>"
      ]
     },
     "metadata": {
      "needs_background": "light"
     },
     "output_type": "display_data"
    }
   ],
   "source": [
    "print(f'Accuracy Score: {accuracy_score(y_test_sm,predicted_test)}')\n",
    "print('F1 Score: {}'.format(f1_score(y_test_sm, predicted_test)))\n",
    "conf_mat(y_test_sm, predicted_test)"
   ]
  },
  {
   "cell_type": "code",
   "execution_count": 169,
   "metadata": {},
   "outputs": [
    {
     "name": "stdout",
     "output_type": "stream",
     "text": [
      "XG Boost Model will save: $3445000.17\n"
     ]
    }
   ],
   "source": [
    "#XGBoost costs saved\n",
    "print(f'XG Boost Model will save: ${round((Pos * .4876 * c - Pos * i - c * Neg*.0170)/.7*n, 2)}')\n",
    "#Ensemble Model will save: $3445000.17"
   ]
  },
  {
   "cell_type": "code",
   "execution_count": 37,
   "metadata": {},
   "outputs": [
    {
     "data": {
      "text/html": [
       "<div>\n",
       "<style scoped>\n",
       "    .dataframe tbody tr th:only-of-type {\n",
       "        vertical-align: middle;\n",
       "    }\n",
       "\n",
       "    .dataframe tbody tr th {\n",
       "        vertical-align: top;\n",
       "    }\n",
       "\n",
       "    .dataframe thead th {\n",
       "        text-align: right;\n",
       "    }\n",
       "</style>\n",
       "<table border=\"1\" class=\"dataframe\">\n",
       "  <thead>\n",
       "    <tr style=\"text-align: right;\">\n",
       "      <th></th>\n",
       "      <th>feature</th>\n",
       "      <th>coef</th>\n",
       "    </tr>\n",
       "  </thead>\n",
       "  <tbody>\n",
       "    <tr>\n",
       "      <th>19</th>\n",
       "      <td>diag_grp</td>\n",
       "      <td>0.324505</td>\n",
       "    </tr>\n",
       "    <tr>\n",
       "      <th>21</th>\n",
       "      <td>patient_duplicate_count</td>\n",
       "      <td>0.248629</td>\n",
       "    </tr>\n",
       "    <tr>\n",
       "      <th>18</th>\n",
       "      <td>claimdiag</td>\n",
       "      <td>0.057567</td>\n",
       "    </tr>\n",
       "    <tr>\n",
       "      <th>11</th>\n",
       "      <td>chronic_mean</td>\n",
       "      <td>0.054047</td>\n",
       "    </tr>\n",
       "    <tr>\n",
       "      <th>10</th>\n",
       "      <td>no_phy</td>\n",
       "      <td>0.051009</td>\n",
       "    </tr>\n",
       "    <tr>\n",
       "      <th>4</th>\n",
       "      <td>Race5</td>\n",
       "      <td>0.039091</td>\n",
       "    </tr>\n",
       "    <tr>\n",
       "      <th>3</th>\n",
       "      <td>Race3</td>\n",
       "      <td>0.034010</td>\n",
       "    </tr>\n",
       "    <tr>\n",
       "      <th>13</th>\n",
       "      <td>days_admitted</td>\n",
       "      <td>0.028042</td>\n",
       "    </tr>\n",
       "    <tr>\n",
       "      <th>20</th>\n",
       "      <td>duplicate_claims</td>\n",
       "      <td>0.021070</td>\n",
       "    </tr>\n",
       "    <tr>\n",
       "      <th>7</th>\n",
       "      <td>mean_age</td>\n",
       "      <td>0.018327</td>\n",
       "    </tr>\n",
       "    <tr>\n",
       "      <th>12</th>\n",
       "      <td>claim_count</td>\n",
       "      <td>0.016341</td>\n",
       "    </tr>\n",
       "    <tr>\n",
       "      <th>15</th>\n",
       "      <td>totalamount_charged</td>\n",
       "      <td>0.010807</td>\n",
       "    </tr>\n",
       "    <tr>\n",
       "      <th>17</th>\n",
       "      <td>annual_amount</td>\n",
       "      <td>0.010787</td>\n",
       "    </tr>\n",
       "    <tr>\n",
       "      <th>16</th>\n",
       "      <td>revenue_day</td>\n",
       "      <td>0.010422</td>\n",
       "    </tr>\n",
       "    <tr>\n",
       "      <th>5</th>\n",
       "      <td>Male</td>\n",
       "      <td>0.009992</td>\n",
       "    </tr>\n",
       "  </tbody>\n",
       "</table>\n",
       "</div>"
      ],
      "text/plain": [
       "                    feature      coef\n",
       "19                 diag_grp  0.324505\n",
       "21  patient_duplicate_count  0.248629\n",
       "18                claimdiag  0.057567\n",
       "11             chronic_mean  0.054047\n",
       "10                   no_phy  0.051009\n",
       "4                     Race5  0.039091\n",
       "3                     Race3  0.034010\n",
       "13            days_admitted  0.028042\n",
       "20         duplicate_claims  0.021070\n",
       "7                  mean_age  0.018327\n",
       "12              claim_count  0.016341\n",
       "15      totalamount_charged  0.010807\n",
       "17            annual_amount  0.010787\n",
       "16              revenue_day  0.010422\n",
       "5                      Male  0.009992"
      ]
     },
     "execution_count": 37,
     "metadata": {},
     "output_type": "execute_result"
    }
   ],
   "source": [
    "XGB_top15_features = pd.DataFrame(zip(x.columns, list(xgb2.feature_importances_)), columns=['feature', 'coef'])\\\n",
    "            .sort_values('coef', ascending=False).head(15)\n",
    "XGB_top15_features"
   ]
  },
  {
   "cell_type": "code",
   "execution_count": 38,
   "metadata": {},
   "outputs": [
    {
     "data": {
      "text/plain": [
       "Text(0, 0.5, '')"
      ]
     },
     "execution_count": 38,
     "metadata": {},
     "output_type": "execute_result"
    },
    {
     "data": {
      "image/png": "[encoded data removed]",
      "text/plain": [
       "<Figure size 864x576 with 1 Axes>"
      ]
     },
     "metadata": {
      "needs_background": "light"
     },
     "output_type": "display_data"
    }
   ],
   "source": [
    "plt.rcParams['figure.figsize'] = (12,8)\n",
    "ax = sns.barplot(x=\"coef\", y=\"feature\", data=XGB_top15_features,palette=\"flare\" )\n",
    "ax.set_title('Important feature by XGBoost Model')\n",
    "ax.set_xlabel('Features Importance')\n",
    "ax.set_ylabel('')"
   ]
  },
  {
   "cell_type": "code",
   "execution_count": 28,
   "metadata": {},
   "outputs": [],
   "source": [
    "# grid_search.fit(X_train_sm, y_train_sm)\n",
    "# grid_search.best_params_\n",
    "# {'max_depth': 80,\n",
    "#  'max_features': 3,\n",
    "#  'min_samples_leaf': 3,\n",
    "#  'min_samples_split': 8,\n",
    "#  'n_estimators': 500}"
   ]
  },
  {
   "cell_type": "code",
   "execution_count": 45,
   "metadata": {},
   "outputs": [],
   "source": [
    "#Random Forest\n",
    "bestRF = RandomForestClassifier(max_depth= 50, max_features= 3, min_samples_leaf=3, min_samples_split=8,\n",
    "                                n_estimators= 300)"
   ]
  },
  {
   "cell_type": "code",
   "execution_count": 46,
   "metadata": {},
   "outputs": [
    {
     "data": {
      "text/plain": [
       "RandomForestClassifier(max_depth=50, max_features=3, min_samples_leaf=3,\n",
       "                       min_samples_split=8, n_estimators=300)"
      ]
     },
     "execution_count": 46,
     "metadata": {},
     "output_type": "execute_result"
    }
   ],
   "source": [
    "bestRF.fit(X_train_sm, y_train_sm)"
   ]
  },
  {
   "cell_type": "code",
   "execution_count": 47,
   "metadata": {},
   "outputs": [],
   "source": [
    "predicted_test = bestRF.predict(X_test_sm)"
   ]
  },
  {
   "cell_type": "code",
   "execution_count": 48,
   "metadata": {},
   "outputs": [
    {
     "name": "stdout",
     "output_type": "stream",
     "text": [
      "Accuracy Score: 0.9384981311586816\n",
      "F1 Score: 0.9400066291017568\n"
     ]
    },
    {
     "data": {
      "image/png": "[encoded data removed]",
      "text/plain": [
       "<Figure size 864x576 with 2 Axes>"
      ]
     },
     "metadata": {
      "needs_background": "light"
     },
     "output_type": "display_data"
    }
   ],
   "source": [
    "print(f'Accuracy Score: {accuracy_score(y_test_sm,predicted_test)}')\n",
    "print('F1 Score: {}'.format(f1_score(y_test_sm, predicted_test)))\n",
    "conf_mat(y_test_sm, predicted_test)"
   ]
  },
  {
   "cell_type": "code",
   "execution_count": 160,
   "metadata": {},
   "outputs": [
    {
     "name": "stdout",
     "output_type": "stream",
     "text": [
      "Random Forest Model will save: $1417256.21\n"
     ]
    }
   ],
   "source": [
    "#Random Forest costs saved\n",
    "# (number of true positive * c) - (false positive + true positive)* i  - (c * number false negatives)\n",
    "print(f'Random Forest Model will save: ${round((Pos * .4815 * c - Pos * i - c * Neg*.0231)/.7*n, 2)}')"
   ]
  },
  {
   "cell_type": "code",
   "execution_count": 49,
   "metadata": {},
   "outputs": [
    {
     "data": {
      "text/html": [
       "<div>\n",
       "<style scoped>\n",
       "    .dataframe tbody tr th:only-of-type {\n",
       "        vertical-align: middle;\n",
       "    }\n",
       "\n",
       "    .dataframe tbody tr th {\n",
       "        vertical-align: top;\n",
       "    }\n",
       "\n",
       "    .dataframe thead th {\n",
       "        text-align: right;\n",
       "    }\n",
       "</style>\n",
       "<table border=\"1\" class=\"dataframe\">\n",
       "  <thead>\n",
       "    <tr style=\"text-align: right;\">\n",
       "      <th></th>\n",
       "      <th>feature</th>\n",
       "      <th>coef</th>\n",
       "    </tr>\n",
       "  </thead>\n",
       "  <tbody>\n",
       "    <tr>\n",
       "      <th>19</th>\n",
       "      <td>diag_grp</td>\n",
       "      <td>0.130532</td>\n",
       "    </tr>\n",
       "    <tr>\n",
       "      <th>18</th>\n",
       "      <td>claimdiag</td>\n",
       "      <td>0.121202</td>\n",
       "    </tr>\n",
       "    <tr>\n",
       "      <th>23</th>\n",
       "      <td>outpatient</td>\n",
       "      <td>0.076832</td>\n",
       "    </tr>\n",
       "    <tr>\n",
       "      <th>1</th>\n",
       "      <td>Race1</td>\n",
       "      <td>0.057125</td>\n",
       "    </tr>\n",
       "    <tr>\n",
       "      <th>15</th>\n",
       "      <td>totalamount_charged</td>\n",
       "      <td>0.055889</td>\n",
       "    </tr>\n",
       "    <tr>\n",
       "      <th>5</th>\n",
       "      <td>Male</td>\n",
       "      <td>0.052581</td>\n",
       "    </tr>\n",
       "    <tr>\n",
       "      <th>6</th>\n",
       "      <td>Female</td>\n",
       "      <td>0.046990</td>\n",
       "    </tr>\n",
       "    <tr>\n",
       "      <th>16</th>\n",
       "      <td>revenue_day</td>\n",
       "      <td>0.044746</td>\n",
       "    </tr>\n",
       "    <tr>\n",
       "      <th>12</th>\n",
       "      <td>claim_count</td>\n",
       "      <td>0.042742</td>\n",
       "    </tr>\n",
       "    <tr>\n",
       "      <th>3</th>\n",
       "      <td>Race3</td>\n",
       "      <td>0.039456</td>\n",
       "    </tr>\n",
       "    <tr>\n",
       "      <th>0</th>\n",
       "      <td>patient_count</td>\n",
       "      <td>0.038560</td>\n",
       "    </tr>\n",
       "    <tr>\n",
       "      <th>4</th>\n",
       "      <td>Race5</td>\n",
       "      <td>0.036136</td>\n",
       "    </tr>\n",
       "    <tr>\n",
       "      <th>13</th>\n",
       "      <td>days_admitted</td>\n",
       "      <td>0.034227</td>\n",
       "    </tr>\n",
       "    <tr>\n",
       "      <th>17</th>\n",
       "      <td>annual_amount</td>\n",
       "      <td>0.030907</td>\n",
       "    </tr>\n",
       "    <tr>\n",
       "      <th>14</th>\n",
       "      <td>coverage</td>\n",
       "      <td>0.030263</td>\n",
       "    </tr>\n",
       "  </tbody>\n",
       "</table>\n",
       "</div>"
      ],
      "text/plain": [
       "                feature      coef\n",
       "19             diag_grp  0.130532\n",
       "18            claimdiag  0.121202\n",
       "23           outpatient  0.076832\n",
       "1                 Race1  0.057125\n",
       "15  totalamount_charged  0.055889\n",
       "5                  Male  0.052581\n",
       "6                Female  0.046990\n",
       "16          revenue_day  0.044746\n",
       "12          claim_count  0.042742\n",
       "3                 Race3  0.039456\n",
       "0         patient_count  0.038560\n",
       "4                 Race5  0.036136\n",
       "13        days_admitted  0.034227\n",
       "17        annual_amount  0.030907\n",
       "14             coverage  0.030263"
      ]
     },
     "execution_count": 49,
     "metadata": {},
     "output_type": "execute_result"
    }
   ],
   "source": [
    "RF_top15_features = pd.DataFrame(zip(x.columns, list(bestRF.feature_importances_)), columns=['feature', 'coef'])\\\n",
    "            .sort_values('coef', ascending=False).head(15)\n",
    "RF_top15_features"
   ]
  },
  {
   "cell_type": "code",
   "execution_count": 68,
   "metadata": {},
   "outputs": [
    {
     "data": {
      "text/plain": [
       "Text(0, 0.5, '')"
      ]
     },
     "execution_count": 68,
     "metadata": {},
     "output_type": "execute_result"
    },
    {
     "data": {
      "image/png": "[encoded data removed]",
      "text/plain": [
       "<Figure size 864x576 with 1 Axes>"
      ]
     },
     "metadata": {
      "needs_background": "light"
     },
     "output_type": "display_data"
    }
   ],
   "source": [
    "plt.rcParams['figure.figsize'] = (12,8)\n",
    "ax = sns.barplot(x=\"coef\", y=\"feature\", data=RF_top15_features,palette=\"flare\" )\n",
    "ax.set_title('Important feature by Random Forest Model')\n",
    "ax.set_xlabel('Features Importance')\n",
    "ax.set_ylabel('')"
   ]
  },
  {
   "cell_type": "markdown",
   "metadata": {},
   "source": [
    "# Ensemble"
   ]
  },
  {
   "cell_type": "code",
   "execution_count": 50,
   "metadata": {},
   "outputs": [
    {
     "name": "stdout",
     "output_type": "stream",
     "text": [
      "Accuracy Score: 0.9602446483180428\n",
      "F1 Score: 0.9607514256960752\n"
     ]
    },
    {
     "data": {
      "image/png": "[encoded data removed]",
      "text/plain": [
       "<Figure size 864x576 with 2 Axes>"
      ]
     },
     "metadata": {
      "needs_background": "light"
     },
     "output_type": "display_data"
    }
   ],
   "source": [
    "from sklearn.ensemble import VotingClassifier\n",
    "\n",
    "ensemble = VotingClassifier(estimators=[('GBC', gbc2), ('XGB', xgb2),('RF',bestRF)], voting='hard')\n",
    "ensemble.fit(X_train_sm, y_train_sm)\n",
    "y_pred = ensemble.predict(X_test_sm)\n",
    "\n",
    "print(f'Accuracy Score: {accuracy_score(y_test_sm, y_pred)}')\n",
    "print('F1 Score: {}'.format(f1_score(y_test_sm, y_pred)))\n",
    "conf_mat(y_test_sm, y_pred)"
   ]
  },
  {
   "cell_type": "code",
   "execution_count": 177,
   "metadata": {},
   "outputs": [
    {
     "name": "stdout",
     "output_type": "stream",
     "text": [
      "Ensemble Model will save: $5230694.61\n"
     ]
    }
   ],
   "source": [
    "#Ensemble cost saved\n",
    "Ensemble_cost = Pos * .4876 * c - Pos * i - c * Neg*.0170\n",
    "print(f'Ensemble Model will save: ${round(Ensemble_cost / .3 * n, 2)}')"
   ]
  },
  {
   "cell_type": "code",
   "execution_count": 178,
   "metadata": {},
   "outputs": [
    {
     "data": {
      "text/plain": [
       "435891.2175"
      ]
     },
     "execution_count": 178,
     "metadata": {},
     "output_type": "execute_result"
    }
   ],
   "source": [
    "5230694.61/12"
   ]
  },
  {
   "cell_type": "code",
   "execution_count": 53,
   "metadata": {},
   "outputs": [
    {
     "name": "stdout",
     "output_type": "stream",
     "text": [
      "Ensemble\n",
      "Accuracy Score for test data: 0.960\n",
      "Precision Score for test data: 0.957\n",
      "Recall Score for test data: 0.964\n",
      "f1 score for test data: 0.961\n",
      "f2 score for test data: 0.963\n",
      "ROC-AUC Score for test data: 0.960\n"
     ]
    }
   ],
   "source": [
    "print('Ensemble')\n",
    "print('Accuracy Score for test data: {:.3f}'.format(accuracy_score(y_test_sm, y_pred)))\n",
    "       \n",
    "print('Precision Score for test data: {:.3f}'.format(precision_score(y_test_sm, y_pred)))\n",
    "       \n",
    "print('Recall Score for test data: {:.3f}'.format(recall_score(y_test_sm, y_pred)))\n",
    "       \n",
    "print('f1 score for test data: {:.3f}'.format(f1_score(y_test_sm, y_pred)))\n",
    "       \n",
    "print('f2 score for test data: {:.3f}'.format(fbeta_score(y_test_sm, y_pred, beta = 2)))\n",
    "       \n",
    "print('ROC-AUC Score for test data: {:.3f}'.format(roc_auc_score(y_test_sm, y_pred)))"
   ]
  },
  {
   "cell_type": "code",
   "execution_count": null,
   "metadata": {},
   "outputs": [],
   "source": [
    "# model_rmse = [rmse_cv_test(lasso).mean(), rmse_cv_test(enet).mean(), rmse_cv_test(ridge).mean(),rmse_cv_test(xgb2).mean(),\n",
    "#                 rmse_cv_test(gb).mean(), rmse_cv_test(rf).mean(), rmse_cv_test(lr).mean(), rmse_cv_test(dt).mean()]\n",
    "# models = ['Lasso','eNet','Ridge','XGBoost','GBoost','RanFor','MLR','DecTr']\n",
    "\n",
    "# f, ax = plt.subplots()\n",
    "# a = sns.barplot(x=models, y=model_rmse)\n",
    "# for bar in a.patches:\n",
    "#     a.annotate(format(bar.get_height(), '.4f'), \n",
    "#                    (bar.get_x() + bar.get_width()/2., bar.get_height()), \n",
    "#                    ha ='center', va ='center', \n",
    "#                    xytext = (0, 8), \n",
    "#                    textcoords = 'offset points')\n",
    "# plt.ylim(0, 0.23)\n",
    "# ax.set(ylabel=\"RMSE\",xlabel=\"Model\", title=\"Root Mean Square Error by Model\")"
   ]
  }
 ],
 "metadata": {
  "kernelspec": {
   "display_name": "Python 3",
   "language": "python",
   "name": "python3"
  },
  "language_info": {
   "codemirror_mode": {
    "name": "ipython",
    "version": 3
   },
   "file_extension": ".py",
   "mimetype": "text/x-python",
   "name": "python",
   "nbconvert_exporter": "python",
   "pygments_lexer": "ipython3",
   "version": "3.8.5"
  }
 },
 "nbformat": 4,
 "nbformat_minor": 4
}
