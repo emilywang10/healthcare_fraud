{
 "cells": [
  {
   "cell_type": "code",
   "execution_count": 1,
   "metadata": {},
   "outputs": [],
   "source": [
    "import pandas as pd\n",
    "import numpy as np\n",
    "import seaborn as sns\n",
    "from matplotlib import pyplot as plt\n",
    "%matplotlib inline\n",
    "pd.set_option('display.max_columns', None)"
   ]
  },
  {
   "cell_type": "code",
   "execution_count": 2,
   "metadata": {},
   "outputs": [],
   "source": [
    "provider = pd.read_csv('healthcare_fraud_data/Train-1542865627584.csv')\n",
    "bene = pd.read_csv('healthcare_fraud_data/Train_Beneficiarydata-1542865627584.csv')\n",
    "inpatient = pd.read_csv('healthcare_fraud_data/Train_Inpatientdata-1542865627584.csv')\n",
    "outpatient = pd.read_csv('healthcare_fraud_data/Train_Outpatientdata-1542865627584.csv')"
   ]
  },
  {
   "cell_type": "code",
   "execution_count": 3,
   "metadata": {},
   "outputs": [],
   "source": [
    "inpatient['patient_type'] = 'inpatient'\n",
    "outpatient['patient_type'] = 'outpatient'"
   ]
  },
  {
   "cell_type": "code",
   "execution_count": 4,
   "metadata": {},
   "outputs": [],
   "source": [
    "patients = pd.concat([inpatient,outpatient], axis = 0)"
   ]
  },
  {
   "cell_type": "code",
   "execution_count": 5,
   "metadata": {},
   "outputs": [],
   "source": [
    "merged_data = patients.merge(bene, how = 'left', on = 'BeneID')"
   ]
  },
  {
   "cell_type": "code",
   "execution_count": 6,
   "metadata": {},
   "outputs": [],
   "source": [
    "final_patients = merged_data.merge(provider, how = 'left', on = 'Provider')"
   ]
  },
  {
   "cell_type": "code",
   "execution_count": 7,
   "metadata": {},
   "outputs": [],
   "source": [
    "#making a copy of merged data\n",
    "patient_record = final_patients.copy()"
   ]
  },
  {
   "cell_type": "markdown",
   "metadata": {},
   "source": [
    "## Changing into DateTime "
   ]
  },
  {
   "cell_type": "code",
   "execution_count": 8,
   "metadata": {},
   "outputs": [],
   "source": [
    "patient_record[['DOB', 'ClaimStartDt', 'ClaimEndDt', 'AdmissionDt', 'DischargeDt']] = \\\n",
    "    patient_record[['DOB', 'ClaimStartDt', 'ClaimEndDt', 'AdmissionDt', 'DischargeDt']].apply(pd.to_datetime, \n",
    "                                                                                               format ='%Y-%m-%d')"
   ]
  },
  {
   "cell_type": "markdown",
   "metadata": {},
   "source": [
    "## Total number of patients and type of patient(inpatient, outpatient, both)"
   ]
  },
  {
   "cell_type": "code",
   "execution_count": 9,
   "metadata": {},
   "outputs": [],
   "source": [
    "total = patient_record.groupby(['Provider', 'BeneID'])['BeneID'].count().reset_index(name = 'patient_count')\n",
    "total = total.groupby('Provider')['patient_count'].count().reset_index()\n",
    "provider2 = provider.merge(total, how = 'left', on = 'Provider')"
   ]
  },
  {
   "cell_type": "code",
   "execution_count": 10,
   "metadata": {},
   "outputs": [],
   "source": [
    "inpatient_list = patient_record[patient_record['patient_type'] == 'inpatient'].Provider.to_list()\n",
    "outpatient_list = patient_record[patient_record['patient_type'] == 'outpatient'].Provider.to_list()"
   ]
  },
  {
   "cell_type": "code",
   "execution_count": 11,
   "metadata": {},
   "outputs": [],
   "source": [
    "common_patient = set(inpatient_list) & set(outpatient_list)"
   ]
  },
  {
   "cell_type": "code",
   "execution_count": 12,
   "metadata": {},
   "outputs": [],
   "source": [
    "patient_record.loc[patient_record.Provider.isin(common_patient), 'common_patient'] = 'Both'\n",
    "patient_record.loc[~patient_record.Provider.isin(common_patient), 'common_patient'] = 0"
   ]
  },
  {
   "cell_type": "code",
   "execution_count": 13,
   "metadata": {},
   "outputs": [],
   "source": [
    "patient_record['patient_type'].mask(patient_record['common_patient'] == 'Both', 'both', inplace = True)"
   ]
  },
  {
   "cell_type": "code",
   "execution_count": 14,
   "metadata": {},
   "outputs": [],
   "source": [
    "patient_type = patient_record[['Provider', 'patient_type']]"
   ]
  },
  {
   "cell_type": "code",
   "execution_count": 15,
   "metadata": {},
   "outputs": [],
   "source": [
    "provider2 = provider2.merge(patient_type, how = 'left', on = 'Provider')"
   ]
  },
  {
   "cell_type": "code",
   "execution_count": 16,
   "metadata": {},
   "outputs": [],
   "source": [
    "provider2.drop_duplicates(subset = ['Provider'],keep = 'first', inplace = True)"
   ]
  },
  {
   "cell_type": "markdown",
   "metadata": {},
   "source": [
    "## Race"
   ]
  },
  {
   "cell_type": "code",
   "execution_count": 18,
   "metadata": {},
   "outputs": [],
   "source": [
    "race = patient_record.groupby(['Provider', 'BeneID', 'Race'])['Race'].count().reset_index(name = 'race_count')"
   ]
  },
  {
   "cell_type": "code",
   "execution_count": 20,
   "metadata": {},
   "outputs": [],
   "source": [
    "race2 = race.groupby(['Provider', 'Race'])['race_count'].count().reset_index(name = 'race_count1')"
   ]
  },
  {
   "cell_type": "code",
   "execution_count": 21,
   "metadata": {},
   "outputs": [],
   "source": [
    "race2 = race2.pivot(index = 'Provider', columns = 'Race', values = 'race_count1')"
   ]
  },
  {
   "cell_type": "code",
   "execution_count": 22,
   "metadata": {},
   "outputs": [],
   "source": [
    "race2.columns = ['Race1', 'Race2', 'Race3', 'Race5']"
   ]
  },
  {
   "cell_type": "code",
   "execution_count": 23,
   "metadata": {},
   "outputs": [],
   "source": [
    "provider2 = provider2.merge(race2, how = 'left', on = 'Provider')"
   ]
  },
  {
   "cell_type": "code",
   "execution_count": 24,
   "metadata": {},
   "outputs": [],
   "source": [
    "provider2[['Race1', 'Race2', 'Race3', 'Race5']] = provider2[['Race1', 'Race2', 'Race3', 'Race5']].fillna(0)"
   ]
  },
  {
   "cell_type": "markdown",
   "metadata": {},
   "source": [
    "## Gender"
   ]
  },
  {
   "cell_type": "code",
   "execution_count": 25,
   "metadata": {},
   "outputs": [],
   "source": [
    "gender = patient_record.groupby(['Provider', 'BeneID','Gender'])['Gender'].count().reset_index(name = 'gender_count')\n"
   ]
  },
  {
   "cell_type": "code",
   "execution_count": 26,
   "metadata": {},
   "outputs": [],
   "source": [
    "gender2 = gender.groupby(['Provider', 'Gender'])['gender_count'].count().reset_index(name = 'gender_count1')"
   ]
  },
  {
   "cell_type": "code",
   "execution_count": 27,
   "metadata": {},
   "outputs": [],
   "source": [
    "gender2 = gender2.pivot(index = 'Provider', columns = 'Gender', values = 'gender_count1')"
   ]
  },
  {
   "cell_type": "code",
   "execution_count": 28,
   "metadata": {},
   "outputs": [],
   "source": [
    "gender2.columns = ['Male', 'Female']"
   ]
  },
  {
   "cell_type": "code",
   "execution_count": 30,
   "metadata": {},
   "outputs": [],
   "source": [
    "provider2 = provider2.merge(gender2, how = 'left', on = 'Provider')"
   ]
  },
  {
   "cell_type": "code",
   "execution_count": 31,
   "metadata": {},
   "outputs": [],
   "source": [
    "provider2[['Male', 'Female']] = provider2[['Male', 'Female']].fillna(0)"
   ]
  },
  {
   "cell_type": "markdown",
   "metadata": {},
   "source": [
    "## Age"
   ]
  },
  {
   "cell_type": "code",
   "execution_count": 32,
   "metadata": {},
   "outputs": [],
   "source": [
    "patient_record['Age'] = patient_record['ClaimStartDt'].dt.year.astype(int) - patient_record['DOB'].dt.year.astype(int)"
   ]
  },
  {
   "cell_type": "code",
   "execution_count": 33,
   "metadata": {},
   "outputs": [],
   "source": [
    "age = patient_record.groupby(['Provider'])['Age'].mean().reset_index(name = 'mean_age').round()"
   ]
  },
  {
   "cell_type": "code",
   "execution_count": 35,
   "metadata": {},
   "outputs": [],
   "source": [
    "provider2 = provider2.merge(age, how = 'left', on = 'Provider')"
   ]
  },
  {
   "cell_type": "markdown",
   "metadata": {},
   "source": [
    "## State"
   ]
  },
  {
   "cell_type": "code",
   "execution_count": 37,
   "metadata": {},
   "outputs": [],
   "source": [
    "state = patient_record.groupby(['Provider', 'State'])['State'].count().reset_index(name = 'state_count')\n",
    "state = state.groupby('Provider')['state_count'].count().reset_index()"
   ]
  },
  {
   "cell_type": "code",
   "execution_count": 38,
   "metadata": {},
   "outputs": [],
   "source": [
    "provider2 = provider2.merge(state, how = 'left', on = 'Provider')"
   ]
  },
  {
   "cell_type": "markdown",
   "metadata": {},
   "source": [
    "## Physician"
   ]
  },
  {
   "cell_type": "code",
   "execution_count": 40,
   "metadata": {},
   "outputs": [],
   "source": [
    "Att_phy = patient_record.groupby(['Provider', 'AttendingPhysician'])['AttendingPhysician'].count()\\\n",
    ".reset_index(name = 'phy_count')"
   ]
  },
  {
   "cell_type": "code",
   "execution_count": 41,
   "metadata": {},
   "outputs": [],
   "source": [
    "Att_phy = Att_phy.groupby('Provider')['phy_count'].count().reset_index()"
   ]
  },
  {
   "cell_type": "code",
   "execution_count": 42,
   "metadata": {},
   "outputs": [],
   "source": [
    "provider2 = provider2.merge(Att_phy, how = 'left', on = 'Provider')"
   ]
  },
  {
   "cell_type": "code",
   "execution_count": 44,
   "metadata": {},
   "outputs": [],
   "source": [
    "patient_record['noPhysician'] = patient_record[['AttendingPhysician','OperatingPhysician', 'OtherPhysician']]\\\n",
    "                                .isna().all(axis =1)\n"
   ]
  },
  {
   "cell_type": "code",
   "execution_count": 45,
   "metadata": {},
   "outputs": [],
   "source": [
    "no_phy = patient_record.groupby(['Provider'])['noPhysician'].sum().reset_index(name = 'no_phy')"
   ]
  },
  {
   "cell_type": "code",
   "execution_count": 46,
   "metadata": {},
   "outputs": [],
   "source": [
    "provider2 = provider2.merge(no_phy, how = 'left', on = 'Provider')"
   ]
  },
  {
   "cell_type": "markdown",
   "metadata": {},
   "source": [
    "## Chronic condition"
   ]
  },
  {
   "cell_type": "code",
   "execution_count": 47,
   "metadata": {},
   "outputs": [
    {
     "data": {
      "text/plain": [
       "Index(['BeneID', 'ClaimID', 'ClaimStartDt', 'ClaimEndDt', 'Provider',\n",
       "       'InscClaimAmtReimbursed', 'AttendingPhysician', 'OperatingPhysician',\n",
       "       'OtherPhysician', 'AdmissionDt', 'ClmAdmitDiagnosisCode',\n",
       "       'DeductibleAmtPaid', 'DischargeDt', 'DiagnosisGroupCode',\n",
       "       'ClmDiagnosisCode_1', 'ClmDiagnosisCode_2', 'ClmDiagnosisCode_3',\n",
       "       'ClmDiagnosisCode_4', 'ClmDiagnosisCode_5', 'ClmDiagnosisCode_6',\n",
       "       'ClmDiagnosisCode_7', 'ClmDiagnosisCode_8', 'ClmDiagnosisCode_9',\n",
       "       'ClmDiagnosisCode_10', 'ClmProcedureCode_1', 'ClmProcedureCode_2',\n",
       "       'ClmProcedureCode_3', 'ClmProcedureCode_4', 'ClmProcedureCode_5',\n",
       "       'ClmProcedureCode_6', 'patient_type', 'DOB', 'DOD', 'Gender', 'Race',\n",
       "       'RenalDiseaseIndicator', 'State', 'County', 'NoOfMonths_PartACov',\n",
       "       'NoOfMonths_PartBCov', 'ChronicCond_Alzheimer',\n",
       "       'ChronicCond_Heartfailure', 'ChronicCond_KidneyDisease',\n",
       "       'ChronicCond_Cancer', 'ChronicCond_ObstrPulmonary',\n",
       "       'ChronicCond_Depression', 'ChronicCond_Diabetes',\n",
       "       'ChronicCond_IschemicHeart', 'ChronicCond_Osteoporasis',\n",
       "       'ChronicCond_rheumatoidarthritis', 'ChronicCond_stroke',\n",
       "       'IPAnnualReimbursementAmt', 'IPAnnualDeductibleAmt',\n",
       "       'OPAnnualReimbursementAmt', 'OPAnnualDeductibleAmt', 'PotentialFraud',\n",
       "       'common_patient', 'Age', 'noPhysician'],\n",
       "      dtype='object')"
      ]
     },
     "execution_count": 47,
     "metadata": {},
     "output_type": "execute_result"
    }
   ],
   "source": [
    "patient_record.columns"
   ]
  },
  {
   "cell_type": "code",
   "execution_count": 48,
   "metadata": {},
   "outputs": [],
   "source": [
    "patient_record[['ClmProcedureCode_1', 'ClmProcedureCode_2', 'ClmProcedureCode_3', 'ClmProcedureCode_4', \n",
    "                 'ClmProcedureCode_5', 'ClmDiagnosisCode_6','ClmDiagnosisCode_1','ClmDiagnosisCode_2', \n",
    "                 'ClmDiagnosisCode_3', 'ClmDiagnosisCode_4','ClmDiagnosisCode_5', 'ClmDiagnosisCode_6', \n",
    "                 'ClmDiagnosisCode_7', 'ClmDiagnosisCode_8','ClmDiagnosisCode_9', 'ClmDiagnosisCode_10', \n",
    "                 'DeductibleAmtPaid' ]] = \\\n",
    "patient_record[['ClmProcedureCode_1', 'ClmProcedureCode_2', 'ClmProcedureCode_3', 'ClmProcedureCode_4', \n",
    "                 'ClmProcedureCode_5', 'ClmDiagnosisCode_6','ClmDiagnosisCode_1','ClmDiagnosisCode_2', \n",
    "                 'ClmDiagnosisCode_3', 'ClmDiagnosisCode_4','ClmDiagnosisCode_5', 'ClmDiagnosisCode_6', \n",
    "                 'ClmDiagnosisCode_7', 'ClmDiagnosisCode_8','ClmDiagnosisCode_9', 'ClmDiagnosisCode_10', \n",
    "                 'DeductibleAmtPaid' ]].fillna(0)"
   ]
  },
  {
   "cell_type": "code",
   "execution_count": 49,
   "metadata": {},
   "outputs": [],
   "source": [
    "#Change the chronic condition to 1 or 0 encoding from 1, 2\n",
    "\n",
    "patient_record = patient_record.replace({'ChronicCond_Alzheimer' :2, 'ChronicCond_Heartfailure' : 2, \n",
    "                                         'ChronicCond_KidneyDisease' :2,'ChronicCond_Cancer' :2, \n",
    "                                         'ChronicCond_ObstrPulmonary' :2 ,'ChronicCond_Depression' :2,\n",
    "                                        'ChronicCond_Diabetes' :2, 'ChronicCond_IschemicHeart' :2,\n",
    "                                         'ChronicCond_Osteoporasis' :2, 'ChronicCond_rheumatoidarthritis' :2,\n",
    "                                        'ChronicCond_stroke' :2}, 0)\n"
   ]
  },
  {
   "cell_type": "code",
   "execution_count": 51,
   "metadata": {},
   "outputs": [],
   "source": [
    "#change the renal disease indicator in binary encoding(0,1)\n",
    "patient_record = patient_record.replace({'RenalDiseaseIndicator' :'Y'},1 )\n",
    "patient_record['RenalDiseaseIndicator'] =patient_record['RenalDiseaseIndicator'].astype(int)"
   ]
  },
  {
   "cell_type": "code",
   "execution_count": 52,
   "metadata": {},
   "outputs": [],
   "source": [
    "chronic = patient_record.columns[patient_record.columns.str.contains(\"Chronic\")].tolist() "
   ]
  },
  {
   "cell_type": "code",
   "execution_count": 53,
   "metadata": {},
   "outputs": [],
   "source": [
    "chronic_data = pd.concat([patient_record[chronic], patient_record['RenalDiseaseIndicator']], axis = 1)"
   ]
  },
  {
   "cell_type": "code",
   "execution_count": 54,
   "metadata": {},
   "outputs": [],
   "source": [
    "chronic_condition = chronic_data.columns.to_list()"
   ]
  },
  {
   "cell_type": "code",
   "execution_count": 55,
   "metadata": {},
   "outputs": [],
   "source": [
    "patient_record['chronic_count'] = patient_record[chronic_condition].sum(axis = 1)"
   ]
  },
  {
   "cell_type": "code",
   "execution_count": 56,
   "metadata": {},
   "outputs": [],
   "source": [
    "chronic_mean = patient_record.groupby(['Provider'])['chronic_count'].mean().round().reset_index(name = 'chronic_mean')"
   ]
  },
  {
   "cell_type": "code",
   "execution_count": 57,
   "metadata": {},
   "outputs": [],
   "source": [
    "provider2 = provider2.merge(chronic_mean, how = 'left', on = 'Provider')"
   ]
  },
  {
   "cell_type": "markdown",
   "metadata": {},
   "source": [
    "## Claims 2 features(total claim, monthly distribution of claims)"
   ]
  },
  {
   "cell_type": "code",
   "execution_count": 59,
   "metadata": {},
   "outputs": [],
   "source": [
    "claim = patient_record.groupby(['Provider'])['ClaimID'].count().reset_index(name = 'claim_count')"
   ]
  },
  {
   "cell_type": "code",
   "execution_count": 60,
   "metadata": {},
   "outputs": [],
   "source": [
    "provider2 = provider2.merge(claim, how = 'left', on = 'Provider')"
   ]
  },
  {
   "cell_type": "code",
   "execution_count": 61,
   "metadata": {},
   "outputs": [],
   "source": [
    "patient_record['ClaimStartMonth'] = patient_record['ClaimStartDt'].dt.month.astype(int)"
   ]
  },
  {
   "cell_type": "code",
   "execution_count": 62,
   "metadata": {},
   "outputs": [],
   "source": [
    "month_claim = patient_record.groupby(['Provider', 'ClaimStartMonth'])['ClaimID'].count().\\\n",
    "        reset_index(name = 'claim_month')"
   ]
  },
  {
   "cell_type": "code",
   "execution_count": 64,
   "metadata": {},
   "outputs": [],
   "source": [
    "month_claim2 = month_claim.pivot(index = 'Provider', columns = 'ClaimStartMonth', values = 'claim_month')"
   ]
  },
  {
   "cell_type": "code",
   "execution_count": 65,
   "metadata": {},
   "outputs": [],
   "source": [
    "month_claim2.columns = ['Jan', 'Feb', 'Mar', 'Apr', 'May', 'Jun', 'Jul', 'Aug', 'Sep', 'Oct', 'Nov', 'Dec']"
   ]
  },
  {
   "cell_type": "code",
   "execution_count": 66,
   "metadata": {},
   "outputs": [],
   "source": [
    "provider2 = provider2.merge(month_claim2, how = 'left', on = 'Provider')"
   ]
  },
  {
   "cell_type": "code",
   "execution_count": 67,
   "metadata": {},
   "outputs": [],
   "source": [
    "provider2[['Jan', 'Feb', 'Mar', 'Apr', 'May', 'Jun', 'Jul', 'Aug', 'Sep', 'Oct', 'Nov', 'Dec']] = \\\n",
    "    provider2[['Jan', 'Feb', 'Mar', 'Apr', 'May', 'Jun', 'Jul', 'Aug', 'Sep', 'Oct', 'Nov', 'Dec']].fillna(0)"
   ]
  },
  {
   "cell_type": "markdown",
   "metadata": {},
   "source": [
    "## Days Admitted"
   ]
  },
  {
   "cell_type": "code",
   "execution_count": 70,
   "metadata": {},
   "outputs": [],
   "source": [
    "patient_record['days_admitted'] = (patient_record['ClaimEndDt'] - patient_record['ClaimStartDt']).dt.days.astype(int) "
   ]
  },
  {
   "cell_type": "code",
   "execution_count": 71,
   "metadata": {},
   "outputs": [],
   "source": [
    "patient_record['days_admitted'] = patient_record['days_admitted'] + 1"
   ]
  },
  {
   "cell_type": "code",
   "execution_count": 72,
   "metadata": {},
   "outputs": [],
   "source": [
    "days_admitted = patient_record.groupby('Provider')['days_admitted'].mean().round().reset_index(name = 'days_admitted')"
   ]
  },
  {
   "cell_type": "code",
   "execution_count": 73,
   "metadata": {},
   "outputs": [],
   "source": [
    "# provider2 = provider2.drop(['days_admitted'], inplace = True, axis = 1)"
   ]
  },
  {
   "cell_type": "code",
   "execution_count": 74,
   "metadata": {},
   "outputs": [],
   "source": [
    "provider2 = provider2.merge(days_admitted, how = 'left', on = 'Provider')"
   ]
  },
  {
   "cell_type": "markdown",
   "metadata": {},
   "source": [
    "## Financial Features"
   ]
  },
  {
   "cell_type": "markdown",
   "metadata": {},
   "source": [
    "### InscClaimAmtReimbursed"
   ]
  },
  {
   "cell_type": "code",
   "execution_count": 76,
   "metadata": {},
   "outputs": [
    {
     "data": {
      "text/plain": [
       "<AxesSubplot:xlabel='PotentialFraud'>"
      ]
     },
     "execution_count": 76,
     "metadata": {},
     "output_type": "execute_result"
    },
    {
     "data": {
      "image/png": "[encoded data removed]",
      "text/plain": [
       "<Figure size 432x288 with 1 Axes>"
      ]
     },
     "metadata": {
      "needs_background": "light"
     },
     "output_type": "display_data"
    }
   ],
   "source": [
    "patient_record.groupby('PotentialFraud')['InscClaimAmtReimbursed'].mean().plot.bar()"
   ]
  },
  {
   "cell_type": "code",
   "execution_count": 77,
   "metadata": {},
   "outputs": [],
   "source": [
    "Reim = patient_record.groupby('Provider')['InscClaimAmtReimbursed'].mean().reset_index(name = 'InscClaimAmtReimbursed')"
   ]
  },
  {
   "cell_type": "code",
   "execution_count": 78,
   "metadata": {},
   "outputs": [],
   "source": [
    "provider2 = provider2.merge(Reim, how = 'left', on = 'Provider')"
   ]
  },
  {
   "cell_type": "code",
   "execution_count": 79,
   "metadata": {},
   "outputs": [
    {
     "data": {
      "text/plain": [
       "<AxesSubplot:xlabel='PotentialFraud'>"
      ]
     },
     "execution_count": 79,
     "metadata": {},
     "output_type": "execute_result"
    },
    {
     "data": {
      "image/png": "[encoded data removed]",
      "text/plain": [
       "<Figure size 432x288 with 1 Axes>"
      ]
     },
     "metadata": {
      "needs_background": "light"
     },
     "output_type": "display_data"
    }
   ],
   "source": [
    "patient_record.groupby('PotentialFraud')['DeductibleAmtPaid'].mean().plot.bar(color = 'green')"
   ]
  },
  {
   "cell_type": "code",
   "execution_count": 80,
   "metadata": {},
   "outputs": [],
   "source": [
    "deduct = patient_record.groupby('Provider')['DeductibleAmtPaid'].mean().reset_index(name = 'DeductibleAmtPaid')"
   ]
  },
  {
   "cell_type": "code",
   "execution_count": 81,
   "metadata": {},
   "outputs": [],
   "source": [
    "provider2 = provider2.merge(deduct, how = 'left', on = 'Provider')"
   ]
  },
  {
   "cell_type": "code",
   "execution_count": 82,
   "metadata": {},
   "outputs": [
    {
     "data": {
      "text/plain": [
       "<AxesSubplot:xlabel='PotentialFraud'>"
      ]
     },
     "execution_count": 82,
     "metadata": {},
     "output_type": "execute_result"
    },
    {
     "data": {
      "image/png": "[encoded data removed]",
      "text/plain": [
       "<Figure size 432x288 with 1 Axes>"
      ]
     },
     "metadata": {
      "needs_background": "light"
     },
     "output_type": "display_data"
    }
   ],
   "source": [
    "patient_record.groupby('PotentialFraud')['IPAnnualReimbursementAmt'].mean().plot.bar(color = 'red')"
   ]
  },
  {
   "cell_type": "code",
   "execution_count": 83,
   "metadata": {},
   "outputs": [],
   "source": [
    "IP_reim = patient_record.groupby('Provider')['IPAnnualReimbursementAmt'].mean()\\\n",
    "        .reset_index(name = 'IPAnnualReimbursementAmt')"
   ]
  },
  {
   "cell_type": "code",
   "execution_count": 84,
   "metadata": {},
   "outputs": [],
   "source": [
    "provider2 = provider2.merge(IP_reim, how = 'left', on = 'Provider')"
   ]
  },
  {
   "cell_type": "code",
   "execution_count": 85,
   "metadata": {},
   "outputs": [
    {
     "data": {
      "text/plain": [
       "<AxesSubplot:xlabel='PotentialFraud'>"
      ]
     },
     "execution_count": 85,
     "metadata": {},
     "output_type": "execute_result"
    },
    {
     "data": {
      "image/png": "[encoded data removed]",
      "text/plain": [
       "<Figure size 432x288 with 1 Axes>"
      ]
     },
     "metadata": {
      "needs_background": "light"
     },
     "output_type": "display_data"
    }
   ],
   "source": [
    "patient_record.groupby('PotentialFraud')['IPAnnualDeductibleAmt'].mean().plot.bar(color = 'blue')"
   ]
  },
  {
   "cell_type": "code",
   "execution_count": 86,
   "metadata": {},
   "outputs": [],
   "source": [
    "IP_deduct = patient_record.groupby('Provider')['IPAnnualDeductibleAmt'].mean()\\\n",
    "        .reset_index(name = 'IPAnnualDeductibleAmt')"
   ]
  },
  {
   "cell_type": "code",
   "execution_count": 87,
   "metadata": {},
   "outputs": [],
   "source": [
    "provider2 = provider2.merge(IP_deduct, how = 'left', on = 'Provider')"
   ]
  },
  {
   "cell_type": "code",
   "execution_count": 88,
   "metadata": {},
   "outputs": [
    {
     "data": {
      "text/plain": [
       "<AxesSubplot:xlabel='PotentialFraud'>"
      ]
     },
     "execution_count": 88,
     "metadata": {},
     "output_type": "execute_result"
    },
    {
     "data": {
      "image/png": "[encoded data removed]",
      "text/plain": [
       "<Figure size 432x288 with 1 Axes>"
      ]
     },
     "metadata": {
      "needs_background": "light"
     },
     "output_type": "display_data"
    }
   ],
   "source": [
    "patient_record.groupby('PotentialFraud')['OPAnnualReimbursementAmt'].mean().plot.bar(color = 'salmon')"
   ]
  },
  {
   "cell_type": "code",
   "execution_count": 89,
   "metadata": {},
   "outputs": [],
   "source": [
    "OP_reim = patient_record.groupby('Provider')['OPAnnualReimbursementAmt'].mean()\\\n",
    "        .reset_index(name = 'OPAnnualReimbursementAmt')"
   ]
  },
  {
   "cell_type": "code",
   "execution_count": 90,
   "metadata": {},
   "outputs": [],
   "source": [
    "provider2 = provider2.merge(OP_reim, how = 'left', on = 'Provider')"
   ]
  },
  {
   "cell_type": "code",
   "execution_count": 91,
   "metadata": {},
   "outputs": [
    {
     "data": {
      "text/plain": [
       "<AxesSubplot:xlabel='PotentialFraud'>"
      ]
     },
     "execution_count": 91,
     "metadata": {},
     "output_type": "execute_result"
    },
    {
     "data": {
      "image/png": "[encoded data removed]",
      "text/plain": [
       "<Figure size 432x288 with 1 Axes>"
      ]
     },
     "metadata": {
      "needs_background": "light"
     },
     "output_type": "display_data"
    }
   ],
   "source": [
    "patient_record.groupby('PotentialFraud')['OPAnnualDeductibleAmt'].mean().plot.bar(color = 'gold')"
   ]
  },
  {
   "cell_type": "code",
   "execution_count": 92,
   "metadata": {},
   "outputs": [],
   "source": [
    "OP_deduct = patient_record.groupby('Provider')['OPAnnualDeductibleAmt'].mean()\\\n",
    "        .reset_index(name = 'OPAnnualDeductibleAmt')"
   ]
  },
  {
   "cell_type": "code",
   "execution_count": 93,
   "metadata": {},
   "outputs": [],
   "source": [
    "provider2 = provider2.merge(OP_deduct, how = 'left', on = 'Provider')"
   ]
  },
  {
   "cell_type": "code",
   "execution_count": 94,
   "metadata": {
    "scrolled": true
   },
   "outputs": [
    {
     "data": {
      "text/html": [
       "<div>\n",
       "<style scoped>\n",
       "    .dataframe tbody tr th:only-of-type {\n",
       "        vertical-align: middle;\n",
       "    }\n",
       "\n",
       "    .dataframe tbody tr th {\n",
       "        vertical-align: top;\n",
       "    }\n",
       "\n",
       "    .dataframe thead th {\n",
       "        text-align: right;\n",
       "    }\n",
       "</style>\n",
       "<table border=\"1\" class=\"dataframe\">\n",
       "  <thead>\n",
       "    <tr style=\"text-align: right;\">\n",
       "      <th></th>\n",
       "      <th>Provider</th>\n",
       "      <th>PotentialFraud</th>\n",
       "      <th>patient_count</th>\n",
       "      <th>patient_type</th>\n",
       "      <th>Race1</th>\n",
       "      <th>Race2</th>\n",
       "      <th>Race3</th>\n",
       "      <th>Race5</th>\n",
       "      <th>Male</th>\n",
       "      <th>Female</th>\n",
       "      <th>mean_age</th>\n",
       "      <th>state_count</th>\n",
       "      <th>phy_count</th>\n",
       "      <th>no_phy</th>\n",
       "      <th>chronic_mean</th>\n",
       "      <th>claim_count</th>\n",
       "      <th>Jan</th>\n",
       "      <th>Feb</th>\n",
       "      <th>Mar</th>\n",
       "      <th>Apr</th>\n",
       "      <th>May</th>\n",
       "      <th>Jun</th>\n",
       "      <th>Jul</th>\n",
       "      <th>Aug</th>\n",
       "      <th>Sep</th>\n",
       "      <th>Oct</th>\n",
       "      <th>Nov</th>\n",
       "      <th>Dec</th>\n",
       "      <th>days_admitted</th>\n",
       "      <th>InscClaimAmtReimbursed</th>\n",
       "      <th>DeductibleAmtPaid</th>\n",
       "      <th>IPAnnualReimbursementAmt</th>\n",
       "      <th>IPAnnualDeductibleAmt</th>\n",
       "      <th>OPAnnualReimbursementAmt</th>\n",
       "      <th>OPAnnualDeductibleAmt</th>\n",
       "    </tr>\n",
       "  </thead>\n",
       "  <tbody>\n",
       "    <tr>\n",
       "      <th>0</th>\n",
       "      <td>PRV51001</td>\n",
       "      <td>No</td>\n",
       "      <td>24</td>\n",
       "      <td>both</td>\n",
       "      <td>20.0</td>\n",
       "      <td>4.0</td>\n",
       "      <td>0.0</td>\n",
       "      <td>0.0</td>\n",
       "      <td>9.0</td>\n",
       "      <td>15.0</td>\n",
       "      <td>78.0</td>\n",
       "      <td>1</td>\n",
       "      <td>14</td>\n",
       "      <td>0</td>\n",
       "      <td>6.0</td>\n",
       "      <td>25</td>\n",
       "      <td>2.0</td>\n",
       "      <td>4.0</td>\n",
       "      <td>3.0</td>\n",
       "      <td>2.0</td>\n",
       "      <td>5.0</td>\n",
       "      <td>3.0</td>\n",
       "      <td>2.0</td>\n",
       "      <td>1.0</td>\n",
       "      <td>1.0</td>\n",
       "      <td>0.0</td>\n",
       "      <td>0.0</td>\n",
       "      <td>2.0</td>\n",
       "      <td>2.0</td>\n",
       "      <td>4185.600000</td>\n",
       "      <td>213.600000</td>\n",
       "      <td>17606.000000</td>\n",
       "      <td>897.120000</td>\n",
       "      <td>2615.200000</td>\n",
       "      <td>463.920000</td>\n",
       "    </tr>\n",
       "    <tr>\n",
       "      <th>1</th>\n",
       "      <td>PRV51003</td>\n",
       "      <td>Yes</td>\n",
       "      <td>117</td>\n",
       "      <td>both</td>\n",
       "      <td>94.0</td>\n",
       "      <td>22.0</td>\n",
       "      <td>0.0</td>\n",
       "      <td>1.0</td>\n",
       "      <td>49.0</td>\n",
       "      <td>68.0</td>\n",
       "      <td>70.0</td>\n",
       "      <td>3</td>\n",
       "      <td>44</td>\n",
       "      <td>0</td>\n",
       "      <td>5.0</td>\n",
       "      <td>132</td>\n",
       "      <td>13.0</td>\n",
       "      <td>16.0</td>\n",
       "      <td>10.0</td>\n",
       "      <td>10.0</td>\n",
       "      <td>8.0</td>\n",
       "      <td>14.0</td>\n",
       "      <td>11.0</td>\n",
       "      <td>13.0</td>\n",
       "      <td>9.0</td>\n",
       "      <td>11.0</td>\n",
       "      <td>11.0</td>\n",
       "      <td>6.0</td>\n",
       "      <td>5.0</td>\n",
       "      <td>4588.409091</td>\n",
       "      <td>502.166667</td>\n",
       "      <td>7568.181818</td>\n",
       "      <td>931.424242</td>\n",
       "      <td>2678.181818</td>\n",
       "      <td>737.121212</td>\n",
       "    </tr>\n",
       "    <tr>\n",
       "      <th>2</th>\n",
       "      <td>PRV51004</td>\n",
       "      <td>No</td>\n",
       "      <td>138</td>\n",
       "      <td>outpatient</td>\n",
       "      <td>113.0</td>\n",
       "      <td>20.0</td>\n",
       "      <td>5.0</td>\n",
       "      <td>0.0</td>\n",
       "      <td>45.0</td>\n",
       "      <td>93.0</td>\n",
       "      <td>72.0</td>\n",
       "      <td>9</td>\n",
       "      <td>38</td>\n",
       "      <td>0</td>\n",
       "      <td>4.0</td>\n",
       "      <td>149</td>\n",
       "      <td>12.0</td>\n",
       "      <td>19.0</td>\n",
       "      <td>18.0</td>\n",
       "      <td>10.0</td>\n",
       "      <td>8.0</td>\n",
       "      <td>11.0</td>\n",
       "      <td>14.0</td>\n",
       "      <td>10.0</td>\n",
       "      <td>12.0</td>\n",
       "      <td>11.0</td>\n",
       "      <td>8.0</td>\n",
       "      <td>16.0</td>\n",
       "      <td>2.0</td>\n",
       "      <td>350.134228</td>\n",
       "      <td>2.080537</td>\n",
       "      <td>4351.879195</td>\n",
       "      <td>434.953020</td>\n",
       "      <td>2194.899329</td>\n",
       "      <td>622.751678</td>\n",
       "    </tr>\n",
       "    <tr>\n",
       "      <th>3</th>\n",
       "      <td>PRV51005</td>\n",
       "      <td>Yes</td>\n",
       "      <td>495</td>\n",
       "      <td>outpatient</td>\n",
       "      <td>382.0</td>\n",
       "      <td>110.0</td>\n",
       "      <td>3.0</td>\n",
       "      <td>0.0</td>\n",
       "      <td>208.0</td>\n",
       "      <td>287.0</td>\n",
       "      <td>70.0</td>\n",
       "      <td>4</td>\n",
       "      <td>6</td>\n",
       "      <td>2</td>\n",
       "      <td>5.0</td>\n",
       "      <td>1165</td>\n",
       "      <td>102.0</td>\n",
       "      <td>101.0</td>\n",
       "      <td>113.0</td>\n",
       "      <td>98.0</td>\n",
       "      <td>83.0</td>\n",
       "      <td>103.0</td>\n",
       "      <td>92.0</td>\n",
       "      <td>99.0</td>\n",
       "      <td>107.0</td>\n",
       "      <td>111.0</td>\n",
       "      <td>73.0</td>\n",
       "      <td>83.0</td>\n",
       "      <td>2.0</td>\n",
       "      <td>241.124464</td>\n",
       "      <td>3.175966</td>\n",
       "      <td>3623.991416</td>\n",
       "      <td>379.162232</td>\n",
       "      <td>2109.733906</td>\n",
       "      <td>636.328755</td>\n",
       "    </tr>\n",
       "    <tr>\n",
       "      <th>4</th>\n",
       "      <td>PRV51007</td>\n",
       "      <td>No</td>\n",
       "      <td>58</td>\n",
       "      <td>both</td>\n",
       "      <td>47.0</td>\n",
       "      <td>11.0</td>\n",
       "      <td>0.0</td>\n",
       "      <td>0.0</td>\n",
       "      <td>27.0</td>\n",
       "      <td>31.0</td>\n",
       "      <td>69.0</td>\n",
       "      <td>2</td>\n",
       "      <td>10</td>\n",
       "      <td>0</td>\n",
       "      <td>4.0</td>\n",
       "      <td>72</td>\n",
       "      <td>6.0</td>\n",
       "      <td>5.0</td>\n",
       "      <td>9.0</td>\n",
       "      <td>4.0</td>\n",
       "      <td>9.0</td>\n",
       "      <td>9.0</td>\n",
       "      <td>3.0</td>\n",
       "      <td>6.0</td>\n",
       "      <td>7.0</td>\n",
       "      <td>2.0</td>\n",
       "      <td>6.0</td>\n",
       "      <td>6.0</td>\n",
       "      <td>2.0</td>\n",
       "      <td>468.194444</td>\n",
       "      <td>45.333333</td>\n",
       "      <td>3050.000000</td>\n",
       "      <td>445.000000</td>\n",
       "      <td>1729.722222</td>\n",
       "      <td>469.722222</td>\n",
       "    </tr>\n",
       "    <tr>\n",
       "      <th>...</th>\n",
       "      <td>...</td>\n",
       "      <td>...</td>\n",
       "      <td>...</td>\n",
       "      <td>...</td>\n",
       "      <td>...</td>\n",
       "      <td>...</td>\n",
       "      <td>...</td>\n",
       "      <td>...</td>\n",
       "      <td>...</td>\n",
       "      <td>...</td>\n",
       "      <td>...</td>\n",
       "      <td>...</td>\n",
       "      <td>...</td>\n",
       "      <td>...</td>\n",
       "      <td>...</td>\n",
       "      <td>...</td>\n",
       "      <td>...</td>\n",
       "      <td>...</td>\n",
       "      <td>...</td>\n",
       "      <td>...</td>\n",
       "      <td>...</td>\n",
       "      <td>...</td>\n",
       "      <td>...</td>\n",
       "      <td>...</td>\n",
       "      <td>...</td>\n",
       "      <td>...</td>\n",
       "      <td>...</td>\n",
       "      <td>...</td>\n",
       "      <td>...</td>\n",
       "      <td>...</td>\n",
       "      <td>...</td>\n",
       "      <td>...</td>\n",
       "      <td>...</td>\n",
       "      <td>...</td>\n",
       "      <td>...</td>\n",
       "    </tr>\n",
       "    <tr>\n",
       "      <th>5405</th>\n",
       "      <td>PRV57759</td>\n",
       "      <td>No</td>\n",
       "      <td>24</td>\n",
       "      <td>outpatient</td>\n",
       "      <td>19.0</td>\n",
       "      <td>1.0</td>\n",
       "      <td>0.0</td>\n",
       "      <td>4.0</td>\n",
       "      <td>13.0</td>\n",
       "      <td>11.0</td>\n",
       "      <td>73.0</td>\n",
       "      <td>1</td>\n",
       "      <td>1</td>\n",
       "      <td>0</td>\n",
       "      <td>5.0</td>\n",
       "      <td>28</td>\n",
       "      <td>6.0</td>\n",
       "      <td>1.0</td>\n",
       "      <td>2.0</td>\n",
       "      <td>2.0</td>\n",
       "      <td>4.0</td>\n",
       "      <td>3.0</td>\n",
       "      <td>3.0</td>\n",
       "      <td>1.0</td>\n",
       "      <td>2.0</td>\n",
       "      <td>1.0</td>\n",
       "      <td>2.0</td>\n",
       "      <td>1.0</td>\n",
       "      <td>3.0</td>\n",
       "      <td>380.000000</td>\n",
       "      <td>4.642857</td>\n",
       "      <td>3962.142857</td>\n",
       "      <td>457.714286</td>\n",
       "      <td>3241.785714</td>\n",
       "      <td>886.785714</td>\n",
       "    </tr>\n",
       "    <tr>\n",
       "      <th>5406</th>\n",
       "      <td>PRV57760</td>\n",
       "      <td>No</td>\n",
       "      <td>9</td>\n",
       "      <td>outpatient</td>\n",
       "      <td>7.0</td>\n",
       "      <td>2.0</td>\n",
       "      <td>0.0</td>\n",
       "      <td>0.0</td>\n",
       "      <td>6.0</td>\n",
       "      <td>3.0</td>\n",
       "      <td>61.0</td>\n",
       "      <td>1</td>\n",
       "      <td>3</td>\n",
       "      <td>0</td>\n",
       "      <td>4.0</td>\n",
       "      <td>22</td>\n",
       "      <td>1.0</td>\n",
       "      <td>5.0</td>\n",
       "      <td>1.0</td>\n",
       "      <td>1.0</td>\n",
       "      <td>1.0</td>\n",
       "      <td>3.0</td>\n",
       "      <td>0.0</td>\n",
       "      <td>4.0</td>\n",
       "      <td>3.0</td>\n",
       "      <td>0.0</td>\n",
       "      <td>2.0</td>\n",
       "      <td>1.0</td>\n",
       "      <td>1.0</td>\n",
       "      <td>216.818182</td>\n",
       "      <td>0.000000</td>\n",
       "      <td>2785.454545</td>\n",
       "      <td>436.909091</td>\n",
       "      <td>1492.727273</td>\n",
       "      <td>805.454545</td>\n",
       "    </tr>\n",
       "    <tr>\n",
       "      <th>5407</th>\n",
       "      <td>PRV57761</td>\n",
       "      <td>No</td>\n",
       "      <td>67</td>\n",
       "      <td>outpatient</td>\n",
       "      <td>58.0</td>\n",
       "      <td>5.0</td>\n",
       "      <td>1.0</td>\n",
       "      <td>3.0</td>\n",
       "      <td>33.0</td>\n",
       "      <td>34.0</td>\n",
       "      <td>71.0</td>\n",
       "      <td>1</td>\n",
       "      <td>2</td>\n",
       "      <td>0</td>\n",
       "      <td>5.0</td>\n",
       "      <td>82</td>\n",
       "      <td>5.0</td>\n",
       "      <td>6.0</td>\n",
       "      <td>4.0</td>\n",
       "      <td>5.0</td>\n",
       "      <td>8.0</td>\n",
       "      <td>10.0</td>\n",
       "      <td>5.0</td>\n",
       "      <td>5.0</td>\n",
       "      <td>4.0</td>\n",
       "      <td>14.0</td>\n",
       "      <td>11.0</td>\n",
       "      <td>5.0</td>\n",
       "      <td>2.0</td>\n",
       "      <td>225.243902</td>\n",
       "      <td>4.512195</td>\n",
       "      <td>7026.585366</td>\n",
       "      <td>586.097561</td>\n",
       "      <td>2928.414634</td>\n",
       "      <td>707.317073</td>\n",
       "    </tr>\n",
       "    <tr>\n",
       "      <th>5408</th>\n",
       "      <td>PRV57762</td>\n",
       "      <td>No</td>\n",
       "      <td>1</td>\n",
       "      <td>outpatient</td>\n",
       "      <td>1.0</td>\n",
       "      <td>0.0</td>\n",
       "      <td>0.0</td>\n",
       "      <td>0.0</td>\n",
       "      <td>1.0</td>\n",
       "      <td>0.0</td>\n",
       "      <td>67.0</td>\n",
       "      <td>1</td>\n",
       "      <td>1</td>\n",
       "      <td>0</td>\n",
       "      <td>5.0</td>\n",
       "      <td>1</td>\n",
       "      <td>0.0</td>\n",
       "      <td>0.0</td>\n",
       "      <td>0.0</td>\n",
       "      <td>0.0</td>\n",
       "      <td>0.0</td>\n",
       "      <td>0.0</td>\n",
       "      <td>0.0</td>\n",
       "      <td>0.0</td>\n",
       "      <td>1.0</td>\n",
       "      <td>0.0</td>\n",
       "      <td>0.0</td>\n",
       "      <td>0.0</td>\n",
       "      <td>1.0</td>\n",
       "      <td>1900.000000</td>\n",
       "      <td>0.000000</td>\n",
       "      <td>15000.000000</td>\n",
       "      <td>1068.000000</td>\n",
       "      <td>2540.000000</td>\n",
       "      <td>400.000000</td>\n",
       "    </tr>\n",
       "    <tr>\n",
       "      <th>5409</th>\n",
       "      <td>PRV57763</td>\n",
       "      <td>No</td>\n",
       "      <td>70</td>\n",
       "      <td>outpatient</td>\n",
       "      <td>56.0</td>\n",
       "      <td>11.0</td>\n",
       "      <td>3.0</td>\n",
       "      <td>0.0</td>\n",
       "      <td>33.0</td>\n",
       "      <td>37.0</td>\n",
       "      <td>74.0</td>\n",
       "      <td>3</td>\n",
       "      <td>1</td>\n",
       "      <td>0</td>\n",
       "      <td>5.0</td>\n",
       "      <td>118</td>\n",
       "      <td>8.0</td>\n",
       "      <td>4.0</td>\n",
       "      <td>8.0</td>\n",
       "      <td>5.0</td>\n",
       "      <td>10.0</td>\n",
       "      <td>8.0</td>\n",
       "      <td>13.0</td>\n",
       "      <td>16.0</td>\n",
       "      <td>18.0</td>\n",
       "      <td>9.0</td>\n",
       "      <td>13.0</td>\n",
       "      <td>6.0</td>\n",
       "      <td>3.0</td>\n",
       "      <td>369.576271</td>\n",
       "      <td>3.305085</td>\n",
       "      <td>3599.237288</td>\n",
       "      <td>602.949153</td>\n",
       "      <td>3108.898305</td>\n",
       "      <td>803.305085</td>\n",
       "    </tr>\n",
       "  </tbody>\n",
       "</table>\n",
       "<p>5410 rows × 35 columns</p>\n",
       "</div>"
      ],
      "text/plain": [
       "      Provider PotentialFraud  patient_count patient_type  Race1  Race2  \\\n",
       "0     PRV51001             No             24         both   20.0    4.0   \n",
       "1     PRV51003            Yes            117         both   94.0   22.0   \n",
       "2     PRV51004             No            138   outpatient  113.0   20.0   \n",
       "3     PRV51005            Yes            495   outpatient  382.0  110.0   \n",
       "4     PRV51007             No             58         both   47.0   11.0   \n",
       "...        ...            ...            ...          ...    ...    ...   \n",
       "5405  PRV57759             No             24   outpatient   19.0    1.0   \n",
       "5406  PRV57760             No              9   outpatient    7.0    2.0   \n",
       "5407  PRV57761             No             67   outpatient   58.0    5.0   \n",
       "5408  PRV57762             No              1   outpatient    1.0    0.0   \n",
       "5409  PRV57763             No             70   outpatient   56.0   11.0   \n",
       "\n",
       "      Race3  Race5   Male  Female  mean_age  state_count  phy_count  no_phy  \\\n",
       "0       0.0    0.0    9.0    15.0      78.0            1         14       0   \n",
       "1       0.0    1.0   49.0    68.0      70.0            3         44       0   \n",
       "2       5.0    0.0   45.0    93.0      72.0            9         38       0   \n",
       "3       3.0    0.0  208.0   287.0      70.0            4          6       2   \n",
       "4       0.0    0.0   27.0    31.0      69.0            2         10       0   \n",
       "...     ...    ...    ...     ...       ...          ...        ...     ...   \n",
       "5405    0.0    4.0   13.0    11.0      73.0            1          1       0   \n",
       "5406    0.0    0.0    6.0     3.0      61.0            1          3       0   \n",
       "5407    1.0    3.0   33.0    34.0      71.0            1          2       0   \n",
       "5408    0.0    0.0    1.0     0.0      67.0            1          1       0   \n",
       "5409    3.0    0.0   33.0    37.0      74.0            3          1       0   \n",
       "\n",
       "      chronic_mean  claim_count    Jan    Feb    Mar   Apr   May    Jun   Jul  \\\n",
       "0              6.0           25    2.0    4.0    3.0   2.0   5.0    3.0   2.0   \n",
       "1              5.0          132   13.0   16.0   10.0  10.0   8.0   14.0  11.0   \n",
       "2              4.0          149   12.0   19.0   18.0  10.0   8.0   11.0  14.0   \n",
       "3              5.0         1165  102.0  101.0  113.0  98.0  83.0  103.0  92.0   \n",
       "4              4.0           72    6.0    5.0    9.0   4.0   9.0    9.0   3.0   \n",
       "...            ...          ...    ...    ...    ...   ...   ...    ...   ...   \n",
       "5405           5.0           28    6.0    1.0    2.0   2.0   4.0    3.0   3.0   \n",
       "5406           4.0           22    1.0    5.0    1.0   1.0   1.0    3.0   0.0   \n",
       "5407           5.0           82    5.0    6.0    4.0   5.0   8.0   10.0   5.0   \n",
       "5408           5.0            1    0.0    0.0    0.0   0.0   0.0    0.0   0.0   \n",
       "5409           5.0          118    8.0    4.0    8.0   5.0  10.0    8.0  13.0   \n",
       "\n",
       "       Aug    Sep    Oct   Nov   Dec  days_admitted  InscClaimAmtReimbursed  \\\n",
       "0      1.0    1.0    0.0   0.0   2.0            2.0             4185.600000   \n",
       "1     13.0    9.0   11.0  11.0   6.0            5.0             4588.409091   \n",
       "2     10.0   12.0   11.0   8.0  16.0            2.0              350.134228   \n",
       "3     99.0  107.0  111.0  73.0  83.0            2.0              241.124464   \n",
       "4      6.0    7.0    2.0   6.0   6.0            2.0              468.194444   \n",
       "...    ...    ...    ...   ...   ...            ...                     ...   \n",
       "5405   1.0    2.0    1.0   2.0   1.0            3.0              380.000000   \n",
       "5406   4.0    3.0    0.0   2.0   1.0            1.0              216.818182   \n",
       "5407   5.0    4.0   14.0  11.0   5.0            2.0              225.243902   \n",
       "5408   0.0    1.0    0.0   0.0   0.0            1.0             1900.000000   \n",
       "5409  16.0   18.0    9.0  13.0   6.0            3.0              369.576271   \n",
       "\n",
       "      DeductibleAmtPaid  IPAnnualReimbursementAmt  IPAnnualDeductibleAmt  \\\n",
       "0            213.600000              17606.000000             897.120000   \n",
       "1            502.166667               7568.181818             931.424242   \n",
       "2              2.080537               4351.879195             434.953020   \n",
       "3              3.175966               3623.991416             379.162232   \n",
       "4             45.333333               3050.000000             445.000000   \n",
       "...                 ...                       ...                    ...   \n",
       "5405           4.642857               3962.142857             457.714286   \n",
       "5406           0.000000               2785.454545             436.909091   \n",
       "5407           4.512195               7026.585366             586.097561   \n",
       "5408           0.000000              15000.000000            1068.000000   \n",
       "5409           3.305085               3599.237288             602.949153   \n",
       "\n",
       "      OPAnnualReimbursementAmt  OPAnnualDeductibleAmt  \n",
       "0                  2615.200000             463.920000  \n",
       "1                  2678.181818             737.121212  \n",
       "2                  2194.899329             622.751678  \n",
       "3                  2109.733906             636.328755  \n",
       "4                  1729.722222             469.722222  \n",
       "...                        ...                    ...  \n",
       "5405               3241.785714             886.785714  \n",
       "5406               1492.727273             805.454545  \n",
       "5407               2928.414634             707.317073  \n",
       "5408               2540.000000             400.000000  \n",
       "5409               3108.898305             803.305085  \n",
       "\n",
       "[5410 rows x 35 columns]"
      ]
     },
     "execution_count": 94,
     "metadata": {},
     "output_type": "execute_result"
    }
   ],
   "source": [
    "provider2"
   ]
  },
  {
   "cell_type": "code",
   "execution_count": 95,
   "metadata": {},
   "outputs": [],
   "source": [
    "patient_record['coverage'] = patient_record['InscClaimAmtReimbursed']\\\n",
    "                    /(patient_record['InscClaimAmtReimbursed'] + patient_record['DeductibleAmtPaid'])"
   ]
  },
  {
   "cell_type": "code",
   "execution_count": 96,
   "metadata": {},
   "outputs": [],
   "source": [
    "coverage = patient_record.groupby('Provider')['coverage'].mean().reset_index(name = 'coverage')"
   ]
  },
  {
   "cell_type": "code",
   "execution_count": 97,
   "metadata": {},
   "outputs": [],
   "source": [
    "provider2 = provider2.merge(coverage, how = 'left', on = 'Provider')"
   ]
  },
  {
   "cell_type": "code",
   "execution_count": 98,
   "metadata": {},
   "outputs": [
    {
     "data": {
      "text/plain": [
       "<AxesSubplot:xlabel='PotentialFraud'>"
      ]
     },
     "execution_count": 98,
     "metadata": {},
     "output_type": "execute_result"
    },
    {
     "data": {
      "image/png": "[encoded data removed]",
      "text/plain": [
       "<Figure size 432x288 with 1 Axes>"
      ]
     },
     "metadata": {
      "needs_background": "light"
     },
     "output_type": "display_data"
    }
   ],
   "source": [
    "provider2.groupby('PotentialFraud')['coverage'].mean().plot.bar()"
   ]
  },
  {
   "cell_type": "code",
   "execution_count": 99,
   "metadata": {},
   "outputs": [],
   "source": [
    "#Locate columns with NA values in coverage\n",
    "provider2.loc[np.isnan(provider2['coverage'])]\n",
    "#Impute with column mode\n",
    "provider2['coverage'].fillna(provider2['coverage'].mode()[0], inplace=True)"
   ]
  },
  {
   "cell_type": "markdown",
   "metadata": {},
   "source": [
    "### Total Amount charged"
   ]
  },
  {
   "cell_type": "code",
   "execution_count": 100,
   "metadata": {},
   "outputs": [],
   "source": [
    "patient_record['totalamount_charged'] = patient_record['InscClaimAmtReimbursed'] +patient_record['DeductibleAmtPaid']"
   ]
  },
  {
   "cell_type": "code",
   "execution_count": 101,
   "metadata": {},
   "outputs": [],
   "source": [
    "total = patient_record.groupby('Provider')['totalamount_charged'].mean().reset_index(name = 'totalamount_charged')"
   ]
  },
  {
   "cell_type": "code",
   "execution_count": 102,
   "metadata": {},
   "outputs": [],
   "source": [
    "provider2 = provider2.merge(total, how = 'left', on = 'Provider')"
   ]
  },
  {
   "cell_type": "markdown",
   "metadata": {},
   "source": [
    "### Revenue(daily_charge)"
   ]
  },
  {
   "cell_type": "code",
   "execution_count": 103,
   "metadata": {},
   "outputs": [],
   "source": [
    "patient_record['revenue_per_day'] = patient_record['totalamount_charged']/ patient_record['days_admitted']"
   ]
  },
  {
   "cell_type": "code",
   "execution_count": 104,
   "metadata": {},
   "outputs": [],
   "source": [
    "revenue = patient_record.groupby('Provider')['revenue_per_day'].mean().reset_index(name = 'revenue_day')"
   ]
  },
  {
   "cell_type": "code",
   "execution_count": 105,
   "metadata": {},
   "outputs": [],
   "source": [
    "provider2 = provider2.merge(revenue, how = 'left', on = 'Provider')"
   ]
  },
  {
   "cell_type": "markdown",
   "metadata": {},
   "source": [
    "### Annual total amount"
   ]
  },
  {
   "cell_type": "code",
   "execution_count": 106,
   "metadata": {},
   "outputs": [],
   "source": [
    "patient_record['annual_amount'] = patient_record['IPAnnualReimbursementAmt'] + patient_record['IPAnnualDeductibleAmt']\\\n",
    "                + patient_record['OPAnnualReimbursementAmt'] + patient_record['OPAnnualDeductibleAmt']"
   ]
  },
  {
   "cell_type": "code",
   "execution_count": 107,
   "metadata": {},
   "outputs": [],
   "source": [
    "annual_amount = patient_record.groupby('Provider')['annual_amount'].mean().reset_index(name = 'annual_amount')"
   ]
  },
  {
   "cell_type": "code",
   "execution_count": 108,
   "metadata": {},
   "outputs": [],
   "source": [
    "provider2 = provider2.merge(annual_amount, how = 'left', on = 'Provider')"
   ]
  },
  {
   "cell_type": "markdown",
   "metadata": {},
   "source": [
    "## Diagnosis and procedural codes"
   ]
  },
  {
   "cell_type": "code",
   "execution_count": 110,
   "metadata": {},
   "outputs": [],
   "source": [
    "claimdiag = patient_record.groupby(['Provider', 'ClmAdmitDiagnosisCode'])['ClmAdmitDiagnosisCode'].count()\\\n",
    "            .reset_index(name = 'claimdiag')\n",
    "claimdiag2 = claimdiag.groupby('Provider')['claimdiag'].count().reset_index()"
   ]
  },
  {
   "cell_type": "code",
   "execution_count": 111,
   "metadata": {},
   "outputs": [],
   "source": [
    "provider2 = provider2.merge(claimdiag2, how = 'left', on = 'Provider')"
   ]
  },
  {
   "cell_type": "code",
   "execution_count": 112,
   "metadata": {},
   "outputs": [],
   "source": [
    "diag_grp = patient_record.groupby(['Provider', 'DiagnosisGroupCode'])['DiagnosisGroupCode'].count()\\\n",
    "            .reset_index(name = 'diag_grp')\n",
    "diag_grp2 = diag_grp.groupby('Provider')['diag_grp'].count().reset_index()"
   ]
  },
  {
   "cell_type": "code",
   "execution_count": 113,
   "metadata": {},
   "outputs": [],
   "source": [
    "provider2 = provider2.merge(diag_grp2, how = 'left', on = 'Provider')"
   ]
  },
  {
   "cell_type": "code",
   "execution_count": 114,
   "metadata": {},
   "outputs": [],
   "source": [
    "provider2[['claimdiag', 'diag_grp']] =provider2[['claimdiag', 'diag_grp']].fillna(0)"
   ]
  },
  {
   "cell_type": "code",
   "execution_count": 115,
   "metadata": {},
   "outputs": [],
   "source": [
    "diagnosis = pd.DataFrame(columns = ['diag_code'])\n",
    "diagnosis['diag_code'] = pd.concat([patient_record[\"ClmDiagnosisCode_1\"],  patient_record[\"ClmDiagnosisCode_2\"], \n",
    "                patient_record[\"ClmDiagnosisCode_3\"], patient_record[\"ClmDiagnosisCode_4\"],\n",
    "                patient_record[\"ClmDiagnosisCode_5\"], patient_record[\"ClmDiagnosisCode_6\"],\n",
    "                patient_record[\"ClmDiagnosisCode_7\"],patient_record[\"ClmDiagnosisCode_8\"],\n",
    "                patient_record[\"ClmDiagnosisCode_9\"],patient_record[\"ClmDiagnosisCode_10\"]], axis=0)"
   ]
  },
  {
   "cell_type": "code",
   "execution_count": 116,
   "metadata": {},
   "outputs": [
    {
     "data": {
      "text/html": [
       "<div>\n",
       "<style scoped>\n",
       "    .dataframe tbody tr th:only-of-type {\n",
       "        vertical-align: middle;\n",
       "    }\n",
       "\n",
       "    .dataframe tbody tr th {\n",
       "        vertical-align: top;\n",
       "    }\n",
       "\n",
       "    .dataframe thead th {\n",
       "        text-align: right;\n",
       "    }\n",
       "</style>\n",
       "<table border=\"1\" class=\"dataframe\">\n",
       "  <thead>\n",
       "    <tr style=\"text-align: right;\">\n",
       "      <th></th>\n",
       "      <th>index</th>\n",
       "      <th>diag_code</th>\n",
       "    </tr>\n",
       "  </thead>\n",
       "  <tbody>\n",
       "    <tr>\n",
       "      <th>0</th>\n",
       "      <td>0</td>\n",
       "      <td>3901394</td>\n",
       "    </tr>\n",
       "    <tr>\n",
       "      <th>1</th>\n",
       "      <td>4019</td>\n",
       "      <td>77056</td>\n",
       "    </tr>\n",
       "    <tr>\n",
       "      <th>2</th>\n",
       "      <td>25000</td>\n",
       "      <td>37356</td>\n",
       "    </tr>\n",
       "    <tr>\n",
       "      <th>3</th>\n",
       "      <td>2724</td>\n",
       "      <td>35763</td>\n",
       "    </tr>\n",
       "    <tr>\n",
       "      <th>4</th>\n",
       "      <td>V5869</td>\n",
       "      <td>24904</td>\n",
       "    </tr>\n",
       "    <tr>\n",
       "      <th>5</th>\n",
       "      <td>4011</td>\n",
       "      <td>23773</td>\n",
       "    </tr>\n",
       "    <tr>\n",
       "      <th>6</th>\n",
       "      <td>42731</td>\n",
       "      <td>20138</td>\n",
       "    </tr>\n",
       "    <tr>\n",
       "      <th>7</th>\n",
       "      <td>V5861</td>\n",
       "      <td>20001</td>\n",
       "    </tr>\n",
       "    <tr>\n",
       "      <th>8</th>\n",
       "      <td>2720</td>\n",
       "      <td>18268</td>\n",
       "    </tr>\n",
       "    <tr>\n",
       "      <th>9</th>\n",
       "      <td>2449</td>\n",
       "      <td>17600</td>\n",
       "    </tr>\n",
       "    <tr>\n",
       "      <th>10</th>\n",
       "      <td>4280</td>\n",
       "      <td>15507</td>\n",
       "    </tr>\n",
       "  </tbody>\n",
       "</table>\n",
       "</div>"
      ],
      "text/plain": [
       "    index  diag_code\n",
       "0       0    3901394\n",
       "1    4019      77056\n",
       "2   25000      37356\n",
       "3    2724      35763\n",
       "4   V5869      24904\n",
       "5    4011      23773\n",
       "6   42731      20138\n",
       "7   V5861      20001\n",
       "8    2720      18268\n",
       "9    2449      17600\n",
       "10   4280      15507"
      ]
     },
     "execution_count": 116,
     "metadata": {},
     "output_type": "execute_result"
    }
   ],
   "source": [
    "#Most freq used diag codes\n",
    "diagnosis.diag_code.value_counts().head(11).reset_index()"
   ]
  },
  {
   "cell_type": "code",
   "execution_count": 117,
   "metadata": {},
   "outputs": [],
   "source": [
    "repeat_prov =pd.DataFrame(columns = ['Provider'])\n",
    "repeat_prov = pd.DataFrame(pd.concat([patient_record['Provider']]*10))"
   ]
  },
  {
   "cell_type": "code",
   "execution_count": 118,
   "metadata": {},
   "outputs": [],
   "source": [
    "merged_diag = pd.concat([repeat_prov, diagnosis], axis = 1)"
   ]
  },
  {
   "cell_type": "code",
   "execution_count": 119,
   "metadata": {},
   "outputs": [],
   "source": [
    "DiagCode = merged_diag.groupby(['Provider', 'diag_code'])['diag_code'].count().reset_index(name = 'diag_count')"
   ]
  },
  {
   "cell_type": "code",
   "execution_count": 120,
   "metadata": {},
   "outputs": [],
   "source": [
    "diag_codelst = ['4019', '25000', '2724', 'V5869', '4011', '42731', 'V5861', '2720', '2449', '4280']\n",
    "merged_diag2 = merged_diag[merged_diag['diag_code'].isin(diag_codelst)]"
   ]
  },
  {
   "cell_type": "code",
   "execution_count": 121,
   "metadata": {},
   "outputs": [],
   "source": [
    "DiagCode = merged_diag2.groupby(['Provider', 'diag_code'])['diag_code'].count().reset_index(name = 'diag_count')"
   ]
  },
  {
   "cell_type": "code",
   "execution_count": 122,
   "metadata": {},
   "outputs": [],
   "source": [
    "diagnosis_code = DiagCode.pivot(index = 'Provider', columns = 'diag_code', values = 'diag_count')"
   ]
  },
  {
   "cell_type": "code",
   "execution_count": 123,
   "metadata": {},
   "outputs": [],
   "source": [
    "diagnosis_code.columns = ['diag_4019', 'diag_25000', 'diag_2724', 'diag_V5869', 'diag_4011', 'diag_42731', \n",
    "                         'diag_V5861','diag_2720', 'diag_2449', 'diag_4280']"
   ]
  },
  {
   "cell_type": "code",
   "execution_count": 124,
   "metadata": {},
   "outputs": [],
   "source": [
    "provider2 = provider2.merge(diagnosis_code, how = 'left', on = 'Provider')"
   ]
  },
  {
   "cell_type": "code",
   "execution_count": 125,
   "metadata": {},
   "outputs": [],
   "source": [
    "provider2[['diag_4019', 'diag_25000', 'diag_2724', 'diag_V5869', 'diag_4011', 'diag_42731', \n",
    "                         'diag_V5861','diag_2720', 'diag_2449', 'diag_4280']] = \\\n",
    "            provider2[['diag_4019', 'diag_25000', 'diag_2724', 'diag_V5869', 'diag_4011', 'diag_42731', \n",
    "                             'diag_V5861','diag_2720', 'diag_2449', 'diag_4280']].fillna(0)"
   ]
  },
  {
   "cell_type": "markdown",
   "metadata": {},
   "source": [
    "### Procedure codes"
   ]
  },
  {
   "cell_type": "code",
   "execution_count": 127,
   "metadata": {},
   "outputs": [],
   "source": [
    "procedure = pd.DataFrame(columns = ['proc_code'])\n",
    "procedure['proc_code'] = pd.concat([patient_record[\"ClmProcedureCode_1\"],  patient_record[\"ClmProcedureCode_2\"], \n",
    "                patient_record[\"ClmProcedureCode_3\"], patient_record[\"ClmProcedureCode_4\"],\n",
    "                patient_record[\"ClmProcedureCode_5\"], patient_record['ClmProcedureCode_6']], axis=0)"
   ]
  },
  {
   "cell_type": "code",
   "execution_count": 128,
   "metadata": {},
   "outputs": [
    {
     "data": {
      "text/html": [
       "<div>\n",
       "<style scoped>\n",
       "    .dataframe tbody tr th:only-of-type {\n",
       "        vertical-align: middle;\n",
       "    }\n",
       "\n",
       "    .dataframe tbody tr th {\n",
       "        vertical-align: top;\n",
       "    }\n",
       "\n",
       "    .dataframe thead th {\n",
       "        text-align: right;\n",
       "    }\n",
       "</style>\n",
       "<table border=\"1\" class=\"dataframe\">\n",
       "  <thead>\n",
       "    <tr style=\"text-align: right;\">\n",
       "      <th></th>\n",
       "      <th>index</th>\n",
       "      <th>proc_code</th>\n",
       "    </tr>\n",
       "  </thead>\n",
       "  <tbody>\n",
       "    <tr>\n",
       "      <th>0</th>\n",
       "      <td>0.0</td>\n",
       "      <td>2761159</td>\n",
       "    </tr>\n",
       "    <tr>\n",
       "      <th>1</th>\n",
       "      <td>4019.0</td>\n",
       "      <td>1959</td>\n",
       "    </tr>\n",
       "    <tr>\n",
       "      <th>2</th>\n",
       "      <td>9904.0</td>\n",
       "      <td>1152</td>\n",
       "    </tr>\n",
       "    <tr>\n",
       "      <th>3</th>\n",
       "      <td>2724.0</td>\n",
       "      <td>1054</td>\n",
       "    </tr>\n",
       "    <tr>\n",
       "      <th>4</th>\n",
       "      <td>8154.0</td>\n",
       "      <td>1022</td>\n",
       "    </tr>\n",
       "    <tr>\n",
       "      <th>5</th>\n",
       "      <td>66.0</td>\n",
       "      <td>901</td>\n",
       "    </tr>\n",
       "    <tr>\n",
       "      <th>6</th>\n",
       "      <td>3893.0</td>\n",
       "      <td>854</td>\n",
       "    </tr>\n",
       "    <tr>\n",
       "      <th>7</th>\n",
       "      <td>3995.0</td>\n",
       "      <td>809</td>\n",
       "    </tr>\n",
       "    <tr>\n",
       "      <th>8</th>\n",
       "      <td>4516.0</td>\n",
       "      <td>651</td>\n",
       "    </tr>\n",
       "    <tr>\n",
       "      <th>9</th>\n",
       "      <td>3722.0</td>\n",
       "      <td>589</td>\n",
       "    </tr>\n",
       "    <tr>\n",
       "      <th>10</th>\n",
       "      <td>8151.0</td>\n",
       "      <td>463</td>\n",
       "    </tr>\n",
       "  </tbody>\n",
       "</table>\n",
       "</div>"
      ],
      "text/plain": [
       "     index  proc_code\n",
       "0      0.0    2761159\n",
       "1   4019.0       1959\n",
       "2   9904.0       1152\n",
       "3   2724.0       1054\n",
       "4   8154.0       1022\n",
       "5     66.0        901\n",
       "6   3893.0        854\n",
       "7   3995.0        809\n",
       "8   4516.0        651\n",
       "9   3722.0        589\n",
       "10  8151.0        463"
      ]
     },
     "execution_count": 128,
     "metadata": {},
     "output_type": "execute_result"
    }
   ],
   "source": [
    "procedure.proc_code.value_counts().head(11).reset_index()"
   ]
  },
  {
   "cell_type": "code",
   "execution_count": 129,
   "metadata": {},
   "outputs": [],
   "source": [
    "repeat_prov2 =pd.DataFrame(columns = ['Provider'])\n",
    "repeat_prov2 = pd.DataFrame(pd.concat([patient_record['Provider']]*6))"
   ]
  },
  {
   "cell_type": "code",
   "execution_count": 130,
   "metadata": {},
   "outputs": [],
   "source": [
    "merged_proc = pd.concat([repeat_prov2, procedure], axis = 1)"
   ]
  },
  {
   "cell_type": "code",
   "execution_count": 131,
   "metadata": {},
   "outputs": [],
   "source": [
    "ProcCode = merged_proc.groupby(['Provider', 'proc_code'])['proc_code'].count().reset_index(name = 'proc_count')"
   ]
  },
  {
   "cell_type": "code",
   "execution_count": 132,
   "metadata": {},
   "outputs": [],
   "source": [
    "proc_codelist = ['4019', '9904', '2724', '8154', '66', '3893', '3995', '4516', '3722', '8151']\n",
    "merged_proc2 = merged_proc[merged_proc['proc_code'].isin(proc_codelist)]"
   ]
  },
  {
   "cell_type": "code",
   "execution_count": 133,
   "metadata": {},
   "outputs": [],
   "source": [
    "ProcCode = merged_proc2.groupby(['Provider', 'proc_code'])['proc_code'].count().reset_index(name = 'proc_count')"
   ]
  },
  {
   "cell_type": "code",
   "execution_count": 134,
   "metadata": {},
   "outputs": [],
   "source": [
    "procedure_code = ProcCode.pivot(index = 'Provider', columns = 'proc_code', values = 'proc_count')"
   ]
  },
  {
   "cell_type": "code",
   "execution_count": 135,
   "metadata": {},
   "outputs": [],
   "source": [
    "procedure_code.columns = ['proc_4019', 'proc_9904', 'proc_2724', 'proc_8154', 'proc_66', 'proc_3893', 'proc_3995',\n",
    "                          'proc_4516', 'proc_3722', 'proc_8151']"
   ]
  },
  {
   "cell_type": "code",
   "execution_count": 136,
   "metadata": {},
   "outputs": [],
   "source": [
    "provider2 = provider2.merge(procedure_code, how = 'left', on = 'Provider')"
   ]
  },
  {
   "cell_type": "code",
   "execution_count": 137,
   "metadata": {},
   "outputs": [],
   "source": [
    "provider2[['proc_4019', 'proc_9904', 'proc_2724', 'proc_8154', 'proc_66', 'proc_3893', 'proc_3995',\n",
    "                          'proc_4516', 'proc_3722', 'proc_8151']] = \\\n",
    "            provider2[['proc_4019', 'proc_9904', 'proc_2724', 'proc_8154', 'proc_66', 'proc_3893', 'proc_3995',\n",
    "                          'proc_4516', 'proc_3722', 'proc_8151']].fillna(0)"
   ]
  },
  {
   "cell_type": "markdown",
   "metadata": {},
   "source": [
    "## Duplicates"
   ]
  },
  {
   "cell_type": "code",
   "execution_count": 138,
   "metadata": {},
   "outputs": [],
   "source": [
    "#Duplicated_claims\n",
    "duplicate_claim = patient_record[patient_record.duplicated(subset = [\n",
    "                        'ClmAdmitDiagnosisCode','DiagnosisGroupCode', 'ClmDiagnosisCode_1',\n",
    "       'ClmDiagnosisCode_2', 'ClmDiagnosisCode_3', 'ClmDiagnosisCode_4',\n",
    "       'ClmDiagnosisCode_5', 'ClmDiagnosisCode_6', 'ClmDiagnosisCode_7',\n",
    "       'ClmDiagnosisCode_8', 'ClmDiagnosisCode_9', 'ClmDiagnosisCode_10',\n",
    "       'ClmProcedureCode_1', 'ClmProcedureCode_2', 'ClmProcedureCode_3',\n",
    "       'ClmProcedureCode_4', 'ClmProcedureCode_5'], keep = False)]"
   ]
  },
  {
   "cell_type": "code",
   "execution_count": 139,
   "metadata": {},
   "outputs": [],
   "source": [
    "duplicated_claims = duplicate_claim.groupby(['Provider'])['ClaimID'].count().reset_index(name = 'duplicate_claims')"
   ]
  },
  {
   "cell_type": "code",
   "execution_count": 140,
   "metadata": {},
   "outputs": [],
   "source": [
    "provider2 = provider2.merge(duplicated_claims, how = 'left', on = 'Provider')"
   ]
  },
  {
   "cell_type": "code",
   "execution_count": 141,
   "metadata": {},
   "outputs": [],
   "source": [
    "provider2[['duplicate_claims']] = provider2[['duplicate_claims']].fillna(0)"
   ]
  },
  {
   "cell_type": "code",
   "execution_count": 142,
   "metadata": {},
   "outputs": [],
   "source": [
    "#Duplicated_bene_count\n",
    "patient_duplicates = patient_record[patient_record.duplicated(subset = ['BeneID','Provider',\n",
    "                        'ClmAdmitDiagnosisCode','DiagnosisGroupCode', 'ClmDiagnosisCode_1',\n",
    "       'ClmDiagnosisCode_2', 'ClmDiagnosisCode_3', 'ClmDiagnosisCode_4',\n",
    "       'ClmDiagnosisCode_5', 'ClmDiagnosisCode_6', 'ClmDiagnosisCode_7',\n",
    "       'ClmDiagnosisCode_8', 'ClmDiagnosisCode_9', 'ClmDiagnosisCode_10',\n",
    "       'ClmProcedureCode_1', 'ClmProcedureCode_2', 'ClmProcedureCode_3',\n",
    "       'ClmProcedureCode_4', 'ClmProcedureCode_5'], keep = False)]"
   ]
  },
  {
   "cell_type": "code",
   "execution_count": 144,
   "metadata": {},
   "outputs": [],
   "source": [
    "patient_duplicate_count = patient_duplicates.groupby(['Provider', 'BeneID'])['BeneID'].count().\\\n",
    "                            reset_index(name = 'patient_duplicate_count')"
   ]
  },
  {
   "cell_type": "code",
   "execution_count": 145,
   "metadata": {},
   "outputs": [],
   "source": [
    "patient_duplicate_count = patient_duplicate_count.groupby('Provider')['patient_duplicate_count'].count().reset_index()"
   ]
  },
  {
   "cell_type": "code",
   "execution_count": 146,
   "metadata": {},
   "outputs": [],
   "source": [
    "provider2 = provider2.merge(patient_duplicate_count, how = 'left', on = 'Provider')"
   ]
  },
  {
   "cell_type": "code",
   "execution_count": 147,
   "metadata": {},
   "outputs": [],
   "source": [
    "provider2[['patient_duplicate_count']] = provider2[['patient_duplicate_count']].fillna(0)"
   ]
  },
  {
   "cell_type": "code",
   "execution_count": 148,
   "metadata": {},
   "outputs": [
    {
     "data": {
      "text/html": [
       "<div>\n",
       "<style scoped>\n",
       "    .dataframe tbody tr th:only-of-type {\n",
       "        vertical-align: middle;\n",
       "    }\n",
       "\n",
       "    .dataframe tbody tr th {\n",
       "        vertical-align: top;\n",
       "    }\n",
       "\n",
       "    .dataframe thead th {\n",
       "        text-align: right;\n",
       "    }\n",
       "</style>\n",
       "<table border=\"1\" class=\"dataframe\">\n",
       "  <thead>\n",
       "    <tr style=\"text-align: right;\">\n",
       "      <th></th>\n",
       "      <th>Provider</th>\n",
       "      <th>PotentialFraud</th>\n",
       "      <th>patient_count</th>\n",
       "      <th>patient_type</th>\n",
       "      <th>Race1</th>\n",
       "      <th>Race2</th>\n",
       "      <th>Race3</th>\n",
       "      <th>Race5</th>\n",
       "      <th>Male</th>\n",
       "      <th>Female</th>\n",
       "      <th>mean_age</th>\n",
       "      <th>state_count</th>\n",
       "      <th>phy_count</th>\n",
       "      <th>no_phy</th>\n",
       "      <th>chronic_mean</th>\n",
       "      <th>claim_count</th>\n",
       "      <th>Jan</th>\n",
       "      <th>Feb</th>\n",
       "      <th>Mar</th>\n",
       "      <th>Apr</th>\n",
       "      <th>May</th>\n",
       "      <th>Jun</th>\n",
       "      <th>Jul</th>\n",
       "      <th>Aug</th>\n",
       "      <th>Sep</th>\n",
       "      <th>Oct</th>\n",
       "      <th>Nov</th>\n",
       "      <th>Dec</th>\n",
       "      <th>days_admitted</th>\n",
       "      <th>InscClaimAmtReimbursed</th>\n",
       "      <th>DeductibleAmtPaid</th>\n",
       "      <th>IPAnnualReimbursementAmt</th>\n",
       "      <th>IPAnnualDeductibleAmt</th>\n",
       "      <th>OPAnnualReimbursementAmt</th>\n",
       "      <th>OPAnnualDeductibleAmt</th>\n",
       "      <th>coverage</th>\n",
       "      <th>totalamount_charged</th>\n",
       "      <th>revenue_day</th>\n",
       "      <th>annual_amount</th>\n",
       "      <th>claimdiag</th>\n",
       "      <th>diag_grp</th>\n",
       "      <th>diag_4019</th>\n",
       "      <th>diag_25000</th>\n",
       "      <th>diag_2724</th>\n",
       "      <th>diag_V5869</th>\n",
       "      <th>diag_4011</th>\n",
       "      <th>diag_42731</th>\n",
       "      <th>diag_V5861</th>\n",
       "      <th>diag_2720</th>\n",
       "      <th>diag_2449</th>\n",
       "      <th>diag_4280</th>\n",
       "      <th>proc_4019</th>\n",
       "      <th>proc_9904</th>\n",
       "      <th>proc_2724</th>\n",
       "      <th>proc_8154</th>\n",
       "      <th>proc_66</th>\n",
       "      <th>proc_3893</th>\n",
       "      <th>proc_3995</th>\n",
       "      <th>proc_4516</th>\n",
       "      <th>proc_3722</th>\n",
       "      <th>proc_8151</th>\n",
       "      <th>duplicate_claims</th>\n",
       "      <th>patient_duplicate_count</th>\n",
       "    </tr>\n",
       "  </thead>\n",
       "  <tbody>\n",
       "    <tr>\n",
       "      <th>4369</th>\n",
       "      <td>PRV56467</td>\n",
       "      <td>No</td>\n",
       "      <td>188</td>\n",
       "      <td>outpatient</td>\n",
       "      <td>164.0</td>\n",
       "      <td>24.0</td>\n",
       "      <td>0.0</td>\n",
       "      <td>0.0</td>\n",
       "      <td>75.0</td>\n",
       "      <td>113.0</td>\n",
       "      <td>71.0</td>\n",
       "      <td>3</td>\n",
       "      <td>28</td>\n",
       "      <td>1</td>\n",
       "      <td>4.0</td>\n",
       "      <td>349</td>\n",
       "      <td>31.0</td>\n",
       "      <td>21.0</td>\n",
       "      <td>29.0</td>\n",
       "      <td>28.0</td>\n",
       "      <td>42.0</td>\n",
       "      <td>34.0</td>\n",
       "      <td>24.0</td>\n",
       "      <td>32.0</td>\n",
       "      <td>31.0</td>\n",
       "      <td>25.0</td>\n",
       "      <td>30.0</td>\n",
       "      <td>22.0</td>\n",
       "      <td>3.0</td>\n",
       "      <td>274.269341</td>\n",
       "      <td>2.636103</td>\n",
       "      <td>1939.799427</td>\n",
       "      <td>244.618911</td>\n",
       "      <td>2455.959885</td>\n",
       "      <td>772.349570</td>\n",
       "      <td>0.982831</td>\n",
       "      <td>276.905444</td>\n",
       "      <td>225.538445</td>\n",
       "      <td>5412.727794</td>\n",
       "      <td>60.0</td>\n",
       "      <td>0.0</td>\n",
       "      <td>8.0</td>\n",
       "      <td>18.0</td>\n",
       "      <td>6.0</td>\n",
       "      <td>20.0</td>\n",
       "      <td>17.0</td>\n",
       "      <td>51.0</td>\n",
       "      <td>15.0</td>\n",
       "      <td>10.0</td>\n",
       "      <td>17.0</td>\n",
       "      <td>16.0</td>\n",
       "      <td>0.0</td>\n",
       "      <td>0.0</td>\n",
       "      <td>0.0</td>\n",
       "      <td>0.0</td>\n",
       "      <td>0.0</td>\n",
       "      <td>0.0</td>\n",
       "      <td>0.0</td>\n",
       "      <td>0.0</td>\n",
       "      <td>0.0</td>\n",
       "      <td>0.0</td>\n",
       "      <td>159.0</td>\n",
       "      <td>1.0</td>\n",
       "    </tr>\n",
       "    <tr>\n",
       "      <th>2156</th>\n",
       "      <td>PRV53683</td>\n",
       "      <td>No</td>\n",
       "      <td>8</td>\n",
       "      <td>both</td>\n",
       "      <td>6.0</td>\n",
       "      <td>1.0</td>\n",
       "      <td>0.0</td>\n",
       "      <td>1.0</td>\n",
       "      <td>1.0</td>\n",
       "      <td>7.0</td>\n",
       "      <td>74.0</td>\n",
       "      <td>3</td>\n",
       "      <td>8</td>\n",
       "      <td>0</td>\n",
       "      <td>4.0</td>\n",
       "      <td>9</td>\n",
       "      <td>0.0</td>\n",
       "      <td>0.0</td>\n",
       "      <td>2.0</td>\n",
       "      <td>1.0</td>\n",
       "      <td>0.0</td>\n",
       "      <td>0.0</td>\n",
       "      <td>0.0</td>\n",
       "      <td>0.0</td>\n",
       "      <td>1.0</td>\n",
       "      <td>2.0</td>\n",
       "      <td>1.0</td>\n",
       "      <td>2.0</td>\n",
       "      <td>3.0</td>\n",
       "      <td>4144.444444</td>\n",
       "      <td>237.333333</td>\n",
       "      <td>8966.666667</td>\n",
       "      <td>712.000000</td>\n",
       "      <td>1504.444444</td>\n",
       "      <td>194.444444</td>\n",
       "      <td>0.985433</td>\n",
       "      <td>4381.777778</td>\n",
       "      <td>1100.083333</td>\n",
       "      <td>11377.555556</td>\n",
       "      <td>2.0</td>\n",
       "      <td>2.0</td>\n",
       "      <td>0.0</td>\n",
       "      <td>0.0</td>\n",
       "      <td>0.0</td>\n",
       "      <td>0.0</td>\n",
       "      <td>2.0</td>\n",
       "      <td>2.0</td>\n",
       "      <td>2.0</td>\n",
       "      <td>0.0</td>\n",
       "      <td>2.0</td>\n",
       "      <td>1.0</td>\n",
       "      <td>1.0</td>\n",
       "      <td>1.0</td>\n",
       "      <td>0.0</td>\n",
       "      <td>0.0</td>\n",
       "      <td>0.0</td>\n",
       "      <td>0.0</td>\n",
       "      <td>0.0</td>\n",
       "      <td>0.0</td>\n",
       "      <td>0.0</td>\n",
       "      <td>0.0</td>\n",
       "      <td>2.0</td>\n",
       "      <td>0.0</td>\n",
       "    </tr>\n",
       "    <tr>\n",
       "      <th>571</th>\n",
       "      <td>PRV51716</td>\n",
       "      <td>No</td>\n",
       "      <td>64</td>\n",
       "      <td>outpatient</td>\n",
       "      <td>48.0</td>\n",
       "      <td>4.0</td>\n",
       "      <td>8.0</td>\n",
       "      <td>4.0</td>\n",
       "      <td>24.0</td>\n",
       "      <td>40.0</td>\n",
       "      <td>74.0</td>\n",
       "      <td>1</td>\n",
       "      <td>3</td>\n",
       "      <td>0</td>\n",
       "      <td>5.0</td>\n",
       "      <td>82</td>\n",
       "      <td>2.0</td>\n",
       "      <td>7.0</td>\n",
       "      <td>7.0</td>\n",
       "      <td>6.0</td>\n",
       "      <td>10.0</td>\n",
       "      <td>6.0</td>\n",
       "      <td>9.0</td>\n",
       "      <td>10.0</td>\n",
       "      <td>7.0</td>\n",
       "      <td>4.0</td>\n",
       "      <td>7.0</td>\n",
       "      <td>7.0</td>\n",
       "      <td>2.0</td>\n",
       "      <td>280.853659</td>\n",
       "      <td>1.341463</td>\n",
       "      <td>3787.073171</td>\n",
       "      <td>377.707317</td>\n",
       "      <td>1850.365854</td>\n",
       "      <td>562.682927</td>\n",
       "      <td>0.988138</td>\n",
       "      <td>282.195122</td>\n",
       "      <td>243.151374</td>\n",
       "      <td>6577.829268</td>\n",
       "      <td>12.0</td>\n",
       "      <td>0.0</td>\n",
       "      <td>1.0</td>\n",
       "      <td>10.0</td>\n",
       "      <td>1.0</td>\n",
       "      <td>1.0</td>\n",
       "      <td>2.0</td>\n",
       "      <td>11.0</td>\n",
       "      <td>2.0</td>\n",
       "      <td>1.0</td>\n",
       "      <td>3.0</td>\n",
       "      <td>5.0</td>\n",
       "      <td>0.0</td>\n",
       "      <td>0.0</td>\n",
       "      <td>0.0</td>\n",
       "      <td>0.0</td>\n",
       "      <td>0.0</td>\n",
       "      <td>0.0</td>\n",
       "      <td>0.0</td>\n",
       "      <td>0.0</td>\n",
       "      <td>0.0</td>\n",
       "      <td>0.0</td>\n",
       "      <td>43.0</td>\n",
       "      <td>0.0</td>\n",
       "    </tr>\n",
       "    <tr>\n",
       "      <th>4931</th>\n",
       "      <td>PRV57183</td>\n",
       "      <td>No</td>\n",
       "      <td>45</td>\n",
       "      <td>outpatient</td>\n",
       "      <td>36.0</td>\n",
       "      <td>8.0</td>\n",
       "      <td>1.0</td>\n",
       "      <td>0.0</td>\n",
       "      <td>21.0</td>\n",
       "      <td>24.0</td>\n",
       "      <td>75.0</td>\n",
       "      <td>3</td>\n",
       "      <td>24</td>\n",
       "      <td>0</td>\n",
       "      <td>4.0</td>\n",
       "      <td>52</td>\n",
       "      <td>4.0</td>\n",
       "      <td>5.0</td>\n",
       "      <td>1.0</td>\n",
       "      <td>3.0</td>\n",
       "      <td>4.0</td>\n",
       "      <td>4.0</td>\n",
       "      <td>7.0</td>\n",
       "      <td>1.0</td>\n",
       "      <td>4.0</td>\n",
       "      <td>6.0</td>\n",
       "      <td>10.0</td>\n",
       "      <td>3.0</td>\n",
       "      <td>3.0</td>\n",
       "      <td>253.269231</td>\n",
       "      <td>3.846154</td>\n",
       "      <td>3145.769231</td>\n",
       "      <td>472.384615</td>\n",
       "      <td>2485.769231</td>\n",
       "      <td>683.846154</td>\n",
       "      <td>0.979378</td>\n",
       "      <td>257.115385</td>\n",
       "      <td>215.680861</td>\n",
       "      <td>6787.769231</td>\n",
       "      <td>8.0</td>\n",
       "      <td>0.0</td>\n",
       "      <td>2.0</td>\n",
       "      <td>2.0</td>\n",
       "      <td>1.0</td>\n",
       "      <td>1.0</td>\n",
       "      <td>2.0</td>\n",
       "      <td>5.0</td>\n",
       "      <td>1.0</td>\n",
       "      <td>0.0</td>\n",
       "      <td>4.0</td>\n",
       "      <td>0.0</td>\n",
       "      <td>0.0</td>\n",
       "      <td>0.0</td>\n",
       "      <td>0.0</td>\n",
       "      <td>0.0</td>\n",
       "      <td>0.0</td>\n",
       "      <td>0.0</td>\n",
       "      <td>0.0</td>\n",
       "      <td>0.0</td>\n",
       "      <td>0.0</td>\n",
       "      <td>0.0</td>\n",
       "      <td>24.0</td>\n",
       "      <td>0.0</td>\n",
       "    </tr>\n",
       "    <tr>\n",
       "      <th>5121</th>\n",
       "      <td>PRV57409</td>\n",
       "      <td>Yes</td>\n",
       "      <td>64</td>\n",
       "      <td>both</td>\n",
       "      <td>58.0</td>\n",
       "      <td>5.0</td>\n",
       "      <td>0.0</td>\n",
       "      <td>1.0</td>\n",
       "      <td>26.0</td>\n",
       "      <td>38.0</td>\n",
       "      <td>71.0</td>\n",
       "      <td>3</td>\n",
       "      <td>40</td>\n",
       "      <td>0</td>\n",
       "      <td>4.0</td>\n",
       "      <td>71</td>\n",
       "      <td>6.0</td>\n",
       "      <td>8.0</td>\n",
       "      <td>5.0</td>\n",
       "      <td>2.0</td>\n",
       "      <td>8.0</td>\n",
       "      <td>6.0</td>\n",
       "      <td>12.0</td>\n",
       "      <td>5.0</td>\n",
       "      <td>5.0</td>\n",
       "      <td>5.0</td>\n",
       "      <td>5.0</td>\n",
       "      <td>4.0</td>\n",
       "      <td>4.0</td>\n",
       "      <td>3079.154930</td>\n",
       "      <td>361.014085</td>\n",
       "      <td>8846.056338</td>\n",
       "      <td>872.450704</td>\n",
       "      <td>3074.507042</td>\n",
       "      <td>730.478873</td>\n",
       "      <td>0.937624</td>\n",
       "      <td>3440.169014</td>\n",
       "      <td>752.238725</td>\n",
       "      <td>13523.492958</td>\n",
       "      <td>36.0</td>\n",
       "      <td>21.0</td>\n",
       "      <td>7.0</td>\n",
       "      <td>4.0</td>\n",
       "      <td>2.0</td>\n",
       "      <td>6.0</td>\n",
       "      <td>0.0</td>\n",
       "      <td>11.0</td>\n",
       "      <td>6.0</td>\n",
       "      <td>5.0</td>\n",
       "      <td>3.0</td>\n",
       "      <td>0.0</td>\n",
       "      <td>0.0</td>\n",
       "      <td>0.0</td>\n",
       "      <td>1.0</td>\n",
       "      <td>2.0</td>\n",
       "      <td>1.0</td>\n",
       "      <td>1.0</td>\n",
       "      <td>0.0</td>\n",
       "      <td>2.0</td>\n",
       "      <td>1.0</td>\n",
       "      <td>1.0</td>\n",
       "      <td>29.0</td>\n",
       "      <td>1.0</td>\n",
       "    </tr>\n",
       "    <tr>\n",
       "      <th>87</th>\n",
       "      <td>PRV51115</td>\n",
       "      <td>No</td>\n",
       "      <td>6</td>\n",
       "      <td>outpatient</td>\n",
       "      <td>3.0</td>\n",
       "      <td>3.0</td>\n",
       "      <td>0.0</td>\n",
       "      <td>0.0</td>\n",
       "      <td>1.0</td>\n",
       "      <td>5.0</td>\n",
       "      <td>73.0</td>\n",
       "      <td>1</td>\n",
       "      <td>3</td>\n",
       "      <td>0</td>\n",
       "      <td>4.0</td>\n",
       "      <td>7</td>\n",
       "      <td>0.0</td>\n",
       "      <td>1.0</td>\n",
       "      <td>1.0</td>\n",
       "      <td>1.0</td>\n",
       "      <td>0.0</td>\n",
       "      <td>0.0</td>\n",
       "      <td>2.0</td>\n",
       "      <td>1.0</td>\n",
       "      <td>0.0</td>\n",
       "      <td>0.0</td>\n",
       "      <td>0.0</td>\n",
       "      <td>1.0</td>\n",
       "      <td>1.0</td>\n",
       "      <td>140.000000</td>\n",
       "      <td>2.857143</td>\n",
       "      <td>4142.857143</td>\n",
       "      <td>762.857143</td>\n",
       "      <td>1530.000000</td>\n",
       "      <td>474.285714</td>\n",
       "      <td>0.976190</td>\n",
       "      <td>142.857143</td>\n",
       "      <td>142.857143</td>\n",
       "      <td>6910.000000</td>\n",
       "      <td>2.0</td>\n",
       "      <td>0.0</td>\n",
       "      <td>1.0</td>\n",
       "      <td>0.0</td>\n",
       "      <td>0.0</td>\n",
       "      <td>1.0</td>\n",
       "      <td>0.0</td>\n",
       "      <td>0.0</td>\n",
       "      <td>0.0</td>\n",
       "      <td>0.0</td>\n",
       "      <td>0.0</td>\n",
       "      <td>0.0</td>\n",
       "      <td>0.0</td>\n",
       "      <td>0.0</td>\n",
       "      <td>0.0</td>\n",
       "      <td>0.0</td>\n",
       "      <td>0.0</td>\n",
       "      <td>0.0</td>\n",
       "      <td>0.0</td>\n",
       "      <td>0.0</td>\n",
       "      <td>0.0</td>\n",
       "      <td>0.0</td>\n",
       "      <td>2.0</td>\n",
       "      <td>0.0</td>\n",
       "    </tr>\n",
       "    <tr>\n",
       "      <th>1582</th>\n",
       "      <td>PRV52961</td>\n",
       "      <td>No</td>\n",
       "      <td>5</td>\n",
       "      <td>outpatient</td>\n",
       "      <td>4.0</td>\n",
       "      <td>1.0</td>\n",
       "      <td>0.0</td>\n",
       "      <td>0.0</td>\n",
       "      <td>2.0</td>\n",
       "      <td>3.0</td>\n",
       "      <td>64.0</td>\n",
       "      <td>1</td>\n",
       "      <td>2</td>\n",
       "      <td>0</td>\n",
       "      <td>5.0</td>\n",
       "      <td>5</td>\n",
       "      <td>1.0</td>\n",
       "      <td>0.0</td>\n",
       "      <td>0.0</td>\n",
       "      <td>1.0</td>\n",
       "      <td>0.0</td>\n",
       "      <td>0.0</td>\n",
       "      <td>2.0</td>\n",
       "      <td>0.0</td>\n",
       "      <td>1.0</td>\n",
       "      <td>0.0</td>\n",
       "      <td>0.0</td>\n",
       "      <td>0.0</td>\n",
       "      <td>1.0</td>\n",
       "      <td>64.000000</td>\n",
       "      <td>0.000000</td>\n",
       "      <td>600.000000</td>\n",
       "      <td>213.600000</td>\n",
       "      <td>676.000000</td>\n",
       "      <td>372.000000</td>\n",
       "      <td>1.000000</td>\n",
       "      <td>64.000000</td>\n",
       "      <td>64.000000</td>\n",
       "      <td>1861.600000</td>\n",
       "      <td>2.0</td>\n",
       "      <td>0.0</td>\n",
       "      <td>0.0</td>\n",
       "      <td>0.0</td>\n",
       "      <td>0.0</td>\n",
       "      <td>0.0</td>\n",
       "      <td>0.0</td>\n",
       "      <td>0.0</td>\n",
       "      <td>0.0</td>\n",
       "      <td>0.0</td>\n",
       "      <td>0.0</td>\n",
       "      <td>0.0</td>\n",
       "      <td>0.0</td>\n",
       "      <td>0.0</td>\n",
       "      <td>0.0</td>\n",
       "      <td>0.0</td>\n",
       "      <td>0.0</td>\n",
       "      <td>0.0</td>\n",
       "      <td>0.0</td>\n",
       "      <td>0.0</td>\n",
       "      <td>0.0</td>\n",
       "      <td>0.0</td>\n",
       "      <td>3.0</td>\n",
       "      <td>0.0</td>\n",
       "    </tr>\n",
       "    <tr>\n",
       "      <th>895</th>\n",
       "      <td>PRV52121</td>\n",
       "      <td>No</td>\n",
       "      <td>50</td>\n",
       "      <td>both</td>\n",
       "      <td>43.0</td>\n",
       "      <td>7.0</td>\n",
       "      <td>0.0</td>\n",
       "      <td>0.0</td>\n",
       "      <td>25.0</td>\n",
       "      <td>25.0</td>\n",
       "      <td>73.0</td>\n",
       "      <td>9</td>\n",
       "      <td>20</td>\n",
       "      <td>0</td>\n",
       "      <td>4.0</td>\n",
       "      <td>53</td>\n",
       "      <td>6.0</td>\n",
       "      <td>3.0</td>\n",
       "      <td>5.0</td>\n",
       "      <td>5.0</td>\n",
       "      <td>7.0</td>\n",
       "      <td>3.0</td>\n",
       "      <td>3.0</td>\n",
       "      <td>8.0</td>\n",
       "      <td>3.0</td>\n",
       "      <td>5.0</td>\n",
       "      <td>2.0</td>\n",
       "      <td>3.0</td>\n",
       "      <td>3.0</td>\n",
       "      <td>936.037736</td>\n",
       "      <td>87.584906</td>\n",
       "      <td>4024.905660</td>\n",
       "      <td>483.622642</td>\n",
       "      <td>1918.113208</td>\n",
       "      <td>624.528302</td>\n",
       "      <td>0.964661</td>\n",
       "      <td>1023.622642</td>\n",
       "      <td>403.433064</td>\n",
       "      <td>7051.169811</td>\n",
       "      <td>10.0</td>\n",
       "      <td>4.0</td>\n",
       "      <td>4.0</td>\n",
       "      <td>4.0</td>\n",
       "      <td>1.0</td>\n",
       "      <td>3.0</td>\n",
       "      <td>1.0</td>\n",
       "      <td>7.0</td>\n",
       "      <td>2.0</td>\n",
       "      <td>0.0</td>\n",
       "      <td>3.0</td>\n",
       "      <td>2.0</td>\n",
       "      <td>0.0</td>\n",
       "      <td>1.0</td>\n",
       "      <td>0.0</td>\n",
       "      <td>0.0</td>\n",
       "      <td>1.0</td>\n",
       "      <td>0.0</td>\n",
       "      <td>0.0</td>\n",
       "      <td>0.0</td>\n",
       "      <td>0.0</td>\n",
       "      <td>0.0</td>\n",
       "      <td>18.0</td>\n",
       "      <td>0.0</td>\n",
       "    </tr>\n",
       "    <tr>\n",
       "      <th>3850</th>\n",
       "      <td>PRV55814</td>\n",
       "      <td>No</td>\n",
       "      <td>4</td>\n",
       "      <td>outpatient</td>\n",
       "      <td>4.0</td>\n",
       "      <td>0.0</td>\n",
       "      <td>0.0</td>\n",
       "      <td>0.0</td>\n",
       "      <td>2.0</td>\n",
       "      <td>2.0</td>\n",
       "      <td>62.0</td>\n",
       "      <td>1</td>\n",
       "      <td>1</td>\n",
       "      <td>0</td>\n",
       "      <td>3.0</td>\n",
       "      <td>4</td>\n",
       "      <td>2.0</td>\n",
       "      <td>0.0</td>\n",
       "      <td>0.0</td>\n",
       "      <td>0.0</td>\n",
       "      <td>0.0</td>\n",
       "      <td>0.0</td>\n",
       "      <td>1.0</td>\n",
       "      <td>0.0</td>\n",
       "      <td>0.0</td>\n",
       "      <td>0.0</td>\n",
       "      <td>0.0</td>\n",
       "      <td>1.0</td>\n",
       "      <td>1.0</td>\n",
       "      <td>27.500000</td>\n",
       "      <td>20.000000</td>\n",
       "      <td>3535.000000</td>\n",
       "      <td>267.000000</td>\n",
       "      <td>1152.500000</td>\n",
       "      <td>167.500000</td>\n",
       "      <td>0.777778</td>\n",
       "      <td>47.500000</td>\n",
       "      <td>47.500000</td>\n",
       "      <td>5122.000000</td>\n",
       "      <td>2.0</td>\n",
       "      <td>0.0</td>\n",
       "      <td>0.0</td>\n",
       "      <td>0.0</td>\n",
       "      <td>1.0</td>\n",
       "      <td>0.0</td>\n",
       "      <td>1.0</td>\n",
       "      <td>0.0</td>\n",
       "      <td>0.0</td>\n",
       "      <td>0.0</td>\n",
       "      <td>0.0</td>\n",
       "      <td>0.0</td>\n",
       "      <td>0.0</td>\n",
       "      <td>0.0</td>\n",
       "      <td>0.0</td>\n",
       "      <td>0.0</td>\n",
       "      <td>0.0</td>\n",
       "      <td>0.0</td>\n",
       "      <td>0.0</td>\n",
       "      <td>0.0</td>\n",
       "      <td>0.0</td>\n",
       "      <td>0.0</td>\n",
       "      <td>1.0</td>\n",
       "      <td>0.0</td>\n",
       "    </tr>\n",
       "    <tr>\n",
       "      <th>3466</th>\n",
       "      <td>PRV55351</td>\n",
       "      <td>No</td>\n",
       "      <td>8</td>\n",
       "      <td>outpatient</td>\n",
       "      <td>7.0</td>\n",
       "      <td>0.0</td>\n",
       "      <td>1.0</td>\n",
       "      <td>0.0</td>\n",
       "      <td>1.0</td>\n",
       "      <td>7.0</td>\n",
       "      <td>80.0</td>\n",
       "      <td>1</td>\n",
       "      <td>1</td>\n",
       "      <td>0</td>\n",
       "      <td>6.0</td>\n",
       "      <td>10</td>\n",
       "      <td>0.0</td>\n",
       "      <td>1.0</td>\n",
       "      <td>0.0</td>\n",
       "      <td>0.0</td>\n",
       "      <td>3.0</td>\n",
       "      <td>1.0</td>\n",
       "      <td>1.0</td>\n",
       "      <td>1.0</td>\n",
       "      <td>0.0</td>\n",
       "      <td>1.0</td>\n",
       "      <td>1.0</td>\n",
       "      <td>1.0</td>\n",
       "      <td>1.0</td>\n",
       "      <td>165.000000</td>\n",
       "      <td>0.000000</td>\n",
       "      <td>2500.000000</td>\n",
       "      <td>427.200000</td>\n",
       "      <td>1543.000000</td>\n",
       "      <td>632.000000</td>\n",
       "      <td>1.000000</td>\n",
       "      <td>165.000000</td>\n",
       "      <td>159.000000</td>\n",
       "      <td>5102.200000</td>\n",
       "      <td>1.0</td>\n",
       "      <td>0.0</td>\n",
       "      <td>0.0</td>\n",
       "      <td>0.0</td>\n",
       "      <td>0.0</td>\n",
       "      <td>1.0</td>\n",
       "      <td>1.0</td>\n",
       "      <td>2.0</td>\n",
       "      <td>0.0</td>\n",
       "      <td>0.0</td>\n",
       "      <td>1.0</td>\n",
       "      <td>1.0</td>\n",
       "      <td>0.0</td>\n",
       "      <td>0.0</td>\n",
       "      <td>0.0</td>\n",
       "      <td>0.0</td>\n",
       "      <td>0.0</td>\n",
       "      <td>0.0</td>\n",
       "      <td>0.0</td>\n",
       "      <td>0.0</td>\n",
       "      <td>0.0</td>\n",
       "      <td>0.0</td>\n",
       "      <td>2.0</td>\n",
       "      <td>0.0</td>\n",
       "    </tr>\n",
       "  </tbody>\n",
       "</table>\n",
       "</div>"
      ],
      "text/plain": [
       "      Provider PotentialFraud  patient_count patient_type  Race1  Race2  \\\n",
       "4369  PRV56467             No            188   outpatient  164.0   24.0   \n",
       "2156  PRV53683             No              8         both    6.0    1.0   \n",
       "571   PRV51716             No             64   outpatient   48.0    4.0   \n",
       "4931  PRV57183             No             45   outpatient   36.0    8.0   \n",
       "5121  PRV57409            Yes             64         both   58.0    5.0   \n",
       "87    PRV51115             No              6   outpatient    3.0    3.0   \n",
       "1582  PRV52961             No              5   outpatient    4.0    1.0   \n",
       "895   PRV52121             No             50         both   43.0    7.0   \n",
       "3850  PRV55814             No              4   outpatient    4.0    0.0   \n",
       "3466  PRV55351             No              8   outpatient    7.0    0.0   \n",
       "\n",
       "      Race3  Race5  Male  Female  mean_age  state_count  phy_count  no_phy  \\\n",
       "4369    0.0    0.0  75.0   113.0      71.0            3         28       1   \n",
       "2156    0.0    1.0   1.0     7.0      74.0            3          8       0   \n",
       "571     8.0    4.0  24.0    40.0      74.0            1          3       0   \n",
       "4931    1.0    0.0  21.0    24.0      75.0            3         24       0   \n",
       "5121    0.0    1.0  26.0    38.0      71.0            3         40       0   \n",
       "87      0.0    0.0   1.0     5.0      73.0            1          3       0   \n",
       "1582    0.0    0.0   2.0     3.0      64.0            1          2       0   \n",
       "895     0.0    0.0  25.0    25.0      73.0            9         20       0   \n",
       "3850    0.0    0.0   2.0     2.0      62.0            1          1       0   \n",
       "3466    1.0    0.0   1.0     7.0      80.0            1          1       0   \n",
       "\n",
       "      chronic_mean  claim_count   Jan   Feb   Mar   Apr   May   Jun   Jul  \\\n",
       "4369           4.0          349  31.0  21.0  29.0  28.0  42.0  34.0  24.0   \n",
       "2156           4.0            9   0.0   0.0   2.0   1.0   0.0   0.0   0.0   \n",
       "571            5.0           82   2.0   7.0   7.0   6.0  10.0   6.0   9.0   \n",
       "4931           4.0           52   4.0   5.0   1.0   3.0   4.0   4.0   7.0   \n",
       "5121           4.0           71   6.0   8.0   5.0   2.0   8.0   6.0  12.0   \n",
       "87             4.0            7   0.0   1.0   1.0   1.0   0.0   0.0   2.0   \n",
       "1582           5.0            5   1.0   0.0   0.0   1.0   0.0   0.0   2.0   \n",
       "895            4.0           53   6.0   3.0   5.0   5.0   7.0   3.0   3.0   \n",
       "3850           3.0            4   2.0   0.0   0.0   0.0   0.0   0.0   1.0   \n",
       "3466           6.0           10   0.0   1.0   0.0   0.0   3.0   1.0   1.0   \n",
       "\n",
       "       Aug   Sep   Oct   Nov   Dec  days_admitted  InscClaimAmtReimbursed  \\\n",
       "4369  32.0  31.0  25.0  30.0  22.0            3.0              274.269341   \n",
       "2156   0.0   1.0   2.0   1.0   2.0            3.0             4144.444444   \n",
       "571   10.0   7.0   4.0   7.0   7.0            2.0              280.853659   \n",
       "4931   1.0   4.0   6.0  10.0   3.0            3.0              253.269231   \n",
       "5121   5.0   5.0   5.0   5.0   4.0            4.0             3079.154930   \n",
       "87     1.0   0.0   0.0   0.0   1.0            1.0              140.000000   \n",
       "1582   0.0   1.0   0.0   0.0   0.0            1.0               64.000000   \n",
       "895    8.0   3.0   5.0   2.0   3.0            3.0              936.037736   \n",
       "3850   0.0   0.0   0.0   0.0   1.0            1.0               27.500000   \n",
       "3466   1.0   0.0   1.0   1.0   1.0            1.0              165.000000   \n",
       "\n",
       "      DeductibleAmtPaid  IPAnnualReimbursementAmt  IPAnnualDeductibleAmt  \\\n",
       "4369           2.636103               1939.799427             244.618911   \n",
       "2156         237.333333               8966.666667             712.000000   \n",
       "571            1.341463               3787.073171             377.707317   \n",
       "4931           3.846154               3145.769231             472.384615   \n",
       "5121         361.014085               8846.056338             872.450704   \n",
       "87             2.857143               4142.857143             762.857143   \n",
       "1582           0.000000                600.000000             213.600000   \n",
       "895           87.584906               4024.905660             483.622642   \n",
       "3850          20.000000               3535.000000             267.000000   \n",
       "3466           0.000000               2500.000000             427.200000   \n",
       "\n",
       "      OPAnnualReimbursementAmt  OPAnnualDeductibleAmt  coverage  \\\n",
       "4369               2455.959885             772.349570  0.982831   \n",
       "2156               1504.444444             194.444444  0.985433   \n",
       "571                1850.365854             562.682927  0.988138   \n",
       "4931               2485.769231             683.846154  0.979378   \n",
       "5121               3074.507042             730.478873  0.937624   \n",
       "87                 1530.000000             474.285714  0.976190   \n",
       "1582                676.000000             372.000000  1.000000   \n",
       "895                1918.113208             624.528302  0.964661   \n",
       "3850               1152.500000             167.500000  0.777778   \n",
       "3466               1543.000000             632.000000  1.000000   \n",
       "\n",
       "      totalamount_charged  revenue_day  annual_amount  claimdiag  diag_grp  \\\n",
       "4369           276.905444   225.538445    5412.727794       60.0       0.0   \n",
       "2156          4381.777778  1100.083333   11377.555556        2.0       2.0   \n",
       "571            282.195122   243.151374    6577.829268       12.0       0.0   \n",
       "4931           257.115385   215.680861    6787.769231        8.0       0.0   \n",
       "5121          3440.169014   752.238725   13523.492958       36.0      21.0   \n",
       "87             142.857143   142.857143    6910.000000        2.0       0.0   \n",
       "1582            64.000000    64.000000    1861.600000        2.0       0.0   \n",
       "895           1023.622642   403.433064    7051.169811       10.0       4.0   \n",
       "3850            47.500000    47.500000    5122.000000        2.0       0.0   \n",
       "3466           165.000000   159.000000    5102.200000        1.0       0.0   \n",
       "\n",
       "      diag_4019  diag_25000  diag_2724  diag_V5869  diag_4011  diag_42731  \\\n",
       "4369        8.0        18.0        6.0        20.0       17.0        51.0   \n",
       "2156        0.0         0.0        0.0         0.0        2.0         2.0   \n",
       "571         1.0        10.0        1.0         1.0        2.0        11.0   \n",
       "4931        2.0         2.0        1.0         1.0        2.0         5.0   \n",
       "5121        7.0         4.0        2.0         6.0        0.0        11.0   \n",
       "87          1.0         0.0        0.0         1.0        0.0         0.0   \n",
       "1582        0.0         0.0        0.0         0.0        0.0         0.0   \n",
       "895         4.0         4.0        1.0         3.0        1.0         7.0   \n",
       "3850        0.0         0.0        1.0         0.0        1.0         0.0   \n",
       "3466        0.0         0.0        0.0         1.0        1.0         2.0   \n",
       "\n",
       "      diag_V5861  diag_2720  diag_2449  diag_4280  proc_4019  proc_9904  \\\n",
       "4369        15.0       10.0       17.0       16.0        0.0        0.0   \n",
       "2156         2.0        0.0        2.0        1.0        1.0        1.0   \n",
       "571          2.0        1.0        3.0        5.0        0.0        0.0   \n",
       "4931         1.0        0.0        4.0        0.0        0.0        0.0   \n",
       "5121         6.0        5.0        3.0        0.0        0.0        0.0   \n",
       "87           0.0        0.0        0.0        0.0        0.0        0.0   \n",
       "1582         0.0        0.0        0.0        0.0        0.0        0.0   \n",
       "895          2.0        0.0        3.0        2.0        0.0        1.0   \n",
       "3850         0.0        0.0        0.0        0.0        0.0        0.0   \n",
       "3466         0.0        0.0        1.0        1.0        0.0        0.0   \n",
       "\n",
       "      proc_2724  proc_8154  proc_66  proc_3893  proc_3995  proc_4516  \\\n",
       "4369        0.0        0.0      0.0        0.0        0.0        0.0   \n",
       "2156        0.0        0.0      0.0        0.0        0.0        0.0   \n",
       "571         0.0        0.0      0.0        0.0        0.0        0.0   \n",
       "4931        0.0        0.0      0.0        0.0        0.0        0.0   \n",
       "5121        1.0        2.0      1.0        1.0        0.0        2.0   \n",
       "87          0.0        0.0      0.0        0.0        0.0        0.0   \n",
       "1582        0.0        0.0      0.0        0.0        0.0        0.0   \n",
       "895         0.0        0.0      1.0        0.0        0.0        0.0   \n",
       "3850        0.0        0.0      0.0        0.0        0.0        0.0   \n",
       "3466        0.0        0.0      0.0        0.0        0.0        0.0   \n",
       "\n",
       "      proc_3722  proc_8151  duplicate_claims  patient_duplicate_count  \n",
       "4369        0.0        0.0             159.0                      1.0  \n",
       "2156        0.0        0.0               2.0                      0.0  \n",
       "571         0.0        0.0              43.0                      0.0  \n",
       "4931        0.0        0.0              24.0                      0.0  \n",
       "5121        1.0        1.0              29.0                      1.0  \n",
       "87          0.0        0.0               2.0                      0.0  \n",
       "1582        0.0        0.0               3.0                      0.0  \n",
       "895         0.0        0.0              18.0                      0.0  \n",
       "3850        0.0        0.0               1.0                      0.0  \n",
       "3466        0.0        0.0               2.0                      0.0  "
      ]
     },
     "execution_count": 148,
     "metadata": {},
     "output_type": "execute_result"
    }
   ],
   "source": [
    "provider2.sample(10)"
   ]
  },
  {
   "cell_type": "code",
   "execution_count": 149,
   "metadata": {},
   "outputs": [],
   "source": [
    "#Dummify patient type\n",
    "provider2['Inpatient'] = [1 if x == 'inpatient' or x=='both' else 0 for x in provider2['patient_type']]\n",
    "provider2['Outpatient'] = [1 if x == 'outpatient' or x=='both' else 0 for x in provider2['patient_type']]\n",
    "#Encode PotentialFraud to 0 and 1\n",
    "provider2['PotentialFraud'] = [1 if x == 'Yes' else 0 for x in provider2['PotentialFraud']]\n",
    "provider2.sample(10)\n",
    "provider2 = provider2.drop(['patient_type'], axis=1)"
   ]
  },
  {
   "cell_type": "markdown",
   "metadata": {},
   "source": [
    "## Modelling Starts Here\n"
   ]
  },
  {
   "cell_type": "code",
   "execution_count": 286,
   "metadata": {},
   "outputs": [],
   "source": [
    "from sklearn.linear_model import LogisticRegression, RidgeClassifier\n",
    "from sklearn.model_selection import train_test_split, GridSearchCV, cross_val_score, RepeatedStratifiedKFold, StratifiedKFold\n",
    "from sklearn.metrics import accuracy_score, confusion_matrix, roc_curve, roc_auc_score, precision_score, recall_score, precision_recall_curve\n",
    "from sklearn.metrics import f1_score\n",
    "from sklearn.preprocessing import StandardScaler\n",
    "from sklearn import svm\n",
    "from sklearn import ensemble\n",
    "from xgboost import XGBClassifier\n",
    "from sklearn.model_selection import RepeatedStratifiedKFold\n",
    "\n",
    "#Imbalanced learn packages\n",
    "from imblearn.over_sampling import RandomOverSampler\n",
    "from imblearn.over_sampling import SMOTE #Synthetic Minority Oversampling Technique\n",
    "from imblearn.under_sampling import EditedNearestNeighbours, RandomUnderSampler"
   ]
  },
  {
   "cell_type": "code",
   "execution_count": 187,
   "metadata": {},
   "outputs": [],
   "source": [
    "#Confusion Matrix Plotting Function\n",
    "def conf_mat(y_test, y_pred):\n",
    "    cm = confusion_matrix(y_test, y_pred)\n",
    "    group_names = ['True Negative','False Positive','False Negative','True Positive']\n",
    "    group_counts = ['{0:0.0f}'.format(value) for value in\n",
    "                cm.flatten()]\n",
    "    group_percentages = ['{0:.4%}'.format(value) for value in\n",
    "                     cm.flatten()/np.sum(cm)]\n",
    "    labels = [f'{v1}\\n{v2}\\n{v3}' for v1, v2, v3 in\n",
    "          zip(group_names,group_counts,group_percentages)]\n",
    "    labels = np.asarray(labels).reshape(2,2)\n",
    "    ax= plt.subplot()\n",
    "    sns.heatmap(cm/np.sum(cm), annot=labels, ax = ax, fmt='', cmap='coolwarm');\n",
    "    # labels, title and ticks\n",
    "    ax.set_xlabel('Predicted labels');ax.set_ylabel('True labels')\n",
    "    ax.set_title('Confusion Matrix')\n",
    "    ax.xaxis.set_ticklabels(['No Fraud', 'Potential Fraud']); ax.yaxis.set_ticklabels(['No Fraud', 'Potential Fraud'])\n",
    "    return"
   ]
  },
  {
   "cell_type": "code",
   "execution_count": 287,
   "metadata": {},
   "outputs": [],
   "source": [
    "#Split dataset into X, y\n",
    "x = provider2.drop(['Provider','PotentialFraud'],axis=1)\n",
    "y = provider2['PotentialFraud']\n",
    "# train-test split\n",
    "X_train, X_test, y_train, y_test = train_test_split(StandardScaler().fit_transform(x), y, test_size=0.3, random_state=100)\n",
    "\n",
    "#RandomOverSampler split\n",
    "oversample = RandomOverSampler(sampling_strategy='minority')\n",
    "x_over, y_over = oversample.fit_resample(x, y)\n",
    "\n",
    "#SMOTE\n",
    "smote = SMOTE()\n",
    "x_smote, y_smote = smote.fit_resample(x, y)\n",
    "\n",
    "#Undersampling via Edited Nearest Neighbors\n",
    "en = EditedNearestNeighbours()\n",
    "x_en, y_en = en.fit_resample(x, y)\n",
    "\n",
    "#Undersampling via Random Under Sampler\n",
    "under = RandomUnderSampler()\n",
    "x_un, y_un = under.fit_resample(x, y)"
   ]
  },
  {
   "cell_type": "code",
   "execution_count": 241,
   "metadata": {},
   "outputs": [
    {
     "name": "stdout",
     "output_type": "stream",
     "text": [
      "Accuracy Score: 0.9322242760320394\n",
      "F1 Score: 0.5634920634920635\n"
     ]
    },
    {
     "data": {
      "image/png": "[encoded data removed]",
      "text/plain": [
       "<Figure size 432x288 with 2 Axes>"
      ]
     },
     "metadata": {
      "needs_background": "light"
     },
     "output_type": "display_data"
    }
   ],
   "source": [
    "#Logistic Regression\n",
    "lg1 = LogisticRegression(random_state=100, class_weight=None, max_iter=2000)\n",
    "\n",
    "lg1.fit(X_train,y_train)\n",
    "\n",
    "y_pred = lg1.predict(X_test)\n",
    "# performance\n",
    "print(f'Accuracy Score: {accuracy_score(y_test,y_pred)}')\n",
    "print('F1 Score: {}'.format(f1_score(y_test, y_pred)))\n",
    "conf_mat(y_test, y_pred)"
   ]
  },
  {
   "cell_type": "code",
   "execution_count": 153,
   "metadata": {},
   "outputs": [
    {
     "name": "stdout",
     "output_type": "stream",
     "text": [
      "Default model correctly classified 83.529412 percent of fraud cases in the test data\n",
      "Default model misclassified 1.733703 percent of non-fraud cases in the test data\n"
     ]
    }
   ],
   "source": [
    "print(\"Default model correctly classified %f percent of fraud cases in the test data\" %((71/85)*100))\n",
    "print(\"Default model misclassified %f percent of non-fraud cases in the test data\" %((25/1442)*100))"
   ]
  },
  {
   "cell_type": "code",
   "execution_count": 212,
   "metadata": {},
   "outputs": [
    {
     "name": "stderr",
     "output_type": "stream",
     "text": [
      "/Users/emilywang/opt/anaconda3/lib/python3.8/site-packages/seaborn/distributions.py:2551: FutureWarning: `distplot` is a deprecated function and will be removed in a future version. Please adapt your code to use either `displot` (a figure-level function with similar flexibility) or `histplot` (an axes-level function for histograms).\n",
      "  warnings.warn(msg, FutureWarning)\n",
      "/Users/emilywang/opt/anaconda3/lib/python3.8/site-packages/seaborn/distributions.py:2551: FutureWarning: `distplot` is a deprecated function and will be removed in a future version. Please adapt your code to use either `displot` (a figure-level function with similar flexibility) or `histplot` (an axes-level function for histograms).\n",
      "  warnings.warn(msg, FutureWarning)\n"
     ]
    },
    {
     "data": {
      "image/png": "[encoded data removed]",
      "text/plain": [
       "<Figure size 720x504 with 1 Axes>"
      ]
     },
     "metadata": {
      "needs_background": "light"
     },
     "output_type": "display_data"
    }
   ],
   "source": [
    "# Compare model prediction performance on train and validation\n",
    "\n",
    "fig = plt.figure(figsize=(10,7))\n",
    "sns.distplot(lg1.predict_proba(X_train)[:,1],color='darkblue')\n",
    "sns.distplot(lg1.predict_proba(X_test)[:,1],color='firebrick')\n",
    "plt.title('Predictions of Train and Validation ')\n",
    "plt.xlim([0, 1])\n",
    "\n",
    "plt.tight_layout()\n",
    "\n",
    "plt.show()"
   ]
  },
  {
   "cell_type": "code",
   "execution_count": 254,
   "metadata": {},
   "outputs": [
    {
     "data": {
      "text/html": [
       "<div>\n",
       "<style scoped>\n",
       "    .dataframe tbody tr th:only-of-type {\n",
       "        vertical-align: middle;\n",
       "    }\n",
       "\n",
       "    .dataframe tbody tr th {\n",
       "        vertical-align: top;\n",
       "    }\n",
       "\n",
       "    .dataframe thead th {\n",
       "        text-align: right;\n",
       "    }\n",
       "</style>\n",
       "<table border=\"1\" class=\"dataframe\">\n",
       "  <thead>\n",
       "    <tr style=\"text-align: right;\">\n",
       "      <th></th>\n",
       "      <th>feature</th>\n",
       "      <th>coef</th>\n",
       "    </tr>\n",
       "  </thead>\n",
       "  <tbody>\n",
       "    <tr>\n",
       "      <th>60</th>\n",
       "      <td>Inpatient</td>\n",
       "      <td>0.895220</td>\n",
       "    </tr>\n",
       "    <tr>\n",
       "      <th>36</th>\n",
       "      <td>claimdiag</td>\n",
       "      <td>0.857500</td>\n",
       "    </tr>\n",
       "    <tr>\n",
       "      <th>44</th>\n",
       "      <td>diag_V5861</td>\n",
       "      <td>0.742044</td>\n",
       "    </tr>\n",
       "    <tr>\n",
       "      <th>37</th>\n",
       "      <td>diag_grp</td>\n",
       "      <td>0.688021</td>\n",
       "    </tr>\n",
       "    <tr>\n",
       "      <th>21</th>\n",
       "      <td>Sep</td>\n",
       "      <td>0.643809</td>\n",
       "    </tr>\n",
       "    <tr>\n",
       "      <th>14</th>\n",
       "      <td>Feb</td>\n",
       "      <td>0.436579</td>\n",
       "    </tr>\n",
       "    <tr>\n",
       "      <th>23</th>\n",
       "      <td>Nov</td>\n",
       "      <td>0.405382</td>\n",
       "    </tr>\n",
       "    <tr>\n",
       "      <th>20</th>\n",
       "      <td>Aug</td>\n",
       "      <td>0.311033</td>\n",
       "    </tr>\n",
       "    <tr>\n",
       "      <th>16</th>\n",
       "      <td>Apr</td>\n",
       "      <td>0.309784</td>\n",
       "    </tr>\n",
       "    <tr>\n",
       "      <th>30</th>\n",
       "      <td>OPAnnualReimbursementAmt</td>\n",
       "      <td>0.294231</td>\n",
       "    </tr>\n",
       "    <tr>\n",
       "      <th>61</th>\n",
       "      <td>Outpatient</td>\n",
       "      <td>0.265317</td>\n",
       "    </tr>\n",
       "    <tr>\n",
       "      <th>27</th>\n",
       "      <td>DeductibleAmtPaid</td>\n",
       "      <td>0.251108</td>\n",
       "    </tr>\n",
       "    <tr>\n",
       "      <th>58</th>\n",
       "      <td>duplicate_claims</td>\n",
       "      <td>0.247950</td>\n",
       "    </tr>\n",
       "    <tr>\n",
       "      <th>22</th>\n",
       "      <td>Oct</td>\n",
       "      <td>0.238992</td>\n",
       "    </tr>\n",
       "    <tr>\n",
       "      <th>6</th>\n",
       "      <td>Female</td>\n",
       "      <td>0.222062</td>\n",
       "    </tr>\n",
       "  </tbody>\n",
       "</table>\n",
       "</div>"
      ],
      "text/plain": [
       "                     feature      coef\n",
       "60                 Inpatient  0.895220\n",
       "36                 claimdiag  0.857500\n",
       "44                diag_V5861  0.742044\n",
       "37                  diag_grp  0.688021\n",
       "21                       Sep  0.643809\n",
       "14                       Feb  0.436579\n",
       "23                       Nov  0.405382\n",
       "20                       Aug  0.311033\n",
       "16                       Apr  0.309784\n",
       "30  OPAnnualReimbursementAmt  0.294231\n",
       "61                Outpatient  0.265317\n",
       "27         DeductibleAmtPaid  0.251108\n",
       "58          duplicate_claims  0.247950\n",
       "22                       Oct  0.238992\n",
       "6                     Female  0.222062"
      ]
     },
     "execution_count": 254,
     "metadata": {},
     "output_type": "execute_result"
    }
   ],
   "source": [
    "# Feature Importance for original log regression\n",
    "#top 15 features\n",
    "pd.DataFrame(zip(x.columns, np.transpose(lg1.coef_.tolist()[0])), columns=['feature', 'coef']).sort_values('coef', ascending=False).head(15)"
   ]
  },
  {
   "cell_type": "code",
   "execution_count": 253,
   "metadata": {},
   "outputs": [
    {
     "data": {
      "text/html": [
       "<div>\n",
       "<style scoped>\n",
       "    .dataframe tbody tr th:only-of-type {\n",
       "        vertical-align: middle;\n",
       "    }\n",
       "\n",
       "    .dataframe tbody tr th {\n",
       "        vertical-align: top;\n",
       "    }\n",
       "\n",
       "    .dataframe thead th {\n",
       "        text-align: right;\n",
       "    }\n",
       "</style>\n",
       "<table border=\"1\" class=\"dataframe\">\n",
       "  <thead>\n",
       "    <tr style=\"text-align: right;\">\n",
       "      <th></th>\n",
       "      <th>feature</th>\n",
       "      <th>coef</th>\n",
       "    </tr>\n",
       "  </thead>\n",
       "  <tbody>\n",
       "    <tr>\n",
       "      <th>10</th>\n",
       "      <td>no_phy</td>\n",
       "      <td>-0.134301</td>\n",
       "    </tr>\n",
       "    <tr>\n",
       "      <th>54</th>\n",
       "      <td>proc_3995</td>\n",
       "      <td>-0.145798</td>\n",
       "    </tr>\n",
       "    <tr>\n",
       "      <th>53</th>\n",
       "      <td>proc_3893</td>\n",
       "      <td>-0.148764</td>\n",
       "    </tr>\n",
       "    <tr>\n",
       "      <th>40</th>\n",
       "      <td>diag_2724</td>\n",
       "      <td>-0.182466</td>\n",
       "    </tr>\n",
       "    <tr>\n",
       "      <th>18</th>\n",
       "      <td>Jun</td>\n",
       "      <td>-0.183246</td>\n",
       "    </tr>\n",
       "    <tr>\n",
       "      <th>43</th>\n",
       "      <td>diag_42731</td>\n",
       "      <td>-0.208915</td>\n",
       "    </tr>\n",
       "    <tr>\n",
       "      <th>42</th>\n",
       "      <td>diag_4011</td>\n",
       "      <td>-0.217299</td>\n",
       "    </tr>\n",
       "    <tr>\n",
       "      <th>13</th>\n",
       "      <td>Jan</td>\n",
       "      <td>-0.219779</td>\n",
       "    </tr>\n",
       "    <tr>\n",
       "      <th>2</th>\n",
       "      <td>Race2</td>\n",
       "      <td>-0.237064</td>\n",
       "    </tr>\n",
       "    <tr>\n",
       "      <th>47</th>\n",
       "      <td>diag_4280</td>\n",
       "      <td>-0.249147</td>\n",
       "    </tr>\n",
       "    <tr>\n",
       "      <th>31</th>\n",
       "      <td>OPAnnualDeductibleAmt</td>\n",
       "      <td>-0.338533</td>\n",
       "    </tr>\n",
       "    <tr>\n",
       "      <th>19</th>\n",
       "      <td>Jul</td>\n",
       "      <td>-0.446446</td>\n",
       "    </tr>\n",
       "    <tr>\n",
       "      <th>5</th>\n",
       "      <td>Male</td>\n",
       "      <td>-0.456979</td>\n",
       "    </tr>\n",
       "    <tr>\n",
       "      <th>39</th>\n",
       "      <td>diag_25000</td>\n",
       "      <td>-0.617723</td>\n",
       "    </tr>\n",
       "    <tr>\n",
       "      <th>24</th>\n",
       "      <td>Dec</td>\n",
       "      <td>-0.745392</td>\n",
       "    </tr>\n",
       "  </tbody>\n",
       "</table>\n",
       "</div>"
      ],
      "text/plain": [
       "                  feature      coef\n",
       "10                 no_phy -0.134301\n",
       "54              proc_3995 -0.145798\n",
       "53              proc_3893 -0.148764\n",
       "40              diag_2724 -0.182466\n",
       "18                    Jun -0.183246\n",
       "43             diag_42731 -0.208915\n",
       "42              diag_4011 -0.217299\n",
       "13                    Jan -0.219779\n",
       "2                   Race2 -0.237064\n",
       "47              diag_4280 -0.249147\n",
       "31  OPAnnualDeductibleAmt -0.338533\n",
       "19                    Jul -0.446446\n",
       "5                    Male -0.456979\n",
       "39             diag_25000 -0.617723\n",
       "24                    Dec -0.745392"
      ]
     },
     "execution_count": 253,
     "metadata": {},
     "output_type": "execute_result"
    }
   ],
   "source": [
    "#bottom 15 features for log regression\n",
    "pd.DataFrame(zip(x.columns, np.transpose(lg1.coef_.tolist()[0])), columns=['feature', 'coef']).sort_values('coef', ascending=False).tail(15)"
   ]
  },
  {
   "cell_type": "code",
   "execution_count": 210,
   "metadata": {},
   "outputs": [
    {
     "name": "stdout",
     "output_type": "stream",
     "text": [
      "Accuracy Score: 0.8940234134319162\n",
      "F1 Score: 0.5612244897959183\n"
     ]
    },
    {
     "data": {
      "image/png": "[encoded data removed]",
      "text/plain": [
       "<Figure size 432x288 with 2 Axes>"
      ]
     },
     "metadata": {
      "needs_background": "light"
     },
     "output_type": "display_data"
    }
   ],
   "source": [
    "#Try Logistic Regression CV with balanced class weight\n",
    "from sklearn.linear_model import LogisticRegressionCV\n",
    "\n",
    "lg2 = LogisticRegressionCV(cv=10, random_state=100, class_weight='balanced', max_iter=2000)\n",
    "\n",
    "lg2.fit(X_train,y_train)\n",
    "\n",
    "y_pred = lg2.predict(X_test)\n",
    "# performance\n",
    "print(f'Accuracy Score: {accuracy_score(y_test,y_pred)}')\n",
    "print('F1 Score: {}'.format(f1_score(y_test, y_pred)))\n",
    "conf_mat(y_test, y_pred)"
   ]
  },
  {
   "cell_type": "code",
   "execution_count": 213,
   "metadata": {},
   "outputs": [
    {
     "name": "stderr",
     "output_type": "stream",
     "text": [
      "/Users/emilywang/opt/anaconda3/lib/python3.8/site-packages/seaborn/distributions.py:2551: FutureWarning: `distplot` is a deprecated function and will be removed in a future version. Please adapt your code to use either `displot` (a figure-level function with similar flexibility) or `histplot` (an axes-level function for histograms).\n",
      "  warnings.warn(msg, FutureWarning)\n",
      "/Users/emilywang/opt/anaconda3/lib/python3.8/site-packages/seaborn/distributions.py:2551: FutureWarning: `distplot` is a deprecated function and will be removed in a future version. Please adapt your code to use either `displot` (a figure-level function with similar flexibility) or `histplot` (an axes-level function for histograms).\n",
      "  warnings.warn(msg, FutureWarning)\n"
     ]
    },
    {
     "data": {
      "image/png": "[encoded data removed]",
      "text/plain": [
       "<Figure size 720x504 with 1 Axes>"
      ]
     },
     "metadata": {
      "needs_background": "light"
     },
     "output_type": "display_data"
    }
   ],
   "source": [
    "# Compare model prediction performance on train and validation\n",
    "\n",
    "fig = plt.figure(figsize=(10,7))\n",
    "sns.distplot(lg2.predict_proba(X_train)[:,1],color='darkblue')\n",
    "sns.distplot(lg2.predict_proba(X_test)[:,1],color='firebrick')\n",
    "plt.title('Predictions of Train and Validation ')\n",
    "plt.xlim([0, 1])\n",
    "\n",
    "plt.tight_layout()\n",
    "\n",
    "plt.show()"
   ]
  },
  {
   "cell_type": "code",
   "execution_count": 260,
   "metadata": {},
   "outputs": [
    {
     "name": "stderr",
     "output_type": "stream",
     "text": [
      "/Users/emilywang/opt/anaconda3/lib/python3.8/site-packages/seaborn/_decorators.py:36: FutureWarning: Pass the following variable as a keyword arg: x. From version 0.12, the only valid positional argument will be `data`, and passing other arguments without an explicit keyword will result in an error or misinterpretation.\n",
      "  warnings.warn(\n"
     ]
    },
    {
     "name": "stdout",
     "output_type": "stream",
     "text": [
      "Log Regression w/ ROS Accuracy Score: 0.872579001019368\n",
      "F1 Score: 0.5634920634920635\n",
      "ROS Confusion Matrix: \n",
      "[[1284  174]\n",
      " [ 201 1284]]\n"
     ]
    },
    {
     "data": {
      "image/png": "[encoded data removed]",
      "text/plain": [
       "<Figure size 432x288 with 1 Axes>"
      ]
     },
     "metadata": {
      "needs_background": "light"
     },
     "output_type": "display_data"
    }
   ],
   "source": [
    "#RandomOverSampler train-test split\n",
    "X_train_ROS, X_test_ROS, y_train_ROS, y_test_ROS = train_test_split(StandardScaler().fit_transform(x_over), y_over, test_size=0.3, random_state=100)\n",
    "sns.countplot(y_train_ROS)\n",
    "\n",
    "#Fit the logistic regression model using Random Over Sampler\n",
    "lg1.fit(X_train_ROS,y_train_ROS)\n",
    "y_pred_ROS = lg1.predict(X_test_ROS)\n",
    "print(f'Log Regression w/ ROS Accuracy Score: {accuracy_score(y_test_ROS,y_pred_ROS)}')\n",
    "print('F1 Score: {}'.format(f1_score(y_test, y_pred)))\n",
    "print(f'ROS Confusion Matrix: \\n{confusion_matrix(y_test_ROS, y_pred_ROS)}')\n"
   ]
  },
  {
   "cell_type": "code",
   "execution_count": 261,
   "metadata": {},
   "outputs": [
    {
     "name": "stderr",
     "output_type": "stream",
     "text": [
      "/Users/emilywang/opt/anaconda3/lib/python3.8/site-packages/seaborn/_decorators.py:36: FutureWarning: Pass the following variable as a keyword arg: x. From version 0.12, the only valid positional argument will be `data`, and passing other arguments without an explicit keyword will result in an error or misinterpretation.\n",
      "  warnings.warn(\n"
     ]
    },
    {
     "name": "stdout",
     "output_type": "stream",
     "text": [
      "Log Regression w/ SMOTE Accuracy Score: 0.8858307849133538\n",
      "F1 Score: 0.5634920634920635\n",
      "Confusion Matrix: \n",
      "[[1314  144]\n",
      " [ 192 1293]]\n"
     ]
    },
    {
     "data": {
      "image/png": "[encoded data removed]",
      "text/plain": [
       "<Figure size 432x288 with 1 Axes>"
      ]
     },
     "metadata": {
      "needs_background": "light"
     },
     "output_type": "display_data"
    }
   ],
   "source": [
    "#SMOTE\n",
    "X_train_sm, X_test_sm, y_train_sm, y_test_sm = train_test_split(StandardScaler().fit_transform(x_smote), y_smote, test_size=0.3, random_state=100)\n",
    "sns.countplot(y_train_sm)\n",
    "#Fit model\n",
    "lg1.fit(X_train_sm,y_train_sm)\n",
    "y_pred_sm = lg1.predict(X_test_sm)\n",
    "print(f'Log Regression w/ SMOTE Accuracy Score: {accuracy_score(y_test_sm,y_pred_sm)}')\n",
    "print('F1 Score: {}'.format(f1_score(y_test, y_pred)))\n",
    "print(f'Confusion Matrix: \\n{confusion_matrix(y_test_sm, y_pred_sm)}')"
   ]
  },
  {
   "cell_type": "code",
   "execution_count": 291,
   "metadata": {},
   "outputs": [
    {
     "name": "stdout",
     "output_type": "stream",
     "text": [
      "Log Regression w/ EN Undersampling Accuracy Score: 0.9455060155697098\n",
      "F1 Score: 0.6980392156862745\n",
      "Confusion Matrix: \n",
      "[[1247   15]\n",
      " [  62   89]]\n"
     ]
    },
    {
     "name": "stderr",
     "output_type": "stream",
     "text": [
      "/Users/emilywang/opt/anaconda3/lib/python3.8/site-packages/seaborn/_decorators.py:36: FutureWarning: Pass the following variable as a keyword arg: x. From version 0.12, the only valid positional argument will be `data`, and passing other arguments without an explicit keyword will result in an error or misinterpretation.\n",
      "  warnings.warn(\n"
     ]
    },
    {
     "data": {
      "image/png": "[encoded data removed]",
      "text/plain": [
       "<Figure size 432x288 with 1 Axes>"
      ]
     },
     "metadata": {
      "needs_background": "light"
     },
     "output_type": "display_data"
    }
   ],
   "source": [
    "#EN Undersampling\n",
    "X_train_en, X_test_en, y_train_en, y_test_en = train_test_split(StandardScaler().fit_transform(x_en), y_en, test_size=0.3, random_state=100)\n",
    "sns.countplot(y_train_en) #shows that no samples were eliminated in this dataset\n",
    "#Fit model\n",
    "lg1.fit(X_train_en,y_train_en)\n",
    "y_pred_en = lg1.predict(X_test_en)\n",
    "print(f'Log Regression w/ EN Undersampling Accuracy Score: {accuracy_score(y_test_en,y_pred_en)}')\n",
    "print('F1 Score: {}'.format(f1_score(y_test_en, y_pred_en)))\n",
    "print(f'Confusion Matrix: \\n{confusion_matrix(y_test_en, y_pred_en)}')"
   ]
  },
  {
   "cell_type": "code",
   "execution_count": 290,
   "metadata": {},
   "outputs": [
    {
     "name": "stdout",
     "output_type": "stream",
     "text": [
      "Log Regression w/ Random Undersampling Accuracy Score: 0.8618421052631579\n",
      "F1 Score: 0.8478260869565217\n",
      "Confusion Matrix: \n",
      "[[145  19]\n",
      " [ 23 117]]\n"
     ]
    },
    {
     "name": "stderr",
     "output_type": "stream",
     "text": [
      "/Users/emilywang/opt/anaconda3/lib/python3.8/site-packages/seaborn/_decorators.py:36: FutureWarning: Pass the following variable as a keyword arg: x. From version 0.12, the only valid positional argument will be `data`, and passing other arguments without an explicit keyword will result in an error or misinterpretation.\n",
      "  warnings.warn(\n"
     ]
    },
    {
     "data": {
      "image/png": "[encoded data removed]",
      "text/plain": [
       "<Figure size 432x288 with 1 Axes>"
      ]
     },
     "metadata": {
      "needs_background": "light"
     },
     "output_type": "display_data"
    }
   ],
   "source": [
    "#Random Undersampling\n",
    "X_train_un, X_test_un, y_train_un, y_test_un = train_test_split(StandardScaler().fit_transform(x_un), y_un, test_size=0.3, random_state=100)\n",
    "sns.countplot(y_train_un)\n",
    "#Fit model\n",
    "lg1.fit(X_train_un,y_train_un)\n",
    "y_pred_un = lg1.predict(X_test_un)\n",
    "print(f'Log Regression w/ Random Undersampling Accuracy Score: {accuracy_score(y_test_un,y_pred_un)}')\n",
    "print('F1 Score: {}'.format(f1_score(y_test_un, y_pred_un)))\n",
    "print(f'Confusion Matrix: \\n{confusion_matrix(y_test_un, y_pred_un)}')"
   ]
  },
  {
   "cell_type": "code",
   "execution_count": 288,
   "metadata": {},
   "outputs": [
    {
     "name": "stdout",
     "output_type": "stream",
     "text": [
      "Ridge Classifier Accuracy Score: 0.9297597042513863\n",
      "F1 Score: 0.4910714285714286\n"
     ]
    },
    {
     "data": {
      "image/png": "[encoded data removed]",
      "text/plain": [
       "<Figure size 432x288 with 2 Axes>"
      ]
     },
     "metadata": {
      "needs_background": "light"
     },
     "output_type": "display_data"
    }
   ],
   "source": [
    "#Ridge Classifier\n",
    "ridge = RidgeClassifier(random_state = 100)\n",
    "ridge.fit(X_train, y_train)\n",
    "y_pred = ridge.predict(X_test)\n",
    "print(f'Ridge Classifier Accuracy Score: {accuracy_score(y_test,y_pred)}')\n",
    "print('F1 Score: {}'.format(f1_score(y_test, y_pred)))\n",
    "conf_mat(y_test, y_pred)"
   ]
  },
  {
   "cell_type": "code",
   "execution_count": 239,
   "metadata": {},
   "outputs": [
    {
     "name": "stdout",
     "output_type": "stream",
     "text": [
      "Ridge Classifier w/ Balanced Class Weight Accuracy Score: 0.8398028342575478\n",
      "F1 Score: 0.5131086142322099\n"
     ]
    },
    {
     "data": {
      "image/png": "[encoded data removed]",
      "text/plain": [
       "<Figure size 432x288 with 2 Axes>"
      ]
     },
     "metadata": {
      "needs_background": "light"
     },
     "output_type": "display_data"
    }
   ],
   "source": [
    "#Ridge Classifier with balanced class weight\n",
    "ridge2 = RidgeClassifier(random_state = 100, class_weight='balanced')\n",
    "ridge2.fit(X_train, y_train)\n",
    "y_pred = ridge2.predict(X_test)\n",
    "print(f'Ridge Classifier w/ Balanced Class Weight Accuracy Score: {accuracy_score(y_test,y_pred)}')\n",
    "print('F1 Score: {}'.format(f1_score(y_test, y_pred)))\n",
    "conf_mat(y_test, y_pred)\n",
    "#Accuracy score decreased, but F1 score increased with balanced class weight adjustment"
   ]
  },
  {
   "cell_type": "code",
   "execution_count": 195,
   "metadata": {},
   "outputs": [
    {
     "name": "stdout",
     "output_type": "stream",
     "text": [
      "Accuracy Score: 0.9353049907578558\n",
      "F1 Score: 0.5291479820627801\n",
      "Confusion Matrix: \n",
      "[[1459    8]\n",
      " [  97   59]]\n"
     ]
    },
    {
     "data": {
      "image/png": "[encoded data removed]",
      "text/plain": [
       "<Figure size 432x288 with 2 Axes>"
      ]
     },
     "metadata": {
      "needs_background": "light"
     },
     "output_type": "display_data"
    }
   ],
   "source": [
    "#SVM\n",
    "svm= svm.SVC()\n",
    "svm.fit(X_train, y_train)\n",
    "y_pred = svm.predict(X_test)\n",
    "print(f'Accuracy Score: {accuracy_score(y_test,y_pred)}')\n",
    "print('F1 Score: {}'.format(f1_score(y_test, y_pred)))\n",
    "conf_mat(y_test, y_pred)"
   ]
  },
  {
   "cell_type": "code",
   "execution_count": 171,
   "metadata": {},
   "outputs": [
    {
     "name": "stdout",
     "output_type": "stream",
     "text": [
      "SVM model correctly classified 60.824742 percent of fraud cases in the test data\n",
      "SVM model misclassified 0.548321 percent of non-fraud cases in the test data\n"
     ]
    }
   ],
   "source": [
    "print(\"SVM model correctly classified %f percent of fraud cases in the test data\" %((59/97)*100))\n",
    "print(\"SVM model misclassified %f percent of non-fraud cases in the test data\" %((8/1459)*100))"
   ]
  },
  {
   "cell_type": "code",
   "execution_count": 196,
   "metadata": {},
   "outputs": [
    {
     "name": "stdout",
     "output_type": "stream",
     "text": [
      "Random Forest Accuracy Score: 0.9346888478126926\n",
      "F1 Score: 0.5826771653543307\n",
      "Confusion Matrix: \n",
      "[[1443   24]\n",
      " [  82   74]]\n"
     ]
    },
    {
     "data": {
      "image/png": "[encoded data removed]",
      "text/plain": [
       "<Figure size 432x288 with 2 Axes>"
      ]
     },
     "metadata": {
      "needs_background": "light"
     },
     "output_type": "display_data"
    }
   ],
   "source": [
    "#Random Forest\n",
    "rF = ensemble.RandomForestClassifier()\n",
    "rF.fit(X_train, y_train)\n",
    "y_pred = rF.predict(X_test)\n",
    "print(f'Random Forest Accuracy Score: {accuracy_score(y_test,y_pred)}')\n",
    "print('F1 Score: {}'.format(f1_score(y_test, y_pred)))\n",
    "conf_mat(y_test, y_pred)"
   ]
  },
  {
   "cell_type": "code",
   "execution_count": 174,
   "metadata": {},
   "outputs": [
    {
     "name": "stdout",
     "output_type": "stream",
     "text": [
      "Random Forest model correctly classified 81.395349 percent of fraud cases in the test data\n",
      "Random Forest model misclassified 1.592798 percent of non-fraud cases in the test data\n"
     ]
    }
   ],
   "source": [
    "print(\"Random Forest model correctly classified %f percent of fraud cases in the test data\" %((70/86)*100))\n",
    "print(\"Random Forest model misclassified %f percent of non-fraud cases in the test data\" %((23/1444)*100))"
   ]
  },
  {
   "cell_type": "code",
   "execution_count": 198,
   "metadata": {},
   "outputs": [
    {
     "name": "stdout",
     "output_type": "stream",
     "text": [
      "[12:42:45] WARNING: /opt/concourse/worker/volumes/live/7a2b9f41-3287-451b-6691-43e9a6c0910f/volume/xgboost-split_1619728204606/work/src/learner.cc:1061: Starting in XGBoost 1.3.0, the default evaluation metric used with the objective 'binary:logistic' was changed from 'error' to 'logloss'. Explicitly set eval_metric if you'd like to restore the old behavior.\n",
      "XGBoost Accuracy Score: 0.9303758471965496\n",
      "F1 Score: 0.5637065637065637\n"
     ]
    },
    {
     "data": {
      "image/png": "[encoded data removed]",
      "text/plain": [
       "<Figure size 432x288 with 2 Axes>"
      ]
     },
     "metadata": {
      "needs_background": "light"
     },
     "output_type": "display_data"
    }
   ],
   "source": [
    "#XGB\n",
    "xgb= XGBClassifier(use_label_encoder=False)\n",
    "xgb.fit(X_train, y_train)\n",
    "y_pred = xgb.predict(X_test)\n",
    "print(f'XGBoost Accuracy Score: {accuracy_score(y_test,y_pred)}')\n",
    "print('F1 Score: {}'.format(f1_score(y_test, y_pred)))\n",
    "conf_mat(y_test, y_pred)"
   ]
  },
  {
   "cell_type": "code",
   "execution_count": 178,
   "metadata": {},
   "outputs": [
    {
     "name": "stdout",
     "output_type": "stream",
     "text": [
      "XGBoost model correctly classified 87.951807 percent of fraud cases in the test data\n",
      "XGBoost model misclassified 2.087683 percent of non-fraud cases in the test data\n"
     ]
    }
   ],
   "source": [
    "print(\"XGBoost model correctly classified %f percent of fraud cases in the test data\" %((73/83)*100))\n",
    "print(\"XGBoost model misclassified %f percent of non-fraud cases in the test data\" %((30/1437)*100))"
   ]
  }
 ],
 "metadata": {
  "kernelspec": {
   "display_name": "Python 3",
   "language": "python",
   "name": "python3"
  },
  "language_info": {
   "codemirror_mode": {
    "name": "ipython",
    "version": 3
   },
   "file_extension": ".py",
   "mimetype": "text/x-python",
   "name": "python",
   "nbconvert_exporter": "python",
   "pygments_lexer": "ipython3",
   "version": "3.8.5"
  }
 },
 "nbformat": 4,
 "nbformat_minor": 4
}
