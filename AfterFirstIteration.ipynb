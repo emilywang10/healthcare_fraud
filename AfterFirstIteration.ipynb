{
 "cells": [
  {
   "cell_type": "code",
   "execution_count": 1,
   "metadata": {},
   "outputs": [],
   "source": [
    "import pandas as pd\n",
    "import numpy as np\n",
    "import seaborn as sns\n",
    "from matplotlib import pyplot as plt\n",
    "%matplotlib inline\n",
    "pd.set_option('display.max_columns', None)"
   ]
  },
  {
   "cell_type": "code",
   "execution_count": 51,
   "metadata": {},
   "outputs": [],
   "source": [
    "from sklearn.linear_model import LogisticRegression, RidgeClassifier\n",
    "from sklearn.model_selection import train_test_split, GridSearchCV, cross_val_score, RepeatedStratifiedKFold, StratifiedKFold\n",
    "from sklearn.metrics import accuracy_score, confusion_matrix, roc_curve, roc_auc_score, precision_score, recall_score, precision_recall_curve\n",
    "from sklearn.metrics import f1_score\n",
    "from sklearn.preprocessing import StandardScaler\n",
    "from sklearn.svm import SVC\n",
    "from sklearn import ensemble\n",
    "from xgboost import XGBClassifier\n",
    "from sklearn.model_selection import RepeatedStratifiedKFold\n",
    "\n",
    "#Imbalanced learn packages\n",
    "from imblearn.over_sampling import RandomOverSampler\n",
    "from imblearn.over_sampling import SMOTE #Synthetic Minority Oversampling Technique\n",
    "from imblearn.under_sampling import EditedNearestNeighbours, RandomUnderSampler"
   ]
  },
  {
   "cell_type": "code",
   "execution_count": 4,
   "metadata": {},
   "outputs": [
    {
     "name": "stdout",
     "output_type": "stream",
     "text": [
      "Collecting imbalanced-learn==0.6.0\n",
      "  Downloading imbalanced_learn-0.6.0-py3-none-any.whl (162 kB)\n",
      "\u001b[K     |████████████████████████████████| 162 kB 3.5 MB/s eta 0:00:01\n",
      "\u001b[?25hRequirement already satisfied: scikit-learn>=0.22 in /Applications/anaconda3/lib/python3.7/site-packages (from imbalanced-learn==0.6.0) (0.22.1)\n",
      "Requirement already satisfied: joblib>=0.11 in /Applications/anaconda3/lib/python3.7/site-packages (from imbalanced-learn==0.6.0) (0.15.1)\n",
      "Requirement already satisfied: scipy>=0.17 in /Applications/anaconda3/lib/python3.7/site-packages (from imbalanced-learn==0.6.0) (1.4.1)\n",
      "Requirement already satisfied: numpy>=1.11 in /Applications/anaconda3/lib/python3.7/site-packages (from imbalanced-learn==0.6.0) (1.15.3)\n",
      "Installing collected packages: imbalanced-learn\n",
      "Successfully installed imbalanced-learn-0.6.0\n",
      "Requirement already satisfied: scikit-learn==0.22.1 in /Applications/anaconda3/lib/python3.7/site-packages (0.22.1)\n",
      "Requirement already satisfied: numpy>=1.11.0 in /Applications/anaconda3/lib/python3.7/site-packages (from scikit-learn==0.22.1) (1.15.3)\n",
      "Requirement already satisfied: scipy>=0.17.0 in /Applications/anaconda3/lib/python3.7/site-packages (from scikit-learn==0.22.1) (1.4.1)\n",
      "Requirement already satisfied: joblib>=0.11 in /Applications/anaconda3/lib/python3.7/site-packages (from scikit-learn==0.22.1) (0.15.1)\n"
     ]
    }
   ],
   "source": [
    "!pip install imbalanced-learn==0.6.0\n",
    "!pip install scikit-learn==0.22.1\n"
   ]
  },
  {
   "cell_type": "code",
   "execution_count": 268,
   "metadata": {},
   "outputs": [],
   "source": [
    "provider2 = pd.read_csv('provider2.csv')"
   ]
  },
  {
   "cell_type": "code",
   "execution_count": 269,
   "metadata": {},
   "outputs": [
    {
     "data": {
      "text/plain": [
       "Index(['Unnamed: 0', 'Provider', 'PotentialFraud', 'patient_count',\n",
       "       'patient_type', 'Race1', 'Race2', 'Race3', 'Race5', 'Male', 'Female',\n",
       "       'mean_age', 'state_count', 'phy_count', 'no_phy', 'chronic_mean',\n",
       "       'claim_count', 'days_admitted', 'InscClaimAmtReimbursed',\n",
       "       'DeductibleAmtPaid', 'IPAnnualReimbursementAmt',\n",
       "       'IPAnnualDeductibleAmt', 'OPAnnualReimbursementAmt',\n",
       "       'OPAnnualDeductibleAmt', 'coverage', 'totalamount_charged',\n",
       "       'revenue_day', 'annual_amount', 'claimdiag', 'diag_grp', 'diag_4019',\n",
       "       'diag_25000', 'diag_2724', 'diag_V5869', 'diag_4011', 'diag_42731',\n",
       "       'diag_V5861', 'diag_2720', 'diag_2449', 'diag_4280', 'proc_4019',\n",
       "       'proc_9904', 'proc_2724', 'proc_8154', 'proc_66', 'proc_3893',\n",
       "       'proc_3995', 'proc_4516', 'proc_3722', 'proc_8151', 'duplicate_claims',\n",
       "       'patient_duplicate_count'],\n",
       "      dtype='object')"
      ]
     },
     "execution_count": 269,
     "metadata": {},
     "output_type": "execute_result"
    }
   ],
   "source": [
    "provider2.columns"
   ]
  },
  {
   "cell_type": "code",
   "execution_count": 270,
   "metadata": {},
   "outputs": [],
   "source": [
    "#tried to get get_dummies for patient_type\n",
    "patient_type = pd.get_dummies(provider2['patient_type'], drop_first = True)"
   ]
  },
  {
   "cell_type": "code",
   "execution_count": 271,
   "metadata": {},
   "outputs": [],
   "source": [
    "provider = pd.concat([provider2, patient_type], axis = 1).drop(['patient_type'], axis = 1)"
   ]
  },
  {
   "cell_type": "code",
   "execution_count": 272,
   "metadata": {},
   "outputs": [],
   "source": [
    "#droping the months \n",
    "#provider = provider.drop(['Jan', 'Feb', 'Mar', 'Apr', 'May', 'Jun', 'Jul', 'Aug', 'Sep', 'Oct', 'Nov', 'Dec'], \n",
    "#                           axis = 1)\n"
   ]
  },
  {
   "cell_type": "code",
   "execution_count": 273,
   "metadata": {},
   "outputs": [],
   "source": [
    "provider.drop(['Unnamed: 0'], axis = 1, inplace = True)"
   ]
  },
  {
   "cell_type": "code",
   "execution_count": 274,
   "metadata": {},
   "outputs": [],
   "source": [
    "provider[\"coverage\"].fillna(provider[\"coverage\"].mode()[0], inplace = True)"
   ]
  },
  {
   "cell_type": "code",
   "execution_count": 275,
   "metadata": {},
   "outputs": [],
   "source": [
    "provider['PotentialFraud'] = [1 if x == 'Yes' else 0 for x in provider['PotentialFraud']]"
   ]
  },
  {
   "cell_type": "code",
   "execution_count": 276,
   "metadata": {},
   "outputs": [
    {
     "data": {
      "text/plain": [
       "Index(['Provider', 'PotentialFraud', 'patient_count', 'Race1', 'Race2',\n",
       "       'Race3', 'Race5', 'Male', 'Female', 'mean_age', 'state_count',\n",
       "       'phy_count', 'no_phy', 'chronic_mean', 'claim_count', 'days_admitted',\n",
       "       'InscClaimAmtReimbursed', 'DeductibleAmtPaid',\n",
       "       'IPAnnualReimbursementAmt', 'IPAnnualDeductibleAmt',\n",
       "       'OPAnnualReimbursementAmt', 'OPAnnualDeductibleAmt', 'coverage',\n",
       "       'totalamount_charged', 'revenue_day', 'annual_amount', 'claimdiag',\n",
       "       'diag_grp', 'diag_4019', 'diag_25000', 'diag_2724', 'diag_V5869',\n",
       "       'diag_4011', 'diag_42731', 'diag_V5861', 'diag_2720', 'diag_2449',\n",
       "       'diag_4280', 'proc_4019', 'proc_9904', 'proc_2724', 'proc_8154',\n",
       "       'proc_66', 'proc_3893', 'proc_3995', 'proc_4516', 'proc_3722',\n",
       "       'proc_8151', 'duplicate_claims', 'patient_duplicate_count', 'inpatient',\n",
       "       'outpatient'],\n",
       "      dtype='object')"
      ]
     },
     "execution_count": 276,
     "metadata": {},
     "output_type": "execute_result"
    }
   ],
   "source": [
    "provider.columns"
   ]
  },
  {
   "cell_type": "code",
   "execution_count": 277,
   "metadata": {},
   "outputs": [],
   "source": [
    "provider.drop(['InscClaimAmtReimbursed', 'DeductibleAmtPaid', 'IPAnnualReimbursementAmt', 'IPAnnualDeductibleAmt',\n",
    "       'OPAnnualReimbursementAmt', 'OPAnnualDeductibleAmt'], axis = 1, inplace = True)"
   ]
  },
  {
   "cell_type": "code",
   "execution_count": 278,
   "metadata": {},
   "outputs": [],
   "source": [
    "#Confusion Matrix Plotting Function\n",
    "def conf_mat(y_test, y_pred):\n",
    "    cm = confusion_matrix(y_test, y_pred)\n",
    "    group_names = ['True Negative','False Positive','False Negative','True Positive']\n",
    "    group_counts = ['{0:0.0f}'.format(value) for value in\n",
    "                cm.flatten()]\n",
    "    group_percentages = ['{0:.4%}'.format(value) for value in\n",
    "                     cm.flatten()/np.sum(cm)]\n",
    "    labels = [f'{v1}\\n{v2}\\n{v3}' for v1, v2, v3 in\n",
    "          zip(group_names,group_counts,group_percentages)]\n",
    "    labels = np.asarray(labels).reshape(2,2)\n",
    "    ax= plt.subplot()\n",
    "    sns.heatmap(cm/np.sum(cm), annot=labels, ax = ax, fmt='', cmap='coolwarm');\n",
    "    # labels, title and ticks\n",
    "    ax.set_xlabel('Predicted labels');ax.set_ylabel('True labels')\n",
    "    ax.set_title('Confusion Matrix')\n",
    "    ax.xaxis.set_ticklabels(['No Fraud', 'Potential Fraud']); ax.yaxis.set_ticklabels(['No Fraud', 'Potential Fraud'])\n",
    "    return\n"
   ]
  },
  {
   "cell_type": "code",
   "execution_count": 279,
   "metadata": {},
   "outputs": [],
   "source": [
    "x = provider.drop(['Provider','PotentialFraud'],axis=1)\n",
    "y = provider['PotentialFraud']\n",
    "# train-test split\n",
    "X_train, X_test, y_train, y_test = train_test_split(StandardScaler().fit_transform(x), y, test_size=0.3, random_state=100)\n"
   ]
  },
  {
   "cell_type": "code",
   "execution_count": 208,
   "metadata": {},
   "outputs": [],
   "source": [
    "#Undersampling via Edited Nearest Neighbors\n",
    "en = EditedNearestNeighbours()\n",
    "x_en, y_en = en.fit_resample(x, y)\n"
   ]
  },
  {
   "cell_type": "code",
   "execution_count": 209,
   "metadata": {},
   "outputs": [
    {
     "data": {
      "text/plain": [
       "Index(['patient_count', 'Race1', 'Race2', 'Race3', 'Race5', 'Male', 'Female',\n",
       "       'mean_age', 'state_count', 'phy_count', 'no_phy', 'chronic_mean',\n",
       "       'claim_count', 'claimdiag', 'diag_grp', 'diag_4019', 'diag_25000',\n",
       "       'diag_2724', 'diag_V5869', 'diag_4011', 'diag_42731', 'diag_V5861',\n",
       "       'diag_2720', 'diag_2449', 'diag_4280', 'proc_4019', 'proc_9904',\n",
       "       'proc_2724', 'proc_8154', 'proc_66', 'proc_3893', 'proc_3995',\n",
       "       'proc_4516', 'proc_3722', 'proc_8151', 'patient_duplicate_count',\n",
       "       'duplicate_claims', 'totalamount_charged', 'revenue_day',\n",
       "       'annual_amount', 'coverage', 'inpatient', 'outpatient'],\n",
       "      dtype='object')"
      ]
     },
     "execution_count": 209,
     "metadata": {},
     "output_type": "execute_result"
    }
   ],
   "source": [
    "x.columns"
   ]
  },
  {
   "cell_type": "markdown",
   "metadata": {},
   "source": [
    "## Logistic regression"
   ]
  },
  {
   "cell_type": "markdown",
   "metadata": {},
   "source": [
    "### RIDGE"
   ]
  },
  {
   "cell_type": "code",
   "execution_count": 33,
   "metadata": {},
   "outputs": [
    {
     "name": "stdout",
     "output_type": "stream",
     "text": [
      "Accuracy Score: 0.8977202711028959\n",
      "F1 Score: 0.5699481865284974\n",
      "Recall Score: 0.7051282051282052\n",
      "ROC-AUC Score: 0.8116643070630801\n"
     ]
    },
    {
     "data": {
      "image/png": "[encoded data removed]",
      "text/plain": [
       "<Figure size 432x288 with 2 Axes>"
      ]
     },
     "metadata": {
      "needs_background": "light"
     },
     "output_type": "display_data"
    }
   ],
   "source": [
    "from sklearn.linear_model import LogisticRegressionCV\n",
    "\n",
    "lg2 = LogisticRegressionCV(cv=10, random_state=100, class_weight='balanced', max_iter=2000)\n",
    "\n",
    "lg2.fit(X_train,y_train)\n",
    "\n",
    "y_pred = lg2.predict(X_test)\n",
    "# performance\n",
    "print(f'Accuracy Score: {accuracy_score(y_test,y_pred)}')\n",
    "print('F1 Score: {}'.format(f1_score(y_test, y_pred)))\n",
    "print('Recall Score: {}'.format(recall_score(y_test, y_pred)))\n",
    "print('ROC-AUC Score: {}'.format(roc_auc_score(y_test, y_pred)))\n",
    "conf_mat(y_test, y_pred)"
   ]
  },
  {
   "cell_type": "code",
   "execution_count": 210,
   "metadata": {},
   "outputs": [],
   "source": [
    "X_train_en, X_test_en, y_train_en, y_test_en = train_test_split(StandardScaler().fit_transform(x_en), y_en, \n",
    "                                                                test_size=0.3, random_state=100)"
   ]
  },
  {
   "cell_type": "code",
   "execution_count": 99,
   "metadata": {},
   "outputs": [
    {
     "name": "stdout",
     "output_type": "stream",
     "text": [
      "Accuracy Score: 0.9484098939929329\n",
      "F1 Score: 0.7114624505928855\n",
      "Recall Score: 0.6293706293706294\n",
      "ROC-AUC Score: 0.806823679465189\n"
     ]
    },
    {
     "data": {
      "image/png": "[encoded data removed]",
      "text/plain": [
       "<Figure size 432x288 with 2 Axes>"
      ]
     },
     "metadata": {
      "needs_background": "light"
     },
     "output_type": "display_data"
    }
   ],
   "source": [
    "lg1 = LogisticRegressionCV(cv=5, random_state=100, max_iter=2000)\n",
    "\n",
    "lg1.fit(X_train_en,y_train_en)\n",
    "\n",
    "y_pred_en = lg1.predict(X_test_en)\n",
    "# performance\n",
    "print(f'Accuracy Score: {accuracy_score(y_test_en,y_pred_en)}')\n",
    "print('F1 Score: {}'.format(f1_score(y_test_en, y_pred_en)))\n",
    "print('Recall Score: {}'.format(recall_score(y_test_en, y_pred_en)))\n",
    "print('ROC-AUC Score: {}'.format(roc_auc_score(y_test_en, y_pred_en)))\n",
    "conf_mat(y_test_en, y_pred_en)"
   ]
  },
  {
   "cell_type": "code",
   "execution_count": 100,
   "metadata": {},
   "outputs": [
    {
     "data": {
      "text/html": [
       "<div>\n",
       "<style scoped>\n",
       "    .dataframe tbody tr th:only-of-type {\n",
       "        vertical-align: middle;\n",
       "    }\n",
       "\n",
       "    .dataframe tbody tr th {\n",
       "        vertical-align: top;\n",
       "    }\n",
       "\n",
       "    .dataframe thead th {\n",
       "        text-align: right;\n",
       "    }\n",
       "</style>\n",
       "<table border=\"1\" class=\"dataframe\">\n",
       "  <thead>\n",
       "    <tr style=\"text-align: right;\">\n",
       "      <th></th>\n",
       "      <th>feature</th>\n",
       "      <th>coef</th>\n",
       "    </tr>\n",
       "  </thead>\n",
       "  <tbody>\n",
       "    <tr>\n",
       "      <th>20</th>\n",
       "      <td>diag_grp</td>\n",
       "      <td>1.056947</td>\n",
       "    </tr>\n",
       "    <tr>\n",
       "      <th>27</th>\n",
       "      <td>diag_V5861</td>\n",
       "      <td>0.595042</td>\n",
       "    </tr>\n",
       "    <tr>\n",
       "      <th>19</th>\n",
       "      <td>claimdiag</td>\n",
       "      <td>0.575603</td>\n",
       "    </tr>\n",
       "    <tr>\n",
       "      <th>42</th>\n",
       "      <td>duplicate_claims</td>\n",
       "      <td>0.559527</td>\n",
       "    </tr>\n",
       "    <tr>\n",
       "      <th>44</th>\n",
       "      <td>revenue_day</td>\n",
       "      <td>0.450721</td>\n",
       "    </tr>\n",
       "    <tr>\n",
       "      <th>12</th>\n",
       "      <td>claim_count</td>\n",
       "      <td>0.432902</td>\n",
       "    </tr>\n",
       "    <tr>\n",
       "      <th>41</th>\n",
       "      <td>patient_duplicate_count</td>\n",
       "      <td>0.397245</td>\n",
       "    </tr>\n",
       "    <tr>\n",
       "      <th>28</th>\n",
       "      <td>diag_2720</td>\n",
       "      <td>0.356623</td>\n",
       "    </tr>\n",
       "    <tr>\n",
       "      <th>31</th>\n",
       "      <td>proc_4019</td>\n",
       "      <td>0.305073</td>\n",
       "    </tr>\n",
       "    <tr>\n",
       "      <th>24</th>\n",
       "      <td>diag_V5869</td>\n",
       "      <td>0.296044</td>\n",
       "    </tr>\n",
       "    <tr>\n",
       "      <th>11</th>\n",
       "      <td>chronic_mean</td>\n",
       "      <td>0.235120</td>\n",
       "    </tr>\n",
       "    <tr>\n",
       "      <th>35</th>\n",
       "      <td>proc_66</td>\n",
       "      <td>0.209880</td>\n",
       "    </tr>\n",
       "    <tr>\n",
       "      <th>17</th>\n",
       "      <td>OPAnnualReimbursementAmt</td>\n",
       "      <td>0.196942</td>\n",
       "    </tr>\n",
       "    <tr>\n",
       "      <th>5</th>\n",
       "      <td>Male</td>\n",
       "      <td>0.179348</td>\n",
       "    </tr>\n",
       "    <tr>\n",
       "      <th>38</th>\n",
       "      <td>proc_4516</td>\n",
       "      <td>0.178908</td>\n",
       "    </tr>\n",
       "    <tr>\n",
       "      <th>4</th>\n",
       "      <td>Race5</td>\n",
       "      <td>0.161493</td>\n",
       "    </tr>\n",
       "    <tr>\n",
       "      <th>39</th>\n",
       "      <td>proc_3722</td>\n",
       "      <td>0.155237</td>\n",
       "    </tr>\n",
       "    <tr>\n",
       "      <th>26</th>\n",
       "      <td>diag_42731</td>\n",
       "      <td>0.096785</td>\n",
       "    </tr>\n",
       "    <tr>\n",
       "      <th>10</th>\n",
       "      <td>no_phy</td>\n",
       "      <td>0.064119</td>\n",
       "    </tr>\n",
       "    <tr>\n",
       "      <th>13</th>\n",
       "      <td>InscClaimAmtReimbursed</td>\n",
       "      <td>0.055052</td>\n",
       "    </tr>\n",
       "  </tbody>\n",
       "</table>\n",
       "</div>"
      ],
      "text/plain": [
       "                     feature      coef\n",
       "20                  diag_grp  1.056947\n",
       "27                diag_V5861  0.595042\n",
       "19                 claimdiag  0.575603\n",
       "42          duplicate_claims  0.559527\n",
       "44               revenue_day  0.450721\n",
       "12               claim_count  0.432902\n",
       "41   patient_duplicate_count  0.397245\n",
       "28                 diag_2720  0.356623\n",
       "31                 proc_4019  0.305073\n",
       "24                diag_V5869  0.296044\n",
       "11              chronic_mean  0.235120\n",
       "35                   proc_66  0.209880\n",
       "17  OPAnnualReimbursementAmt  0.196942\n",
       "5                       Male  0.179348\n",
       "38                 proc_4516  0.178908\n",
       "4                      Race5  0.161493\n",
       "39                 proc_3722  0.155237\n",
       "26                diag_42731  0.096785\n",
       "10                    no_phy  0.064119\n",
       "13    InscClaimAmtReimbursed  0.055052"
      ]
     },
     "execution_count": 100,
     "metadata": {},
     "output_type": "execute_result"
    }
   ],
   "source": [
    "# Feature Importance for logistic regression(undersampling) top 15 features\n",
    "pd.DataFrame(zip(x.columns, np.transpose(lg1.coef_.tolist()[0])), columns=['feature', 'coef'])\\\n",
    "            .sort_values('coef', ascending=False).head(20)"
   ]
  },
  {
   "cell_type": "code",
   "execution_count": 39,
   "metadata": {},
   "outputs": [
    {
     "data": {
      "text/html": [
       "<div>\n",
       "<style scoped>\n",
       "    .dataframe tbody tr th:only-of-type {\n",
       "        vertical-align: middle;\n",
       "    }\n",
       "\n",
       "    .dataframe tbody tr th {\n",
       "        vertical-align: top;\n",
       "    }\n",
       "\n",
       "    .dataframe thead th {\n",
       "        text-align: right;\n",
       "    }\n",
       "</style>\n",
       "<table border=\"1\" class=\"dataframe\">\n",
       "  <thead>\n",
       "    <tr style=\"text-align: right;\">\n",
       "      <th></th>\n",
       "      <th>feature</th>\n",
       "      <th>coef</th>\n",
       "    </tr>\n",
       "  </thead>\n",
       "  <tbody>\n",
       "    <tr>\n",
       "      <th>21</th>\n",
       "      <td>diag_4019</td>\n",
       "      <td>-0.014011</td>\n",
       "    </tr>\n",
       "    <tr>\n",
       "      <th>7</th>\n",
       "      <td>mean_age</td>\n",
       "      <td>-0.015830</td>\n",
       "    </tr>\n",
       "    <tr>\n",
       "      <th>8</th>\n",
       "      <td>state_count</td>\n",
       "      <td>-0.020875</td>\n",
       "    </tr>\n",
       "    <tr>\n",
       "      <th>46</th>\n",
       "      <td>coverage</td>\n",
       "      <td>-0.022001</td>\n",
       "    </tr>\n",
       "    <tr>\n",
       "      <th>3</th>\n",
       "      <td>Race3</td>\n",
       "      <td>-0.029198</td>\n",
       "    </tr>\n",
       "    <tr>\n",
       "      <th>0</th>\n",
       "      <td>patient_count</td>\n",
       "      <td>-0.036766</td>\n",
       "    </tr>\n",
       "    <tr>\n",
       "      <th>1</th>\n",
       "      <td>Race1</td>\n",
       "      <td>-0.038225</td>\n",
       "    </tr>\n",
       "    <tr>\n",
       "      <th>16</th>\n",
       "      <td>IPAnnualDeductibleAmt</td>\n",
       "      <td>-0.043370</td>\n",
       "    </tr>\n",
       "    <tr>\n",
       "      <th>18</th>\n",
       "      <td>OPAnnualDeductibleAmt</td>\n",
       "      <td>-0.044267</td>\n",
       "    </tr>\n",
       "    <tr>\n",
       "      <th>2</th>\n",
       "      <td>Race2</td>\n",
       "      <td>-0.047854</td>\n",
       "    </tr>\n",
       "    <tr>\n",
       "      <th>6</th>\n",
       "      <td>Female</td>\n",
       "      <td>-0.074048</td>\n",
       "    </tr>\n",
       "    <tr>\n",
       "      <th>40</th>\n",
       "      <td>proc_8151</td>\n",
       "      <td>-0.099479</td>\n",
       "    </tr>\n",
       "    <tr>\n",
       "      <th>30</th>\n",
       "      <td>diag_4280</td>\n",
       "      <td>-0.118265</td>\n",
       "    </tr>\n",
       "    <tr>\n",
       "      <th>47</th>\n",
       "      <td>inpatient</td>\n",
       "      <td>-0.265028</td>\n",
       "    </tr>\n",
       "    <tr>\n",
       "      <th>48</th>\n",
       "      <td>outpatient</td>\n",
       "      <td>-0.729419</td>\n",
       "    </tr>\n",
       "  </tbody>\n",
       "</table>\n",
       "</div>"
      ],
      "text/plain": [
       "                  feature      coef\n",
       "21              diag_4019 -0.014011\n",
       "7                mean_age -0.015830\n",
       "8             state_count -0.020875\n",
       "46               coverage -0.022001\n",
       "3                   Race3 -0.029198\n",
       "0           patient_count -0.036766\n",
       "1                   Race1 -0.038225\n",
       "16  IPAnnualDeductibleAmt -0.043370\n",
       "18  OPAnnualDeductibleAmt -0.044267\n",
       "2                   Race2 -0.047854\n",
       "6                  Female -0.074048\n",
       "40              proc_8151 -0.099479\n",
       "30              diag_4280 -0.118265\n",
       "47              inpatient -0.265028\n",
       "48             outpatient -0.729419"
      ]
     },
     "execution_count": 39,
     "metadata": {},
     "output_type": "execute_result"
    }
   ],
   "source": [
    "pd.DataFrame(zip(x.columns, np.transpose(lg1.coef_.tolist()[0])), columns=['feature', 'coef'])\\\n",
    "            .sort_values('coef', ascending=False).tail(15)"
   ]
  },
  {
   "cell_type": "markdown",
   "metadata": {},
   "source": [
    "### LASSO"
   ]
  },
  {
   "cell_type": "code",
   "execution_count": 101,
   "metadata": {},
   "outputs": [
    {
     "name": "stdout",
     "output_type": "stream",
     "text": [
      "Accuracy Score for Lasso: 0.9038817005545287\n",
      "F1 Score for Lasso: 0.0\n",
      "Recall Score for Lasso: 0.0\n",
      "ROC-AUC Score for Lasso: 0.5\n"
     ]
    },
    {
     "data": {
      "image/png": "[encoded data removed]",
      "text/plain": [
       "<Figure size 432x288 with 2 Axes>"
      ]
     },
     "metadata": {
      "needs_background": "light"
     },
     "output_type": "display_data"
    }
   ],
   "source": [
    "lg3 = LogisticRegressionCV(cv=5, random_state=100, class_weight='balanced', max_iter=2000, penalty='l1', \n",
    "                                   solver='liblinear')\n",
    "lg3.fit(X_train,y_train)\n",
    "\n",
    "y_pred = lg3.predict(X_test)\n",
    "# performance\n",
    "print(f'Accuracy Score for Lasso: {accuracy_score(y_test,y_pred)}')\n",
    "print('F1 Score for Lasso: {}'.format(f1_score(y_test, y_pred)))\n",
    "print('Recall Score for Lasso: {}'.format(recall_score(y_test, y_pred)))\n",
    "print('ROC-AUC Score for Lasso: {}'.format(roc_auc_score(y_test, y_pred)))\n",
    "conf_mat(y_test, y_pred)"
   ]
  },
  {
   "cell_type": "code",
   "execution_count": 104,
   "metadata": {},
   "outputs": [
    {
     "name": "stdout",
     "output_type": "stream",
     "text": [
      "Accuracy Score: 0.9498233215547703\n",
      "F1 Score: 0.714859437751004\n",
      "Recall Score: 0.6223776223776224\n",
      "ROC-AUC Score: 0.8045064212517044\n"
     ]
    },
    {
     "data": {
      "image/png": "[encoded data removed]",
      "text/plain": [
       "<Figure size 432x288 with 2 Axes>"
      ]
     },
     "metadata": {
      "needs_background": "light"
     },
     "output_type": "display_data"
    }
   ],
   "source": [
    "lg4 = LogisticRegressionCV(cv=5, random_state=100, max_iter=2000, penalty='l1', \n",
    "                                   solver='liblinear')\n",
    "\n",
    "lg4.fit(X_train_en,y_train_en)\n",
    "\n",
    "y_pred_en = lg4.predict(X_test_en)\n",
    "# performance\n",
    "print(f'Accuracy Score: {accuracy_score(y_test_en,y_pred_en)}')\n",
    "print('F1 Score: {}'.format(f1_score(y_test_en, y_pred_en)))\n",
    "print('Recall Score: {}'.format(recall_score(y_test_en, y_pred_en)))\n",
    "print('ROC-AUC Score: {}'.format(roc_auc_score(y_test_en, y_pred_en)))\n",
    "conf_mat(y_test_en, y_pred_en)"
   ]
  },
  {
   "cell_type": "code",
   "execution_count": 103,
   "metadata": {},
   "outputs": [
    {
     "data": {
      "text/html": [
       "<div>\n",
       "<style scoped>\n",
       "    .dataframe tbody tr th:only-of-type {\n",
       "        vertical-align: middle;\n",
       "    }\n",
       "\n",
       "    .dataframe tbody tr th {\n",
       "        vertical-align: top;\n",
       "    }\n",
       "\n",
       "    .dataframe thead th {\n",
       "        text-align: right;\n",
       "    }\n",
       "</style>\n",
       "<table border=\"1\" class=\"dataframe\">\n",
       "  <thead>\n",
       "    <tr style=\"text-align: right;\">\n",
       "      <th></th>\n",
       "      <th>feature</th>\n",
       "      <th>coef</th>\n",
       "    </tr>\n",
       "  </thead>\n",
       "  <tbody>\n",
       "    <tr>\n",
       "      <th>12</th>\n",
       "      <td>claim_count</td>\n",
       "      <td>2.010355</td>\n",
       "    </tr>\n",
       "    <tr>\n",
       "      <th>20</th>\n",
       "      <td>diag_grp</td>\n",
       "      <td>1.897309</td>\n",
       "    </tr>\n",
       "    <tr>\n",
       "      <th>42</th>\n",
       "      <td>duplicate_claims</td>\n",
       "      <td>1.841585</td>\n",
       "    </tr>\n",
       "    <tr>\n",
       "      <th>27</th>\n",
       "      <td>diag_V5861</td>\n",
       "      <td>0.727709</td>\n",
       "    </tr>\n",
       "    <tr>\n",
       "      <th>5</th>\n",
       "      <td>Male</td>\n",
       "      <td>0.599479</td>\n",
       "    </tr>\n",
       "    <tr>\n",
       "      <th>44</th>\n",
       "      <td>revenue_day</td>\n",
       "      <td>0.512702</td>\n",
       "    </tr>\n",
       "    <tr>\n",
       "      <th>41</th>\n",
       "      <td>patient_duplicate_count</td>\n",
       "      <td>0.396333</td>\n",
       "    </tr>\n",
       "    <tr>\n",
       "      <th>24</th>\n",
       "      <td>diag_V5869</td>\n",
       "      <td>0.344493</td>\n",
       "    </tr>\n",
       "    <tr>\n",
       "      <th>31</th>\n",
       "      <td>proc_4019</td>\n",
       "      <td>0.314114</td>\n",
       "    </tr>\n",
       "    <tr>\n",
       "      <th>19</th>\n",
       "      <td>claimdiag</td>\n",
       "      <td>0.291808</td>\n",
       "    </tr>\n",
       "    <tr>\n",
       "      <th>4</th>\n",
       "      <td>Race5</td>\n",
       "      <td>0.276642</td>\n",
       "    </tr>\n",
       "    <tr>\n",
       "      <th>11</th>\n",
       "      <td>chronic_mean</td>\n",
       "      <td>0.267051</td>\n",
       "    </tr>\n",
       "    <tr>\n",
       "      <th>17</th>\n",
       "      <td>OPAnnualReimbursementAmt</td>\n",
       "      <td>0.228694</td>\n",
       "    </tr>\n",
       "    <tr>\n",
       "      <th>28</th>\n",
       "      <td>diag_2720</td>\n",
       "      <td>0.198540</td>\n",
       "    </tr>\n",
       "    <tr>\n",
       "      <th>35</th>\n",
       "      <td>proc_66</td>\n",
       "      <td>0.184811</td>\n",
       "    </tr>\n",
       "  </tbody>\n",
       "</table>\n",
       "</div>"
      ],
      "text/plain": [
       "                     feature      coef\n",
       "12               claim_count  2.010355\n",
       "20                  diag_grp  1.897309\n",
       "42          duplicate_claims  1.841585\n",
       "27                diag_V5861  0.727709\n",
       "5                       Male  0.599479\n",
       "44               revenue_day  0.512702\n",
       "41   patient_duplicate_count  0.396333\n",
       "24                diag_V5869  0.344493\n",
       "31                 proc_4019  0.314114\n",
       "19                 claimdiag  0.291808\n",
       "4                      Race5  0.276642\n",
       "11              chronic_mean  0.267051\n",
       "17  OPAnnualReimbursementAmt  0.228694\n",
       "28                 diag_2720  0.198540\n",
       "35                   proc_66  0.184811"
      ]
     },
     "execution_count": 103,
     "metadata": {},
     "output_type": "execute_result"
    }
   ],
   "source": [
    "# Feature Importance for logistic regression(undersampling) top 15 features\n",
    "pd.DataFrame(zip(x.columns, np.transpose(lg4.coef_.tolist()[0])), columns=['feature', 'coef'])\\\n",
    "            .sort_values('coef', ascending=False).head(15)"
   ]
  },
  {
   "cell_type": "code",
   "execution_count": 122,
   "metadata": {},
   "outputs": [
    {
     "data": {
      "text/html": [
       "<div>\n",
       "<style scoped>\n",
       "    .dataframe tbody tr th:only-of-type {\n",
       "        vertical-align: middle;\n",
       "    }\n",
       "\n",
       "    .dataframe tbody tr th {\n",
       "        vertical-align: top;\n",
       "    }\n",
       "\n",
       "    .dataframe thead th {\n",
       "        text-align: right;\n",
       "    }\n",
       "</style>\n",
       "<table border=\"1\" class=\"dataframe\">\n",
       "  <thead>\n",
       "    <tr style=\"text-align: right;\">\n",
       "      <th></th>\n",
       "      <th>feature</th>\n",
       "      <th>coef</th>\n",
       "    </tr>\n",
       "  </thead>\n",
       "  <tbody>\n",
       "    <tr>\n",
       "      <th>3</th>\n",
       "      <td>Race3</td>\n",
       "      <td>0.000000</td>\n",
       "    </tr>\n",
       "    <tr>\n",
       "      <th>5</th>\n",
       "      <td>Male</td>\n",
       "      <td>0.000000</td>\n",
       "    </tr>\n",
       "    <tr>\n",
       "      <th>6</th>\n",
       "      <td>Female</td>\n",
       "      <td>0.000000</td>\n",
       "    </tr>\n",
       "    <tr>\n",
       "      <th>7</th>\n",
       "      <td>mean_age</td>\n",
       "      <td>0.000000</td>\n",
       "    </tr>\n",
       "    <tr>\n",
       "      <th>1</th>\n",
       "      <td>Race1</td>\n",
       "      <td>0.000000</td>\n",
       "    </tr>\n",
       "    <tr>\n",
       "      <th>14</th>\n",
       "      <td>DeductibleAmtPaid</td>\n",
       "      <td>0.000000</td>\n",
       "    </tr>\n",
       "    <tr>\n",
       "      <th>12</th>\n",
       "      <td>claim_count</td>\n",
       "      <td>0.000000</td>\n",
       "    </tr>\n",
       "    <tr>\n",
       "      <th>18</th>\n",
       "      <td>OPAnnualDeductibleAmt</td>\n",
       "      <td>0.000000</td>\n",
       "    </tr>\n",
       "    <tr>\n",
       "      <th>21</th>\n",
       "      <td>diag_4019</td>\n",
       "      <td>0.000000</td>\n",
       "    </tr>\n",
       "    <tr>\n",
       "      <th>22</th>\n",
       "      <td>diag_25000</td>\n",
       "      <td>0.000000</td>\n",
       "    </tr>\n",
       "    <tr>\n",
       "      <th>23</th>\n",
       "      <td>diag_2724</td>\n",
       "      <td>0.000000</td>\n",
       "    </tr>\n",
       "    <tr>\n",
       "      <th>30</th>\n",
       "      <td>diag_4280</td>\n",
       "      <td>-0.005722</td>\n",
       "    </tr>\n",
       "    <tr>\n",
       "      <th>9</th>\n",
       "      <td>phy_count</td>\n",
       "      <td>-0.013112</td>\n",
       "    </tr>\n",
       "    <tr>\n",
       "      <th>8</th>\n",
       "      <td>state_count</td>\n",
       "      <td>-0.028334</td>\n",
       "    </tr>\n",
       "    <tr>\n",
       "      <th>16</th>\n",
       "      <td>IPAnnualDeductibleAmt</td>\n",
       "      <td>-0.035687</td>\n",
       "    </tr>\n",
       "    <tr>\n",
       "      <th>2</th>\n",
       "      <td>Race2</td>\n",
       "      <td>-0.037936</td>\n",
       "    </tr>\n",
       "    <tr>\n",
       "      <th>36</th>\n",
       "      <td>proc_3893</td>\n",
       "      <td>-0.049551</td>\n",
       "    </tr>\n",
       "    <tr>\n",
       "      <th>40</th>\n",
       "      <td>proc_8151</td>\n",
       "      <td>-0.209390</td>\n",
       "    </tr>\n",
       "    <tr>\n",
       "      <th>47</th>\n",
       "      <td>inpatient</td>\n",
       "      <td>-0.246833</td>\n",
       "    </tr>\n",
       "    <tr>\n",
       "      <th>48</th>\n",
       "      <td>outpatient</td>\n",
       "      <td>-0.834577</td>\n",
       "    </tr>\n",
       "  </tbody>\n",
       "</table>\n",
       "</div>"
      ],
      "text/plain": [
       "                  feature      coef\n",
       "3                   Race3  0.000000\n",
       "5                    Male  0.000000\n",
       "6                  Female  0.000000\n",
       "7                mean_age  0.000000\n",
       "1                   Race1  0.000000\n",
       "14      DeductibleAmtPaid  0.000000\n",
       "12            claim_count  0.000000\n",
       "18  OPAnnualDeductibleAmt  0.000000\n",
       "21              diag_4019  0.000000\n",
       "22             diag_25000  0.000000\n",
       "23              diag_2724  0.000000\n",
       "30              diag_4280 -0.005722\n",
       "9               phy_count -0.013112\n",
       "8             state_count -0.028334\n",
       "16  IPAnnualDeductibleAmt -0.035687\n",
       "2                   Race2 -0.037936\n",
       "36              proc_3893 -0.049551\n",
       "40              proc_8151 -0.209390\n",
       "47              inpatient -0.246833\n",
       "48             outpatient -0.834577"
      ]
     },
     "execution_count": 122,
     "metadata": {},
     "output_type": "execute_result"
    }
   ],
   "source": [
    "pd.DataFrame(zip(x.columns, np.transpose(lg4.coef_.tolist()[0])), columns=['feature', 'coef'])\\\n",
    "            .sort_values('coef', ascending=False).tail(20)"
   ]
  },
  {
   "cell_type": "code",
   "execution_count": 80,
   "metadata": {},
   "outputs": [],
   "source": [
    "lasso = pd.DataFrame(zip(x.columns, np.transpose(lg4.coef_.tolist()[0])), columns=['feature_lasso', 'coef_lasso'])\\\n",
    "            .sort_values('coef_lasso', ascending=False).head(15)"
   ]
  },
  {
   "cell_type": "markdown",
   "metadata": {},
   "source": [
    "## SUPPORT VECTOR CLASSIFIER"
   ]
  },
  {
   "cell_type": "code",
   "execution_count": 53,
   "metadata": {},
   "outputs": [
    {
     "name": "stdout",
     "output_type": "stream",
     "text": [
      "Accuracy Score for SVC: 0.8743068391866913\n",
      "F1 Score for SVC: 0.5486725663716814\n",
      "Recall Score for SVC: 0.7948717948717948\n",
      "ROC-AUC Score for SVC: 0.8388128572177651\n"
     ]
    },
    {
     "data": {
      "image/png": "[encoded data removed]",
      "text/plain": [
       "<Figure size 432x288 with 2 Axes>"
      ]
     },
     "metadata": {
      "needs_background": "light"
     },
     "output_type": "display_data"
    }
   ],
   "source": [
    "#SVM\n",
    "svm= SVC(class_weight='balanced', random_state=100)\n",
    "svm.fit(X_train, y_train)\n",
    "y_pred = svm.predict(X_test)\n",
    "print(f'Accuracy Score for SVC: {accuracy_score(y_test,y_pred)}')\n",
    "print('F1 Score for SVC: {}'.format(f1_score(y_test, y_pred)))\n",
    "print('Recall Score for SVC: {}'.format(recall_score(y_test, y_pred)))\n",
    "print('ROC-AUC Score for SVC: {}'.format(roc_auc_score(y_test, y_pred)))\n",
    "conf_mat(y_test, y_pred)"
   ]
  },
  {
   "cell_type": "code",
   "execution_count": 54,
   "metadata": {},
   "outputs": [
    {
     "name": "stdout",
     "output_type": "stream",
     "text": [
      "Accuracy Score: 0.9469964664310954\n",
      "F1 Score: 0.6987951807228916\n",
      "Recall Score: 0.6083916083916084\n",
      "ROC-AUC Score: 0.7967272507366847\n"
     ]
    },
    {
     "data": {
      "image/png": "[encoded data removed]",
      "text/plain": [
       "<Figure size 432x288 with 2 Axes>"
      ]
     },
     "metadata": {
      "needs_background": "light"
     },
     "output_type": "display_data"
    }
   ],
   "source": [
    "svm2= SVC(random_state=100)\n",
    "\n",
    "svm2.fit(X_train_en,y_train_en)\n",
    "\n",
    "y_pred_en = svm2.predict(X_test_en)\n",
    "# performance\n",
    "print(f'Accuracy Score: {accuracy_score(y_test_en,y_pred_en)}')\n",
    "print('F1 Score: {}'.format(f1_score(y_test_en, y_pred_en)))\n",
    "print('Recall Score: {}'.format(recall_score(y_test_en, y_pred_en)))\n",
    "print('ROC-AUC Score: {}'.format(roc_auc_score(y_test_en, y_pred_en)))\n",
    "conf_mat(y_test_en, y_pred_en)"
   ]
  },
  {
   "cell_type": "code",
   "execution_count": 55,
   "metadata": {},
   "outputs": [
    {
     "name": "stdout",
     "output_type": "stream",
     "text": [
      "Random Forest Accuracy Score: 0.9309919901417129\n",
      "Random Forest F1 Score: 0.5447154471544715\n",
      "Recall Score for Random Forest: 0.42948717948717946\n",
      "ROC-AUC Score for Random Forest: 0.7069044622725604\n"
     ]
    },
    {
     "data": {
      "image/png": "[encoded data removed]",
      "text/plain": [
       "<Figure size 432x288 with 2 Axes>"
      ]
     },
     "metadata": {
      "needs_background": "light"
     },
     "output_type": "display_data"
    }
   ],
   "source": [
    "rF = ensemble.RandomForestClassifier(class_weight='balanced')\n",
    "rF.fit(X_train, y_train)\n",
    "y_pred = rF.predict(X_test)\n",
    "print(f'Random Forest Accuracy Score: {accuracy_score(y_test,y_pred)}')\n",
    "print('Random Forest F1 Score: {}'.format(f1_score(y_test, y_pred)))\n",
    "print('Recall Score for Random Forest: {}'.format(recall_score(y_test, y_pred)))\n",
    "print('ROC-AUC Score for Random Forest: {}'.format(roc_auc_score(y_test, y_pred)))\n",
    "conf_mat(y_test, y_pred)"
   ]
  },
  {
   "cell_type": "code",
   "execution_count": 93,
   "metadata": {},
   "outputs": [
    {
     "name": "stdout",
     "output_type": "stream",
     "text": [
      "Random Forest Accuracy Score: 0.9540636042402827\n",
      "Random Forest F1 Score: 0.749034749034749\n",
      "Recall Score for Random Forest: 0.6783216783216783\n",
      "ROC-AUC Score for Random Forest: 0.8316922857017197\n"
     ]
    },
    {
     "data": {
      "image/png": "[encoded data removed]",
      "text/plain": [
       "<Figure size 432x288 with 2 Axes>"
      ]
     },
     "metadata": {
      "needs_background": "light"
     },
     "output_type": "display_data"
    }
   ],
   "source": [
    "rF2 = ensemble.RandomForestClassifier()\n",
    "rF2.fit(X_train_en, y_train_en)\n",
    "y_pred_en = rF2.predict(X_test_en)\n",
    "print(f'Random Forest Accuracy Score: {accuracy_score(y_test_en,y_pred_en)}')\n",
    "print('Random Forest F1 Score: {}'.format(f1_score(y_test_en, y_pred_en)))\n",
    "print('Recall Score for Random Forest: {}'.format(recall_score(y_test_en, y_pred_en)))\n",
    "print('ROC-AUC Score for Random Forest: {}'.format(roc_auc_score(y_test_en, y_pred_en)))\n",
    "conf_mat(y_test_en, y_pred_en)"
   ]
  },
  {
   "cell_type": "code",
   "execution_count": 94,
   "metadata": {},
   "outputs": [
    {
     "data": {
      "text/html": [
       "<div>\n",
       "<style scoped>\n",
       "    .dataframe tbody tr th:only-of-type {\n",
       "        vertical-align: middle;\n",
       "    }\n",
       "\n",
       "    .dataframe tbody tr th {\n",
       "        vertical-align: top;\n",
       "    }\n",
       "\n",
       "    .dataframe thead th {\n",
       "        text-align: right;\n",
       "    }\n",
       "</style>\n",
       "<table border=\"1\" class=\"dataframe\">\n",
       "  <thead>\n",
       "    <tr style=\"text-align: right;\">\n",
       "      <th></th>\n",
       "      <th>feature</th>\n",
       "      <th>coef</th>\n",
       "    </tr>\n",
       "  </thead>\n",
       "  <tbody>\n",
       "    <tr>\n",
       "      <th>20</th>\n",
       "      <td>diag_grp</td>\n",
       "      <td>0.110242</td>\n",
       "    </tr>\n",
       "    <tr>\n",
       "      <th>19</th>\n",
       "      <td>claimdiag</td>\n",
       "      <td>0.064674</td>\n",
       "    </tr>\n",
       "    <tr>\n",
       "      <th>28</th>\n",
       "      <td>diag_2720</td>\n",
       "      <td>0.055359</td>\n",
       "    </tr>\n",
       "    <tr>\n",
       "      <th>36</th>\n",
       "      <td>proc_3893</td>\n",
       "      <td>0.054490</td>\n",
       "    </tr>\n",
       "    <tr>\n",
       "      <th>27</th>\n",
       "      <td>diag_V5861</td>\n",
       "      <td>0.037012</td>\n",
       "    </tr>\n",
       "    <tr>\n",
       "      <th>43</th>\n",
       "      <td>totalamount_charged</td>\n",
       "      <td>0.034309</td>\n",
       "    </tr>\n",
       "    <tr>\n",
       "      <th>31</th>\n",
       "      <td>proc_4019</td>\n",
       "      <td>0.033289</td>\n",
       "    </tr>\n",
       "    <tr>\n",
       "      <th>13</th>\n",
       "      <td>InscClaimAmtReimbursed</td>\n",
       "      <td>0.032835</td>\n",
       "    </tr>\n",
       "    <tr>\n",
       "      <th>44</th>\n",
       "      <td>revenue_day</td>\n",
       "      <td>0.027748</td>\n",
       "    </tr>\n",
       "    <tr>\n",
       "      <th>35</th>\n",
       "      <td>proc_66</td>\n",
       "      <td>0.027559</td>\n",
       "    </tr>\n",
       "    <tr>\n",
       "      <th>32</th>\n",
       "      <td>proc_9904</td>\n",
       "      <td>0.026372</td>\n",
       "    </tr>\n",
       "    <tr>\n",
       "      <th>26</th>\n",
       "      <td>diag_42731</td>\n",
       "      <td>0.025275</td>\n",
       "    </tr>\n",
       "    <tr>\n",
       "      <th>39</th>\n",
       "      <td>proc_3722</td>\n",
       "      <td>0.024462</td>\n",
       "    </tr>\n",
       "    <tr>\n",
       "      <th>22</th>\n",
       "      <td>diag_25000</td>\n",
       "      <td>0.024193</td>\n",
       "    </tr>\n",
       "    <tr>\n",
       "      <th>14</th>\n",
       "      <td>DeductibleAmtPaid</td>\n",
       "      <td>0.022017</td>\n",
       "    </tr>\n",
       "  </tbody>\n",
       "</table>\n",
       "</div>"
      ],
      "text/plain": [
       "                   feature      coef\n",
       "20                diag_grp  0.110242\n",
       "19               claimdiag  0.064674\n",
       "28               diag_2720  0.055359\n",
       "36               proc_3893  0.054490\n",
       "27              diag_V5861  0.037012\n",
       "43     totalamount_charged  0.034309\n",
       "31               proc_4019  0.033289\n",
       "13  InscClaimAmtReimbursed  0.032835\n",
       "44             revenue_day  0.027748\n",
       "35                 proc_66  0.027559\n",
       "32               proc_9904  0.026372\n",
       "26              diag_42731  0.025275\n",
       "39               proc_3722  0.024462\n",
       "22              diag_25000  0.024193\n",
       "14       DeductibleAmtPaid  0.022017"
      ]
     },
     "execution_count": 94,
     "metadata": {},
     "output_type": "execute_result"
    }
   ],
   "source": [
    "#Feature selection by Random forest\n",
    "\n",
    "pd.DataFrame(zip(x.columns, list(rF2.feature_importances_)), columns=['feature', 'coef'])\\\n",
    "            .sort_values('coef', ascending=False).head(15)"
   ]
  },
  {
   "cell_type": "code",
   "execution_count": 81,
   "metadata": {},
   "outputs": [],
   "source": [
    "RF = pd.DataFrame(zip(x.columns, list(rF2.feature_importances_)), columns=['feature_RF', 'coef_RF'])\\\n",
    "        .sort_values('coef_RF', ascending=False).head(15)"
   ]
  },
  {
   "cell_type": "markdown",
   "metadata": {},
   "source": [
    "## XG Boost"
   ]
  },
  {
   "cell_type": "code",
   "execution_count": 65,
   "metadata": {},
   "outputs": [
    {
     "name": "stderr",
     "output_type": "stream",
     "text": [
      "/Applications/anaconda3/lib/python3.7/site-packages/xgboost/sklearn.py:1146: UserWarning: The use of label encoder in XGBClassifier is deprecated and will be removed in a future release. To remove this warning, do the following: 1) Pass option use_label_encoder=False when constructing XGBClassifier object; and 2) Encode your labels (y) as integers starting with 0, i.e. 0, 1, 2, ..., [num_class - 1].\n",
      "  warnings.warn(label_encoder_deprecation_msg, UserWarning)\n"
     ]
    },
    {
     "name": "stdout",
     "output_type": "stream",
     "text": [
      "[18:37:18] WARNING: /Users/travis/build/dmlc/xgboost/src/learner.cc:1095: Starting in XGBoost 1.3.0, the default evaluation metric used with the objective 'binary:logistic' was changed from 'error' to 'logloss'. Explicitly set eval_metric if you'd like to restore the old behavior.\n",
      "XGBoost Accuracy Score: 0.9272951324707333\n",
      "F1 Score: 0.549618320610687\n",
      "Recall Score for XGBoost: 0.46153846153846156\n",
      "ROC-AUC Score for XGBoost: 0.7191809553772744\n"
     ]
    },
    {
     "data": {
      "image/png": "[encoded data removed]",
      "text/plain": [
       "<Figure size 432x288 with 2 Axes>"
      ]
     },
     "metadata": {
      "needs_background": "light"
     },
     "output_type": "display_data"
    }
   ],
   "source": [
    "#XGB\n",
    "xgb= XGBClassifier()\n",
    "xgb.fit(X_train, y_train)\n",
    "y_pred = xgb.predict(X_test)\n",
    "print(f'XGBoost Accuracy Score: {accuracy_score(y_test,y_pred)}')\n",
    "print('F1 Score: {}'.format(f1_score(y_test, y_pred)))\n",
    "print('Recall Score for XGBoost: {}'.format(recall_score(y_test, y_pred)))\n",
    "print('ROC-AUC Score for XGBoost: {}'.format(roc_auc_score(y_test, y_pred)))\n",
    "conf_mat(y_test, y_pred)"
   ]
  },
  {
   "cell_type": "code",
   "execution_count": 68,
   "metadata": {},
   "outputs": [
    {
     "name": "stderr",
     "output_type": "stream",
     "text": [
      "/Applications/anaconda3/lib/python3.7/site-packages/xgboost/sklearn.py:1146: UserWarning: The use of label encoder in XGBClassifier is deprecated and will be removed in a future release. To remove this warning, do the following: 1) Pass option use_label_encoder=False when constructing XGBClassifier object; and 2) Encode your labels (y) as integers starting with 0, i.e. 0, 1, 2, ..., [num_class - 1].\n",
      "  warnings.warn(label_encoder_deprecation_msg, UserWarning)\n"
     ]
    },
    {
     "name": "stdout",
     "output_type": "stream",
     "text": [
      "[18:43:58] WARNING: /Users/travis/build/dmlc/xgboost/src/learner.cc:1095: Starting in XGBoost 1.3.0, the default evaluation metric used with the objective 'binary:logistic' was changed from 'error' to 'logloss'. Explicitly set eval_metric if you'd like to restore the old behavior.\n",
      "XGBoost Accuracy Score: 0.9484098939929329\n",
      "XGBoost F1 Score: 0.7265917602996255\n",
      "Recall Score for XGBoost: 0.6783216783216783\n",
      "ROC-AUC Score for XGBoost: 0.8285476316136693\n"
     ]
    },
    {
     "data": {
      "image/png": "[encoded data removed]",
      "text/plain": [
       "<Figure size 432x288 with 2 Axes>"
      ]
     },
     "metadata": {
      "needs_background": "light"
     },
     "output_type": "display_data"
    }
   ],
   "source": [
    "xgb2= XGBClassifier()\n",
    "xgb2.fit(X_train_en, y_train_en)\n",
    "y_pred_en = xgb2.predict(X_test_en)\n",
    "print(f'XGBoost Accuracy Score: {accuracy_score(y_test_en,y_pred_en)}')\n",
    "print('XGBoost F1 Score: {}'.format(f1_score(y_test_en, y_pred_en)))\n",
    "print('Recall Score for XGBoost: {}'.format(recall_score(y_test_en, y_pred_en)))\n",
    "print('ROC-AUC Score for XGBoost: {}'.format(roc_auc_score(y_test_en, y_pred_en)))\n",
    "conf_mat(y_test_en, y_pred_en)"
   ]
  },
  {
   "cell_type": "code",
   "execution_count": 69,
   "metadata": {},
   "outputs": [
    {
     "data": {
      "text/html": [
       "<div>\n",
       "<style scoped>\n",
       "    .dataframe tbody tr th:only-of-type {\n",
       "        vertical-align: middle;\n",
       "    }\n",
       "\n",
       "    .dataframe tbody tr th {\n",
       "        vertical-align: top;\n",
       "    }\n",
       "\n",
       "    .dataframe thead th {\n",
       "        text-align: right;\n",
       "    }\n",
       "</style>\n",
       "<table border=\"1\" class=\"dataframe\">\n",
       "  <thead>\n",
       "    <tr style=\"text-align: right;\">\n",
       "      <th></th>\n",
       "      <th>feature</th>\n",
       "      <th>coef</th>\n",
       "    </tr>\n",
       "  </thead>\n",
       "  <tbody>\n",
       "    <tr>\n",
       "      <th>20</th>\n",
       "      <td>diag_grp</td>\n",
       "      <td>0.369392</td>\n",
       "    </tr>\n",
       "    <tr>\n",
       "      <th>28</th>\n",
       "      <td>diag_2720</td>\n",
       "      <td>0.050401</td>\n",
       "    </tr>\n",
       "    <tr>\n",
       "      <th>27</th>\n",
       "      <td>diag_V5861</td>\n",
       "      <td>0.039613</td>\n",
       "    </tr>\n",
       "    <tr>\n",
       "      <th>42</th>\n",
       "      <td>duplicate_claims</td>\n",
       "      <td>0.039535</td>\n",
       "    </tr>\n",
       "    <tr>\n",
       "      <th>36</th>\n",
       "      <td>proc_3893</td>\n",
       "      <td>0.020485</td>\n",
       "    </tr>\n",
       "    <tr>\n",
       "      <th>43</th>\n",
       "      <td>totalamount_charged</td>\n",
       "      <td>0.019779</td>\n",
       "    </tr>\n",
       "    <tr>\n",
       "      <th>41</th>\n",
       "      <td>patient_duplicate_count</td>\n",
       "      <td>0.018588</td>\n",
       "    </tr>\n",
       "    <tr>\n",
       "      <th>26</th>\n",
       "      <td>diag_42731</td>\n",
       "      <td>0.018328</td>\n",
       "    </tr>\n",
       "    <tr>\n",
       "      <th>5</th>\n",
       "      <td>Male</td>\n",
       "      <td>0.018035</td>\n",
       "    </tr>\n",
       "    <tr>\n",
       "      <th>24</th>\n",
       "      <td>diag_V5869</td>\n",
       "      <td>0.017364</td>\n",
       "    </tr>\n",
       "    <tr>\n",
       "      <th>39</th>\n",
       "      <td>proc_3722</td>\n",
       "      <td>0.017140</td>\n",
       "    </tr>\n",
       "    <tr>\n",
       "      <th>0</th>\n",
       "      <td>patient_count</td>\n",
       "      <td>0.016369</td>\n",
       "    </tr>\n",
       "    <tr>\n",
       "      <th>13</th>\n",
       "      <td>InscClaimAmtReimbursed</td>\n",
       "      <td>0.016319</td>\n",
       "    </tr>\n",
       "    <tr>\n",
       "      <th>46</th>\n",
       "      <td>coverage</td>\n",
       "      <td>0.015753</td>\n",
       "    </tr>\n",
       "    <tr>\n",
       "      <th>10</th>\n",
       "      <td>no_phy</td>\n",
       "      <td>0.014825</td>\n",
       "    </tr>\n",
       "  </tbody>\n",
       "</table>\n",
       "</div>"
      ],
      "text/plain": [
       "                    feature      coef\n",
       "20                 diag_grp  0.369392\n",
       "28                diag_2720  0.050401\n",
       "27               diag_V5861  0.039613\n",
       "42         duplicate_claims  0.039535\n",
       "36                proc_3893  0.020485\n",
       "43      totalamount_charged  0.019779\n",
       "41  patient_duplicate_count  0.018588\n",
       "26               diag_42731  0.018328\n",
       "5                      Male  0.018035\n",
       "24               diag_V5869  0.017364\n",
       "39                proc_3722  0.017140\n",
       "0             patient_count  0.016369\n",
       "13   InscClaimAmtReimbursed  0.016319\n",
       "46                 coverage  0.015753\n",
       "10                   no_phy  0.014825"
      ]
     },
     "execution_count": 69,
     "metadata": {},
     "output_type": "execute_result"
    }
   ],
   "source": [
    "pd.DataFrame(zip(x.columns, list(xgb2.feature_importances_)), columns=['feature', 'coef'])\\\n",
    "            .sort_values('coef', ascending=False).head(15)"
   ]
  },
  {
   "cell_type": "code",
   "execution_count": 82,
   "metadata": {},
   "outputs": [],
   "source": [
    "XGB = pd.DataFrame(zip(x.columns, list(xgb2.feature_importances_)), columns=['feature_XGB', 'coef_XGB'])\\\n",
    "            .sort_values('coef_XGB', ascending=False).head(15)"
   ]
  },
  {
   "cell_type": "code",
   "execution_count": 70,
   "metadata": {},
   "outputs": [
    {
     "name": "stdout",
     "output_type": "stream",
     "text": [
      "GaussianNB Accuracy Score: 0.9222614840989399\n",
      "GaussianNB F1 Score: 0.6686746987951807\n",
      "Recall Score for GaussianNB: 0.7762237762237763\n",
      "ROC-AUC Score for GaussianNB: 0.8574515107533975\n"
     ]
    },
    {
     "data": {
      "image/png": "[encoded data removed]",
      "text/plain": [
       "<Figure size 432x288 with 2 Axes>"
      ]
     },
     "metadata": {
      "needs_background": "light"
     },
     "output_type": "display_data"
    }
   ],
   "source": [
    "from sklearn.naive_bayes import GaussianNB\n",
    "gnb = GaussianNB()\n",
    "gnb.fit(X_train_en, y_train_en)\n",
    "y_pred_en = gnb.predict(X_test_en)\n",
    "print(f'GaussianNB Accuracy Score: {accuracy_score(y_test_en,y_pred_en)}')\n",
    "print('GaussianNB F1 Score: {}'.format(f1_score(y_test_en, y_pred_en)))\n",
    "print('Recall Score for GaussianNB: {}'.format(recall_score(y_test_en, y_pred_en)))\n",
    "print('ROC-AUC Score for GaussianNB: {}'.format(roc_auc_score(y_test_en, y_pred_en)))\n",
    "conf_mat(y_test_en, y_pred_en)"
   ]
  },
  {
   "cell_type": "code",
   "execution_count": 76,
   "metadata": {},
   "outputs": [],
   "source": [
    "results = pd.DataFrame({'Model' : ['Ridge', 'Lasso', 'SVC', 'Random Forest', 'XGBoost', 'Naive Bayes'],\n",
    "                         'Accuracy' : [0.95,0.94, 0.94, 0.94, 0.94, 0.92],\n",
    "                         'F1' : [0.71, 0.71, 0.69, 0.71, 0.72, 0.60],\n",
    "                         'Recall' : [0.62, 0.62, 0.60, 0.62, 0.67, 0.77], \n",
    "                         'ROC-AUC' : [0.80, 0.80, 0.79, 0.80, 0.82, 0.85]})"
   ]
  },
  {
   "cell_type": "code",
   "execution_count": 78,
   "metadata": {},
   "outputs": [
    {
     "data": {
      "text/html": [
       "<div>\n",
       "<style scoped>\n",
       "    .dataframe tbody tr th:only-of-type {\n",
       "        vertical-align: middle;\n",
       "    }\n",
       "\n",
       "    .dataframe tbody tr th {\n",
       "        vertical-align: top;\n",
       "    }\n",
       "\n",
       "    .dataframe thead th {\n",
       "        text-align: right;\n",
       "    }\n",
       "</style>\n",
       "<table border=\"1\" class=\"dataframe\">\n",
       "  <thead>\n",
       "    <tr style=\"text-align: right;\">\n",
       "      <th></th>\n",
       "      <th>Model</th>\n",
       "      <th>Accuracy</th>\n",
       "      <th>F1</th>\n",
       "      <th>Recall</th>\n",
       "      <th>ROC-AUC</th>\n",
       "    </tr>\n",
       "  </thead>\n",
       "  <tbody>\n",
       "    <tr>\n",
       "      <th>0</th>\n",
       "      <td>Ridge</td>\n",
       "      <td>0.95</td>\n",
       "      <td>0.71</td>\n",
       "      <td>0.62</td>\n",
       "      <td>0.80</td>\n",
       "    </tr>\n",
       "    <tr>\n",
       "      <th>1</th>\n",
       "      <td>Lasso</td>\n",
       "      <td>0.94</td>\n",
       "      <td>0.71</td>\n",
       "      <td>0.62</td>\n",
       "      <td>0.80</td>\n",
       "    </tr>\n",
       "    <tr>\n",
       "      <th>2</th>\n",
       "      <td>SVC</td>\n",
       "      <td>0.94</td>\n",
       "      <td>0.69</td>\n",
       "      <td>0.60</td>\n",
       "      <td>0.79</td>\n",
       "    </tr>\n",
       "    <tr>\n",
       "      <th>3</th>\n",
       "      <td>Random Forest</td>\n",
       "      <td>0.94</td>\n",
       "      <td>0.71</td>\n",
       "      <td>0.62</td>\n",
       "      <td>0.80</td>\n",
       "    </tr>\n",
       "    <tr>\n",
       "      <th>4</th>\n",
       "      <td>XGBoost</td>\n",
       "      <td>0.94</td>\n",
       "      <td>0.72</td>\n",
       "      <td>0.67</td>\n",
       "      <td>0.82</td>\n",
       "    </tr>\n",
       "    <tr>\n",
       "      <th>5</th>\n",
       "      <td>Naive Bayes</td>\n",
       "      <td>0.92</td>\n",
       "      <td>0.60</td>\n",
       "      <td>0.77</td>\n",
       "      <td>0.85</td>\n",
       "    </tr>\n",
       "  </tbody>\n",
       "</table>\n",
       "</div>"
      ],
      "text/plain": [
       "           Model  Accuracy    F1  Recall  ROC-AUC\n",
       "0          Ridge      0.95  0.71    0.62     0.80\n",
       "1          Lasso      0.94  0.71    0.62     0.80\n",
       "2            SVC      0.94  0.69    0.60     0.79\n",
       "3  Random Forest      0.94  0.71    0.62     0.80\n",
       "4        XGBoost      0.94  0.72    0.67     0.82\n",
       "5    Naive Bayes      0.92  0.60    0.77     0.85"
      ]
     },
     "execution_count": 78,
     "metadata": {},
     "output_type": "execute_result"
    }
   ],
   "source": [
    "results"
   ]
  },
  {
   "cell_type": "code",
   "execution_count": 85,
   "metadata": {},
   "outputs": [],
   "source": [
    "from sklearn.ensemble import GradientBoostingClassifier"
   ]
  },
  {
   "cell_type": "code",
   "execution_count": 87,
   "metadata": {},
   "outputs": [
    {
     "name": "stdout",
     "output_type": "stream",
     "text": [
      "Gradient Boost Accuracy Score: 0.9547703180212014\n",
      "Gradient Boost F1 Score: 0.7611940298507462\n",
      "Recall Score for Gradient Boost: 0.7132867132867133\n",
      "ROC-AUC Score for Gradient Boost: 0.847602476140212\n"
     ]
    },
    {
     "data": {
      "image/png": "[encoded data removed]",
      "text/plain": [
       "<Figure size 432x288 with 2 Axes>"
      ]
     },
     "metadata": {
      "needs_background": "light"
     },
     "output_type": "display_data"
    }
   ],
   "source": [
    "clf = GradientBoostingClassifier()\n",
    "clf.fit(X_train_en, y_train_en)\n",
    "y_pred_en = clf.predict(X_test_en)\n",
    "print(f'Gradient Boost Accuracy Score: {accuracy_score(y_test_en,y_pred_en)}')\n",
    "print('Gradient Boost F1 Score: {}'.format(f1_score(y_test_en, y_pred_en)))\n",
    "print('Recall Score for Gradient Boost: {}'.format(recall_score(y_test_en, y_pred_en)))\n",
    "print('ROC-AUC Score for Gradient Boost: {}'.format(roc_auc_score(y_test_en, y_pred_en)))\n",
    "conf_mat(y_test_en, y_pred_en)"
   ]
  },
  {
   "cell_type": "code",
   "execution_count": 91,
   "metadata": {},
   "outputs": [
    {
     "data": {
      "text/html": [
       "<div>\n",
       "<style scoped>\n",
       "    .dataframe tbody tr th:only-of-type {\n",
       "        vertical-align: middle;\n",
       "    }\n",
       "\n",
       "    .dataframe tbody tr th {\n",
       "        vertical-align: top;\n",
       "    }\n",
       "\n",
       "    .dataframe thead th {\n",
       "        text-align: right;\n",
       "    }\n",
       "</style>\n",
       "<table border=\"1\" class=\"dataframe\">\n",
       "  <thead>\n",
       "    <tr style=\"text-align: right;\">\n",
       "      <th></th>\n",
       "      <th>feature</th>\n",
       "      <th>coef</th>\n",
       "    </tr>\n",
       "  </thead>\n",
       "  <tbody>\n",
       "    <tr>\n",
       "      <th>20</th>\n",
       "      <td>diag_grp</td>\n",
       "      <td>0.620609</td>\n",
       "    </tr>\n",
       "    <tr>\n",
       "      <th>42</th>\n",
       "      <td>duplicate_claims</td>\n",
       "      <td>0.050214</td>\n",
       "    </tr>\n",
       "    <tr>\n",
       "      <th>28</th>\n",
       "      <td>diag_2720</td>\n",
       "      <td>0.042553</td>\n",
       "    </tr>\n",
       "    <tr>\n",
       "      <th>27</th>\n",
       "      <td>diag_V5861</td>\n",
       "      <td>0.032499</td>\n",
       "    </tr>\n",
       "    <tr>\n",
       "      <th>13</th>\n",
       "      <td>InscClaimAmtReimbursed</td>\n",
       "      <td>0.024337</td>\n",
       "    </tr>\n",
       "    <tr>\n",
       "      <th>15</th>\n",
       "      <td>IPAnnualReimbursementAmt</td>\n",
       "      <td>0.020614</td>\n",
       "    </tr>\n",
       "    <tr>\n",
       "      <th>24</th>\n",
       "      <td>diag_V5869</td>\n",
       "      <td>0.017445</td>\n",
       "    </tr>\n",
       "    <tr>\n",
       "      <th>44</th>\n",
       "      <td>revenue_day</td>\n",
       "      <td>0.015982</td>\n",
       "    </tr>\n",
       "    <tr>\n",
       "      <th>43</th>\n",
       "      <td>totalamount_charged</td>\n",
       "      <td>0.015149</td>\n",
       "    </tr>\n",
       "    <tr>\n",
       "      <th>22</th>\n",
       "      <td>diag_25000</td>\n",
       "      <td>0.014781</td>\n",
       "    </tr>\n",
       "    <tr>\n",
       "      <th>14</th>\n",
       "      <td>DeductibleAmtPaid</td>\n",
       "      <td>0.013072</td>\n",
       "    </tr>\n",
       "    <tr>\n",
       "      <th>17</th>\n",
       "      <td>OPAnnualReimbursementAmt</td>\n",
       "      <td>0.011799</td>\n",
       "    </tr>\n",
       "    <tr>\n",
       "      <th>16</th>\n",
       "      <td>IPAnnualDeductibleAmt</td>\n",
       "      <td>0.011620</td>\n",
       "    </tr>\n",
       "    <tr>\n",
       "      <th>41</th>\n",
       "      <td>patient_duplicate_count</td>\n",
       "      <td>0.011373</td>\n",
       "    </tr>\n",
       "    <tr>\n",
       "      <th>46</th>\n",
       "      <td>coverage</td>\n",
       "      <td>0.008914</td>\n",
       "    </tr>\n",
       "  </tbody>\n",
       "</table>\n",
       "</div>"
      ],
      "text/plain": [
       "                     feature      coef\n",
       "20                  diag_grp  0.620609\n",
       "42          duplicate_claims  0.050214\n",
       "28                 diag_2720  0.042553\n",
       "27                diag_V5861  0.032499\n",
       "13    InscClaimAmtReimbursed  0.024337\n",
       "15  IPAnnualReimbursementAmt  0.020614\n",
       "24                diag_V5869  0.017445\n",
       "44               revenue_day  0.015982\n",
       "43       totalamount_charged  0.015149\n",
       "22                diag_25000  0.014781\n",
       "14         DeductibleAmtPaid  0.013072\n",
       "17  OPAnnualReimbursementAmt  0.011799\n",
       "16     IPAnnualDeductibleAmt  0.011620\n",
       "41   patient_duplicate_count  0.011373\n",
       "46                  coverage  0.008914"
      ]
     },
     "execution_count": 91,
     "metadata": {},
     "output_type": "execute_result"
    }
   ],
   "source": [
    "pd.DataFrame(zip(x.columns, list(clf.feature_importances_)), columns=['feature', 'coef'])\\\n",
    "            .sort_values('coef', ascending=False).head(15)"
   ]
  },
  {
   "cell_type": "code",
   "execution_count": 92,
   "metadata": {},
   "outputs": [],
   "source": [
    "provider.to_csv('provider3.csv')"
   ]
  },
  {
   "cell_type": "code",
   "execution_count": 98,
   "metadata": {},
   "outputs": [],
   "source": [
    "from sklearn.metrics import recall_score, precision_score, mean_squared_log_error, mean_squared_error,confusion_matrix,\\\n",
    "        roc_auc_score, f1_score, plot_roc_curve, roc_curve, RocCurveDisplay, auc, precision_recall_curve,\\\n",
    "        fbeta_score, make_scorer\n",
    "from sklearn.model_selection import cross_validate, StratifiedKFold, train_test_split, cross_val_predict, GridSearchCV\n",
    "from sklearn.pipeline import Pipeline\n",
    "from sklearn.svm import LinearSVC\n",
    "from sklearn.neighbors import KNeighborsClassifier\n",
    "from sklearn.preprocessing import StandardScaler\n",
    "from sklearn.linear_model import LogisticRegressionCV, LogisticRegression, SGDClassifier\n",
    "from sklearn.ensemble import BaggingClassifier, ExtraTreesClassifier, RandomForestClassifier,GradientBoostingClassifier\n",
    "from sklearn.discriminant_analysis import LinearDiscriminantAnalysis\n",
    "from sklearn.naive_bayes import GaussianNB\n",
    "from xgboost import XGBClassifier\n"
   ]
  },
  {
   "cell_type": "code",
   "execution_count": 252,
   "metadata": {},
   "outputs": [],
   "source": [
    "def evaluate_model(X_train, X_test, y_train, y_test):\n",
    "    classifiers = [LogisticRegression(penalty='l1', solver='liblinear'),\n",
    "                   LinearSVC(),GaussianNB(),LinearDiscriminantAnalysis(),RandomForestClassifier(),\n",
    "                   GradientBoostingClassifier(),XGBClassifier()]\n",
    "    \n",
    "    for classifier in classifiers:\n",
    "    \n",
    "        model = Pipeline(steps = [('classifier', classifier)])\n",
    "    \n",
    "        model.fit(X_train, y_train)\n",
    "        \n",
    "        predicted_train = model.predict(X_train)\n",
    "        predicted_test = model.predict(X_test)\n",
    "    \n",
    "    \n",
    "        print(type(classifier).__name__)\n",
    "        #print('Accuracy Score for train data: {:.3f}'.format(accuracy_score(y_train, predicted_train)))\n",
    "        print('Accuracy Score for test data: {:.3f}'.format(accuracy_score(y_test, predicted_test)))\n",
    "        #print('Recall Score for train data {:.3f}'.format(recall_score(y_train, predicted_train)))\n",
    "        print('Recall Score for test data {:.3f}'.format(recall_score(y_test, predicted_test)))\n",
    "        #print('fbeta0.2_score for train data{:.3f}'.format(fbeta_score(y_train, predicted_train, beta = 2)))\n",
    "        print('fbeta0.2_score for test data{:.3f}'.format(fbeta_score(y_test, predicted_test, beta = 2)))\n",
    "        #print('ROC-AUC Score for train data: {:.3f}'.format(roc_auc_score(y_train, predicted_train)))\n",
    "        print('ROC-AUC Score for test data: {:.3f}'.format(roc_auc_score(y_test, predicted_test)))\n",
    "        #print('Confusion matrix for train data')\n",
    "        #print(confusion_matrix(y_train, predicted_train))\n",
    "        print('Confusion matrix for test data')\n",
    "        print(confusion_matrix(y_test, predicted_test))\n",
    "        print('-' *50)\n"
   ]
  },
  {
   "cell_type": "code",
   "execution_count": 126,
   "metadata": {},
   "outputs": [
    {
     "name": "stdout",
     "output_type": "stream",
     "text": [
      "LogisticRegression\n",
      "Accuracy Score for test data: 0.949\n",
      "Recall Score for test data 0.636\n",
      "fbeta0.2_score for test data0.666\n",
      "ROC-AUC Score for test data: 0.810\n",
      "Confusion matrix for test data\n",
      "[[1252   20]\n",
      " [  52   91]]\n",
      "--------------------------------------------------\n",
      "LogisticRegressionCV\n",
      "Accuracy Score for test data: 0.950\n",
      "Recall Score for test data 0.622\n",
      "fbeta0.2_score for test data0.656\n",
      "ROC-AUC Score for test data: 0.805\n",
      "Confusion matrix for test data\n",
      "[[1255   17]\n",
      " [  54   89]]\n",
      "--------------------------------------------------\n"
     ]
    },
    {
     "name": "stderr",
     "output_type": "stream",
     "text": [
      "/Applications/anaconda3/lib/python3.7/site-packages/sklearn/svm/_base.py:947: ConvergenceWarning: Liblinear failed to converge, increase the number of iterations.\n",
      "  \"the number of iterations.\", ConvergenceWarning)\n"
     ]
    },
    {
     "name": "stdout",
     "output_type": "stream",
     "text": [
      "LinearSVC\n",
      "Accuracy Score for test data: 0.951\n",
      "Recall Score for test data 0.622\n",
      "fbeta0.2_score for test data0.657\n",
      "ROC-AUC Score for test data: 0.805\n",
      "Confusion matrix for test data\n",
      "[[1256   16]\n",
      " [  54   89]]\n",
      "--------------------------------------------------\n",
      "GaussianNB\n",
      "Accuracy Score for test data: 0.922\n",
      "Recall Score for test data 0.776\n",
      "fbeta0.2_score for test data0.729\n",
      "ROC-AUC Score for test data: 0.857\n",
      "Confusion matrix for test data\n",
      "[[1194   78]\n",
      " [  32  111]]\n",
      "--------------------------------------------------\n",
      "LinearDiscriminantAnalysis\n",
      "Accuracy Score for test data: 0.945\n",
      "Recall Score for test data 0.594\n",
      "fbeta0.2_score for test data0.628\n",
      "ROC-AUC Score for test data: 0.789\n",
      "Confusion matrix for test data\n",
      "[[1252   20]\n",
      " [  58   85]]\n",
      "--------------------------------------------------\n",
      "RandomForestClassifier\n",
      "Accuracy Score for test data: 0.951\n",
      "Recall Score for test data 0.657\n",
      "fbeta0.2_score for test data0.685\n",
      "ROC-AUC Score for test data: 0.821\n",
      "Confusion matrix for test data\n",
      "[[1252   20]\n",
      " [  49   94]]\n",
      "--------------------------------------------------\n",
      "GradientBoostingClassifier\n",
      "Accuracy Score for test data: 0.953\n",
      "Recall Score for test data 0.713\n",
      "fbeta0.2_score for test data0.730\n",
      "ROC-AUC Score for test data: 0.847\n",
      "Confusion matrix for test data\n",
      "[[1247   25]\n",
      " [  41  102]]\n",
      "--------------------------------------------------\n",
      "[12:13:31] WARNING: /Users/travis/build/dmlc/xgboost/src/learner.cc:1095: Starting in XGBoost 1.3.0, the default evaluation metric used with the objective 'binary:logistic' was changed from 'error' to 'logloss'. Explicitly set eval_metric if you'd like to restore the old behavior.\n"
     ]
    },
    {
     "name": "stderr",
     "output_type": "stream",
     "text": [
      "/Applications/anaconda3/lib/python3.7/site-packages/xgboost/sklearn.py:1146: UserWarning: The use of label encoder in XGBClassifier is deprecated and will be removed in a future release. To remove this warning, do the following: 1) Pass option use_label_encoder=False when constructing XGBClassifier object; and 2) Encode your labels (y) as integers starting with 0, i.e. 0, 1, 2, ..., [num_class - 1].\n",
      "  warnings.warn(label_encoder_deprecation_msg, UserWarning)\n"
     ]
    },
    {
     "name": "stdout",
     "output_type": "stream",
     "text": [
      "XGBClassifier\n",
      "Accuracy Score for test data: 0.948\n",
      "Recall Score for test data 0.678\n",
      "fbeta0.2_score for test data0.697\n",
      "ROC-AUC Score for test data: 0.829\n",
      "Confusion matrix for test data\n",
      "[[1245   27]\n",
      " [  46   97]]\n",
      "--------------------------------------------------\n",
      "None\n"
     ]
    }
   ],
   "source": [
    "print(evaluate_model(X_train_en, X_test_en, y_train_en, y_test_en))"
   ]
  },
  {
   "cell_type": "code",
   "execution_count": null,
   "metadata": {},
   "outputs": [],
   "source": [
    "print(evaluate_model(X_train_en, X_test_en, y_train_en, y_test_en))"
   ]
  },
  {
   "cell_type": "code",
   "execution_count": 131,
   "metadata": {},
   "outputs": [
    {
     "data": {
      "text/plain": [
       "LogisticRegression(C=1.0, class_weight=None, dual=False, fit_intercept=True,\n",
       "                   intercept_scaling=1, l1_ratio=None, max_iter=100,\n",
       "                   multi_class='auto', n_jobs=None, penalty='l2',\n",
       "                   random_state=None, solver='lbfgs', tol=0.0001, verbose=0,\n",
       "                   warm_start=False)"
      ]
     },
     "execution_count": 131,
     "metadata": {},
     "output_type": "execute_result"
    }
   ],
   "source": [
    "lm = LogisticRegression()\n",
    "lm.fit(X_train_en, y_train_en)"
   ]
  },
  {
   "cell_type": "code",
   "execution_count": 155,
   "metadata": {},
   "outputs": [],
   "source": [
    "coefs_lasso = abs(lm.coef_)\n",
    "lasso_top15_features = pd.DataFrame(zip(x.columns, np.transpose(coefs_lasso.tolist()[0])), columns=['feature', 'coef'])\\\n",
    "            .sort_values('coef', ascending=False).head(15)"
   ]
  },
  {
   "cell_type": "code",
   "execution_count": 134,
   "metadata": {},
   "outputs": [
    {
     "data": {
      "text/plain": [
       "RandomForestClassifier(bootstrap=True, ccp_alpha=0.0, class_weight=None,\n",
       "                       criterion='gini', max_depth=None, max_features='auto',\n",
       "                       max_leaf_nodes=None, max_samples=None,\n",
       "                       min_impurity_decrease=0.0, min_impurity_split=None,\n",
       "                       min_samples_leaf=1, min_samples_split=2,\n",
       "                       min_weight_fraction_leaf=0.0, n_estimators=100,\n",
       "                       n_jobs=None, oob_score=False, random_state=None,\n",
       "                       verbose=0, warm_start=False)"
      ]
     },
     "execution_count": 134,
     "metadata": {},
     "output_type": "execute_result"
    }
   ],
   "source": [
    "RF = RandomForestClassifier()\n",
    "RF.fit(X_train_en, y_train_en)"
   ]
  },
  {
   "cell_type": "code",
   "execution_count": 144,
   "metadata": {},
   "outputs": [],
   "source": [
    "RF_top15_features = pd.DataFrame(zip(x.columns, list(RF.feature_importances_)), columns=['feature', 'coef'])\\\n",
    "            .sort_values('coef', ascending=False).head(15)"
   ]
  },
  {
   "cell_type": "code",
   "execution_count": 138,
   "metadata": {},
   "outputs": [
    {
     "data": {
      "text/plain": [
       "GradientBoostingClassifier(ccp_alpha=0.0, criterion='friedman_mse', init=None,\n",
       "                           learning_rate=0.1, loss='deviance', max_depth=3,\n",
       "                           max_features=None, max_leaf_nodes=None,\n",
       "                           min_impurity_decrease=0.0, min_impurity_split=None,\n",
       "                           min_samples_leaf=1, min_samples_split=2,\n",
       "                           min_weight_fraction_leaf=0.0, n_estimators=100,\n",
       "                           n_iter_no_change=None, presort='deprecated',\n",
       "                           random_state=None, subsample=1.0, tol=0.0001,\n",
       "                           validation_fraction=0.1, verbose=0,\n",
       "                           warm_start=False)"
      ]
     },
     "execution_count": 138,
     "metadata": {},
     "output_type": "execute_result"
    }
   ],
   "source": [
    "clf = GradientBoostingClassifier()\n",
    "clf.fit(X_train_en, y_train_en)"
   ]
  },
  {
   "cell_type": "code",
   "execution_count": 145,
   "metadata": {},
   "outputs": [],
   "source": [
    "GradBoo_top15_features = pd.DataFrame(zip(x.columns, list(clf.feature_importances_)), columns=['feature', 'coef'])\\\n",
    "            .sort_values('coef', ascending=False).head(15)"
   ]
  },
  {
   "cell_type": "code",
   "execution_count": 149,
   "metadata": {},
   "outputs": [
    {
     "name": "stderr",
     "output_type": "stream",
     "text": [
      "/Applications/anaconda3/lib/python3.7/site-packages/xgboost/sklearn.py:1146: UserWarning: The use of label encoder in XGBClassifier is deprecated and will be removed in a future release. To remove this warning, do the following: 1) Pass option use_label_encoder=False when constructing XGBClassifier object; and 2) Encode your labels (y) as integers starting with 0, i.e. 0, 1, 2, ..., [num_class - 1].\n",
      "  warnings.warn(label_encoder_deprecation_msg, UserWarning)\n"
     ]
    },
    {
     "name": "stdout",
     "output_type": "stream",
     "text": [
      "[13:30:41] WARNING: /Users/travis/build/dmlc/xgboost/src/learner.cc:1095: Starting in XGBoost 1.3.0, the default evaluation metric used with the objective 'binary:logistic' was changed from 'error' to 'logloss'. Explicitly set eval_metric if you'd like to restore the old behavior.\n"
     ]
    },
    {
     "data": {
      "text/plain": [
       "XGBClassifier(base_score=0.5, booster='gbtree', colsample_bylevel=1,\n",
       "              colsample_bynode=1, colsample_bytree=1, gamma=0, gpu_id=-1,\n",
       "              importance_type='gain', interaction_constraints='',\n",
       "              learning_rate=0.300000012, max_delta_step=0, max_depth=6,\n",
       "              min_child_weight=1, missing=nan, monotone_constraints='()',\n",
       "              n_estimators=100, n_jobs=4, num_parallel_tree=1,\n",
       "              objective='binary:logistic', random_state=0, reg_alpha=0,\n",
       "              reg_lambda=1, scale_pos_weight=1, subsample=1,\n",
       "              tree_method='exact', use_label_encoder=True,\n",
       "              validate_parameters=1, verbosity=None)"
      ]
     },
     "execution_count": 149,
     "metadata": {},
     "output_type": "execute_result"
    }
   ],
   "source": [
    "xgb = XGBClassifier()\n",
    "xgb.fit(X_train_en, y_train_en)"
   ]
  },
  {
   "cell_type": "code",
   "execution_count": 150,
   "metadata": {},
   "outputs": [],
   "source": [
    "XGB_top15_features = pd.DataFrame(zip(x.columns, list(xgb.feature_importances_)), columns=['feature', 'coef'])\\\n",
    "            .sort_values('coef', ascending=False).head(15)"
   ]
  },
  {
   "cell_type": "code",
   "execution_count": 156,
   "metadata": {},
   "outputs": [
    {
     "data": {
      "text/plain": [
       "Text(0, 0.5, '')"
      ]
     },
     "execution_count": 156,
     "metadata": {},
     "output_type": "execute_result"
    },
    {
     "data": {
      "image/png": "[encoded data removed]",
      "text/plain": [
       "<Figure size 864x576 with 1 Axes>"
      ]
     },
     "metadata": {
      "needs_background": "light"
     },
     "output_type": "display_data"
    }
   ],
   "source": [
    "plt.rcParams['figure.figsize'] = (12,8)\n",
    "ax = sns.barplot(x=\"coef\", y=\"feature\", data=lasso_top15_features,palette=\"magma\" )\n",
    "ax.set_title('Important feature by Lasso Model')\n",
    "ax.set_xlabel('Features Importance')\n",
    "ax.set_ylabel('')"
   ]
  },
  {
   "cell_type": "code",
   "execution_count": 154,
   "metadata": {},
   "outputs": [
    {
     "data": {
      "text/plain": [
       "Text(0, 0.5, '')"
      ]
     },
     "execution_count": 154,
     "metadata": {},
     "output_type": "execute_result"
    },
    {
     "data": {
      "image/png": "[encoded data removed]",
      "text/plain": [
       "<Figure size 864x576 with 1 Axes>"
      ]
     },
     "metadata": {
      "needs_background": "light"
     },
     "output_type": "display_data"
    }
   ],
   "source": [
    "ax = sns.barplot(x=\"coef\", y=\"feature\", data=RF_top15_features)\n",
    "ax.set_title('Important feature by Random Forest Model')\n",
    "ax.set_xlabel('Features Importance')\n",
    "ax.set_ylabel('')"
   ]
  },
  {
   "cell_type": "code",
   "execution_count": 147,
   "metadata": {},
   "outputs": [
    {
     "data": {
      "text/plain": [
       "Text(0, 0.5, '')"
      ]
     },
     "execution_count": 147,
     "metadata": {},
     "output_type": "execute_result"
    },
    {
     "data": {
      "image/png": "[encoded data removed]",
      "text/plain": [
       "<Figure size 864x576 with 1 Axes>"
      ]
     },
     "metadata": {
      "needs_background": "light"
     },
     "output_type": "display_data"
    }
   ],
   "source": [
    "\n",
    "ax = sns.barplot(x=\"coef\", y=\"feature\", data=GradBoo_top15_features ,palette=\"crest\" )\n",
    "ax.set_title('Important feature by Gradient Boost Model')\n",
    "ax.set_xlabel('Features Importance')\n",
    "ax.set_ylabel('')"
   ]
  },
  {
   "cell_type": "code",
   "execution_count": 153,
   "metadata": {},
   "outputs": [
    {
     "data": {
      "text/plain": [
       "Text(0, 0.5, '')"
      ]
     },
     "execution_count": 153,
     "metadata": {},
     "output_type": "execute_result"
    },
    {
     "data": {
      "image/png": "[encoded data removed]",
      "text/plain": [
       "<Figure size 864x576 with 1 Axes>"
      ]
     },
     "metadata": {
      "needs_background": "light"
     },
     "output_type": "display_data"
    }
   ],
   "source": [
    "plt.rcParams['figure.figsize'] = (12,8)\n",
    "ax = sns.barplot(x=\"coef\", y=\"feature\", data=XGB_top15_features,palette=\"flare\" )\n",
    "ax.set_title('Important feature by XGBoost Model')\n",
    "ax.set_xlabel('Features Importance')\n",
    "ax.set_ylabel('')"
   ]
  },
  {
   "cell_type": "code",
   "execution_count": null,
   "metadata": {},
   "outputs": [],
   "source": [
    "selected_feature = lasso_selectedFeatures['Feature'].to_list()\n",
    "X_train_selFeat = X_train1[selected_feature]\n",
    "X_test_selFeat = X_test[selected_feature]"
   ]
  },
  {
   "cell_type": "markdown",
   "metadata": {},
   "source": [
    "## Stratified Grid search "
   ]
  },
  {
   "cell_type": "code",
   "execution_count": 177,
   "metadata": {},
   "outputs": [],
   "source": [
    "def evaluate_model_stratified(X_train, X_test, y_train, y_test):\n",
    "    classifiers = [LogisticRegression(penalty='l1', solver='liblinear'),LogisticRegressionCV(cv = 5, penalty='l1',solver='liblinear'),\n",
    "                   LinearSVC(),GaussianNB(),LinearDiscriminantAnalysis(),RandomForestClassifier(),\n",
    "                   GradientBoostingClassifier(),XGBClassifier()]\n",
    "    \n",
    "    for classifier in classifiers:\n",
    "        kfold = StratifiedKFold(n_splits = 5, shuffle = True, random_state= 1)\n",
    "        model = Pipeline(steps = [('classifier', classifier)])\n",
    "        str_cv= GridSearchCV(estimator= model, scoring='recall', cv=kfold, param_grid = {})\n",
    "        str_cv.fit(X_train, y_train)\n",
    "    \n",
    "        \n",
    "        \n",
    "        predicted_train = str_cv.predict(X_train)\n",
    "        predicted_test = str_cv.predict(X_test)\n",
    "    \n",
    "    \n",
    "        print(type(classifier).__name__)\n",
    "        #print('Accuracy Score for train data: {:.3f}'.format(accuracy_score(y_train, predicted_train)))\n",
    "        print('Accuracy Score for test data: {:.3f}'.format(accuracy_score(y_test, predicted_test)))\n",
    "        #print('Recall Score for train data {:.3f}'.format(recall_score(y_train, predicted_train)))\n",
    "        print('Recall Score for test data {:.3f}'.format(recall_score(y_test, predicted_test)))\n",
    "        #print('fbeta0.2_score for train data{:.3f}'.format(fbeta_score(y_train, predicted_train, beta = 2)))\n",
    "        print('fbeta0.2_score for test data{:.3f}'.format(fbeta_score(y_test, predicted_test, beta = 2)))\n",
    "        #print('ROC-AUC Score for train data: {:.3f}'.format(roc_auc_score(y_train, predicted_train)))\n",
    "        print('ROC-AUC Score for test data: {:.3f}'.format(roc_auc_score(y_test, predicted_test)))\n",
    "        #print('Confusion matrix for train data')\n",
    "        #print(confusion_matrix(y_train, predicted_train))\n",
    "        print('Confusion matrix for test data')\n",
    "        print(confusion_matrix(y_test, predicted_test))\n",
    "        print('-' *50)\n"
   ]
  },
  {
   "cell_type": "code",
   "execution_count": 178,
   "metadata": {},
   "outputs": [
    {
     "name": "stdout",
     "output_type": "stream",
     "text": [
      "LogisticRegression\n",
      "Accuracy Score for test data: 0.949\n",
      "Recall Score for test data 0.636\n",
      "fbeta0.2_score for test data0.666\n",
      "ROC-AUC Score for test data: 0.810\n",
      "Confusion matrix for test data\n",
      "[[1252   20]\n",
      " [  52   91]]\n",
      "--------------------------------------------------\n",
      "LogisticRegressionCV\n",
      "Accuracy Score for test data: 0.950\n",
      "Recall Score for test data 0.622\n",
      "fbeta0.2_score for test data0.656\n",
      "ROC-AUC Score for test data: 0.805\n",
      "Confusion matrix for test data\n",
      "[[1255   17]\n",
      " [  54   89]]\n",
      "--------------------------------------------------\n"
     ]
    },
    {
     "name": "stderr",
     "output_type": "stream",
     "text": [
      "/Applications/anaconda3/lib/python3.7/site-packages/sklearn/svm/_base.py:947: ConvergenceWarning: Liblinear failed to converge, increase the number of iterations.\n",
      "  \"the number of iterations.\", ConvergenceWarning)\n",
      "/Applications/anaconda3/lib/python3.7/site-packages/sklearn/svm/_base.py:947: ConvergenceWarning: Liblinear failed to converge, increase the number of iterations.\n",
      "  \"the number of iterations.\", ConvergenceWarning)\n",
      "/Applications/anaconda3/lib/python3.7/site-packages/sklearn/svm/_base.py:947: ConvergenceWarning: Liblinear failed to converge, increase the number of iterations.\n",
      "  \"the number of iterations.\", ConvergenceWarning)\n",
      "/Applications/anaconda3/lib/python3.7/site-packages/sklearn/svm/_base.py:947: ConvergenceWarning: Liblinear failed to converge, increase the number of iterations.\n",
      "  \"the number of iterations.\", ConvergenceWarning)\n",
      "/Applications/anaconda3/lib/python3.7/site-packages/sklearn/svm/_base.py:947: ConvergenceWarning: Liblinear failed to converge, increase the number of iterations.\n",
      "  \"the number of iterations.\", ConvergenceWarning)\n",
      "/Applications/anaconda3/lib/python3.7/site-packages/sklearn/svm/_base.py:947: ConvergenceWarning: Liblinear failed to converge, increase the number of iterations.\n",
      "  \"the number of iterations.\", ConvergenceWarning)\n"
     ]
    },
    {
     "name": "stdout",
     "output_type": "stream",
     "text": [
      "LinearSVC\n",
      "Accuracy Score for test data: 0.950\n",
      "Recall Score for test data 0.615\n",
      "fbeta0.2_score for test data0.651\n",
      "ROC-AUC Score for test data: 0.801\n",
      "Confusion matrix for test data\n",
      "[[1256   16]\n",
      " [  55   88]]\n",
      "--------------------------------------------------\n",
      "GaussianNB\n",
      "Accuracy Score for test data: 0.922\n",
      "Recall Score for test data 0.776\n",
      "fbeta0.2_score for test data0.729\n",
      "ROC-AUC Score for test data: 0.857\n",
      "Confusion matrix for test data\n",
      "[[1194   78]\n",
      " [  32  111]]\n",
      "--------------------------------------------------\n",
      "LinearDiscriminantAnalysis\n",
      "Accuracy Score for test data: 0.945\n",
      "Recall Score for test data 0.594\n",
      "fbeta0.2_score for test data0.628\n",
      "ROC-AUC Score for test data: 0.789\n",
      "Confusion matrix for test data\n",
      "[[1252   20]\n",
      " [  58   85]]\n",
      "--------------------------------------------------\n",
      "RandomForestClassifier\n",
      "Accuracy Score for test data: 0.952\n",
      "Recall Score for test data 0.664\n",
      "fbeta0.2_score for test data0.691\n",
      "ROC-AUC Score for test data: 0.824\n",
      "Confusion matrix for test data\n",
      "[[1252   20]\n",
      " [  48   95]]\n",
      "--------------------------------------------------\n",
      "GradientBoostingClassifier\n",
      "Accuracy Score for test data: 0.955\n",
      "Recall Score for test data 0.713\n",
      "fbeta0.2_score for test data0.732\n",
      "ROC-AUC Score for test data: 0.848\n",
      "Confusion matrix for test data\n",
      "[[1249   23]\n",
      " [  41  102]]\n",
      "--------------------------------------------------\n",
      "[14:47:10] WARNING: /Users/travis/build/dmlc/xgboost/src/learner.cc:1095: Starting in XGBoost 1.3.0, the default evaluation metric used with the objective 'binary:logistic' was changed from 'error' to 'logloss'. Explicitly set eval_metric if you'd like to restore the old behavior.\n"
     ]
    },
    {
     "name": "stderr",
     "output_type": "stream",
     "text": [
      "/Applications/anaconda3/lib/python3.7/site-packages/xgboost/sklearn.py:1146: UserWarning: The use of label encoder in XGBClassifier is deprecated and will be removed in a future release. To remove this warning, do the following: 1) Pass option use_label_encoder=False when constructing XGBClassifier object; and 2) Encode your labels (y) as integers starting with 0, i.e. 0, 1, 2, ..., [num_class - 1].\n",
      "  warnings.warn(label_encoder_deprecation_msg, UserWarning)\n"
     ]
    },
    {
     "name": "stdout",
     "output_type": "stream",
     "text": [
      "[14:47:10] WARNING: /Users/travis/build/dmlc/xgboost/src/learner.cc:1095: Starting in XGBoost 1.3.0, the default evaluation metric used with the objective 'binary:logistic' was changed from 'error' to 'logloss'. Explicitly set eval_metric if you'd like to restore the old behavior.\n",
      "[14:47:11] WARNING: /Users/travis/build/dmlc/xgboost/src/learner.cc:1095: Starting in XGBoost 1.3.0, the default evaluation metric used with the objective 'binary:logistic' was changed from 'error' to 'logloss'. Explicitly set eval_metric if you'd like to restore the old behavior.\n",
      "[14:47:11] WARNING: /Users/travis/build/dmlc/xgboost/src/learner.cc:1095: Starting in XGBoost 1.3.0, the default evaluation metric used with the objective 'binary:logistic' was changed from 'error' to 'logloss'. Explicitly set eval_metric if you'd like to restore the old behavior.\n",
      "[14:47:12] WARNING: /Users/travis/build/dmlc/xgboost/src/learner.cc:1095: Starting in XGBoost 1.3.0, the default evaluation metric used with the objective 'binary:logistic' was changed from 'error' to 'logloss'. Explicitly set eval_metric if you'd like to restore the old behavior.\n",
      "[14:47:13] WARNING: /Users/travis/build/dmlc/xgboost/src/learner.cc:1095: Starting in XGBoost 1.3.0, the default evaluation metric used with the objective 'binary:logistic' was changed from 'error' to 'logloss'. Explicitly set eval_metric if you'd like to restore the old behavior.\n",
      "XGBClassifier\n",
      "Accuracy Score for test data: 0.948\n",
      "Recall Score for test data 0.678\n",
      "fbeta0.2_score for test data0.697\n",
      "ROC-AUC Score for test data: 0.829\n",
      "Confusion matrix for test data\n",
      "[[1245   27]\n",
      " [  46   97]]\n",
      "--------------------------------------------------\n"
     ]
    }
   ],
   "source": [
    "evaluate_model_stratified(X_train_en, X_test_en, y_train_en, y_test_en)"
   ]
  },
  {
   "cell_type": "markdown",
   "metadata": {},
   "source": [
    "## fifth iteration"
   ]
  },
  {
   "cell_type": "code",
   "execution_count": 211,
   "metadata": {},
   "outputs": [
    {
     "name": "stdout",
     "output_type": "stream",
     "text": [
      "LogisticRegression\n",
      "Accuracy Score for test data: 0.942\n",
      "Recall Score for test data 0.648\n",
      "fbeta0.2_score for test data0.665\n",
      "ROC-AUC Score for test data: 0.811\n",
      "Confusion matrix for test data\n",
      "[[1246   32]\n",
      " [  50   92]]\n",
      "--------------------------------------------------\n",
      "LogisticRegressionCV\n",
      "Accuracy Score for test data: 0.943\n",
      "Recall Score for test data 0.662\n",
      "fbeta0.2_score for test data0.676\n",
      "ROC-AUC Score for test data: 0.818\n",
      "Confusion matrix for test data\n",
      "[[1245   33]\n",
      " [  48   94]]\n",
      "--------------------------------------------------\n"
     ]
    },
    {
     "name": "stderr",
     "output_type": "stream",
     "text": [
      "/Applications/anaconda3/lib/python3.7/site-packages/sklearn/svm/_base.py:947: ConvergenceWarning: Liblinear failed to converge, increase the number of iterations.\n",
      "  \"the number of iterations.\", ConvergenceWarning)\n"
     ]
    },
    {
     "name": "stdout",
     "output_type": "stream",
     "text": [
      "LinearSVC\n",
      "Accuracy Score for test data: 0.946\n",
      "Recall Score for test data 0.641\n",
      "fbeta0.2_score for test data0.664\n",
      "ROC-AUC Score for test data: 0.810\n",
      "Confusion matrix for test data\n",
      "[[1252   26]\n",
      " [  51   91]]\n",
      "--------------------------------------------------\n",
      "GaussianNB\n",
      "Accuracy Score for test data: 0.911\n",
      "Recall Score for test data 0.739\n",
      "fbeta0.2_score for test data0.689\n",
      "ROC-AUC Score for test data: 0.835\n",
      "Confusion matrix for test data\n",
      "[[1189   89]\n",
      " [  37  105]]\n",
      "--------------------------------------------------\n",
      "LinearDiscriminantAnalysis\n",
      "Accuracy Score for test data: 0.942\n",
      "Recall Score for test data 0.613\n",
      "fbeta0.2_score for test data0.638\n",
      "ROC-AUC Score for test data: 0.796\n",
      "Confusion matrix for test data\n",
      "[[1251   27]\n",
      " [  55   87]]\n",
      "--------------------------------------------------\n",
      "RandomForestClassifier\n",
      "Accuracy Score for test data: 0.944\n",
      "Recall Score for test data 0.648\n",
      "fbeta0.2_score for test data0.668\n",
      "ROC-AUC Score for test data: 0.813\n",
      "Confusion matrix for test data\n",
      "[[1249   29]\n",
      " [  50   92]]\n",
      "--------------------------------------------------\n",
      "GradientBoostingClassifier\n",
      "Accuracy Score for test data: 0.943\n",
      "Recall Score for test data 0.683\n",
      "fbeta0.2_score for test data0.692\n",
      "ROC-AUC Score for test data: 0.827\n",
      "Confusion matrix for test data\n",
      "[[1242   36]\n",
      " [  45   97]]\n",
      "--------------------------------------------------\n",
      "[16:04:20] WARNING: /Users/travis/build/dmlc/xgboost/src/learner.cc:1095: Starting in XGBoost 1.3.0, the default evaluation metric used with the objective 'binary:logistic' was changed from 'error' to 'logloss'. Explicitly set eval_metric if you'd like to restore the old behavior.\n"
     ]
    },
    {
     "name": "stderr",
     "output_type": "stream",
     "text": [
      "/Applications/anaconda3/lib/python3.7/site-packages/xgboost/sklearn.py:1146: UserWarning: The use of label encoder in XGBClassifier is deprecated and will be removed in a future release. To remove this warning, do the following: 1) Pass option use_label_encoder=False when constructing XGBClassifier object; and 2) Encode your labels (y) as integers starting with 0, i.e. 0, 1, 2, ..., [num_class - 1].\n",
      "  warnings.warn(label_encoder_deprecation_msg, UserWarning)\n"
     ]
    },
    {
     "name": "stdout",
     "output_type": "stream",
     "text": [
      "XGBClassifier\n",
      "Accuracy Score for test data: 0.937\n",
      "Recall Score for test data 0.648\n",
      "fbeta0.2_score for test data0.657\n",
      "ROC-AUC Score for test data: 0.808\n",
      "Confusion matrix for test data\n",
      "[[1238   40]\n",
      " [  50   92]]\n",
      "--------------------------------------------------\n",
      "None\n"
     ]
    }
   ],
   "source": [
    "print(evaluate_model(X_train_en, X_test_en, y_train_en, y_test_en))"
   ]
  },
  {
   "cell_type": "code",
   "execution_count": 187,
   "metadata": {},
   "outputs": [
    {
     "data": {
      "text/plain": [
       "Index(['Provider', 'PotentialFraud', 'patient_count', 'Race1', 'Race2',\n",
       "       'Race3', 'Race5', 'Male', 'Female', 'mean_age', 'state_count',\n",
       "       'phy_count', 'no_phy', 'chronic_mean', 'claim_count',\n",
       "       'IPAnnualReimbursementAmt', 'IPAnnualDeductibleAmt',\n",
       "       'OPAnnualReimbursementAmt', 'OPAnnualDeductibleAmt', 'claimdiag',\n",
       "       'diag_grp', 'diag_4019', 'diag_25000', 'diag_2724', 'diag_V5869',\n",
       "       'diag_4011', 'diag_42731', 'diag_V5861', 'diag_2720', 'diag_2449',\n",
       "       'diag_4280', 'proc_4019', 'proc_9904', 'proc_2724', 'proc_8154',\n",
       "       'proc_66', 'proc_3893', 'proc_3995', 'proc_4516', 'proc_3722',\n",
       "       'proc_8151', 'patient_duplicate_count', 'duplicate_claims',\n",
       "       'totalamount_charged', 'revenue_day', 'annual_amount', 'coverage',\n",
       "       'inpatient', 'outpatient'],\n",
       "      dtype='object')"
      ]
     },
     "execution_count": 187,
     "metadata": {},
     "output_type": "execute_result"
    }
   ],
   "source": [
    "provider.columns"
   ]
  },
  {
   "cell_type": "code",
   "execution_count": 212,
   "metadata": {},
   "outputs": [],
   "source": [
    "lm = LogisticRegression()\n",
    "lm.fit(X_train_en, y_train_en)\n",
    "coefs_lasso = abs(lm.coef_)\n",
    "lasso_top15_features = pd.DataFrame(zip(x.columns, np.transpose(coefs_lasso.tolist()[0])), columns=['feature', 'coef'])\\\n",
    "            .sort_values('coef', ascending=False).head(15)"
   ]
  },
  {
   "cell_type": "code",
   "execution_count": 213,
   "metadata": {},
   "outputs": [
    {
     "data": {
      "text/plain": [
       "Text(0, 0.5, '')"
      ]
     },
     "execution_count": 213,
     "metadata": {},
     "output_type": "execute_result"
    },
    {
     "data": {
      "image/png": "[encoded data removed]",
      "text/plain": [
       "<Figure size 864x576 with 1 Axes>"
      ]
     },
     "metadata": {
      "needs_background": "light"
     },
     "output_type": "display_data"
    }
   ],
   "source": [
    "plt.rcParams['figure.figsize'] = (12,8)\n",
    "ax = sns.barplot(x=\"coef\", y=\"feature\", data=lasso_top15_features,palette=\"magma\" )\n",
    "ax.set_title('Important feature by Lasso Model')\n",
    "ax.set_xlabel('Features Importance')\n",
    "ax.set_ylabel('')"
   ]
  },
  {
   "cell_type": "code",
   "execution_count": 214,
   "metadata": {},
   "outputs": [],
   "source": [
    "RF = RandomForestClassifier()\n",
    "RF.fit(X_train_en, y_train_en)\n",
    "RF_top15_features = pd.DataFrame(zip(x.columns, list(RF.feature_importances_)), columns=['feature', 'coef'])\\\n",
    "            .sort_values('coef', ascending=False).head(15)"
   ]
  },
  {
   "cell_type": "code",
   "execution_count": 215,
   "metadata": {},
   "outputs": [
    {
     "data": {
      "text/plain": [
       "Text(0, 0.5, '')"
      ]
     },
     "execution_count": 215,
     "metadata": {},
     "output_type": "execute_result"
    },
    {
     "data": {
      "image/png": "[encoded data removed]",
      "text/plain": [
       "<Figure size 864x576 with 1 Axes>"
      ]
     },
     "metadata": {
      "needs_background": "light"
     },
     "output_type": "display_data"
    }
   ],
   "source": [
    "ax = sns.barplot(x=\"coef\", y=\"feature\", data=RF_top15_features)\n",
    "ax.set_title('Important feature by Random Forest Model')\n",
    "ax.set_xlabel('Features Importance')\n",
    "ax.set_ylabel('')"
   ]
  },
  {
   "cell_type": "code",
   "execution_count": 216,
   "metadata": {},
   "outputs": [],
   "source": [
    "clf = GradientBoostingClassifier()\n",
    "clf.fit(X_train_en, y_train_en)\n",
    "GradBoo_top15_features = pd.DataFrame(zip(x.columns, list(clf.feature_importances_)), columns=['feature', 'coef'])\\\n",
    "            .sort_values('coef', ascending=False).head(15)"
   ]
  },
  {
   "cell_type": "code",
   "execution_count": 217,
   "metadata": {},
   "outputs": [
    {
     "data": {
      "text/plain": [
       "Text(0, 0.5, '')"
      ]
     },
     "execution_count": 217,
     "metadata": {},
     "output_type": "execute_result"
    },
    {
     "data": {
      "image/png": "[encoded data removed]",
      "text/plain": [
       "<Figure size 864x576 with 1 Axes>"
      ]
     },
     "metadata": {
      "needs_background": "light"
     },
     "output_type": "display_data"
    }
   ],
   "source": [
    "\n",
    "ax = sns.barplot(x=\"coef\", y=\"feature\", data=GradBoo_top15_features ,palette=\"crest\" )\n",
    "ax.set_title('Important feature by Gradient Boost Model')\n",
    "ax.set_xlabel('Features Importance')\n",
    "ax.set_ylabel('')"
   ]
  },
  {
   "cell_type": "code",
   "execution_count": 218,
   "metadata": {},
   "outputs": [
    {
     "name": "stderr",
     "output_type": "stream",
     "text": [
      "/Applications/anaconda3/lib/python3.7/site-packages/xgboost/sklearn.py:1146: UserWarning: The use of label encoder in XGBClassifier is deprecated and will be removed in a future release. To remove this warning, do the following: 1) Pass option use_label_encoder=False when constructing XGBClassifier object; and 2) Encode your labels (y) as integers starting with 0, i.e. 0, 1, 2, ..., [num_class - 1].\n",
      "  warnings.warn(label_encoder_deprecation_msg, UserWarning)\n"
     ]
    },
    {
     "name": "stdout",
     "output_type": "stream",
     "text": [
      "[16:05:38] WARNING: /Users/travis/build/dmlc/xgboost/src/learner.cc:1095: Starting in XGBoost 1.3.0, the default evaluation metric used with the objective 'binary:logistic' was changed from 'error' to 'logloss'. Explicitly set eval_metric if you'd like to restore the old behavior.\n"
     ]
    }
   ],
   "source": [
    "xgb = XGBClassifier()\n",
    "xgb.fit(X_train_en, y_train_en)\n",
    "XGB_top15_features = pd.DataFrame(zip(x.columns, list(xgb.feature_importances_)), columns=['feature', 'coef'])\\\n",
    "            .sort_values('coef', ascending=False).head(15)"
   ]
  },
  {
   "cell_type": "code",
   "execution_count": 219,
   "metadata": {},
   "outputs": [
    {
     "data": {
      "text/plain": [
       "Text(0, 0.5, '')"
      ]
     },
     "execution_count": 219,
     "metadata": {},
     "output_type": "execute_result"
    },
    {
     "data": {
      "image/png": "[encoded data removed]",
      "text/plain": [
       "<Figure size 864x576 with 1 Axes>"
      ]
     },
     "metadata": {
      "needs_background": "light"
     },
     "output_type": "display_data"
    }
   ],
   "source": [
    "plt.rcParams['figure.figsize'] = (12,8)\n",
    "ax = sns.barplot(x=\"coef\", y=\"feature\", data=XGB_top15_features,palette=\"flare\" )\n",
    "ax.set_title('Important feature by XGBoost Model')\n",
    "ax.set_xlabel('Features Importance')\n",
    "ax.set_ylabel('')"
   ]
  },
  {
   "cell_type": "code",
   "execution_count": 220,
   "metadata": {},
   "outputs": [
    {
     "data": {
      "text/plain": [
       "Index(['Provider', 'PotentialFraud', 'patient_count', 'Race1', 'Race2',\n",
       "       'Race3', 'Race5', 'Male', 'Female', 'mean_age', 'state_count',\n",
       "       'phy_count', 'no_phy', 'chronic_mean', 'claim_count', 'claimdiag',\n",
       "       'diag_grp', 'diag_4019', 'diag_25000', 'diag_2724', 'diag_V5869',\n",
       "       'diag_4011', 'diag_42731', 'diag_V5861', 'diag_2720', 'diag_2449',\n",
       "       'diag_4280', 'proc_4019', 'proc_9904', 'proc_2724', 'proc_8154',\n",
       "       'proc_66', 'proc_3893', 'proc_3995', 'proc_4516', 'proc_3722',\n",
       "       'proc_8151', 'patient_duplicate_count', 'duplicate_claims',\n",
       "       'totalamount_charged', 'revenue_day', 'annual_amount', 'coverage',\n",
       "       'inpatient', 'outpatient'],\n",
       "      dtype='object')"
      ]
     },
     "execution_count": 220,
     "metadata": {},
     "output_type": "execute_result"
    }
   ],
   "source": [
    "provider.columns"
   ]
  },
  {
   "cell_type": "code",
   "execution_count": 280,
   "metadata": {},
   "outputs": [],
   "source": [
    "provider4 = provider.drop(['diag_4019', 'diag_25000', 'diag_2724', 'diag_V5869',\n",
    "       'diag_4011', 'diag_42731', 'diag_V5861', 'diag_2720', 'diag_2449',\n",
    "       'diag_4280', 'proc_4019', 'proc_9904', 'proc_2724', 'proc_8154',\n",
    "       'proc_66', 'proc_3893', 'proc_3995', 'proc_4516', 'proc_3722',\n",
    "       'proc_8151'], axis = 1)"
   ]
  },
  {
   "cell_type": "code",
   "execution_count": 232,
   "metadata": {},
   "outputs": [],
   "source": [
    "x4 = provider4.drop(['Provider','PotentialFraud'],axis=1)\n",
    "y4 = provider4['PotentialFraud']\n",
    "# train-test split\n",
    "X_train4, X_test4, y_train4, y_test4 = train_test_split(StandardScaler().fit_transform(x4), y4, test_size=0.3, random_state=100)\n"
   ]
  },
  {
   "cell_type": "code",
   "execution_count": 239,
   "metadata": {},
   "outputs": [
    {
     "data": {
      "text/plain": [
       "Index(['patient_count', 'Race1', 'Race2', 'Race3', 'Race5', 'Male', 'Female',\n",
       "       'mean_age', 'state_count', 'phy_count', 'no_phy', 'chronic_mean',\n",
       "       'claim_count', 'claimdiag', 'diag_grp', 'patient_duplicate_count',\n",
       "       'duplicate_claims', 'totalamount_charged', 'revenue_day',\n",
       "       'annual_amount', 'coverage', 'inpatient', 'outpatient'],\n",
       "      dtype='object')"
      ]
     },
     "execution_count": 239,
     "metadata": {},
     "output_type": "execute_result"
    }
   ],
   "source": [
    "x4.columns"
   ]
  },
  {
   "cell_type": "code",
   "execution_count": 233,
   "metadata": {},
   "outputs": [],
   "source": [
    "en = EditedNearestNeighbours()\n",
    "x_en4, y_en4 = en.fit_resample(x4, y4)"
   ]
  },
  {
   "cell_type": "code",
   "execution_count": 234,
   "metadata": {},
   "outputs": [],
   "source": [
    "X_train_en4, X_test_en4, y_train_en4, y_test_en4 = train_test_split(StandardScaler().fit_transform(x_en4), y_en4, \n",
    "                                                                test_size=0.3, random_state=100)"
   ]
  },
  {
   "cell_type": "code",
   "execution_count": 253,
   "metadata": {},
   "outputs": [
    {
     "name": "stdout",
     "output_type": "stream",
     "text": [
      "LogisticRegression\n",
      "Accuracy Score for test data: 0.955\n",
      "Recall Score for test data 0.646\n",
      "fbeta0.2_score for test data0.683\n",
      "ROC-AUC Score for test data: 0.818\n",
      "Confusion matrix for test data\n",
      "[[1261   12]\n",
      " [  52   95]]\n",
      "--------------------------------------------------\n"
     ]
    },
    {
     "name": "stderr",
     "output_type": "stream",
     "text": [
      "/Applications/anaconda3/lib/python3.7/site-packages/sklearn/svm/_base.py:947: ConvergenceWarning: Liblinear failed to converge, increase the number of iterations.\n",
      "  \"the number of iterations.\", ConvergenceWarning)\n"
     ]
    },
    {
     "name": "stdout",
     "output_type": "stream",
     "text": [
      "LinearSVC\n",
      "Accuracy Score for test data: 0.955\n",
      "Recall Score for test data 0.619\n",
      "fbeta0.2_score for test data0.662\n",
      "ROC-AUC Score for test data: 0.806\n",
      "Confusion matrix for test data\n",
      "[[1265    8]\n",
      " [  56   91]]\n",
      "--------------------------------------------------\n",
      "GaussianNB\n",
      "Accuracy Score for test data: 0.923\n",
      "Recall Score for test data 0.633\n",
      "fbeta0.2_score for test data0.632\n",
      "ROC-AUC Score for test data: 0.795\n",
      "Confusion matrix for test data\n",
      "[[1218   55]\n",
      " [  54   93]]\n",
      "--------------------------------------------------\n",
      "LinearDiscriminantAnalysis\n",
      "Accuracy Score for test data: 0.951\n",
      "Recall Score for test data 0.605\n",
      "fbeta0.2_score for test data0.647\n",
      "ROC-AUC Score for test data: 0.798\n",
      "Confusion matrix for test data\n",
      "[[1262   11]\n",
      " [  58   89]]\n",
      "--------------------------------------------------\n",
      "RandomForestClassifier\n",
      "Accuracy Score for test data: 0.956\n",
      "Recall Score for test data 0.680\n",
      "fbeta0.2_score for test data0.710\n",
      "ROC-AUC Score for test data: 0.834\n",
      "Confusion matrix for test data\n",
      "[[1257   16]\n",
      " [  47  100]]\n",
      "--------------------------------------------------\n",
      "GradientBoostingClassifier\n",
      "Accuracy Score for test data: 0.954\n",
      "Recall Score for test data 0.735\n",
      "fbeta0.2_score for test data0.747\n",
      "ROC-AUC Score for test data: 0.857\n",
      "Confusion matrix for test data\n",
      "[[1246   27]\n",
      " [  39  108]]\n",
      "--------------------------------------------------\n",
      "[16:40:54] WARNING: /Users/travis/build/dmlc/xgboost/src/learner.cc:1095: Starting in XGBoost 1.3.0, the default evaluation metric used with the objective 'binary:logistic' was changed from 'error' to 'logloss'. Explicitly set eval_metric if you'd like to restore the old behavior.\n"
     ]
    },
    {
     "name": "stderr",
     "output_type": "stream",
     "text": [
      "/Applications/anaconda3/lib/python3.7/site-packages/xgboost/sklearn.py:1146: UserWarning: The use of label encoder in XGBClassifier is deprecated and will be removed in a future release. To remove this warning, do the following: 1) Pass option use_label_encoder=False when constructing XGBClassifier object; and 2) Encode your labels (y) as integers starting with 0, i.e. 0, 1, 2, ..., [num_class - 1].\n",
      "  warnings.warn(label_encoder_deprecation_msg, UserWarning)\n"
     ]
    },
    {
     "name": "stdout",
     "output_type": "stream",
     "text": [
      "XGBClassifier\n",
      "Accuracy Score for test data: 0.959\n",
      "Recall Score for test data 0.748\n",
      "fbeta0.2_score for test data0.765\n",
      "ROC-AUC Score for test data: 0.866\n",
      "Confusion matrix for test data\n",
      "[[1252   21]\n",
      " [  37  110]]\n",
      "--------------------------------------------------\n",
      "None\n"
     ]
    }
   ],
   "source": [
    "print(evaluate_model(X_train_en4, X_test_en4, y_train_en4, y_test_en4))"
   ]
  },
  {
   "cell_type": "code",
   "execution_count": 240,
   "metadata": {},
   "outputs": [],
   "source": [
    "lm = LogisticRegression()\n",
    "lm.fit(X_train_en4, y_train_en4)\n",
    "coefs_lasso = abs(lm.coef_)\n",
    "lasso_top15_features = pd.DataFrame(zip(x4.columns, np.transpose(coefs_lasso.tolist()[0])), columns=['feature', 'coef'])\\\n",
    "            .sort_values('coef', ascending=False).head(15)"
   ]
  },
  {
   "cell_type": "code",
   "execution_count": 241,
   "metadata": {},
   "outputs": [
    {
     "data": {
      "text/plain": [
       "Text(0, 0.5, '')"
      ]
     },
     "execution_count": 241,
     "metadata": {},
     "output_type": "execute_result"
    },
    {
     "data": {
      "image/png": "[encoded data removed]",
      "text/plain": [
       "<Figure size 864x576 with 1 Axes>"
      ]
     },
     "metadata": {
      "needs_background": "light"
     },
     "output_type": "display_data"
    }
   ],
   "source": [
    "plt.rcParams['figure.figsize'] = (12,8)\n",
    "ax = sns.barplot(x=\"coef\", y=\"feature\", data=lasso_top15_features,palette=\"magma\" )\n",
    "ax.set_title('Important feature by Lasso Model')\n",
    "ax.set_xlabel('Features Importance')\n",
    "ax.set_ylabel('')"
   ]
  },
  {
   "cell_type": "code",
   "execution_count": 242,
   "metadata": {},
   "outputs": [],
   "source": [
    "RF = RandomForestClassifier()\n",
    "RF.fit(X_train_en4, y_train_en4)\n",
    "RF_top15_features = pd.DataFrame(zip(x4.columns, list(RF.feature_importances_)), columns=['feature', 'coef'])\\\n",
    "            .sort_values('coef', ascending=False).head(15)"
   ]
  },
  {
   "cell_type": "code",
   "execution_count": 243,
   "metadata": {},
   "outputs": [
    {
     "data": {
      "text/plain": [
       "Text(0, 0.5, '')"
      ]
     },
     "execution_count": 243,
     "metadata": {},
     "output_type": "execute_result"
    },
    {
     "data": {
      "image/png": "[encoded data removed]",
      "text/plain": [
       "<Figure size 864x576 with 1 Axes>"
      ]
     },
     "metadata": {
      "needs_background": "light"
     },
     "output_type": "display_data"
    }
   ],
   "source": [
    "ax = sns.barplot(x=\"coef\", y=\"feature\", data=RF_top15_features)\n",
    "ax.set_title('Important feature by Random Forest Model')\n",
    "ax.set_xlabel('Features Importance')\n",
    "ax.set_ylabel('')"
   ]
  },
  {
   "cell_type": "code",
   "execution_count": 245,
   "metadata": {},
   "outputs": [],
   "source": [
    "clf = GradientBoostingClassifier()\n",
    "clf.fit(X_train_en4, y_train_en4)\n",
    "GradBoo_top15_features = pd.DataFrame(zip(x4.columns, list(clf.feature_importances_)), columns=['feature', 'coef'])\\\n",
    "            .sort_values('coef', ascending=False).head(15)"
   ]
  },
  {
   "cell_type": "code",
   "execution_count": 246,
   "metadata": {},
   "outputs": [
    {
     "data": {
      "text/plain": [
       "Text(0, 0.5, '')"
      ]
     },
     "execution_count": 246,
     "metadata": {},
     "output_type": "execute_result"
    },
    {
     "data": {
      "image/png": "[encoded data removed]",
      "text/plain": [
       "<Figure size 864x576 with 1 Axes>"
      ]
     },
     "metadata": {
      "needs_background": "light"
     },
     "output_type": "display_data"
    }
   ],
   "source": [
    "ax = sns.barplot(x=\"coef\", y=\"feature\", data=GradBoo_top15_features ,palette=\"crest\" )\n",
    "ax.set_title('Important feature by Gradient Boost Model')\n",
    "ax.set_xlabel('Features Importance')\n",
    "ax.set_ylabel('')"
   ]
  },
  {
   "cell_type": "code",
   "execution_count": 249,
   "metadata": {},
   "outputs": [
    {
     "name": "stderr",
     "output_type": "stream",
     "text": [
      "/Applications/anaconda3/lib/python3.7/site-packages/xgboost/sklearn.py:1146: UserWarning: The use of label encoder in XGBClassifier is deprecated and will be removed in a future release. To remove this warning, do the following: 1) Pass option use_label_encoder=False when constructing XGBClassifier object; and 2) Encode your labels (y) as integers starting with 0, i.e. 0, 1, 2, ..., [num_class - 1].\n",
      "  warnings.warn(label_encoder_deprecation_msg, UserWarning)\n"
     ]
    },
    {
     "name": "stdout",
     "output_type": "stream",
     "text": [
      "[16:26:33] WARNING: /Users/travis/build/dmlc/xgboost/src/learner.cc:1095: Starting in XGBoost 1.3.0, the default evaluation metric used with the objective 'binary:logistic' was changed from 'error' to 'logloss'. Explicitly set eval_metric if you'd like to restore the old behavior.\n"
     ]
    }
   ],
   "source": [
    "xgb = XGBClassifier()\n",
    "xgb.fit(X_train_en4, y_train_en4)\n",
    "XGB_top15_features = pd.DataFrame(zip(x4.columns, list(xgb.feature_importances_)), columns=['feature', 'coef'])\\\n",
    "            .sort_values('coef', ascending=False).head(15)"
   ]
  },
  {
   "cell_type": "code",
   "execution_count": 250,
   "metadata": {},
   "outputs": [
    {
     "data": {
      "text/plain": [
       "Text(0, 0.5, '')"
      ]
     },
     "execution_count": 250,
     "metadata": {},
     "output_type": "execute_result"
    },
    {
     "data": {
      "image/png": "[encoded data removed]",
      "text/plain": [
       "<Figure size 864x576 with 1 Axes>"
      ]
     },
     "metadata": {
      "needs_background": "light"
     },
     "output_type": "display_data"
    }
   ],
   "source": [
    "plt.rcParams['figure.figsize'] = (12,8)\n",
    "ax = sns.barplot(x=\"coef\", y=\"feature\", data=XGB_top15_features,palette=\"flare\" )\n",
    "ax.set_title('Important feature by XGBoost Model')\n",
    "ax.set_xlabel('Features Importance')\n",
    "ax.set_ylabel('')"
   ]
  },
  {
   "cell_type": "code",
   "execution_count": 251,
   "metadata": {},
   "outputs": [
    {
     "data": {
      "text/plain": [
       "(5410, 25)"
      ]
     },
     "execution_count": 251,
     "metadata": {},
     "output_type": "execute_result"
    }
   ],
   "source": [
    "provider4.shape"
   ]
  },
  {
   "cell_type": "code",
   "execution_count": 254,
   "metadata": {},
   "outputs": [],
   "source": [
    "results = pd.DataFrame({'Model' : ['Lasso', 'LinearSVC', 'GaussianNB', 'LinearDiscriminantAnalysis','Random Forest',\\\n",
    "                                   'GradientBoost','XGBoost'],\n",
    "                         'Accuracy' : [0.955,0.955, 0.923, 0.951, 0.956, 0.954, 0.95],\n",
    "                         'Recall' : [0.646, 0.619, 0.633, 0.605, 0.680, 0.735, 0.738],\n",
    "                         'F2beta score' : [0.683, 0.662,0.632, 0.647, 0.710, 0.747, 0.765], \n",
    "                         'ROC-AUC' : [0.818, 0.806, 0.795, 0.798, 0.834, 0.857, 0.866]})"
   ]
  },
  {
   "cell_type": "code",
   "execution_count": 255,
   "metadata": {},
   "outputs": [
    {
     "data": {
      "text/html": [
       "<div>\n",
       "<style scoped>\n",
       "    .dataframe tbody tr th:only-of-type {\n",
       "        vertical-align: middle;\n",
       "    }\n",
       "\n",
       "    .dataframe tbody tr th {\n",
       "        vertical-align: top;\n",
       "    }\n",
       "\n",
       "    .dataframe thead th {\n",
       "        text-align: right;\n",
       "    }\n",
       "</style>\n",
       "<table border=\"1\" class=\"dataframe\">\n",
       "  <thead>\n",
       "    <tr style=\"text-align: right;\">\n",
       "      <th></th>\n",
       "      <th>Model</th>\n",
       "      <th>Accuracy</th>\n",
       "      <th>Recall</th>\n",
       "      <th>F2beta score</th>\n",
       "      <th>ROC-AUC</th>\n",
       "    </tr>\n",
       "  </thead>\n",
       "  <tbody>\n",
       "    <tr>\n",
       "      <th>0</th>\n",
       "      <td>Lasso</td>\n",
       "      <td>0.955</td>\n",
       "      <td>0.646</td>\n",
       "      <td>0.683</td>\n",
       "      <td>0.818</td>\n",
       "    </tr>\n",
       "    <tr>\n",
       "      <th>1</th>\n",
       "      <td>LinearSVC</td>\n",
       "      <td>0.955</td>\n",
       "      <td>0.619</td>\n",
       "      <td>0.662</td>\n",
       "      <td>0.806</td>\n",
       "    </tr>\n",
       "    <tr>\n",
       "      <th>2</th>\n",
       "      <td>GaussianNB</td>\n",
       "      <td>0.923</td>\n",
       "      <td>0.633</td>\n",
       "      <td>0.632</td>\n",
       "      <td>0.795</td>\n",
       "    </tr>\n",
       "    <tr>\n",
       "      <th>3</th>\n",
       "      <td>LinearDiscriminantAnalysis</td>\n",
       "      <td>0.951</td>\n",
       "      <td>0.605</td>\n",
       "      <td>0.647</td>\n",
       "      <td>0.798</td>\n",
       "    </tr>\n",
       "    <tr>\n",
       "      <th>4</th>\n",
       "      <td>Random Forest</td>\n",
       "      <td>0.956</td>\n",
       "      <td>0.680</td>\n",
       "      <td>0.710</td>\n",
       "      <td>0.834</td>\n",
       "    </tr>\n",
       "    <tr>\n",
       "      <th>5</th>\n",
       "      <td>GradientBoost</td>\n",
       "      <td>0.954</td>\n",
       "      <td>0.735</td>\n",
       "      <td>0.747</td>\n",
       "      <td>0.857</td>\n",
       "    </tr>\n",
       "    <tr>\n",
       "      <th>6</th>\n",
       "      <td>XGBoost</td>\n",
       "      <td>0.950</td>\n",
       "      <td>0.738</td>\n",
       "      <td>0.765</td>\n",
       "      <td>0.866</td>\n",
       "    </tr>\n",
       "  </tbody>\n",
       "</table>\n",
       "</div>"
      ],
      "text/plain": [
       "                        Model  Accuracy  Recall  F2beta score  ROC-AUC\n",
       "0                       Lasso     0.955   0.646         0.683    0.818\n",
       "1                   LinearSVC     0.955   0.619         0.662    0.806\n",
       "2                  GaussianNB     0.923   0.633         0.632    0.795\n",
       "3  LinearDiscriminantAnalysis     0.951   0.605         0.647    0.798\n",
       "4               Random Forest     0.956   0.680         0.710    0.834\n",
       "5               GradientBoost     0.954   0.735         0.747    0.857\n",
       "6                     XGBoost     0.950   0.738         0.765    0.866"
      ]
     },
     "execution_count": 255,
     "metadata": {},
     "output_type": "execute_result"
    }
   ],
   "source": [
    "results"
   ]
  },
  {
   "cell_type": "code",
   "execution_count": 281,
   "metadata": {},
   "outputs": [],
   "source": [
    "provider4.to_csv('provider4.csv')"
   ]
  },
  {
   "cell_type": "code",
   "execution_count": null,
   "metadata": {},
   "outputs": [],
   "source": []
  }
 ],
 "metadata": {
  "kernelspec": {
   "display_name": "Python 3",
   "language": "python",
   "name": "python3"
  },
  "language_info": {
   "codemirror_mode": {
    "name": "ipython",
    "version": 3
   },
   "file_extension": ".py",
   "mimetype": "text/x-python",
   "name": "python",
   "nbconvert_exporter": "python",
   "pygments_lexer": "ipython3",
   "version": "3.7.4"
  }
 },
 "nbformat": 4,
 "nbformat_minor": 4
}
